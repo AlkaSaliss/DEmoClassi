{
 "cells": [
  {
   "cell_type": "markdown",
   "metadata": {
    "id": "BmGV6eWX8ioz",
    "colab_type": "text"
   },
   "source": [
    "# Developing an AI application\n",
    "\n",
    "Going forward, AI algorithms will be incorporated into more and more everyday applications. For example, you might want to include an image classifier in a smart phone app. To do this, you'd use a deep learning model trained on hundreds of thousands of images as part of the overall application architecture. A large part of software development in the future will be using these types of models as common parts of applications. \n",
    "\n",
    "In this project, you'll train an image classifier to recognize different species of flowers. You can imagine using something like this in a phone app that tells you the name of the flower your camera is looking at. In practice you'd train this classifier, then export it for use in your application. We'll be using [this dataset](http://www.robots.ox.ac.uk/~vgg/data/flowers/102/index.html) of 102 flower categories, you can see a few examples below. \n",
    "\n",
    "<img src='assets/Flowers.png' width=500px>\n",
    "\n",
    "The project is broken down into multiple steps:\n",
    "\n",
    "* Load and preprocess the image dataset\n",
    "* Train the image classifier on your dataset\n",
    "* Use the trained classifier to predict image content\n",
    "\n",
    "We'll lead you through each part which you'll implement in Python.\n",
    "\n",
    "When you've completed this project, you'll have an application that can be trained on any set of labeled images. Here your network will be learning about flowers and end up as a command line application. But, what you do with your new skills depends on your imagination and effort in building a dataset. For example, imagine an app where you take a picture of a car, it tells you what the make and model is, then looks up information about it. Go build your own dataset and make something new.\n",
    "\n",
    "First up is importing the packages you'll need. It's good practice to keep all the imports at the beginning of your code. As you work through this notebook and find you need to import a package, make sure to add the import up here."
   ]
  },
  {
   "cell_type": "code",
   "execution_count": 0,
   "metadata": {
    "id": "XW_sPJx7SJIu",
    "colab_type": "code",
    "colab": {}
   },
   "outputs": [],
   "source": [
    "# Installing pytorch and torchvision\n",
    "!pip install torch torchvision pytorch-ignite"
   ]
  },
  {
   "cell_type": "code",
   "execution_count": 0,
   "metadata": {
    "id": "-LmWPbOmWYK-",
    "colab_type": "code",
    "colab": {}
   },
   "outputs": [],
   "source": [
    "!pip install pillow==4.1.1"
   ]
  },
  {
   "cell_type": "code",
   "execution_count": 0,
   "metadata": {
    "id": "O874YnbiTNwT",
    "colab_type": "code",
    "colab": {}
   },
   "outputs": [],
   "source": [
    "# downloading the data\n",
    "!wget https://s3.amazonaws.com/content.udacity-data.com/courses/nd188/flower_data.zip"
   ]
  },
  {
   "cell_type": "code",
   "execution_count": 4,
   "metadata": {
    "id": "UyWjTJjcTl1B",
    "colab_type": "code",
    "outputId": "487ebf52-eaa7-49bd-ab29-606fdcda001e",
    "executionInfo": {
     "status": "ok",
     "timestamp": 1.546852805383E12,
     "user_tz": -60.0,
     "elapsed": 5488.0,
     "user": {
      "displayName": "aboubacar alka mahamadou salissou",
      "photoUrl": "https://lh4.googleusercontent.com/-IU5T_kH7KzY/AAAAAAAAAAI/AAAAAAAAABo/_dsgS1VKzW8/s64/photo.jpg",
      "userId": "01753305490697703940"
     }
    },
    "colab": {
     "base_uri": "https://localhost:8080/",
     "height": 34.0
    }
   },
   "outputs": [
    {
     "name": "stdout",
     "output_type": "stream",
     "text": [
      "flower_data.zip  sample_data\n"
     ]
    }
   ],
   "source": [
    "!ls"
   ]
  },
  {
   "cell_type": "code",
   "execution_count": 0,
   "metadata": {
    "id": "lnRuHl2STZ-n",
    "colab_type": "code",
    "colab": {}
   },
   "outputs": [],
   "source": [
    "# extracting the data\n",
    "!unzip -q ./flower_data.zip "
   ]
  },
  {
   "cell_type": "code",
   "execution_count": 0,
   "metadata": {
    "id": "2qEJMcw5VZqL",
    "colab_type": "code",
    "colab": {}
   },
   "outputs": [],
   "source": [
    "# download flower names\n",
    "# !wget https://github.com/udacity/pytorch_challenge/blob/master/cat_to_name.json"
   ]
  },
  {
   "cell_type": "code",
   "execution_count": 0,
   "metadata": {
    "id": "Z0k1YO1eXpEu",
    "colab_type": "code",
    "colab": {}
   },
   "outputs": [],
   "source": [
    "# !pip install pillow==4.1.1\n",
    "# %reload_ext autoreload\n",
    "# %autoreload"
   ]
  },
  {
   "cell_type": "code",
   "execution_count": 0,
   "metadata": {
    "id": "px8sQ8ZVt-nd",
    "colab_type": "code",
    "colab": {}
   },
   "outputs": [],
   "source": [
    ""
   ]
  },
  {
   "cell_type": "code",
   "execution_count": 0,
   "metadata": {
    "id": "l7vzTiwy8io3",
    "colab_type": "code",
    "colab": {}
   },
   "outputs": [],
   "source": [
    "# Imports here\n",
    "import torch\n",
    "from torch.utils.data import DataLoader, Dataset\n",
    "import torch.optim as optim\n",
    "import torch.nn as nn\n",
    "import torch.nn.functional as F\n",
    "from torchvision import datasets,transforms, utils, models\n",
    "from ignite.engine import Events, Engine, create_supervised_trainer, create_supervised_evaluator\n",
    "from ignite.metrics import Accuracy, Loss\n",
    "from ignite import handlers\n",
    "import numpy as np\n",
    "import matplotlib.pyplot as plt\n",
    "import os\n",
    "import glob\n",
    "import json\n",
    "import time\n",
    "import PIL as pil\n",
    "import copy \n",
    "from tqdm import tqdm"
   ]
  },
  {
   "cell_type": "code",
   "execution_count": 7,
   "metadata": {
    "id": "wNTpBz6f8ipC",
    "colab_type": "code",
    "outputId": "a1303264-38c7-49ad-be8b-84c38a1c7b92",
    "executionInfo": {
     "status": "ok",
     "timestamp": 1.546852838116E12,
     "user_tz": -60.0,
     "elapsed": 1063.0,
     "user": {
      "displayName": "aboubacar alka mahamadou salissou",
      "photoUrl": "https://lh4.googleusercontent.com/-IU5T_kH7KzY/AAAAAAAAAAI/AAAAAAAAABo/_dsgS1VKzW8/s64/photo.jpg",
      "userId": "01753305490697703940"
     }
    },
    "colab": {
     "base_uri": "https://localhost:8080/",
     "height": 34.0
    }
   },
   "outputs": [
    {
     "name": "stdout",
     "output_type": "stream",
     "text": [
      "1.0.0\n"
     ]
    }
   ],
   "source": [
    "print(torch.__version__)"
   ]
  },
  {
   "cell_type": "code",
   "execution_count": 0,
   "metadata": {
    "id": "nh5AIx1X58-W",
    "colab_type": "code",
    "colab": {}
   },
   "outputs": [],
   "source": [
    "# connect too  Gdrive\n",
    "from google.colab import drive\n",
    "drive.mount('gdrive')"
   ]
  },
  {
   "cell_type": "markdown",
   "metadata": {
    "id": "g-eIk_5T8ipQ",
    "colab_type": "text"
   },
   "source": [
    "## Load the data\n",
    "\n",
    "Here you'll use `torchvision` to load the data ([documentation](http://pytorch.org/docs/0.3.0/torchvision/index.html)). You can [download the data here](https://s3.amazonaws.com/content.udacity-data.com/courses/nd188/flower_data.zip). The dataset is split into two parts, training and validation. For the training, you'll want to apply transformations such as random scaling, cropping, and flipping. This will help the network generalize leading to better performance. If you use a pre-trained network, you'll also need to make sure the input data is resized to 224x224 pixels as required by the networks.\n",
    "\n",
    "The validation set is used to measure the model's performance on data it hasn't seen yet. For this you don't want any scaling or rotation transformations, but you'll need to resize then crop the images to the appropriate size.\n",
    "\n",
    "The pre-trained networks available from `torchvision` were trained on the ImageNet dataset where each color channel was normalized separately. For both sets you'll need to normalize the means and standard deviations of the images to what the network expects. For the means, it's `[0.485, 0.456, 0.406]` and for the standard deviations `[0.229, 0.224, 0.225]`, calculated from the ImageNet images.  These values will shift each color channel to be centered at 0 and range from -1 to 1."
   ]
  },
  {
   "cell_type": "code",
   "execution_count": 0,
   "metadata": {
    "id": "7RySH_nn8ipS",
    "colab_type": "code",
    "colab": {}
   },
   "outputs": [],
   "source": [
    "data_dir = './flower_data'\n",
    "train_dir = data_dir + '/train'\n",
    "valid_dir = data_dir + '/valid'"
   ]
  },
  {
   "cell_type": "code",
   "execution_count": 0,
   "metadata": {
    "id": "rcy6ll6U8ipZ",
    "colab_type": "code",
    "colab": {}
   },
   "outputs": [],
   "source": [
    "data_count_train = [(str(i), len(glob.glob(train_dir+'/{}/'.format(i)+'*.*'))) for i in range(1, 103)]\n",
    "lab, counts = [item[0] for item in data_count_train], [item[1] for item in data_count_train]"
   ]
  },
  {
   "cell_type": "code",
   "execution_count": 11,
   "metadata": {
    "scrolled": false,
    "id": "hZJpdFD78ipj",
    "colab_type": "code",
    "outputId": "d1035d0d-0692-4ebc-ef5d-7a68f3a54a62",
    "executionInfo": {
     "status": "ok",
     "timestamp": 1.546853339112E12,
     "user_tz": -60.0,
     "elapsed": 2574.0,
     "user": {
      "displayName": "aboubacar alka mahamadou salissou",
      "photoUrl": "https://lh4.googleusercontent.com/-IU5T_kH7KzY/AAAAAAAAAAI/AAAAAAAAABo/_dsgS1VKzW8/s64/photo.jpg",
      "userId": "01753305490697703940"
     }
    },
    "colab": {
     "base_uri": "https://localhost:8080/",
     "height": 592.0
    }
   },
   "outputs": [
    {
     "data": {
      "image/png": "[encoded data removed]",
      "text/plain": [
       "<matplotlib.figure.Figure at 0x7f91075ab2b0>"
      ]
     },
     "metadata": {
      "tags": []
     },
     "output_type": "display_data"
    }
   ],
   "source": [
    "plt.figure(figsize=(25, 10))\n",
    "plt.bar(lab, counts)\n",
    "plt.show()"
   ]
  },
  {
   "cell_type": "code",
   "execution_count": 12,
   "metadata": {
    "id": "e4rPoN9-USdR",
    "colab_type": "code",
    "outputId": "e8e27c51-fda1-4254-9c73-75ed6feaf7a5",
    "executionInfo": {
     "status": "ok",
     "timestamp": 1.54685334806E12,
     "user_tz": -60.0,
     "elapsed": 1559.0,
     "user": {
      "displayName": "aboubacar alka mahamadou salissou",
      "photoUrl": "https://lh4.googleusercontent.com/-IU5T_kH7KzY/AAAAAAAAAAI/AAAAAAAAABo/_dsgS1VKzW8/s64/photo.jpg",
      "userId": "01753305490697703940"
     }
    },
    "colab": {
     "base_uri": "https://localhost:8080/",
     "height": 34.0
    }
   },
   "outputs": [
    {
     "data": {
      "text/plain": [
       "(27, 206)"
      ]
     },
     "execution_count": 12,
     "metadata": {
      "tags": []
     },
     "output_type": "execute_result"
    }
   ],
   "source": [
    "min(counts), max(counts)"
   ]
  },
  {
   "cell_type": "code",
   "execution_count": 0,
   "metadata": {
    "id": "pSVGJM69YkrI",
    "colab_type": "code",
    "colab": {}
   },
   "outputs": [],
   "source": [
    "data_count_val = [(str(i), len(glob.glob(valid_dir+'/{}/'.format(i)+'*.*'))) for i in range(1, 103)]\n",
    "lab, counts = [item[0] for item in data_count_val], [item[1] for item in data_count_val]"
   ]
  },
  {
   "cell_type": "code",
   "execution_count": 14,
   "metadata": {
    "id": "OAg9gE-BYx-G",
    "colab_type": "code",
    "outputId": "963facf3-1f27-490a-da30-774d7efd9b10",
    "executionInfo": {
     "status": "ok",
     "timestamp": 1.54685335769E12,
     "user_tz": -60.0,
     "elapsed": 1170.0,
     "user": {
      "displayName": "aboubacar alka mahamadou salissou",
      "photoUrl": "https://lh4.googleusercontent.com/-IU5T_kH7KzY/AAAAAAAAAAI/AAAAAAAAABo/_dsgS1VKzW8/s64/photo.jpg",
      "userId": "01753305490697703940"
     }
    },
    "colab": {
     "base_uri": "https://localhost:8080/",
     "height": 34.0
    }
   },
   "outputs": [
    {
     "data": {
      "text/plain": [
       "(1, 28)"
      ]
     },
     "execution_count": 14,
     "metadata": {
      "tags": []
     },
     "output_type": "execute_result"
    }
   ],
   "source": [
    "min(counts), max(counts)"
   ]
  },
  {
   "cell_type": "code",
   "execution_count": 0,
   "metadata": {
    "id": "-EKeO2Uv8ipw",
    "colab_type": "code",
    "colab": {}
   },
   "outputs": [],
   "source": [
    "# TODO: Define your transforms for the training and validation sets\n",
    "input_size = 224\n",
    "batch_size = 64\n",
    "\n",
    "data_transforms = {\n",
    "    'train': transforms.Compose([\n",
    "        transforms.RandomResizedCrop(input_size),\n",
    "        transforms.RandomHorizontalFlip(),\n",
    "#         transforms.RandomRotation(15),\n",
    "        transforms.ToTensor(),\n",
    "        transforms.Normalize([0.485, 0.456, 0.406], [0.229, 0.224, 0.225])\n",
    "    ]),\n",
    "    'valid': transforms.Compose([\n",
    "        transforms.Resize(input_size),\n",
    "        transforms.CenterCrop(input_size),\n",
    "        transforms.ToTensor(),\n",
    "        transforms.Normalize([0.485, 0.456, 0.406], [0.229, 0.224, 0.225])\n",
    "    ]),\n",
    "}\n",
    "\n",
    "\n",
    "# TODO: Load the datasets with ImageFolder\n",
    "image_datasets = {\n",
    "    x: datasets.ImageFolder(os.path.join(data_dir, x), data_transforms[x])\n",
    "    for x in ['train', 'valid']\n",
    "}\n",
    "\n",
    "# TODO: Using the image datasets and the trainforms, define the dataloaders\n",
    "dataloaders = {\n",
    "    x: DataLoader(image_datasets[x], batch_size=batch_size, num_workers=4, shuffle=True)\n",
    "    for x in ['train', 'valid']\n",
    "}\n",
    "\n",
    "dataset_sizes = {phase: len(dataloaders[phase].dataset) for phase in ['train', 'valid']}"
   ]
  },
  {
   "cell_type": "code",
   "execution_count": 16,
   "metadata": {
    "id": "4EwXRZrx8ip4",
    "colab_type": "code",
    "outputId": "4650b892-19c2-491f-f489-d1ab3d3cd480",
    "executionInfo": {
     "status": "ok",
     "timestamp": 1.546853381476E12,
     "user_tz": -60.0,
     "elapsed": 853.0,
     "user": {
      "displayName": "aboubacar alka mahamadou salissou",
      "photoUrl": "https://lh4.googleusercontent.com/-IU5T_kH7KzY/AAAAAAAAAAI/AAAAAAAAABo/_dsgS1VKzW8/s64/photo.jpg",
      "userId": "01753305490697703940"
     }
    },
    "colab": {
     "base_uri": "https://localhost:8080/",
     "height": 34.0
    }
   },
   "outputs": [
    {
     "data": {
      "text/plain": [
       "{'train': 6552, 'valid': 818}"
      ]
     },
     "execution_count": 16,
     "metadata": {
      "tags": []
     },
     "output_type": "execute_result"
    }
   ],
   "source": [
    "dataset_sizes"
   ]
  },
  {
   "cell_type": "markdown",
   "metadata": {
    "id": "xJtOYWGF8iqC",
    "colab_type": "text"
   },
   "source": [
    "### Label mapping\n",
    "\n",
    "You'll also need to load in a mapping from category label to category name. You can find this in the file `cat_to_name.json`. It's a JSON object which you can read in with the [`json` module](https://docs.python.org/2/library/json.html). This will give you a dictionary mapping the integer encoded categories to the actual names of the flowers."
   ]
  },
  {
   "cell_type": "code",
   "execution_count": 0,
   "metadata": {
    "id": "GBZ0Og6j8iqF",
    "colab_type": "code",
    "colab": {}
   },
   "outputs": [],
   "source": [
    "# with open('./cat_to_name.json', 'r') as f:\n",
    "#     cat_to_name = json.load(f)\n",
    "cat_to_name = {\"21\": \"fire lily\", \"3\": \"canterbury bells\", \"45\": \"bolero deep blue\", \"1\": \"pink primrose\",\n",
    "               \"34\": \"mexican aster\", \"27\": \"prince of wales feathers\", \"7\": \"moon orchid\", \"16\": \"globe-flower\",\n",
    "               \"25\": \"grape hyacinth\", \"26\": \"corn poppy\", \"79\": \"toad lily\", \"39\": \"siam tulip\", \"24\": \"red ginger\",\n",
    "               \"67\": \"spring crocus\", \"35\": \"alpine sea holly\", \"32\": \"garden phlox\", \"10\": \"globe thistle\",\n",
    "               \"6\": \"tiger lily\", \"93\": \"ball moss\", \"33\": \"love in the mist\", \"9\": \"monkshood\", \"102\": \"blackberry lily\",\n",
    "               \"14\": \"spear thistle\", \"19\": \"balloon flower\", \"100\": \"blanket flower\", \"13\": \"king protea\", \"49\": \"oxeye daisy\",\n",
    "               \"15\": \"yellow iris\", \"61\": \"cautleya spicata\", \"31\": \"carnation\", \"64\": \"silverbush\", \"68\": \"bearded iris\",\n",
    "               \"63\": \"black-eyed susan\", \"69\": \"windflower\", \"62\": \"japanese anemone\", \"20\": \"giant white arum lily\", \"38\": \"great masterwort\",\n",
    "               \"4\": \"sweet pea\", \"86\": \"tree mallow\", \"101\": \"trumpet creeper\", \"42\": \"daffodil\", \"22\": \"pincushion flower\",\n",
    "               \"2\": \"hard-leaved pocket orchid\", \"54\": \"sunflower\", \"66\": \"osteospermum\", \"70\": \"tree poppy\", \"85\": \"desert-rose\",\n",
    "               \"99\": \"bromelia\", \"87\": \"magnolia\", \"5\": \"english marigold\", \"92\": \"bee balm\", \"28\": \"stemless gentian\",\n",
    "               \"97\": \"mallow\", \"57\": \"gaura\", \"40\": \"lenten rose\", \"47\": \"marigold\", \"59\": \"orange dahlia\", \"48\": \"buttercup\",\n",
    "               \"55\": \"pelargonium\", \"36\": \"ruby-lipped cattleya\", \"91\": \"hippeastrum\", \"29\": \"artichoke\", \"71\": \"gazania\", \"90\": \"canna lily\",\n",
    "               \"18\": \"peruvian lily\", \"98\": \"mexican petunia\", \"8\": \"bird of paradise\", \"30\": \"sweet william\", \"17\": \"purple coneflower\",\n",
    "               \"52\": \"wild pansy\", \"84\": \"columbine\", \"12\": \"colt's foot\", \"11\": \"snapdragon\", \"96\": \"camellia\", \"23\": \"fritillary\",\n",
    "               \"50\": \"common dandelion\", \"44\": \"poinsettia\", \"53\": \"primula\", \"72\": \"azalea\", \"65\": \"californian poppy\", \"80\": \"anthurium\",\n",
    "               \"76\": \"morning glory\", \"37\": \"cape flower\", \"56\": \"bishop of llandaff\", \"60\": \"pink-yellow dahlia\", \"82\": \"clematis\",\n",
    "               \"58\": \"geranium\", \"75\": \"thorn apple\", \"41\": \"barbeton daisy\", \"95\": \"bougainvillea\", \"43\": \"sword lily\", \"83\": \"hibiscus\",\n",
    "               \"78\": \"lotus lotus\", \"88\": \"cyclamen\", \"94\": \"foxglove\", \"81\": \"frangipani\", \"74\": \"rose\", \"89\": \"watercress\", \"73\": \"water lily\",\n",
    "               \"46\": \"wallflower\", \"77\": \"passion flower\", \"51\": \"petunia\"}"
   ]
  },
  {
   "cell_type": "code",
   "execution_count": 0,
   "metadata": {
    "id": "iYHNehDYWp1F",
    "colab_type": "code",
    "outputId": "fb826739-baac-4b42-91e1-b55abe34df28",
    "executionInfo": {
     "status": "ok",
     "timestamp": 1.546200635853E12,
     "user_tz": -60.0,
     "elapsed": 465.0,
     "user": {
      "displayName": "aboubacar alka mahamadou salissou",
      "photoUrl": "https://lh4.googleusercontent.com/-IU5T_kH7KzY/AAAAAAAAAAI/AAAAAAAAABo/_dsgS1VKzW8/s64/photo.jpg",
      "userId": "01753305490697703940"
     }
    },
    "colab": {
     "base_uri": "https://localhost:8080/",
     "height": 34.0
    }
   },
   "outputs": [
    {
     "data": {
      "text/plain": [
       "102"
      ]
     },
     "execution_count": 18,
     "metadata": {
      "tags": []
     },
     "output_type": "execute_result"
    }
   ],
   "source": [
    "len(cat_to_name)"
   ]
  },
  {
   "cell_type": "code",
   "execution_count": 0,
   "metadata": {
    "id": "ixQf-f4KWuhd",
    "colab_type": "code",
    "colab": {}
   },
   "outputs": [],
   "source": [
    "sorted(cat_to_name.keys())"
   ]
  },
  {
   "cell_type": "markdown",
   "metadata": {
    "id": "G1IQ2GlJ8iqM",
    "colab_type": "text"
   },
   "source": [
    "# Building and training the classifier\n",
    "\n",
    "Now that the data is ready, it's time to build and train the classifier. As usual, you should use one of the pretrained models from `torchvision.models` to get the image features. Build and train a new feed-forward classifier using those features.\n",
    "\n",
    "We're going to leave this part up to you. If you want to talk through it with someone, chat with your fellow students! You can also ask questions on the forums or join the instructors in office hours.\n",
    "\n",
    "Refer to [the rubric](https://review.udacity.com/#!/rubrics/1663/view) for guidance on successfully completing this section. Things you'll need to do:\n",
    "\n",
    "* Load a [pre-trained network](http://pytorch.org/docs/master/torchvision/models.html) (If you need a starting point, the VGG networks work great and are straightforward to use)\n",
    "* Define a new, untrained feed-forward network as a classifier, using ReLU activations and dropout\n",
    "* Train the classifier layers using backpropagation using the pre-trained network to get the features\n",
    "* Track the loss and accuracy on the validation set to determine the best hyperparameters\n",
    "\n",
    "We've left a cell open for you below, but use as many as you need. Our advice is to break the problem up into smaller parts you can run separately. Check that each part is doing what you expect, then move on to the next. You'll likely find that as you work through each part, you'll need to go back and modify your previous code. This is totally normal!\n",
    "\n",
    "When training make sure you're updating only the weights of the feed-forward network. You should be able to get the validation accuracy above 70% if you build everything right. Make sure to try different hyperparameters (learning rate, units in the classifier, epochs, etc) to find the best model. Save those hyperparameters to use as default values in the next part of the project."
   ]
  },
  {
   "cell_type": "code",
   "execution_count": 0,
   "metadata": {
    "id": "uIJ9xs378iqP",
    "colab_type": "code",
    "colab": {}
   },
   "outputs": [],
   "source": [
    ""
   ]
  },
  {
   "cell_type": "code",
   "execution_count": 0,
   "metadata": {
    "id": "cVFE40WD8iqa",
    "colab_type": "code",
    "colab": {}
   },
   "outputs": [],
   "source": [
    "# TODO: Build and train your network\n",
    "\n",
    "def set_parameter_requires_grad(model, feature_extracting):\n",
    "    if feature_extracting:\n",
    "        for param in model.parameters():\n",
    "            param.requires_grad = False\n",
    "\n",
    "def initialize_model(model_name, feature_extract, num_classes=102, use_pretrained=True):\n",
    "    # Initialize these variables which will be set in this if statement. Each of these\n",
    "    #   variables is model specific.\n",
    "    model_ft = None\n",
    "    input_size = 0\n",
    "\n",
    "    if model_name == \"resnet\":\n",
    "        \"\"\" Resnet50\n",
    "        \"\"\"\n",
    "        model_ft = models.resnet34(pretrained=use_pretrained)\n",
    "        set_parameter_requires_grad(model_ft, feature_extract)\n",
    "        num_ftrs = model_ft.fc.in_features\n",
    "        model_ft.fc = nn.Linear(num_ftrs, num_classes)\n",
    "        input_size = 224\n",
    "\n",
    "    elif model_name == \"alexnet\":\n",
    "        \"\"\" Alexnet\n",
    "        \"\"\"\n",
    "        model_ft = models.alexnet(pretrained=use_pretrained)\n",
    "        set_parameter_requires_grad(model_ft, feature_extract)\n",
    "        num_ftrs = model_ft.classifier[6].in_features\n",
    "        model_ft.classifier[6] = nn.Linear(num_ftrs,num_classes)\n",
    "        input_size = 224\n",
    "\n",
    "    elif model_name == \"vgg\":\n",
    "        \"\"\" VGG11_bn\n",
    "        \"\"\"\n",
    "        model_ft = models.vgg19_bn(pretrained=use_pretrained)\n",
    "        set_parameter_requires_grad(model_ft, feature_extract)\n",
    "        num_ftrs = model_ft.classifier[6].in_features\n",
    "        model_ft.classifier[6] = nn.Linear(num_ftrs,num_classes)\n",
    "        input_size = 224\n",
    "\n",
    "    elif model_name == \"squeezenet\":\n",
    "        \"\"\" Squeezenet\n",
    "        \"\"\"\n",
    "        model_ft = models.squeezenet1_0(pretrained=use_pretrained)\n",
    "        set_parameter_requires_grad(model_ft, feature_extract)\n",
    "        model_ft.classifier[1] = nn.Conv2d(512, num_classes, kernel_size=(1,1), stride=(1,1))\n",
    "        model_ft.num_classes = num_classes\n",
    "        input_size = 224\n",
    "\n",
    "    elif model_name == \"densenet\":\n",
    "        \"\"\" Densenet\n",
    "        \"\"\"\n",
    "        model_ft = models.densenet121(pretrained=use_pretrained)\n",
    "        set_parameter_requires_grad(model_ft, feature_extract)\n",
    "        num_ftrs = model_ft.classifier.in_features\n",
    "        model_ft.classifier = nn.Linear(num_ftrs, num_classes)\n",
    "        input_size = 224\n",
    "\n",
    "    elif model_name == \"inception\":\n",
    "        \"\"\" Inception v3\n",
    "        Be careful, expects (299,299) sized images and has auxiliary output\n",
    "        \"\"\"\n",
    "        model_ft = models.inception_v3(pretrained=use_pretrained)\n",
    "        set_parameter_requires_grad(model_ft, feature_extract)\n",
    "        # Handle the auxilary net\n",
    "        num_ftrs = model_ft.AuxLogits.fc.in_features\n",
    "        model_ft.AuxLogits.fc = nn.Linear(num_ftrs, num_classes)\n",
    "        # Handle the primary net\n",
    "        num_ftrs = model_ft.fc.in_features\n",
    "        model_ft.fc = nn.Linear(num_ftrs,num_classes)\n",
    "        input_size = 299\n",
    "\n",
    "    else:\n",
    "        print(\"Invalid model name, exiting...\")\n",
    "        exit()\n",
    "\n",
    "    return model_ft, input_size\n"
   ]
  },
  {
   "cell_type": "code",
   "execution_count": 18,
   "metadata": {
    "scrolled": true,
    "id": "ZD9tO1TP8iqu",
    "colab_type": "code",
    "colab": {
     "base_uri": "https://localhost:8080/",
     "height": 51.0
    },
    "outputId": "07792a39-1b38-4353-e20e-9406666ae303",
    "executionInfo": {
     "status": "ok",
     "timestamp": 1.546853408066E12,
     "user_tz": -60.0,
     "elapsed": 2833.0,
     "user": {
      "displayName": "aboubacar alka mahamadou salissou",
      "photoUrl": "https://lh4.googleusercontent.com/-IU5T_kH7KzY/AAAAAAAAAAI/AAAAAAAAABo/_dsgS1VKzW8/s64/photo.jpg",
      "userId": "01753305490697703940"
     }
    }
   },
   "outputs": [
    {
     "name": "stderr",
     "output_type": "stream",
     "text": [
      "Downloading: \"https://download.pytorch.org/models/resnet34-333f7ec4.pth\" to /root/.torch/models/resnet34-333f7ec4.pth\n",
      "100%|██████████| 87306240/87306240 [00:00<00:00, 87538887.89it/s]\n"
     ]
    }
   ],
   "source": [
    "# Initialize the model for this run\n",
    "model_name = 'resnet'\n",
    "num_classes = 102\n",
    "feature_extract = False\n",
    "model_ft, input_size = initialize_model(model_name, feature_extract, num_classes, use_pretrained=True)"
   ]
  },
  {
   "cell_type": "code",
   "execution_count": 19,
   "metadata": {
    "id": "dJN9ldlW8iq_",
    "colab_type": "code",
    "colab": {
     "base_uri": "https://localhost:8080/",
     "height": 2397.0
    },
    "outputId": "c7f0767d-7811-4b82-a5b4-939f7d8150f7",
    "executionInfo": {
     "status": "ok",
     "timestamp": 1.546853438778E12,
     "user_tz": -60.0,
     "elapsed": 1078.0,
     "user": {
      "displayName": "aboubacar alka mahamadou salissou",
      "photoUrl": "https://lh4.googleusercontent.com/-IU5T_kH7KzY/AAAAAAAAAAI/AAAAAAAAABo/_dsgS1VKzW8/s64/photo.jpg",
      "userId": "01753305490697703940"
     }
    },
    "collapsed": true
   },
   "outputs": [
    {
     "name": "stdout",
     "output_type": "stream",
     "text": [
      "ResNet(\n",
      "  (conv1): Conv2d(3, 64, kernel_size=(7, 7), stride=(2, 2), padding=(3, 3), bias=False)\n",
      "  (bn1): BatchNorm2d(64, eps=1e-05, momentum=0.1, affine=True, track_running_stats=True)\n",
      "  (relu): ReLU(inplace)\n",
      "  (maxpool): MaxPool2d(kernel_size=3, stride=2, padding=1, dilation=1, ceil_mode=False)\n",
      "  (layer1): Sequential(\n",
      "    (0): BasicBlock(\n",
      "      (conv1): Conv2d(64, 64, kernel_size=(3, 3), stride=(1, 1), padding=(1, 1), bias=False)\n",
      "      (bn1): BatchNorm2d(64, eps=1e-05, momentum=0.1, affine=True, track_running_stats=True)\n",
      "      (relu): ReLU(inplace)\n",
      "      (conv2): Conv2d(64, 64, kernel_size=(3, 3), stride=(1, 1), padding=(1, 1), bias=False)\n",
      "      (bn2): BatchNorm2d(64, eps=1e-05, momentum=0.1, affine=True, track_running_stats=True)\n",
      "    )\n",
      "    (1): BasicBlock(\n",
      "      (conv1): Conv2d(64, 64, kernel_size=(3, 3), stride=(1, 1), padding=(1, 1), bias=False)\n",
      "      (bn1): BatchNorm2d(64, eps=1e-05, momentum=0.1, affine=True, track_running_stats=True)\n",
      "      (relu): ReLU(inplace)\n",
      "      (conv2): Conv2d(64, 64, kernel_size=(3, 3), stride=(1, 1), padding=(1, 1), bias=False)\n",
      "      (bn2): BatchNorm2d(64, eps=1e-05, momentum=0.1, affine=True, track_running_stats=True)\n",
      "    )\n",
      "    (2): BasicBlock(\n",
      "      (conv1): Conv2d(64, 64, kernel_size=(3, 3), stride=(1, 1), padding=(1, 1), bias=False)\n",
      "      (bn1): BatchNorm2d(64, eps=1e-05, momentum=0.1, affine=True, track_running_stats=True)\n",
      "      (relu): ReLU(inplace)\n",
      "      (conv2): Conv2d(64, 64, kernel_size=(3, 3), stride=(1, 1), padding=(1, 1), bias=False)\n",
      "      (bn2): BatchNorm2d(64, eps=1e-05, momentum=0.1, affine=True, track_running_stats=True)\n",
      "    )\n",
      "  )\n",
      "  (layer2): Sequential(\n",
      "    (0): BasicBlock(\n",
      "      (conv1): Conv2d(64, 128, kernel_size=(3, 3), stride=(2, 2), padding=(1, 1), bias=False)\n",
      "      (bn1): BatchNorm2d(128, eps=1e-05, momentum=0.1, affine=True, track_running_stats=True)\n",
      "      (relu): ReLU(inplace)\n",
      "      (conv2): Conv2d(128, 128, kernel_size=(3, 3), stride=(1, 1), padding=(1, 1), bias=False)\n",
      "      (bn2): BatchNorm2d(128, eps=1e-05, momentum=0.1, affine=True, track_running_stats=True)\n",
      "      (downsample): Sequential(\n",
      "        (0): Conv2d(64, 128, kernel_size=(1, 1), stride=(2, 2), bias=False)\n",
      "        (1): BatchNorm2d(128, eps=1e-05, momentum=0.1, affine=True, track_running_stats=True)\n",
      "      )\n",
      "    )\n",
      "    (1): BasicBlock(\n",
      "      (conv1): Conv2d(128, 128, kernel_size=(3, 3), stride=(1, 1), padding=(1, 1), bias=False)\n",
      "      (bn1): BatchNorm2d(128, eps=1e-05, momentum=0.1, affine=True, track_running_stats=True)\n",
      "      (relu): ReLU(inplace)\n",
      "      (conv2): Conv2d(128, 128, kernel_size=(3, 3), stride=(1, 1), padding=(1, 1), bias=False)\n",
      "      (bn2): BatchNorm2d(128, eps=1e-05, momentum=0.1, affine=True, track_running_stats=True)\n",
      "    )\n",
      "    (2): BasicBlock(\n",
      "      (conv1): Conv2d(128, 128, kernel_size=(3, 3), stride=(1, 1), padding=(1, 1), bias=False)\n",
      "      (bn1): BatchNorm2d(128, eps=1e-05, momentum=0.1, affine=True, track_running_stats=True)\n",
      "      (relu): ReLU(inplace)\n",
      "      (conv2): Conv2d(128, 128, kernel_size=(3, 3), stride=(1, 1), padding=(1, 1), bias=False)\n",
      "      (bn2): BatchNorm2d(128, eps=1e-05, momentum=0.1, affine=True, track_running_stats=True)\n",
      "    )\n",
      "    (3): BasicBlock(\n",
      "      (conv1): Conv2d(128, 128, kernel_size=(3, 3), stride=(1, 1), padding=(1, 1), bias=False)\n",
      "      (bn1): BatchNorm2d(128, eps=1e-05, momentum=0.1, affine=True, track_running_stats=True)\n",
      "      (relu): ReLU(inplace)\n",
      "      (conv2): Conv2d(128, 128, kernel_size=(3, 3), stride=(1, 1), padding=(1, 1), bias=False)\n",
      "      (bn2): BatchNorm2d(128, eps=1e-05, momentum=0.1, affine=True, track_running_stats=True)\n",
      "    )\n",
      "  )\n",
      "  (layer3): Sequential(\n",
      "    (0): BasicBlock(\n",
      "      (conv1): Conv2d(128, 256, kernel_size=(3, 3), stride=(2, 2), padding=(1, 1), bias=False)\n",
      "      (bn1): BatchNorm2d(256, eps=1e-05, momentum=0.1, affine=True, track_running_stats=True)\n",
      "      (relu): ReLU(inplace)\n",
      "      (conv2): Conv2d(256, 256, kernel_size=(3, 3), stride=(1, 1), padding=(1, 1), bias=False)\n",
      "      (bn2): BatchNorm2d(256, eps=1e-05, momentum=0.1, affine=True, track_running_stats=True)\n",
      "      (downsample): Sequential(\n",
      "        (0): Conv2d(128, 256, kernel_size=(1, 1), stride=(2, 2), bias=False)\n",
      "        (1): BatchNorm2d(256, eps=1e-05, momentum=0.1, affine=True, track_running_stats=True)\n",
      "      )\n",
      "    )\n",
      "    (1): BasicBlock(\n",
      "      (conv1): Conv2d(256, 256, kernel_size=(3, 3), stride=(1, 1), padding=(1, 1), bias=False)\n",
      "      (bn1): BatchNorm2d(256, eps=1e-05, momentum=0.1, affine=True, track_running_stats=True)\n",
      "      (relu): ReLU(inplace)\n",
      "      (conv2): Conv2d(256, 256, kernel_size=(3, 3), stride=(1, 1), padding=(1, 1), bias=False)\n",
      "      (bn2): BatchNorm2d(256, eps=1e-05, momentum=0.1, affine=True, track_running_stats=True)\n",
      "    )\n",
      "    (2): BasicBlock(\n",
      "      (conv1): Conv2d(256, 256, kernel_size=(3, 3), stride=(1, 1), padding=(1, 1), bias=False)\n",
      "      (bn1): BatchNorm2d(256, eps=1e-05, momentum=0.1, affine=True, track_running_stats=True)\n",
      "      (relu): ReLU(inplace)\n",
      "      (conv2): Conv2d(256, 256, kernel_size=(3, 3), stride=(1, 1), padding=(1, 1), bias=False)\n",
      "      (bn2): BatchNorm2d(256, eps=1e-05, momentum=0.1, affine=True, track_running_stats=True)\n",
      "    )\n",
      "    (3): BasicBlock(\n",
      "      (conv1): Conv2d(256, 256, kernel_size=(3, 3), stride=(1, 1), padding=(1, 1), bias=False)\n",
      "      (bn1): BatchNorm2d(256, eps=1e-05, momentum=0.1, affine=True, track_running_stats=True)\n",
      "      (relu): ReLU(inplace)\n",
      "      (conv2): Conv2d(256, 256, kernel_size=(3, 3), stride=(1, 1), padding=(1, 1), bias=False)\n",
      "      (bn2): BatchNorm2d(256, eps=1e-05, momentum=0.1, affine=True, track_running_stats=True)\n",
      "    )\n",
      "    (4): BasicBlock(\n",
      "      (conv1): Conv2d(256, 256, kernel_size=(3, 3), stride=(1, 1), padding=(1, 1), bias=False)\n",
      "      (bn1): BatchNorm2d(256, eps=1e-05, momentum=0.1, affine=True, track_running_stats=True)\n",
      "      (relu): ReLU(inplace)\n",
      "      (conv2): Conv2d(256, 256, kernel_size=(3, 3), stride=(1, 1), padding=(1, 1), bias=False)\n",
      "      (bn2): BatchNorm2d(256, eps=1e-05, momentum=0.1, affine=True, track_running_stats=True)\n",
      "    )\n",
      "    (5): BasicBlock(\n",
      "      (conv1): Conv2d(256, 256, kernel_size=(3, 3), stride=(1, 1), padding=(1, 1), bias=False)\n",
      "      (bn1): BatchNorm2d(256, eps=1e-05, momentum=0.1, affine=True, track_running_stats=True)\n",
      "      (relu): ReLU(inplace)\n",
      "      (conv2): Conv2d(256, 256, kernel_size=(3, 3), stride=(1, 1), padding=(1, 1), bias=False)\n",
      "      (bn2): BatchNorm2d(256, eps=1e-05, momentum=0.1, affine=True, track_running_stats=True)\n",
      "    )\n",
      "  )\n",
      "  (layer4): Sequential(\n",
      "    (0): BasicBlock(\n",
      "      (conv1): Conv2d(256, 512, kernel_size=(3, 3), stride=(2, 2), padding=(1, 1), bias=False)\n",
      "      (bn1): BatchNorm2d(512, eps=1e-05, momentum=0.1, affine=True, track_running_stats=True)\n",
      "      (relu): ReLU(inplace)\n",
      "      (conv2): Conv2d(512, 512, kernel_size=(3, 3), stride=(1, 1), padding=(1, 1), bias=False)\n",
      "      (bn2): BatchNorm2d(512, eps=1e-05, momentum=0.1, affine=True, track_running_stats=True)\n",
      "      (downsample): Sequential(\n",
      "        (0): Conv2d(256, 512, kernel_size=(1, 1), stride=(2, 2), bias=False)\n",
      "        (1): BatchNorm2d(512, eps=1e-05, momentum=0.1, affine=True, track_running_stats=True)\n",
      "      )\n",
      "    )\n",
      "    (1): BasicBlock(\n",
      "      (conv1): Conv2d(512, 512, kernel_size=(3, 3), stride=(1, 1), padding=(1, 1), bias=False)\n",
      "      (bn1): BatchNorm2d(512, eps=1e-05, momentum=0.1, affine=True, track_running_stats=True)\n",
      "      (relu): ReLU(inplace)\n",
      "      (conv2): Conv2d(512, 512, kernel_size=(3, 3), stride=(1, 1), padding=(1, 1), bias=False)\n",
      "      (bn2): BatchNorm2d(512, eps=1e-05, momentum=0.1, affine=True, track_running_stats=True)\n",
      "    )\n",
      "    (2): BasicBlock(\n",
      "      (conv1): Conv2d(512, 512, kernel_size=(3, 3), stride=(1, 1), padding=(1, 1), bias=False)\n",
      "      (bn1): BatchNorm2d(512, eps=1e-05, momentum=0.1, affine=True, track_running_stats=True)\n",
      "      (relu): ReLU(inplace)\n",
      "      (conv2): Conv2d(512, 512, kernel_size=(3, 3), stride=(1, 1), padding=(1, 1), bias=False)\n",
      "      (bn2): BatchNorm2d(512, eps=1e-05, momentum=0.1, affine=True, track_running_stats=True)\n",
      "    )\n",
      "  )\n",
      "  (avgpool): AvgPool2d(kernel_size=7, stride=1, padding=0)\n",
      "  (fc): Linear(in_features=512, out_features=102, bias=True)\n",
      ")\n"
     ]
    }
   ],
   "source": [
    "print(model_ft)"
   ]
  },
  {
   "cell_type": "code",
   "execution_count": 0,
   "metadata": {
    "id": "8yX4qvKn8irN",
    "colab_type": "code",
    "outputId": "81606dcc-79aa-4228-da53-bdf7d09abf9e",
    "executionInfo": {
     "status": "ok",
     "timestamp": 1.546203077363E12,
     "user_tz": -60.0,
     "elapsed": 435.0,
     "user": {
      "displayName": "aboubacar alka mahamadou salissou",
      "photoUrl": "https://lh4.googleusercontent.com/-IU5T_kH7KzY/AAAAAAAAAAI/AAAAAAAAABo/_dsgS1VKzW8/s64/photo.jpg",
      "userId": "01753305490697703940"
     }
    },
    "colab": {
     "base_uri": "https://localhost:8080/",
     "height": 34.0
    }
   },
   "outputs": [
    {
     "data": {
      "text/plain": [
       "224"
      ]
     },
     "execution_count": 24,
     "metadata": {
      "tags": []
     },
     "output_type": "execute_result"
    }
   ],
   "source": [
    "input_size"
   ]
  },
  {
   "cell_type": "code",
   "execution_count": 0,
   "metadata": {
    "id": "pZyJ-nUB5FBC",
    "colab_type": "code",
    "colab": {}
   },
   "outputs": [],
   "source": [
    "def run(model, train_batch_size, val_batch_size, epochs, optimizer, log_interval,\n",
    "        dirname='resnet_models', filename_prefix='resnet', n_saved=2):\n",
    "    \n",
    "    train_loader, val_loader = dataloaders['train'], dataloaders['valid']\n",
    "    device = torch.device('cuda' if torch.cuda.is_available() else 'cpu')\n",
    "\n",
    "#     optimizer = optim.SGD(model.parameters(), lr=lr, momentum=momentum)\n",
    "    trainer = create_supervised_trainer(model, optimizer, F.cross_entropy, device=device)\n",
    "    evaluator = create_supervised_evaluator(model,\n",
    "                                            metrics={'accuracy': Accuracy(),\n",
    "                                                     'nll': Loss(F.cross_entropy)},\n",
    "                                            device=device)\n",
    "    \n",
    "    \n",
    "   \n",
    "    def get_val_loss(engine):\n",
    "        evaluator.run(val_loader)\n",
    "        return -evaluator.state.metrics['nll']\n",
    "    \n",
    "    checkpointer = handlers.ModelCheckpoint(dirname=dirname, filename_prefix=filename_prefix, \n",
    "                                            score_function=get_val_loss,\n",
    "                                            score_name='val_loss',\n",
    "                                            n_saved=n_saved, create_dir=True,\n",
    "                                            require_empty=False\n",
    "                                           )\n",
    "        \n",
    "    trainer.add_event_handler(Events.EPOCH_COMPLETED, checkpointer, \n",
    "                              {'optimizer': optimizer, 'model':model})\n",
    "    \n",
    "    desc = \"ITERATION - loss: {:.3f}\"\n",
    "    pbar = tqdm(\n",
    "        initial=0, leave=False, total=len(train_loader),\n",
    "        desc=desc.format(0)\n",
    "    )\n",
    "\n",
    "    @trainer.on(Events.ITERATION_COMPLETED)\n",
    "    def log_training_loss(engine):\n",
    "        iter_ = (engine.state.iteration - 1) % len(train_loader) + 1\n",
    "\n",
    "        if iter_ % log_interval == 0:\n",
    "            pbar.desc = desc.format(engine.state.output)\n",
    "            pbar.update(log_interval)\n",
    "\n",
    "    @trainer.on(Events.EPOCH_COMPLETED)\n",
    "    def log_training_results(engine):\n",
    "        pbar.refresh()\n",
    "        evaluator.run(train_loader)\n",
    "        metrics = evaluator.state.metrics\n",
    "        avg_accuracy = metrics['accuracy']\n",
    "        avg_nll = metrics['nll']\n",
    "        tqdm.write(\n",
    "            \"Training Results - Epoch: {}  Avg accuracy: {:.3f} Avg loss: {:.3f}\"\n",
    "            .format(engine.state.epoch, avg_accuracy, avg_nll)\n",
    "        )\n",
    "\n",
    "    @trainer.on(Events.EPOCH_COMPLETED)\n",
    "    def log_validation_results(engine):\n",
    "        evaluator.run(val_loader)\n",
    "        metrics = evaluator.state.metrics\n",
    "        avg_accuracy = metrics['accuracy']\n",
    "        avg_nll = metrics['nll']\n",
    "        tqdm.write(\n",
    "            \"Validation Results - Epoch: {}  Avg accuracy: {:.3f} Avg loss: {:.3f}\"\n",
    "            .format(engine.state.epoch, avg_accuracy, avg_nll))\n",
    "\n",
    "        pbar.n = pbar.last_print_n = 0\n",
    "        \n",
    "\n",
    "    trainer.run(train_loader, max_epochs=epochs)\n",
    "    pbar.close()"
   ]
  },
  {
   "cell_type": "code",
   "execution_count": 0,
   "metadata": {
    "id": "mY1bMNOW9Nch",
    "colab_type": "code",
    "colab": {}
   },
   "outputs": [],
   "source": [
    ""
   ]
  },
  {
   "cell_type": "code",
   "execution_count": 0,
   "metadata": {
    "id": "KnMr6tM88776",
    "colab_type": "code",
    "colab": {}
   },
   "outputs": [],
   "source": [
    "# instantiate optimizer and loss\n",
    "optimizer = optim.Adam(\n",
    "    [\n",
    "        {\"params\": model_ft.fc.parameters(), \"lr\": 1e-3},\n",
    "        {\"params\": model_ft.conv1.parameters()},\n",
    "        {\"params\": model_ft.layer1.parameters()},\n",
    "        {\"params\": model_ft.layer2.parameters()},\n",
    "        {\"params\": model_ft.layer3.parameters()},\n",
    "        {\"params\": model_ft.layer4.parameters()},\n",
    "    ],\n",
    "    lr=1e-6,\n",
    ")\n",
    "\n",
    "# Hyperparameters \n",
    "EPOCHS = 100"
   ]
  },
  {
   "cell_type": "code",
   "execution_count": 23,
   "metadata": {
    "id": "r6kx7gbK9Ytv",
    "colab_type": "code",
    "outputId": "04855b68-1021-4918-b3b1-d8775a6afeae",
    "executionInfo": {
     "status": "ok",
     "timestamp": 1.546864999741E12,
     "user_tz": -60.0,
     "elapsed": 8255229.0,
     "user": {
      "displayName": "aboubacar alka mahamadou salissou",
      "photoUrl": "https://lh4.googleusercontent.com/-IU5T_kH7KzY/AAAAAAAAAAI/AAAAAAAAABo/_dsgS1VKzW8/s64/photo.jpg",
      "userId": "01753305490697703940"
     }
    },
    "colab": {
     "base_uri": "https://localhost:8080/",
     "height": 1737.0
    }
   },
   "outputs": [
    {
     "name": "stderr",
     "output_type": "stream",
     "text": [
      "ITERATION - loss: 0.232:  97%|█████████▋| 100/103 [02:35<00:02,  1.24it/s]"
     ]
    },
    {
     "name": "stdout",
     "output_type": "stream",
     "text": [
      "Training Results - Epoch: 1  Avg accuracy: 0.944 Avg loss: 0.244\n"
     ]
    },
    {
     "name": "stderr",
     "output_type": "stream",
     "text": [
      "ITERATION - loss: 0.232:  97%|█████████▋| 100/103 [02:45<00:02,  1.24it/s]"
     ]
    },
    {
     "name": "stdout",
     "output_type": "stream",
     "text": [
      "Validation Results - Epoch: 1  Avg accuracy: 0.947 Avg loss: 0.203\n"
     ]
    },
    {
     "name": "stderr",
     "output_type": "stream",
     "text": [
      "ITERATION - loss: 0.421:  97%|█████████▋| 100/103 [05:21<00:02,  1.11it/s]"
     ]
    },
    {
     "name": "stdout",
     "output_type": "stream",
     "text": [
      "Training Results - Epoch: 2  Avg accuracy: 0.951 Avg loss: 0.222\n"
     ]
    },
    {
     "name": "stderr",
     "output_type": "stream",
     "text": [
      "ITERATION - loss: 0.421:  97%|█████████▋| 100/103 [05:31<00:02,  1.11it/s]"
     ]
    },
    {
     "name": "stdout",
     "output_type": "stream",
     "text": [
      "Validation Results - Epoch: 2  Avg accuracy: 0.947 Avg loss: 0.198\n"
     ]
    },
    {
     "name": "stderr",
     "output_type": "stream",
     "text": [
      "ITERATION - loss: 0.201:  97%|█████████▋| 100/103 [08:07<00:02,  1.11it/s]"
     ]
    },
    {
     "name": "stdout",
     "output_type": "stream",
     "text": [
      "Training Results - Epoch: 3  Avg accuracy: 0.951 Avg loss: 0.215\n"
     ]
    },
    {
     "name": "stderr",
     "output_type": "stream",
     "text": [
      "ITERATION - loss: 0.201:  97%|█████████▋| 100/103 [08:16<00:02,  1.11it/s]"
     ]
    },
    {
     "name": "stdout",
     "output_type": "stream",
     "text": [
      "Validation Results - Epoch: 3  Avg accuracy: 0.954 Avg loss: 0.185\n"
     ]
    },
    {
     "name": "stderr",
     "output_type": "stream",
     "text": [
      "ITERATION - loss: 0.425:  97%|█████████▋| 100/103 [10:52<00:02,  1.11it/s]"
     ]
    },
    {
     "name": "stdout",
     "output_type": "stream",
     "text": [
      "Training Results - Epoch: 4  Avg accuracy: 0.955 Avg loss: 0.198\n"
     ]
    },
    {
     "name": "stderr",
     "output_type": "stream",
     "text": [
      "ITERATION - loss: 0.425:  97%|█████████▋| 100/103 [11:02<00:02,  1.11it/s]"
     ]
    },
    {
     "name": "stdout",
     "output_type": "stream",
     "text": [
      "Validation Results - Epoch: 4  Avg accuracy: 0.951 Avg loss: 0.185\n"
     ]
    },
    {
     "name": "stderr",
     "output_type": "stream",
     "text": [
      "ITERATION - loss: 0.150:  97%|█████████▋| 100/103 [13:38<00:02,  1.11it/s]"
     ]
    },
    {
     "name": "stdout",
     "output_type": "stream",
     "text": [
      "Training Results - Epoch: 5  Avg accuracy: 0.955 Avg loss: 0.194\n"
     ]
    },
    {
     "name": "stderr",
     "output_type": "stream",
     "text": [
      "ITERATION - loss: 0.150:  97%|█████████▋| 100/103 [13:47<00:02,  1.11it/s]"
     ]
    },
    {
     "name": "stdout",
     "output_type": "stream",
     "text": [
      "Validation Results - Epoch: 5  Avg accuracy: 0.955 Avg loss: 0.176\n"
     ]
    },
    {
     "name": "stderr",
     "output_type": "stream",
     "text": [
      "ITERATION - loss: 0.202:  97%|█████████▋| 100/103 [16:23<00:02,  1.10it/s]"
     ]
    },
    {
     "name": "stdout",
     "output_type": "stream",
     "text": [
      "Training Results - Epoch: 6  Avg accuracy: 0.957 Avg loss: 0.188\n"
     ]
    },
    {
     "name": "stderr",
     "output_type": "stream",
     "text": [
      "ITERATION - loss: 0.202:  97%|█████████▋| 100/103 [16:33<00:02,  1.10it/s]"
     ]
    },
    {
     "name": "stdout",
     "output_type": "stream",
     "text": [
      "Validation Results - Epoch: 6  Avg accuracy: 0.952 Avg loss: 0.180\n"
     ]
    },
    {
     "name": "stderr",
     "output_type": "stream",
     "text": [
      "ITERATION - loss: 0.173:  97%|█████████▋| 100/103 [19:09<00:02,  1.11it/s]"
     ]
    },
    {
     "name": "stdout",
     "output_type": "stream",
     "text": [
      "Training Results - Epoch: 7  Avg accuracy: 0.951 Avg loss: 0.193\n"
     ]
    },
    {
     "name": "stderr",
     "output_type": "stream",
     "text": [
      "ITERATION - loss: 0.173:  97%|█████████▋| 100/103 [19:18<00:02,  1.11it/s]"
     ]
    },
    {
     "name": "stdout",
     "output_type": "stream",
     "text": [
      "Validation Results - Epoch: 7  Avg accuracy: 0.954 Avg loss: 0.171\n"
     ]
    },
    {
     "name": "stderr",
     "output_type": "stream",
     "text": [
      "ITERATION - loss: 0.212:  97%|█████████▋| 100/103 [21:54<00:02,  1.11it/s]"
     ]
    },
    {
     "name": "stdout",
     "output_type": "stream",
     "text": [
      "Training Results - Epoch: 8  Avg accuracy: 0.959 Avg loss: 0.173\n"
     ]
    },
    {
     "name": "stderr",
     "output_type": "stream",
     "text": [
      "ITERATION - loss: 0.212:  97%|█████████▋| 100/103 [22:04<00:02,  1.11it/s]"
     ]
    },
    {
     "name": "stdout",
     "output_type": "stream",
     "text": [
      "Validation Results - Epoch: 8  Avg accuracy: 0.955 Avg loss: 0.156\n"
     ]
    },
    {
     "name": "stderr",
     "output_type": "stream",
     "text": [
      "ITERATION - loss: 0.204:  97%|█████████▋| 100/103 [24:40<00:02,  1.11it/s]"
     ]
    },
    {
     "name": "stdout",
     "output_type": "stream",
     "text": [
      "Training Results - Epoch: 9  Avg accuracy: 0.957 Avg loss: 0.174\n"
     ]
    },
    {
     "name": "stderr",
     "output_type": "stream",
     "text": [
      "ITERATION - loss: 0.204:  97%|█████████▋| 100/103 [24:50<00:02,  1.11it/s]"
     ]
    },
    {
     "name": "stdout",
     "output_type": "stream",
     "text": [
      "Validation Results - Epoch: 9  Avg accuracy: 0.951 Avg loss: 0.170\n"
     ]
    },
    {
     "name": "stderr",
     "output_type": "stream",
     "text": [
      "ITERATION - loss: 0.252:  97%|█████████▋| 100/103 [27:26<00:02,  1.11it/s]"
     ]
    },
    {
     "name": "stdout",
     "output_type": "stream",
     "text": [
      "Training Results - Epoch: 10  Avg accuracy: 0.959 Avg loss: 0.162\n"
     ]
    },
    {
     "name": "stderr",
     "output_type": "stream",
     "text": [
      "ITERATION - loss: 0.252:  97%|█████████▋| 100/103 [27:36<00:02,  1.11it/s]"
     ]
    },
    {
     "name": "stdout",
     "output_type": "stream",
     "text": [
      "Validation Results - Epoch: 10  Avg accuracy: 0.955 Avg loss: 0.156\n"
     ]
    },
    {
     "name": "stderr",
     "output_type": "stream",
     "text": [
      "ITERATION - loss: 0.179:  97%|█████████▋| 100/103 [30:12<00:02,  1.11it/s]"
     ]
    },
    {
     "name": "stdout",
     "output_type": "stream",
     "text": [
      "Training Results - Epoch: 11  Avg accuracy: 0.964 Avg loss: 0.156\n"
     ]
    },
    {
     "name": "stderr",
     "output_type": "stream",
     "text": [
      "ITERATION - loss: 0.179:  97%|█████████▋| 100/103 [30:21<00:02,  1.11it/s]"
     ]
    },
    {
     "name": "stdout",
     "output_type": "stream",
     "text": [
      "Validation Results - Epoch: 11  Avg accuracy: 0.955 Avg loss: 0.147\n"
     ]
    },
    {
     "name": "stderr",
     "output_type": "stream",
     "text": [
      "ITERATION - loss: 0.499:  97%|█████████▋| 100/103 [32:57<00:02,  1.11it/s]"
     ]
    },
    {
     "name": "stdout",
     "output_type": "stream",
     "text": [
      "Training Results - Epoch: 12  Avg accuracy: 0.964 Avg loss: 0.142\n"
     ]
    },
    {
     "name": "stderr",
     "output_type": "stream",
     "text": [
      "ITERATION - loss: 0.499:  97%|█████████▋| 100/103 [33:06<00:02,  1.11it/s]"
     ]
    },
    {
     "name": "stdout",
     "output_type": "stream",
     "text": [
      "Validation Results - Epoch: 12  Avg accuracy: 0.954 Avg loss: 0.157\n"
     ]
    },
    {
     "name": "stderr",
     "output_type": "stream",
     "text": [
      "ITERATION - loss: 0.183:  97%|█████████▋| 100/103 [35:41<00:02,  1.11it/s]"
     ]
    },
    {
     "name": "stdout",
     "output_type": "stream",
     "text": [
      "Training Results - Epoch: 13  Avg accuracy: 0.959 Avg loss: 0.162\n"
     ]
    },
    {
     "name": "stderr",
     "output_type": "stream",
     "text": [
      "ITERATION - loss: 0.183:  97%|█████████▋| 100/103 [35:50<00:02,  1.11it/s]"
     ]
    },
    {
     "name": "stdout",
     "output_type": "stream",
     "text": [
      "Validation Results - Epoch: 13  Avg accuracy: 0.957 Avg loss: 0.159\n"
     ]
    },
    {
     "name": "stderr",
     "output_type": "stream",
     "text": [
      "ITERATION - loss: 0.192:  97%|█████████▋| 100/103 [38:26<00:02,  1.11it/s]"
     ]
    },
    {
     "name": "stdout",
     "output_type": "stream",
     "text": [
      "Training Results - Epoch: 14  Avg accuracy: 0.964 Avg loss: 0.146\n"
     ]
    },
    {
     "name": "stderr",
     "output_type": "stream",
     "text": [
      "ITERATION - loss: 0.192:  97%|█████████▋| 100/103 [38:35<00:02,  1.11it/s]"
     ]
    },
    {
     "name": "stdout",
     "output_type": "stream",
     "text": [
      "Validation Results - Epoch: 14  Avg accuracy: 0.956 Avg loss: 0.150\n"
     ]
    },
    {
     "name": "stderr",
     "output_type": "stream",
     "text": [
      "ITERATION - loss: 0.101:  97%|█████████▋| 100/103 [41:11<00:02,  1.11it/s]"
     ]
    },
    {
     "name": "stdout",
     "output_type": "stream",
     "text": [
      "Training Results - Epoch: 15  Avg accuracy: 0.969 Avg loss: 0.128\n"
     ]
    },
    {
     "name": "stderr",
     "output_type": "stream",
     "text": [
      "ITERATION - loss: 0.101:  97%|█████████▋| 100/103 [41:21<00:02,  1.11it/s]"
     ]
    },
    {
     "name": "stdout",
     "output_type": "stream",
     "text": [
      "Validation Results - Epoch: 15  Avg accuracy: 0.963 Avg loss: 0.140\n"
     ]
    },
    {
     "name": "stderr",
     "output_type": "stream",
     "text": [
      "ITERATION - loss: 0.252:  97%|█████████▋| 100/103 [43:57<00:02,  1.10it/s]"
     ]
    },
    {
     "name": "stdout",
     "output_type": "stream",
     "text": [
      "Training Results - Epoch: 16  Avg accuracy: 0.965 Avg loss: 0.142\n"
     ]
    },
    {
     "name": "stderr",
     "output_type": "stream",
     "text": [
      "ITERATION - loss: 0.252:  97%|█████████▋| 100/103 [44:06<00:02,  1.10it/s]"
     ]
    },
    {
     "name": "stdout",
     "output_type": "stream",
     "text": [
      "Validation Results - Epoch: 16  Avg accuracy: 0.961 Avg loss: 0.143\n"
     ]
    },
    {
     "name": "stderr",
     "output_type": "stream",
     "text": [
      "ITERATION - loss: 0.171:  97%|█████████▋| 100/103 [46:42<00:02,  1.10it/s]"
     ]
    },
    {
     "name": "stdout",
     "output_type": "stream",
     "text": [
      "Training Results - Epoch: 17  Avg accuracy: 0.965 Avg loss: 0.140\n"
     ]
    },
    {
     "name": "stderr",
     "output_type": "stream",
     "text": [
      "ITERATION - loss: 0.171:  97%|█████████▋| 100/103 [46:52<00:02,  1.10it/s]"
     ]
    },
    {
     "name": "stdout",
     "output_type": "stream",
     "text": [
      "Validation Results - Epoch: 17  Avg accuracy: 0.960 Avg loss: 0.137\n"
     ]
    },
    {
     "name": "stderr",
     "output_type": "stream",
     "text": [
      "ITERATION - loss: 0.166:  97%|█████████▋| 100/103 [49:27<00:02,  1.11it/s]"
     ]
    },
    {
     "name": "stdout",
     "output_type": "stream",
     "text": [
      "Training Results - Epoch: 18  Avg accuracy: 0.972 Avg loss: 0.124\n"
     ]
    },
    {
     "name": "stderr",
     "output_type": "stream",
     "text": [
      "ITERATION - loss: 0.166:  97%|█████████▋| 100/103 [49:37<00:02,  1.11it/s]"
     ]
    },
    {
     "name": "stdout",
     "output_type": "stream",
     "text": [
      "Validation Results - Epoch: 18  Avg accuracy: 0.958 Avg loss: 0.139\n"
     ]
    },
    {
     "name": "stderr",
     "output_type": "stream",
     "text": [
      "ITERATION - loss: 0.285:  97%|█████████▋| 100/103 [52:12<00:02,  1.11it/s]"
     ]
    },
    {
     "name": "stdout",
     "output_type": "stream",
     "text": [
      "Training Results - Epoch: 19  Avg accuracy: 0.967 Avg loss: 0.134\n"
     ]
    },
    {
     "name": "stderr",
     "output_type": "stream",
     "text": [
      "ITERATION - loss: 0.285:  97%|█████████▋| 100/103 [52:22<00:02,  1.11it/s]"
     ]
    },
    {
     "name": "stdout",
     "output_type": "stream",
     "text": [
      "Validation Results - Epoch: 19  Avg accuracy: 0.962 Avg loss: 0.138\n"
     ]
    },
    {
     "name": "stderr",
     "output_type": "stream",
     "text": [
      "ITERATION - loss: 0.111:  97%|█████████▋| 100/103 [54:57<00:02,  1.11it/s]"
     ]
    },
    {
     "name": "stdout",
     "output_type": "stream",
     "text": [
      "Training Results - Epoch: 20  Avg accuracy: 0.967 Avg loss: 0.125\n"
     ]
    },
    {
     "name": "stderr",
     "output_type": "stream",
     "text": [
      "ITERATION - loss: 0.111:  97%|█████████▋| 100/103 [55:06<00:02,  1.11it/s]"
     ]
    },
    {
     "name": "stdout",
     "output_type": "stream",
     "text": [
      "Validation Results - Epoch: 20  Avg accuracy: 0.960 Avg loss: 0.151\n"
     ]
    },
    {
     "name": "stderr",
     "output_type": "stream",
     "text": [
      "ITERATION - loss: 0.192:  97%|█████████▋| 100/103 [57:41<00:02,  1.11it/s]"
     ]
    },
    {
     "name": "stdout",
     "output_type": "stream",
     "text": [
      "Training Results - Epoch: 21  Avg accuracy: 0.969 Avg loss: 0.125\n"
     ]
    },
    {
     "name": "stderr",
     "output_type": "stream",
     "text": [
      "ITERATION - loss: 0.192:  97%|█████████▋| 100/103 [57:51<00:02,  1.11it/s]"
     ]
    },
    {
     "name": "stdout",
     "output_type": "stream",
     "text": [
      "Validation Results - Epoch: 21  Avg accuracy: 0.967 Avg loss: 0.138\n"
     ]
    },
    {
     "name": "stderr",
     "output_type": "stream",
     "text": [
      "ITERATION - loss: 0.204:  97%|█████████▋| 100/103 [1:00:26<00:02,  1.11it/s]"
     ]
    },
    {
     "name": "stdout",
     "output_type": "stream",
     "text": [
      "Training Results - Epoch: 22  Avg accuracy: 0.971 Avg loss: 0.119\n"
     ]
    },
    {
     "name": "stderr",
     "output_type": "stream",
     "text": [
      "ITERATION - loss: 0.204:  97%|█████████▋| 100/103 [1:00:35<00:02,  1.11it/s]"
     ]
    },
    {
     "name": "stdout",
     "output_type": "stream",
     "text": [
      "Validation Results - Epoch: 22  Avg accuracy: 0.955 Avg loss: 0.143\n"
     ]
    },
    {
     "name": "stderr",
     "output_type": "stream",
     "text": [
      "ITERATION - loss: 0.071:  97%|█████████▋| 100/103 [1:03:10<00:02,  1.11it/s]"
     ]
    },
    {
     "name": "stdout",
     "output_type": "stream",
     "text": [
      "Training Results - Epoch: 23  Avg accuracy: 0.971 Avg loss: 0.117\n"
     ]
    },
    {
     "name": "stderr",
     "output_type": "stream",
     "text": [
      "ITERATION - loss: 0.071:  97%|█████████▋| 100/103 [1:03:19<00:02,  1.11it/s]"
     ]
    },
    {
     "name": "stdout",
     "output_type": "stream",
     "text": [
      "Validation Results - Epoch: 23  Avg accuracy: 0.961 Avg loss: 0.147\n"
     ]
    },
    {
     "name": "stderr",
     "output_type": "stream",
     "text": [
      "ITERATION - loss: 0.178:  97%|█████████▋| 100/103 [1:05:55<00:02,  1.11it/s]"
     ]
    },
    {
     "name": "stdout",
     "output_type": "stream",
     "text": [
      "Training Results - Epoch: 24  Avg accuracy: 0.970 Avg loss: 0.119\n"
     ]
    },
    {
     "name": "stderr",
     "output_type": "stream",
     "text": [
      "ITERATION - loss: 0.178:  97%|█████████▋| 100/103 [1:06:04<00:02,  1.11it/s]"
     ]
    },
    {
     "name": "stdout",
     "output_type": "stream",
     "text": [
      "Validation Results - Epoch: 24  Avg accuracy: 0.957 Avg loss: 0.146\n"
     ]
    },
    {
     "name": "stderr",
     "output_type": "stream",
     "text": [
      "ITERATION - loss: 0.114:  97%|█████████▋| 100/103 [1:08:40<00:02,  1.11it/s]"
     ]
    },
    {
     "name": "stdout",
     "output_type": "stream",
     "text": [
      "Training Results - Epoch: 25  Avg accuracy: 0.968 Avg loss: 0.121\n"
     ]
    },
    {
     "name": "stderr",
     "output_type": "stream",
     "text": [
      "ITERATION - loss: 0.114:  97%|█████████▋| 100/103 [1:08:49<00:02,  1.11it/s]"
     ]
    },
    {
     "name": "stdout",
     "output_type": "stream",
     "text": [
      "Validation Results - Epoch: 25  Avg accuracy: 0.968 Avg loss: 0.130\n"
     ]
    },
    {
     "name": "stderr",
     "output_type": "stream",
     "text": [
      "ITERATION - loss: 0.135:  97%|█████████▋| 100/103 [1:11:26<00:02,  1.11it/s]"
     ]
    },
    {
     "name": "stdout",
     "output_type": "stream",
     "text": [
      "Training Results - Epoch: 26  Avg accuracy: 0.973 Avg loss: 0.105\n"
     ]
    },
    {
     "name": "stderr",
     "output_type": "stream",
     "text": [
      "ITERATION - loss: 0.135:  97%|█████████▋| 100/103 [1:11:35<00:02,  1.11it/s]"
     ]
    },
    {
     "name": "stdout",
     "output_type": "stream",
     "text": [
      "Validation Results - Epoch: 26  Avg accuracy: 0.966 Avg loss: 0.131\n"
     ]
    },
    {
     "name": "stderr",
     "output_type": "stream",
     "text": [
      "ITERATION - loss: 0.115:  97%|█████████▋| 100/103 [1:14:11<00:02,  1.10it/s]"
     ]
    },
    {
     "name": "stdout",
     "output_type": "stream",
     "text": [
      "Training Results - Epoch: 27  Avg accuracy: 0.972 Avg loss: 0.109\n"
     ]
    },
    {
     "name": "stderr",
     "output_type": "stream",
     "text": [
      "ITERATION - loss: 0.115:  97%|█████████▋| 100/103 [1:14:21<00:02,  1.10it/s]"
     ]
    },
    {
     "name": "stdout",
     "output_type": "stream",
     "text": [
      "Validation Results - Epoch: 27  Avg accuracy: 0.967 Avg loss: 0.130\n"
     ]
    },
    {
     "name": "stderr",
     "output_type": "stream",
     "text": [
      "ITERATION - loss: 0.080:  97%|█████████▋| 100/103 [1:16:56<00:02,  1.10it/s]"
     ]
    },
    {
     "name": "stdout",
     "output_type": "stream",
     "text": [
      "Training Results - Epoch: 28  Avg accuracy: 0.970 Avg loss: 0.109\n"
     ]
    },
    {
     "name": "stderr",
     "output_type": "stream",
     "text": [
      "ITERATION - loss: 0.080:  97%|█████████▋| 100/103 [1:17:05<00:02,  1.10it/s]"
     ]
    },
    {
     "name": "stdout",
     "output_type": "stream",
     "text": [
      "Validation Results - Epoch: 28  Avg accuracy: 0.958 Avg loss: 0.143\n"
     ]
    },
    {
     "name": "stderr",
     "output_type": "stream",
     "text": [
      "ITERATION - loss: 0.093:  97%|█████████▋| 100/103 [1:19:41<00:02,  1.11it/s]"
     ]
    },
    {
     "name": "stdout",
     "output_type": "stream",
     "text": [
      "Training Results - Epoch: 29  Avg accuracy: 0.974 Avg loss: 0.098\n"
     ]
    },
    {
     "name": "stderr",
     "output_type": "stream",
     "text": [
      "ITERATION - loss: 0.093:  97%|█████████▋| 100/103 [1:19:51<00:02,  1.11it/s]"
     ]
    },
    {
     "name": "stdout",
     "output_type": "stream",
     "text": [
      "Validation Results - Epoch: 29  Avg accuracy: 0.962 Avg loss: 0.134\n"
     ]
    },
    {
     "name": "stderr",
     "output_type": "stream",
     "text": [
      "ITERATION - loss: 0.113:  97%|█████████▋| 100/103 [1:22:27<00:02,  1.11it/s]"
     ]
    },
    {
     "name": "stdout",
     "output_type": "stream",
     "text": [
      "Training Results - Epoch: 30  Avg accuracy: 0.974 Avg loss: 0.097\n"
     ]
    },
    {
     "name": "stderr",
     "output_type": "stream",
     "text": [
      "ITERATION - loss: 0.113:  97%|█████████▋| 100/103 [1:22:36<00:02,  1.11it/s]"
     ]
    },
    {
     "name": "stdout",
     "output_type": "stream",
     "text": [
      "Validation Results - Epoch: 30  Avg accuracy: 0.966 Avg loss: 0.130\n"
     ]
    },
    {
     "name": "stderr",
     "output_type": "stream",
     "text": [
      "ITERATION - loss: 0.130:  97%|█████████▋| 100/103 [1:25:11<00:02,  1.10it/s]"
     ]
    },
    {
     "name": "stdout",
     "output_type": "stream",
     "text": [
      "Training Results - Epoch: 31  Avg accuracy: 0.973 Avg loss: 0.103\n"
     ]
    },
    {
     "name": "stderr",
     "output_type": "stream",
     "text": [
      "ITERATION - loss: 0.130:  97%|█████████▋| 100/103 [1:25:21<00:02,  1.10it/s]"
     ]
    },
    {
     "name": "stdout",
     "output_type": "stream",
     "text": [
      "Validation Results - Epoch: 31  Avg accuracy: 0.958 Avg loss: 0.137\n"
     ]
    },
    {
     "name": "stderr",
     "output_type": "stream",
     "text": [
      "ITERATION - loss: 0.040:  97%|█████████▋| 100/103 [1:27:57<00:02,  1.10it/s]"
     ]
    },
    {
     "name": "stdout",
     "output_type": "stream",
     "text": [
      "Training Results - Epoch: 32  Avg accuracy: 0.973 Avg loss: 0.105\n"
     ]
    },
    {
     "name": "stderr",
     "output_type": "stream",
     "text": [
      "ITERATION - loss: 0.040:  97%|█████████▋| 100/103 [1:28:07<00:02,  1.10it/s]"
     ]
    },
    {
     "name": "stdout",
     "output_type": "stream",
     "text": [
      "Validation Results - Epoch: 32  Avg accuracy: 0.966 Avg loss: 0.123\n"
     ]
    },
    {
     "name": "stderr",
     "output_type": "stream",
     "text": [
      "ITERATION - loss: 0.175:  97%|█████████▋| 100/103 [1:30:42<00:02,  1.10it/s]"
     ]
    },
    {
     "name": "stdout",
     "output_type": "stream",
     "text": [
      "Training Results - Epoch: 33  Avg accuracy: 0.974 Avg loss: 0.108\n"
     ]
    },
    {
     "name": "stderr",
     "output_type": "stream",
     "text": [
      "ITERATION - loss: 0.175:  97%|█████████▋| 100/103 [1:30:52<00:02,  1.10it/s]"
     ]
    },
    {
     "name": "stdout",
     "output_type": "stream",
     "text": [
      "Validation Results - Epoch: 33  Avg accuracy: 0.960 Avg loss: 0.135\n"
     ]
    },
    {
     "name": "stderr",
     "output_type": "stream",
     "text": [
      "ITERATION - loss: 0.164:  97%|█████████▋| 100/103 [1:33:28<00:02,  1.11it/s]"
     ]
    },
    {
     "name": "stdout",
     "output_type": "stream",
     "text": [
      "Training Results - Epoch: 34  Avg accuracy: 0.976 Avg loss: 0.095\n"
     ]
    },
    {
     "name": "stderr",
     "output_type": "stream",
     "text": [
      "ITERATION - loss: 0.164:  97%|█████████▋| 100/103 [1:33:37<00:02,  1.11it/s]"
     ]
    },
    {
     "name": "stdout",
     "output_type": "stream",
     "text": [
      "Validation Results - Epoch: 34  Avg accuracy: 0.971 Avg loss: 0.124\n"
     ]
    },
    {
     "name": "stderr",
     "output_type": "stream",
     "text": [
      "ITERATION - loss: 0.238:  97%|█████████▋| 100/103 [1:36:12<00:02,  1.10it/s]"
     ]
    },
    {
     "name": "stdout",
     "output_type": "stream",
     "text": [
      "Training Results - Epoch: 35  Avg accuracy: 0.974 Avg loss: 0.105\n"
     ]
    },
    {
     "name": "stderr",
     "output_type": "stream",
     "text": [
      "ITERATION - loss: 0.238:  97%|█████████▋| 100/103 [1:36:21<00:02,  1.10it/s]"
     ]
    },
    {
     "name": "stdout",
     "output_type": "stream",
     "text": [
      "Validation Results - Epoch: 35  Avg accuracy: 0.957 Avg loss: 0.137\n"
     ]
    },
    {
     "name": "stderr",
     "output_type": "stream",
     "text": [
      "ITERATION - loss: 0.232:  97%|█████████▋| 100/103 [1:38:57<00:02,  1.11it/s]"
     ]
    },
    {
     "name": "stdout",
     "output_type": "stream",
     "text": [
      "Training Results - Epoch: 36  Avg accuracy: 0.976 Avg loss: 0.088\n"
     ]
    },
    {
     "name": "stderr",
     "output_type": "stream",
     "text": [
      "ITERATION - loss: 0.232:  97%|█████████▋| 100/103 [1:39:07<00:02,  1.11it/s]"
     ]
    },
    {
     "name": "stdout",
     "output_type": "stream",
     "text": [
      "Validation Results - Epoch: 36  Avg accuracy: 0.967 Avg loss: 0.120\n"
     ]
    },
    {
     "name": "stderr",
     "output_type": "stream",
     "text": [
      "ITERATION - loss: 0.182:  97%|█████████▋| 100/103 [1:41:42<00:02,  1.10it/s]"
     ]
    },
    {
     "name": "stdout",
     "output_type": "stream",
     "text": [
      "Training Results - Epoch: 37  Avg accuracy: 0.970 Avg loss: 0.109\n"
     ]
    },
    {
     "name": "stderr",
     "output_type": "stream",
     "text": [
      "ITERATION - loss: 0.182:  97%|█████████▋| 100/103 [1:41:52<00:02,  1.10it/s]"
     ]
    },
    {
     "name": "stdout",
     "output_type": "stream",
     "text": [
      "Validation Results - Epoch: 37  Avg accuracy: 0.962 Avg loss: 0.132\n"
     ]
    },
    {
     "name": "stderr",
     "output_type": "stream",
     "text": [
      "ITERATION - loss: 0.158:  97%|█████████▋| 100/103 [1:44:27<00:02,  1.10it/s]"
     ]
    },
    {
     "name": "stdout",
     "output_type": "stream",
     "text": [
      "Training Results - Epoch: 38  Avg accuracy: 0.971 Avg loss: 0.109\n"
     ]
    },
    {
     "name": "stderr",
     "output_type": "stream",
     "text": [
      "ITERATION - loss: 0.158:  97%|█████████▋| 100/103 [1:44:36<00:02,  1.10it/s]"
     ]
    },
    {
     "name": "stdout",
     "output_type": "stream",
     "text": [
      "Validation Results - Epoch: 38  Avg accuracy: 0.952 Avg loss: 0.140\n"
     ]
    },
    {
     "name": "stderr",
     "output_type": "stream",
     "text": [
      "ITERATION - loss: 0.151:  97%|█████████▋| 100/103 [1:47:12<00:02,  1.11it/s]"
     ]
    },
    {
     "name": "stdout",
     "output_type": "stream",
     "text": [
      "Training Results - Epoch: 39  Avg accuracy: 0.975 Avg loss: 0.093\n"
     ]
    },
    {
     "name": "stderr",
     "output_type": "stream",
     "text": [
      "ITERATION - loss: 0.151:  97%|█████████▋| 100/103 [1:47:21<00:02,  1.11it/s]"
     ]
    },
    {
     "name": "stdout",
     "output_type": "stream",
     "text": [
      "Validation Results - Epoch: 39  Avg accuracy: 0.965 Avg loss: 0.125\n"
     ]
    },
    {
     "name": "stderr",
     "output_type": "stream",
     "text": [
      "ITERATION - loss: 0.088:  97%|█████████▋| 100/103 [1:49:56<00:02,  1.11it/s]"
     ]
    },
    {
     "name": "stdout",
     "output_type": "stream",
     "text": [
      "Training Results - Epoch: 40  Avg accuracy: 0.976 Avg loss: 0.092\n"
     ]
    },
    {
     "name": "stderr",
     "output_type": "stream",
     "text": [
      "ITERATION - loss: 0.088:  97%|█████████▋| 100/103 [1:50:06<00:02,  1.11it/s]"
     ]
    },
    {
     "name": "stdout",
     "output_type": "stream",
     "text": [
      "Validation Results - Epoch: 40  Avg accuracy: 0.960 Avg loss: 0.127\n"
     ]
    },
    {
     "name": "stderr",
     "output_type": "stream",
     "text": [
      "ITERATION - loss: 0.083:  97%|█████████▋| 100/103 [1:52:41<00:02,  1.11it/s]"
     ]
    },
    {
     "name": "stdout",
     "output_type": "stream",
     "text": [
      "Training Results - Epoch: 41  Avg accuracy: 0.978 Avg loss: 0.084\n"
     ]
    },
    {
     "name": "stderr",
     "output_type": "stream",
     "text": [
      "ITERATION - loss: 0.083:  97%|█████████▋| 100/103 [1:52:50<00:02,  1.11it/s]"
     ]
    },
    {
     "name": "stdout",
     "output_type": "stream",
     "text": [
      "Validation Results - Epoch: 41  Avg accuracy: 0.963 Avg loss: 0.123\n"
     ]
    },
    {
     "name": "stderr",
     "output_type": "stream",
     "text": [
      "ITERATION - loss: 0.146:  97%|█████████▋| 100/103 [1:55:26<00:02,  1.11it/s]"
     ]
    },
    {
     "name": "stdout",
     "output_type": "stream",
     "text": [
      "Training Results - Epoch: 42  Avg accuracy: 0.974 Avg loss: 0.091\n"
     ]
    },
    {
     "name": "stderr",
     "output_type": "stream",
     "text": [
      "ITERATION - loss: 0.146:  97%|█████████▋| 100/103 [1:55:36<00:02,  1.11it/s]"
     ]
    },
    {
     "name": "stdout",
     "output_type": "stream",
     "text": [
      "Validation Results - Epoch: 42  Avg accuracy: 0.967 Avg loss: 0.122\n"
     ]
    },
    {
     "name": "stderr",
     "output_type": "stream",
     "text": [
      "ITERATION - loss: 0.034:  97%|█████████▋| 100/103 [1:58:10<00:02,  1.11it/s]"
     ]
    },
    {
     "name": "stdout",
     "output_type": "stream",
     "text": [
      "Training Results - Epoch: 43  Avg accuracy: 0.976 Avg loss: 0.091\n"
     ]
    },
    {
     "name": "stderr",
     "output_type": "stream",
     "text": [
      "ITERATION - loss: 0.034:  97%|█████████▋| 100/103 [1:58:19<00:02,  1.11it/s]"
     ]
    },
    {
     "name": "stdout",
     "output_type": "stream",
     "text": [
      "Validation Results - Epoch: 43  Avg accuracy: 0.967 Avg loss: 0.126\n"
     ]
    },
    {
     "name": "stderr",
     "output_type": "stream",
     "text": [
      "ITERATION - loss: 0.115:  97%|█████████▋| 100/103 [2:00:54<00:02,  1.11it/s]"
     ]
    },
    {
     "name": "stdout",
     "output_type": "stream",
     "text": [
      "Training Results - Epoch: 44  Avg accuracy: 0.980 Avg loss: 0.079\n"
     ]
    },
    {
     "name": "stderr",
     "output_type": "stream",
     "text": [
      "ITERATION - loss: 0.115:  97%|█████████▋| 100/103 [2:01:03<00:02,  1.11it/s]"
     ]
    },
    {
     "name": "stdout",
     "output_type": "stream",
     "text": [
      "Validation Results - Epoch: 44  Avg accuracy: 0.966 Avg loss: 0.133\n"
     ]
    },
    {
     "name": "stderr",
     "output_type": "stream",
     "text": [
      "ITERATION - loss: 0.141:  97%|█████████▋| 100/103 [2:03:38<00:02,  1.11it/s]"
     ]
    },
    {
     "name": "stdout",
     "output_type": "stream",
     "text": [
      "Training Results - Epoch: 45  Avg accuracy: 0.978 Avg loss: 0.079\n"
     ]
    },
    {
     "name": "stderr",
     "output_type": "stream",
     "text": [
      "ITERATION - loss: 0.141:  97%|█████████▋| 100/103 [2:03:48<00:02,  1.11it/s]"
     ]
    },
    {
     "name": "stdout",
     "output_type": "stream",
     "text": [
      "Validation Results - Epoch: 45  Avg accuracy: 0.963 Avg loss: 0.128\n"
     ]
    },
    {
     "name": "stderr",
     "output_type": "stream",
     "text": [
      "ITERATION - loss: 0.167:  97%|█████████▋| 100/103 [2:06:23<00:02,  1.11it/s]"
     ]
    },
    {
     "name": "stdout",
     "output_type": "stream",
     "text": [
      "Training Results - Epoch: 46  Avg accuracy: 0.976 Avg loss: 0.091\n"
     ]
    },
    {
     "name": "stderr",
     "output_type": "stream",
     "text": [
      "ITERATION - loss: 0.167:  97%|█████████▋| 100/103 [2:06:32<00:02,  1.11it/s]"
     ]
    },
    {
     "name": "stdout",
     "output_type": "stream",
     "text": [
      "Validation Results - Epoch: 46  Avg accuracy: 0.958 Avg loss: 0.138\n"
     ]
    },
    {
     "name": "stderr",
     "output_type": "stream",
     "text": [
      "ITERATION - loss: 0.037:  97%|█████████▋| 100/103 [2:09:07<00:02,  1.11it/s]"
     ]
    },
    {
     "name": "stdout",
     "output_type": "stream",
     "text": [
      "Training Results - Epoch: 47  Avg accuracy: 0.980 Avg loss: 0.077\n"
     ]
    },
    {
     "name": "stderr",
     "output_type": "stream",
     "text": [
      "ITERATION - loss: 0.037:  97%|█████████▋| 100/103 [2:09:17<00:02,  1.11it/s]"
     ]
    },
    {
     "name": "stdout",
     "output_type": "stream",
     "text": [
      "Validation Results - Epoch: 47  Avg accuracy: 0.960 Avg loss: 0.147\n"
     ]
    },
    {
     "name": "stderr",
     "output_type": "stream",
     "text": [
      "ITERATION - loss: 0.066:  97%|█████████▋| 100/103 [2:11:52<00:02,  1.11it/s]"
     ]
    },
    {
     "name": "stdout",
     "output_type": "stream",
     "text": [
      "Training Results - Epoch: 48  Avg accuracy: 0.975 Avg loss: 0.089\n"
     ]
    },
    {
     "name": "stderr",
     "output_type": "stream",
     "text": [
      "ITERATION - loss: 0.066:  97%|█████████▋| 100/103 [2:12:02<00:02,  1.11it/s]"
     ]
    },
    {
     "name": "stdout",
     "output_type": "stream",
     "text": [
      "Validation Results - Epoch: 48  Avg accuracy: 0.967 Avg loss: 0.140\n"
     ]
    },
    {
     "name": "stderr",
     "output_type": "stream",
     "text": [
      "ITERATION - loss: 0.184:  97%|█████████▋| 100/103 [2:14:36<00:02,  1.11it/s]"
     ]
    },
    {
     "name": "stdout",
     "output_type": "stream",
     "text": [
      "Training Results - Epoch: 49  Avg accuracy: 0.972 Avg loss: 0.096\n"
     ]
    },
    {
     "name": "stderr",
     "output_type": "stream",
     "text": [
      "ITERATION - loss: 0.184:  97%|█████████▋| 100/103 [2:14:46<00:02,  1.11it/s]"
     ]
    },
    {
     "name": "stdout",
     "output_type": "stream",
     "text": [
      "Validation Results - Epoch: 49  Avg accuracy: 0.961 Avg loss: 0.146\n"
     ]
    },
    {
     "name": "stderr",
     "output_type": "stream",
     "text": [
      "ITERATION - loss: 0.106:  97%|█████████▋| 100/103 [2:17:21<00:02,  1.11it/s]"
     ]
    },
    {
     "name": "stdout",
     "output_type": "stream",
     "text": [
      "Training Results - Epoch: 50  Avg accuracy: 0.978 Avg loss: 0.086\n"
     ]
    },
    {
     "name": "stderr",
     "output_type": "stream",
     "text": [
      "                                                                            "
     ]
    },
    {
     "name": "stdout",
     "output_type": "stream",
     "text": [
      "Validation Results - Epoch: 50  Avg accuracy: 0.961 Avg loss: 0.133\n"
     ]
    },
    {
     "name": "stderr",
     "output_type": "stream",
     "text": [
      "\r"
     ]
    }
   ],
   "source": [
    "run(model_ft, train_batch_size=64, val_batch_size=64, epochs=50, optimizer=optimizer, log_interval=10)"
   ]
  },
  {
   "cell_type": "code",
   "execution_count": 0,
   "metadata": {
    "id": "L_WfRpe3XhEs",
    "colab_type": "code",
    "colab": {}
   },
   "outputs": [],
   "source": [
    "# Load checkpoint\n",
    "# Initialize the model for this run\n",
    "model_name = 'resnet'\n",
    "num_classes = 102\n",
    "feature_extract = False\n",
    "model1, input_size = initialize_model(model_name, feature_extract, num_classes, use_pretrained=True)\n",
    "\n",
    "# # instantiate optimizer and loss\n",
    "# optimizer1 = optim.Adam(\n",
    "#     [\n",
    "#         {\"params\": model1.fc.parameters(), \"lr\": 1e-3},\n",
    "#         {\"params\": model1.conv1.parameters()},\n",
    "#         {\"params\": model1.layer1.parameters()},\n",
    "#         {\"params\": model1.layer2.parameters()},\n",
    "#         {\"params\": model1.layer3.parameters()},\n",
    "#         {\"params\": model1.layer4.parameters()},\n",
    "#     ],\n",
    "#     lr=1e-6,\n",
    "# )\n"
   ]
  },
  {
   "cell_type": "code",
   "execution_count": 0,
   "metadata": {
    "id": "qsFn_WMhXlSp",
    "colab_type": "code",
    "colab": {}
   },
   "outputs": [],
   "source": [
    "model1 = torch.load('./resnet_models/resnet_model_36_val_loss=0.1201792.pth')"
   ]
  },
  {
   "cell_type": "code",
   "execution_count": 29,
   "metadata": {
    "id": "bN5HZE2WZaWO",
    "colab_type": "code",
    "colab": {
     "base_uri": "https://localhost:8080/",
     "height": 34.0
    },
    "outputId": "23147e16-4dce-47ed-ec72-a5f255cf8bd0",
    "executionInfo": {
     "status": "ok",
     "timestamp": 1.54686610818E12,
     "user_tz": -60.0,
     "elapsed": 1034.0,
     "user": {
      "displayName": "aboubacar alka mahamadou salissou",
      "photoUrl": "https://lh4.googleusercontent.com/-IU5T_kH7KzY/AAAAAAAAAAI/AAAAAAAAABo/_dsgS1VKzW8/s64/photo.jpg",
      "userId": "01753305490697703940"
     }
    }
   },
   "outputs": [
    {
     "name": "stdout",
     "output_type": "stream",
     "text": [
      "cuda\n"
     ]
    }
   ],
   "source": [
    "device = torch.device('cuda' if torch.cuda.is_available() else 'cpu')\n",
    "print(device)\n"
   ]
  },
  {
   "cell_type": "code",
   "execution_count": 0,
   "metadata": {
    "id": "5ZciZuy_XJ0z",
    "colab_type": "code",
    "colab": {}
   },
   "outputs": [],
   "source": [
    "evaluator = create_supervised_evaluator(model1,\n",
    "                                            metrics={'accuracy': Accuracy(),\n",
    "                                                     'nll': Loss(F.cross_entropy)},\n",
    "                                            device=device)"
   ]
  },
  {
   "cell_type": "code",
   "execution_count": 31,
   "metadata": {
    "id": "mXZIdy3ZZ_vf",
    "colab_type": "code",
    "colab": {
     "base_uri": "https://localhost:8080/",
     "height": 51.0
    },
    "outputId": "39c860e6-2d64-4ca0-ec25-332043095ef5",
    "executionInfo": {
     "status": "ok",
     "timestamp": 1.546866297445E12,
     "user_tz": -60.0,
     "elapsed": 62115.0,
     "user": {
      "displayName": "aboubacar alka mahamadou salissou",
      "photoUrl": "https://lh4.googleusercontent.com/-IU5T_kH7KzY/AAAAAAAAAAI/AAAAAAAAABo/_dsgS1VKzW8/s64/photo.jpg",
      "userId": "01753305490697703940"
     }
    }
   },
   "outputs": [
    {
     "name": "stdout",
     "output_type": "stream",
     "text": [
      "Evaluation on train set\n"
     ]
    },
    {
     "data": {
      "text/plain": [
       "<ignite.engine.engine.State at 0x7f90c03ee9e8>"
      ]
     },
     "execution_count": 31,
     "metadata": {
      "tags": []
     },
     "output_type": "execute_result"
    }
   ],
   "source": [
    "print('Evaluation on train set')\n",
    "evaluator.run(dataloaders['train'])"
   ]
  },
  {
   "cell_type": "code",
   "execution_count": 32,
   "metadata": {
    "id": "LUWIUvIXa4hu",
    "colab_type": "code",
    "colab": {
     "base_uri": "https://localhost:8080/",
     "height": 34.0
    },
    "outputId": "1776642d-e36c-4a2f-8517-0a2083cd136f",
    "executionInfo": {
     "status": "ok",
     "timestamp": 1.546866383383E12,
     "user_tz": -60.0,
     "elapsed": 989.0,
     "user": {
      "displayName": "aboubacar alka mahamadou salissou",
      "photoUrl": "https://lh4.googleusercontent.com/-IU5T_kH7KzY/AAAAAAAAAAI/AAAAAAAAABo/_dsgS1VKzW8/s64/photo.jpg",
      "userId": "01753305490697703940"
     }
    }
   },
   "outputs": [
    {
     "data": {
      "text/plain": [
       "{'accuracy': 0.9768009768009768, 'nll': 0.0958281812486631}"
      ]
     },
     "execution_count": 32,
     "metadata": {
      "tags": []
     },
     "output_type": "execute_result"
    }
   ],
   "source": [
    "evaluator.state.metrics"
   ]
  },
  {
   "cell_type": "code",
   "execution_count": 33,
   "metadata": {
    "id": "zdAKWzCgamid",
    "colab_type": "code",
    "colab": {
     "base_uri": "https://localhost:8080/",
     "height": 51.0
    },
    "outputId": "cddab88b-25d5-4154-87b1-32521f78d3fe",
    "executionInfo": {
     "status": "ok",
     "timestamp": 1.546866432242E12,
     "user_tz": -60.0,
     "elapsed": 9714.0,
     "user": {
      "displayName": "aboubacar alka mahamadou salissou",
      "photoUrl": "https://lh4.googleusercontent.com/-IU5T_kH7KzY/AAAAAAAAAAI/AAAAAAAAABo/_dsgS1VKzW8/s64/photo.jpg",
      "userId": "01753305490697703940"
     }
    }
   },
   "outputs": [
    {
     "name": "stdout",
     "output_type": "stream",
     "text": [
      "Evaluation on valid set\n",
      "{'accuracy': 0.9669926650366748, 'nll': 0.1201791458724472}\n"
     ]
    }
   ],
   "source": [
    "print('Evaluation on valid set')\n",
    "evaluator.run(dataloaders['valid'])\n",
    "print(evaluator.state.metrics)"
   ]
  },
  {
   "cell_type": "code",
   "execution_count": 0,
   "metadata": {
    "id": "gbMAh9vMbR43",
    "colab_type": "code",
    "colab": {}
   },
   "outputs": [],
   "source": [
    "model2 = torch.load('./resnet_models/resnet_model_42_val_loss=0.121583.pth')\n",
    "evaluator = create_supervised_evaluator(model2,\n",
    "                                            metrics={'accuracy': Accuracy(),\n",
    "                                                     'nll': Loss(F.cross_entropy)},\n",
    "                                            device=device)"
   ]
  },
  {
   "cell_type": "code",
   "execution_count": 0,
   "metadata": {
    "id": "zL7o-2UTdLvI",
    "colab_type": "code",
    "colab": {}
   },
   "outputs": [],
   "source": [
    "torch.save(model2.state_dict(), './model_final.pth')"
   ]
  },
  {
   "cell_type": "code",
   "execution_count": 35,
   "metadata": {
    "id": "fvQ6D0FYbpZW",
    "colab_type": "code",
    "colab": {
     "base_uri": "https://localhost:8080/",
     "height": 85.0
    },
    "outputId": "fa4b0003-815d-4e20-b17d-02b64477c0b7",
    "executionInfo": {
     "status": "ok",
     "timestamp": 1.546866678215E12,
     "user_tz": -60.0,
     "elapsed": 71215.0,
     "user": {
      "displayName": "aboubacar alka mahamadou salissou",
      "photoUrl": "https://lh4.googleusercontent.com/-IU5T_kH7KzY/AAAAAAAAAAI/AAAAAAAAABo/_dsgS1VKzW8/s64/photo.jpg",
      "userId": "01753305490697703940"
     }
    }
   },
   "outputs": [
    {
     "name": "stdout",
     "output_type": "stream",
     "text": [
      "Evaluation on train set\n",
      "{'accuracy': 0.9769536019536019, 'nll': 0.08301086778387481}\n",
      "Evaluation on valid set\n",
      "{'accuracy': 0.9669926650366748, 'nll': 0.12158299315820988}\n"
     ]
    }
   ],
   "source": [
    "print('Evaluation on train set')\n",
    "evaluator.run(dataloaders['train'])\n",
    "print(evaluator.state.metrics)\n",
    "\n",
    "print('Evaluation on valid set')\n",
    "evaluator.run(dataloaders['valid'])\n",
    "print(evaluator.state.metrics)"
   ]
  },
  {
   "cell_type": "code",
   "execution_count": 0,
   "metadata": {
    "id": "p9D09K-wzmdx",
    "colab_type": "code",
    "colab": {}
   },
   "outputs": [],
   "source": [
    "# torch.save(model_ft.state_dict(), './gdrive/My Drive/Pytorch_Udacity/resnet34_model.pth')\n",
    "# torch.save(optimizer.state_dict(), './gdrive/My Drive/Pytorch_Udacity/resnet34_optimizer.pth')"
   ]
  },
  {
   "cell_type": "code",
   "execution_count": 0,
   "metadata": {
    "id": "76lvSFHg0ZX_",
    "colab_type": "code",
    "outputId": "e49beba8-33d3-4a16-ba56-cc51a95394f6",
    "executionInfo": {
     "status": "ok",
     "timestamp": 1.546319580179E12,
     "user_tz": -60.0,
     "elapsed": 23831.0,
     "user": {
      "displayName": "aboubacar alka mahamadou salissou",
      "photoUrl": "https://lh4.googleusercontent.com/-IU5T_kH7KzY/AAAAAAAAAAI/AAAAAAAAABo/_dsgS1VKzW8/s64/photo.jpg",
      "userId": "01753305490697703940"
     }
    },
    "colab": {
     "base_uri": "https://localhost:8080/",
     "height": 68.0
    }
   },
   "outputs": [
    {
     "name": "stdout",
     "output_type": "stream",
     "text": [
      "deep-learning-v2-pytorch  resnet_model.pth  vgg_model.pth\n",
      "resnet34_model.pth\t  resnet_models\n",
      "resnet34_optimizer.pth\t  Untitled0.ipynb\n"
     ]
    }
   ],
   "source": [
    "# !ls './gdrive/My Drive/Pytorch_Udacity/'"
   ]
  },
  {
   "cell_type": "code",
   "execution_count": 0,
   "metadata": {
    "id": "qOkpThBM8irg",
    "colab_type": "code",
    "colab": {}
   },
   "outputs": [],
   "source": [
    "# # Initialize the model for this run\n",
    "# model_name = 'vgg'\n",
    "# num_classes = 102\n",
    "# feature_extract = True\n",
    "# model_ft, input_size = initialize_model(model_name, feature_extract, num_classes, use_pretrained=True)"
   ]
  },
  {
   "cell_type": "code",
   "execution_count": 0,
   "metadata": {
    "id": "_LJaHftL8irw",
    "colab_type": "code",
    "colab": {}
   },
   "outputs": [],
   "source": [
    "# # Initialize the model for this run\n",
    "# model_name = 'inception'\n",
    "# num_classes = 102\n",
    "# feature_extract = True\n",
    "# model_ft, input_size = initialize_model(model_name, feature_extract, num_classes, use_pretrained=True)"
   ]
  },
  {
   "cell_type": "code",
   "execution_count": 0,
   "metadata": {
    "id": "rnrjSQ8XjkH4",
    "colab_type": "code",
    "colab": {}
   },
   "outputs": [],
   "source": [
    "# check if GPU available\n",
    "device = torch.device('cuda' if torch.cuda.is_available() else 'cpu')\n",
    "print(device)\n",
    "# instantiate optimizer and loss\n",
    "model_ft = model_ft.to(device)\n",
    "criterion = torch.nn.CrossEntropyLoss()\n",
    "optimizer = optim.Adam(model_ft.parameters())\n",
    "\n",
    "# Hyperparameters \n",
    "EPOCHS = 100"
   ]
  },
  {
   "cell_type": "code",
   "execution_count": 0,
   "metadata": {
    "id": "v3O2U-K98isB",
    "colab_type": "code",
    "colab": {}
   },
   "outputs": [],
   "source": [
    "def train_model(model, criterion, optimizer, data, dataset_sizes, num_epochs):\n",
    "    since = time.time()\n",
    "    acc_history = {'train': [], 'valid': []}\n",
    "    loss_history = {'train': [], 'valid': []}\n",
    "    \n",
    "    best_model_wts = copy.deepcopy(model.state_dict())\n",
    "    best_acc = 0.0\n",
    "    \n",
    "    for epoch in range(num_epochs):\n",
    "        print('Epoch {}/{}'.format(epoch + 1, num_epochs))\n",
    "        print('-' * 10)\n",
    "        \n",
    "        # Each epoch has a training and validation phase\n",
    "        for phase in ['train', 'valid']:\n",
    "            if phase == 'train':\n",
    "                model.train()  # set model to training mode\n",
    "            else:\n",
    "                model.eval()   # set model to evaluation mode\n",
    "        \n",
    "            running_loss = 0.0\n",
    "            running_corrects = 0\n",
    "            \n",
    "            # Iterate over data.\n",
    "            for inputs, labels in data[phase]:\n",
    "                # inputs = inputs.to(device, dtype=torch.float)\n",
    "                inputs = inputs.to(device, dtype=torch.float)\n",
    "                labels = labels.view(labels.size()[0]).to(device)\n",
    "                \n",
    "                # zero the parameter gradients\n",
    "                optimizer.zero_grad()\n",
    "                \n",
    "                # forward pass\n",
    "                # track history if only in train\n",
    "                with torch.set_grad_enabled(phase == 'train'):\n",
    "                    outputs = model(inputs)\n",
    "                    _, preds = torch.max(outputs, 1)\n",
    "                    \n",
    "                    # loss = criterion(outputs, labels)\n",
    "                    loss = criterion(outputs, labels)\n",
    "                    \n",
    "                    # Backward pass + optimize only if in training phase\n",
    "                    if phase == 'train':\n",
    "                        loss.backward()\n",
    "                        optimizer.step()\n",
    "            \n",
    "                # statistics\n",
    "                running_loss += loss.item() * inputs.size(0)\n",
    "                running_corrects += torch.sum(preds == labels.data)\n",
    "                \n",
    "            epoch_loss = running_loss / dataset_sizes[phase]\n",
    "            epoch_acc = running_corrects.double() / dataset_sizes[phase]\n",
    "            \n",
    "            acc_history[phase].append(epoch_acc.to('cpu').numpy().mean()) \n",
    "            loss_history[phase].append(epoch_loss) \n",
    "            \n",
    "            print('{} Loss: {:.4f}, Acc: {:.4f}'.format(\n",
    "            phase, epoch_loss, epoch_acc))\n",
    "            \n",
    "            # deep copy th emodel\n",
    "            if phase == 'valid' and epoch_acc > best_acc:\n",
    "                best_acc = epoch_acc\n",
    "                best_model_wts = copy.deepcopy(model.state_dict())\n",
    "            \n",
    "        print()\n",
    "        \n",
    "    time_elapsed = time.time() - since\n",
    "    print('Training complete in {:.0f}m {:.0f}s'.format(\n",
    "            time_elapsed // 60, time_elapsed % 60))\n",
    "    print('Best val Acc: {:.4f}'.format(best_acc))\n",
    "    \n",
    "    # load best model weights\n",
    "    model.load_state_dict(best_model_wts)\n",
    "    return model, acc_history, loss_history"
   ]
  },
  {
   "cell_type": "code",
   "execution_count": 0,
   "metadata": {
    "id": "Fhts0Iom8is2",
    "colab_type": "code",
    "outputId": "84a73101-3be8-4537-cdbd-b5c72223d415",
    "executionInfo": {
     "status": "ok",
     "timestamp": 1.546056694628E12,
     "user_tz": -60.0,
     "elapsed": 3895.0,
     "user": {
      "displayName": "aboubacar alka mahamadou salissou",
      "photoUrl": "https://lh4.googleusercontent.com/-IU5T_kH7KzY/AAAAAAAAAAI/AAAAAAAAABo/_dsgS1VKzW8/s64/photo.jpg",
      "userId": "01753305490697703940"
     }
    },
    "colab": {
     "base_uri": "https://localhost:8080/",
     "height": 34.0
    }
   },
   "outputs": [
    {
     "name": "stdout",
     "output_type": "stream",
     "text": [
      "cuda\n"
     ]
    }
   ],
   "source": [
    "# check if GPU available\n",
    "device = torch.device('cuda' if torch.cuda.is_available() else 'cpu')\n",
    "print(device)\n",
    "# instantiate optimizer and loss\n",
    "model_ft = model_ft.to(device)\n",
    "criterion = torch.nn.CrossEntropyLoss()\n",
    "optimizer = optim.Adam(model_ft.parameters())\n",
    "\n",
    "# Hyperparameters \n",
    "EPOCHS = 100"
   ]
  },
  {
   "cell_type": "code",
   "execution_count": 0,
   "metadata": {
    "id": "DHQc10ed8itO",
    "colab_type": "code",
    "colab": {}
   },
   "outputs": [],
   "source": [
    "model_ft, acc_history, loss_history = train_model(model_ft, criterion, \n",
    "                                                  optimizer, dataloaders, dataset_sizes, EPOCHS)"
   ]
  },
  {
   "cell_type": "markdown",
   "metadata": {
    "id": "pzdBxmgf8itY",
    "colab_type": "text"
   },
   "source": [
    "## Save the checkpoint\n",
    "\n",
    "Now that your network is trained, save the model so you can load it later for making predictions. You probably want to save other things such as the mapping of classes to indices which you get from one of the image datasets: `image_datasets['train'].class_to_idx`. You can attach this to the model as an attribute which makes inference easier later on.\n",
    "\n",
    "```model.class_to_idx = image_datasets['train'].class_to_idx```\n",
    "\n",
    "Remember that you'll want to completely rebuild the model later so you can use it for inference. Make sure to include any information you need in the checkpoint. If you want to load the model and keep training, you'll want to save the number of epochs as well as the optimizer state, `optimizer.state_dict`. You'll likely want to use this trained model in the next part of the project, so best to save it now."
   ]
  },
  {
   "cell_type": "code",
   "execution_count": 0,
   "metadata": {
    "id": "nXao-2o28itc",
    "colab_type": "code",
    "outputId": "676e4782-76a4-4e48-ea97-1060717f3c27",
    "executionInfo": {
     "status": "ok",
     "timestamp": 1.545996788938E12,
     "user_tz": -60.0,
     "elapsed": 37798.0,
     "user": {
      "displayName": "aboubacar alka mahamadou salissou",
      "photoUrl": "https://lh4.googleusercontent.com/-IU5T_kH7KzY/AAAAAAAAAAI/AAAAAAAAABo/_dsgS1VKzW8/s64/photo.jpg",
      "userId": "01753305490697703940"
     }
    },
    "colab": {
     "base_uri": "https://localhost:8080/",
     "height": 122.0
    }
   },
   "outputs": [
    {
     "name": "stdout",
     "output_type": "stream",
     "text": [
      "Go to this URL in a browser: https://accounts.google.com/o/oauth2/auth?client_id=947318989803-6bn6qk8qdgf4n4g3pfee6491hc0brc4i.apps.googleusercontent.com&redirect_uri=urn%3Aietf%3Awg%3Aoauth%3A2.0%3Aoob&scope=email%20https%3A%2F%2Fwww.googleapis.com%2Fauth%2Fdocs.test%20https%3A%2F%2Fwww.googleapis.com%2Fauth%2Fdrive%20https%3A%2F%2Fwww.googleapis.com%2Fauth%2Fdrive.photos.readonly%20https%3A%2F%2Fwww.googleapis.com%2Fauth%2Fpeopleapi.readonly&response_type=code\n",
      "\n",
      "Enter your authorization code:\n",
      "··········\n",
      "Mounted at gdrive\n"
     ]
    }
   ],
   "source": [
    "# TODO: Save the checkpoint \n",
    "# connect to drive\n",
    "from google.colab import drive\n",
    "drive.mount('gdrive')"
   ]
  },
  {
   "cell_type": "code",
   "execution_count": 0,
   "metadata": {
    "id": "nttQV0zEwzI-",
    "colab_type": "code",
    "colab": {}
   },
   "outputs": [],
   "source": [
    "torch.save({\n",
    "            'model_state_dict': model_ft.state_dict(),\n",
    "            'optimizer_state_dict': optimizer.state_dict()\n",
    "            }, './gdrive/My Drive/Pytorch_Udacity/vgg_model.pth')"
   ]
  },
  {
   "cell_type": "code",
   "execution_count": 0,
   "metadata": {
    "id": "B1haJAnNzB9U",
    "colab_type": "code",
    "colab": {}
   },
   "outputs": [],
   "source": [
    "model_ft = model_ft.to('cpu')"
   ]
  },
  {
   "cell_type": "code",
   "execution_count": 0,
   "metadata": {
    "id": "U36dJt9UywWO",
    "colab_type": "code",
    "outputId": "ef5969b3-d9bf-4ed9-acc2-e3f3b5c6ea63",
    "executionInfo": {
     "status": "ok",
     "timestamp": 1.545989243668E12,
     "user_tz": -60.0,
     "elapsed": 6236.0,
     "user": {
      "displayName": "aboubacar alka mahamadou salissou",
      "photoUrl": "https://lh4.googleusercontent.com/-IU5T_kH7KzY/AAAAAAAAAAI/AAAAAAAAABo/_dsgS1VKzW8/s64/photo.jpg",
      "userId": "01753305490697703940"
     }
    },
    "colab": {
     "base_uri": "https://localhost:8080/",
     "height": 68.0
    }
   },
   "outputs": [
    {
     "name": "stderr",
     "output_type": "stream",
     "text": [
      "Downloading: \"https://download.pytorch.org/models/resnet50-19c8e357.pth\" to /root/.torch/models/resnet50-19c8e357.pth\n",
      "100%|██████████| 102502400/102502400 [00:01<00:00, 82065924.43it/s]\n"
     ]
    },
    {
     "name": "stdout",
     "output_type": "stream",
     "text": [
      "cuda\n"
     ]
    }
   ],
   "source": [
    "# Training with resnet\n",
    "# Initialize the model for this run\n",
    "model_name = 'resnet'\n",
    "num_classes = 102\n",
    "feature_extract = True\n",
    "model_resnet_ft, input_size = initialize_model(model_name, feature_extract, num_classes, use_pretrained=True)\n",
    "\n",
    "\n",
    "# check if GPU available\n",
    "device = torch.device('cuda' if torch.cuda.is_available() else 'cpu')\n",
    "print(device)\n",
    "# instantiate optimizer and loss\n",
    "model_resnet_ft = model_resnet_ft.to(device)\n",
    "criterion = torch.nn.CrossEntropyLoss()\n",
    "optimizer = optim.Adam(\n",
    "    [\n",
    "        {\"params\": model_resnet_ft.fc.parameters(), \"lr\": 1e-3},\n",
    "#         {\"params\": model_resnet_ft.conv1.parameters()},\n",
    "        {\"params\": model_resnet_ft.layer1.parameters()},\n",
    "        {\"params\": model_resnet_ft.layer2.parameters()},\n",
    "        {\"params\": model_resnet_ft.layer3.parameters()},\n",
    "        {\"params\": model_resnet_ft.layer4.parameters()},\n",
    "    ],\n",
    "    lr=1e-6,\n",
    ")\n",
    "\n",
    "# Hyperparameters \n",
    "EPOCHS = 100"
   ]
  },
  {
   "cell_type": "code",
   "execution_count": 0,
   "metadata": {
    "id": "98OTuFP1-LdB",
    "colab_type": "code",
    "colab": {}
   },
   "outputs": [],
   "source": [
    ""
   ]
  },
  {
   "cell_type": "code",
   "execution_count": 0,
   "metadata": {
    "id": "pqmdfneABKVv",
    "colab_type": "code",
    "colab": {}
   },
   "outputs": [],
   "source": [
    "# len(list(model_resnet_ft.layer1.children()))\n",
    "# for name, module in model_resnet_ft.named_children(): print(name)"
   ]
  },
  {
   "cell_type": "code",
   "execution_count": 0,
   "metadata": {
    "id": "e5D1guWdCqWq",
    "colab_type": "code",
    "colab": {}
   },
   "outputs": [],
   "source": [
    "# print(model_resnet_ft)"
   ]
  },
  {
   "cell_type": "code",
   "execution_count": 0,
   "metadata": {
    "id": "wM-PhGlNzZ9m",
    "colab_type": "code",
    "colab": {}
   },
   "outputs": [],
   "source": [
    "model_resnet_ft, acc_history, loss_history = train_model(model_resnet_ft, criterion, \n",
    "                                                  optimizer, dataloaders, dataset_sizes, EPOCHS)"
   ]
  },
  {
   "cell_type": "code",
   "execution_count": 0,
   "metadata": {
    "id": "kmKu-b-iTZi0",
    "colab_type": "code",
    "colab": {}
   },
   "outputs": [],
   "source": [
    "model_resnet_ft.class_to_idx = image_datasets['train'].class_to_idx\n",
    "torch.save(model_resnet_ft.state_dict(), './gdrive/My Drive/Pytorch_Udacity/resnet_model.pth')"
   ]
  },
  {
   "cell_type": "code",
   "execution_count": 0,
   "metadata": {
    "id": "2ewpauYy7jqO",
    "colab_type": "code",
    "colab": {}
   },
   "outputs": [],
   "source": [
    ""
   ]
  },
  {
   "cell_type": "code",
   "execution_count": 0,
   "metadata": {
    "id": "lTmJJqTj8R8G",
    "colab_type": "code",
    "colab": {}
   },
   "outputs": [],
   "source": [
    "# for param_tensor in model_resnet_ft.state_dict():\n",
    "#     print(param_tensor, \"\\t\", model_resnet_ft.state_dict()[param_tensor].size())"
   ]
  },
  {
   "cell_type": "code",
   "execution_count": 0,
   "metadata": {
    "id": "fSifGwHC9CfQ",
    "colab_type": "code",
    "colab": {}
   },
   "outputs": [],
   "source": [
    ""
   ]
  },
  {
   "cell_type": "code",
   "execution_count": 0,
   "metadata": {
    "id": "F0MnJbhpWK-b",
    "colab_type": "code",
    "colab": {}
   },
   "outputs": [],
   "source": [
    ""
   ]
  },
  {
   "cell_type": "markdown",
   "metadata": {
    "id": "6X_dPGIF8itp",
    "colab_type": "text"
   },
   "source": [
    "## Loading the checkpoint\n",
    "\n",
    "At this point it's good to write a function that can load a checkpoint and rebuild the model. That way you can come back to this project and keep working on it without having to retrain the network."
   ]
  },
  {
   "cell_type": "code",
   "execution_count": 0,
   "metadata": {
    "id": "if5OWxpD8its",
    "colab_type": "code",
    "colab": {}
   },
   "outputs": [],
   "source": [
    "# TODO: Write a function that loads a checkpoint and rebuilds the model\n",
    "def load_model(path, name='resnet'):\n",
    "    model_resnet_ft, input_size = initialize_model(name, feature_extract=False, num_classes=102, use_pretrained=False)\n",
    "    model_resnet_ft.load_state_dict(torch.load(path))\n",
    "    model_resnet_ft.eval()\n",
    "    \n",
    "    return model_resnet_ft"
   ]
  },
  {
   "cell_type": "code",
   "execution_count": 0,
   "metadata": {
    "id": "Ro5hINs4aSlr",
    "colab_type": "code",
    "colab": {}
   },
   "outputs": [],
   "source": [
    "model_resnet_loaded = load_model('./gdrive/My Drive/Pytorch_Udacity/resnet_model.pth')"
   ]
  },
  {
   "cell_type": "code",
   "execution_count": 0,
   "metadata": {
    "id": "RHvYVbAFcS7M",
    "colab_type": "code",
    "colab": {}
   },
   "outputs": [],
   "source": [
    "print(model_resnet_loaded)"
   ]
  },
  {
   "cell_type": "code",
   "execution_count": 0,
   "metadata": {
    "id": "v-o109e5NxXz",
    "colab_type": "code",
    "colab": {}
   },
   "outputs": [],
   "source": [
    ""
   ]
  },
  {
   "cell_type": "markdown",
   "metadata": {
    "id": "m6yIsonA8it-",
    "colab_type": "text"
   },
   "source": [
    "# Inference for classification\n",
    "\n",
    "Now you'll write a function to use a trained network for inference. That is, you'll pass an image into the network and predict the class of the flower in the image. Write a function called `predict` that takes an image and a model, then returns the top $K$ most likely classes along with the probabilities. It should look like \n",
    "\n",
    "```python\n",
    "probs, classes = predict(image_path, model)\n",
    "print(probs)\n",
    "print(classes)\n",
    "> [ 0.01558163  0.01541934  0.01452626  0.01443549  0.01407339]\n",
    "> ['70', '3', '45', '62', '55']\n",
    "```\n",
    "\n",
    "First you'll need to handle processing the input image such that it can be used in your network. \n",
    "\n",
    "## Image Preprocessing\n",
    "\n",
    "You'll want to use `PIL` to load the image ([documentation](https://pillow.readthedocs.io/en/latest/reference/Image.html)). It's best to write a function that preprocesses the image so it can be used as input for the model. This function should process the images in the same manner used for training. \n",
    "\n",
    "First, resize the images where the shortest side is 256 pixels, keeping the aspect ratio. This can be done with the [`thumbnail`](http://pillow.readthedocs.io/en/3.1.x/reference/Image.html#PIL.Image.Image.thumbnail) or [`resize`](http://pillow.readthedocs.io/en/3.1.x/reference/Image.html#PIL.Image.Image.thumbnail) methods. Then you'll need to crop out the center 224x224 portion of the image.\n",
    "\n",
    "Color channels of images are typically encoded as integers 0-255, but the model expected floats 0-1. You'll need to convert the values. It's easiest with a Numpy array, which you can get from a PIL image like so `np_image = np.array(pil_image)`.\n",
    "\n",
    "As before, the network expects the images to be normalized in a specific way. For the means, it's `[0.485, 0.456, 0.406]` and for the standard deviations `[0.229, 0.224, 0.225]`. You'll want to subtract the means from each color channel, then divide by the standard deviation. \n",
    "\n",
    "And finally, PyTorch expects the color channel to be the first dimension but it's the third dimension in the PIL image and Numpy array. You can reorder dimensions using [`ndarray.transpose`](https://docs.scipy.org/doc/numpy-1.13.0/reference/generated/numpy.ndarray.transpose.html). The color channel needs to be first and retain the order of the other two dimensions."
   ]
  },
  {
   "cell_type": "code",
   "execution_count": 0,
   "metadata": {
    "id": "RheVPt5b8iuD",
    "colab_type": "code",
    "colab": {}
   },
   "outputs": [],
   "source": [
    "def process_image(image):\n",
    "    ''' Scales, crops, and normalizes a PIL image for a PyTorch model,\n",
    "        returns an Numpy array\n",
    "    '''\n",
    "    # resize the image, \n",
    "    image = pil.Image.open(image)\n",
    "    w, h = image.size\n",
    "    min_ = min(w, h)\n",
    "    np_image = np.array(image.resize((int(256*w/min_), int(256*h/min_))))\n",
    "    \n",
    "    # and center crop 224*224, and normalize beween [0, 1]\n",
    "    start_h, start_w = int((np_image.shape[0] - 224)/2), int((np_image.shape[1] - 224)/2)\n",
    "    \n",
    "    np_image = np_image[start_h:start_h+224, start_w:start_w+224, :] / 255\n",
    "    \n",
    "    # standardize\n",
    "    mean_ = np.array([0.485, 0.456, 0.406])\n",
    "    std_ = np.array([0.229, 0.224, 0.225])\n",
    "    np_image = (np_image - mean_) / std_\n",
    "    \n",
    "    # transpose image, for channel first\n",
    "    return torch.from_numpy(np_image.transpose(2, 0, 1)).float()\n",
    "    \n",
    "    \n",
    "    \n",
    "    \n",
    "    # TODO: Process a PIL image for use in a PyTorch model"
   ]
  },
  {
   "cell_type": "code",
   "execution_count": 0,
   "metadata": {
    "id": "qS6BLPVgAMbk",
    "colab_type": "code",
    "colab": {}
   },
   "outputs": [],
   "source": [
    "tmp = process_image('./flower_data/valid/1/image_06739.jpg')\n"
   ]
  },
  {
   "cell_type": "markdown",
   "metadata": {
    "id": "J2TiGHcu8iuO",
    "colab_type": "text"
   },
   "source": [
    "To check your work, the function below converts a PyTorch tensor and displays it in the notebook. If your `process_image` function works, running the output through this function should return the original image (except for the cropped out portions)."
   ]
  },
  {
   "cell_type": "code",
   "execution_count": 0,
   "metadata": {
    "id": "3JQ5yV6b8iuQ",
    "colab_type": "code",
    "colab": {}
   },
   "outputs": [],
   "source": [
    "def imshow(image, ax=None, title=None):\n",
    "    \"\"\"Imshow for Tensor.\"\"\"\n",
    "    if ax is None:\n",
    "        fig, ax = plt.subplots()\n",
    "    \n",
    "    # PyTorch tensors assume the color channel is the first dimension\n",
    "    # but matplotlib assumes is the third dimension\n",
    "    image = image.numpy().transpose((1, 2, 0))\n",
    "    \n",
    "    # Undo preprocessing\n",
    "    mean = np.array([0.485, 0.456, 0.406])\n",
    "    std = np.array([0.229, 0.224, 0.225])\n",
    "    image = std * image + mean\n",
    "    \n",
    "    # Image needs to be clipped between 0 and 1 or it looks like noise when displayed\n",
    "    image = np.clip(image, 0, 1)\n",
    "    \n",
    "    ax.imshow(image)\n",
    "    \n",
    "    return ax"
   ]
  },
  {
   "cell_type": "code",
   "execution_count": 0,
   "metadata": {
    "id": "55-6vFb1M0GH",
    "colab_type": "code",
    "outputId": "f4699e97-bb27-4662-af5a-8fd160fbd82d",
    "executionInfo": {
     "status": "ok",
     "timestamp": 1.546007050993E12,
     "user_tz": -60.0,
     "elapsed": 1910.0,
     "user": {
      "displayName": "aboubacar alka mahamadou salissou",
      "photoUrl": "https://lh4.googleusercontent.com/-IU5T_kH7KzY/AAAAAAAAAAI/AAAAAAAAABo/_dsgS1VKzW8/s64/photo.jpg",
      "userId": "01753305490697703940"
     }
    },
    "colab": {
     "base_uri": "https://localhost:8080/",
     "height": 367.0
    }
   },
   "outputs": [
    {
     "data": {
      "text/plain": [
       "<matplotlib.axes._subplots.AxesSubplot at 0x7ff205e74908>"
      ]
     },
     "execution_count": 53,
     "metadata": {
      "tags": []
     },
     "output_type": "execute_result"
    },
    {
     "data": {
      "image/png": "[encoded data removed]",
      "text/plain": [
       "<matplotlib.figure.Figure at 0x7ff205e742e8>"
      ]
     },
     "metadata": {
      "tags": []
     },
     "output_type": "display_data"
    }
   ],
   "source": [
    "imshow(tmp)"
   ]
  },
  {
   "cell_type": "markdown",
   "metadata": {
    "id": "z6wWeBCc8iuf",
    "colab_type": "text"
   },
   "source": [
    "## Class Prediction\n",
    "\n",
    "Once you can get images in the correct format, it's time to write a function for making predictions with your model. A common practice is to predict the top 5 or so (usually called top-$K$) most probable classes. You'll want to calculate the class probabilities then find the $K$ largest values.\n",
    "\n",
    "To get the top $K$ largest values in a tensor use [`x.topk(k)`](http://pytorch.org/docs/master/torch.html#torch.topk). This method returns both the highest `k` probabilities and the indices of those probabilities corresponding to the classes. You need to convert from these indices to the actual class labels using `class_to_idx` which hopefully you added to the model or from an `ImageFolder` you used to load the data ([see here](#Save-the-checkpoint)). Make sure to invert the dictionary so you get a mapping from index to class as well.\n",
    "\n",
    "Again, this method should take a path to an image and a model checkpoint, then return the probabilities and classes.\n",
    "\n",
    "```python\n",
    "probs, classes = predict(image_path, model)\n",
    "print(probs)\n",
    "print(classes)\n",
    "> [ 0.01558163  0.01541934  0.01452626  0.01443549  0.01407339]\n",
    "> ['70', '3', '45', '62', '55']\n",
    "```"
   ]
  },
  {
   "cell_type": "code",
   "execution_count": 0,
   "metadata": {
    "id": "CJFNaLq6OMtI",
    "colab_type": "code",
    "colab": {}
   },
   "outputs": [],
   "source": [
    "class_to_idx = image_datasets['train'].class_to_idx\n",
    "idx_to_class = {v: k for k, v in class_to_idx.items()}"
   ]
  },
  {
   "cell_type": "code",
   "execution_count": 0,
   "metadata": {
    "id": "eD2vUIIS8iui",
    "colab_type": "code",
    "colab": {}
   },
   "outputs": [],
   "source": [
    "def predict(image_path, model, topk=5):\n",
    "    ''' Predict the class (or classes) of an image using a trained deep learning model.\n",
    "    '''\n",
    "    image = process_image(image_path)\n",
    "    image.unsqueeze_(0) # add batch dimension\n",
    "    \n",
    "    model.eval()\n",
    "    # model = model.to('cpu')\n",
    "    \n",
    "    with torch.no_grad():\n",
    "        output = F.softmax(model(image), dim=1)\n",
    "        probs, labels = torch.topk(output, topk)\n",
    "    \n",
    "    # TODO: Implement the code to predict the class from an image file\n",
    "    return probs.numpy()[0], np.array([idx_to_class[i] for i in labels.numpy()[0]])\n",
    "\n",
    "\n",
    "\n",
    "# def evaluate_model(model=model, data=dataloaders['val'], \n",
    "#                    title='Confusion matrix', normalize=False,\n",
    "#                   labels_=labels_, target_names=target_names):\n",
    "#     y_true = []\n",
    "#     y_pred = []\n",
    "    \n",
    "#     # first, get the predictions\n",
    "#     model.eval() # set model in evaluation mode\n",
    "#     with torch.no_grad():\n",
    "#         # Iterate over data.\n",
    "#         for inputs, labels in data:\n",
    "#             # inputs = inputs.to(device, dtype=torch.float)\n",
    "#             inputs = inputs.to(device, dtype=torch.float)\n",
    "#             y_true.append(labels.squeeze(1))\n",
    "#             labels = labels.view(labels.size()[0]).to(device)\n",
    "#             outputs = model(inputs)\n",
    "#             _, preds = torch.max(outputs, 1)\n",
    "#             y_pred.append(preds.to('cpu').numpy())\n",
    "            \n",
    "#     # print classification report\n",
    "#     y_true, y_pred = np.concatenate(y_true), np.concatenate(y_pred)\n",
    "#     print(classification_report(y_true, y_pred, labels=labels_, target_names=target_names))\n",
    "    \n",
    "#     # plot the confusion matrix\n",
    "#     cm = confusion_matrix(y_true, y_pred)\n",
    "    \n",
    "#     accuracy = np.trace(cm) / float(np.sum(cm))\n",
    "#     misclass = 1 - accuracy\n",
    "\n",
    "#     cmap = plt.get_cmap('Blues')\n",
    "\n",
    "#     plt.figure(figsize=(8, 6))\n",
    "#     plt.imshow(cm, interpolation='nearest', cmap=cmap)\n",
    "#     plt.title(title)\n",
    "#     plt.colorbar()\n",
    "\n",
    "#     tick_marks = np.arange(len(target_names))\n",
    "#     plt.xticks(tick_marks, target_names, rotation=45)\n",
    "#     plt.yticks(tick_marks, target_names)\n",
    "\n",
    "#     if normalize:\n",
    "#         cm = cm.astype('float') / cm.sum(axis=1)[:, np.newaxis]\n",
    "        \n",
    "        \n",
    "#     thresh = cm.max() / 1.5 if normalize else cm.max() / 2\n",
    "#     for i, j in itertools.product(range(cm.shape[0]), range(cm.shape[1])):\n",
    "#         if normalize:\n",
    "#             plt.text(j, i, \"{:0.4f}\".format(cm[i, j]),\n",
    "#                      horizontalalignment=\"center\",\n",
    "#                      color=\"white\" if cm[i, j] > thresh else \"black\")\n",
    "#         else:\n",
    "#             plt.text(j, i, \"{:,}\".format(cm[i, j]),\n",
    "#                      horizontalalignment=\"center\",\n",
    "#                      color=\"white\" if cm[i, j] > thresh else \"black\")\n",
    "\n",
    "#     plt.tight_layout()\n",
    "#     plt.ylabel('True label')\n",
    "#     plt.xlabel('Predicted label\\naccuracy={:0.4f}; misclass={:0.4f}'.format(accuracy, misclass))\n",
    "#     plt.show()\n"
   ]
  },
  {
   "cell_type": "code",
   "execution_count": 0,
   "metadata": {
    "id": "R4E0hP1XR76n",
    "colab_type": "code",
    "outputId": "4d694e30-2480-4957-fe65-d72cac900c38",
    "executionInfo": {
     "status": "ok",
     "timestamp": 1.546010861523E12,
     "user_tz": -60.0,
     "elapsed": 779.0,
     "user": {
      "displayName": "aboubacar alka mahamadou salissou",
      "photoUrl": "https://lh4.googleusercontent.com/-IU5T_kH7KzY/AAAAAAAAAAI/AAAAAAAAABo/_dsgS1VKzW8/s64/photo.jpg",
      "userId": "01753305490697703940"
     }
    },
    "colab": {
     "base_uri": "https://localhost:8080/",
     "height": 51.0
    }
   },
   "outputs": [
    {
     "name": "stdout",
     "output_type": "stream",
     "text": [
      "[8.9812475e-01 9.1024108e-02 9.6508944e-03 4.7530505e-04 2.9716527e-04]\n",
      "['1' '86' '12' '19' '48']\n"
     ]
    }
   ],
   "source": [
    "path = './flower_data/valid/1/image_06739.jpg'\n",
    "probs, labs = predict(path, model_resnet_loaded)\n",
    "print(probs)\n",
    "print(labs)"
   ]
  },
  {
   "cell_type": "code",
   "execution_count": 0,
   "metadata": {
    "id": "XrM70JYLZO2L",
    "colab_type": "code",
    "outputId": "4cfcb1d9-7160-45c6-8877-ce63a348bf77",
    "executionInfo": {
     "status": "ok",
     "timestamp": 1.546010926376E12,
     "user_tz": -60.0,
     "elapsed": 889.0,
     "user": {
      "displayName": "aboubacar alka mahamadou salissou",
      "photoUrl": "https://lh4.googleusercontent.com/-IU5T_kH7KzY/AAAAAAAAAAI/AAAAAAAAABo/_dsgS1VKzW8/s64/photo.jpg",
      "userId": "01753305490697703940"
     }
    },
    "colab": {
     "base_uri": "https://localhost:8080/",
     "height": 51.0
    }
   },
   "outputs": [
    {
     "name": "stdout",
     "output_type": "stream",
     "text": [
      "[0.9458328  0.04479209 0.00253478 0.00230747 0.00148567]\n",
      "['17' '100' '82' '71' '49']\n"
     ]
    }
   ],
   "source": [
    "path = './flower_data/valid/17/image_03839.jpg'\n",
    "probs, labs = predict(path, model_resnet_loaded)\n",
    "print(probs)\n",
    "print(labs)"
   ]
  },
  {
   "cell_type": "markdown",
   "metadata": {
    "id": "pzFDE9zt8iuv",
    "colab_type": "text"
   },
   "source": [
    "## Sanity Checking\n",
    "\n",
    "Now that you can use a trained model for predictions, check to make sure it makes sense. Even if the validation accuracy is high, it's always good to check that there aren't obvious bugs. Use `matplotlib` to plot the probabilities for the top 5 classes as a bar graph, along with the input image. It should look like this:\n",
    "\n",
    "<img src='assets/inference_example.png' width=300px>\n",
    "\n",
    "You can convert from the class integer encoding to actual flower names with the `cat_to_name.json` file (should have been loaded earlier in the notebook). To show a PyTorch tensor as an image, use the `imshow` function defined above."
   ]
  },
  {
   "cell_type": "code",
   "execution_count": 0,
   "metadata": {
    "id": "co6ReuLtcI2Y",
    "colab_type": "code",
    "colab": {}
   },
   "outputs": [],
   "source": [
    "torch.save(model_resnet_loaded.state_dict(), './resnet_model.pth')\n"
   ]
  },
  {
   "cell_type": "code",
   "execution_count": 0,
   "metadata": {
    "id": "13C1ledxgNY3",
    "colab_type": "code",
    "colab": {}
   },
   "outputs": [],
   "source": [
    "from google.colab import files\n",
    "files.download('./resnet_model.pth')\n"
   ]
  },
  {
   "cell_type": "code",
   "execution_count": 0,
   "metadata": {
    "id": "2VO-V14x8iuy",
    "colab_type": "code",
    "colab": {}
   },
   "outputs": [],
   "source": [
    "# TODO: Display an image along with the top 5 classes"
   ]
  }
 ],
 "metadata": {
  "colab": {
   "name": "Copy of Image Classifier Project.ipynb",
   "version": "0.3.2",
   "provenance": [
    {
     "file_id": "192uSIhK4xvh6TrXAmgEewSLrnd9KEimX",
     "timestamp": 1.546198907533E12
    }
   ],
   "collapsed_sections": []
  },
  "kernelspec": {
   "name": "python3",
   "display_name": "Python 3"
  },
  "accelerator": "GPU"
 },
 "nbformat": 4,
 "nbformat_minor": 0
}
