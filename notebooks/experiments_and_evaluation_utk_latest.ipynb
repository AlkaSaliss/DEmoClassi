{
  "nbformat": 4,
  "nbformat_minor": 0,
  "metadata": {
    "colab": {
      "name": "Copy of experiments-utk.ipynb",
      "version": "0.3.2",
      "provenance": [],
      "collapsed_sections": []
    },
    "kernelspec": {
      "name": "python3",
      "display_name": "Python 3"
    },
    "accelerator": "GPU"
  },
  "cells": [
    {
      "metadata": {
        "id": "5Y7mt_du6-GR",
        "colab_type": "text"
      },
      "cell_type": "markdown",
      "source": [
        "# Age, gender and race prediction from face images using Pytorch"
      ]
    },
    {
      "metadata": {
        "id": "nwEi5WszAVun",
        "colab_type": "text"
      },
      "cell_type": "markdown",
      "source": [
        "In this task we have some cropped face images, each image is associated with three labels : \n",
        "* Age\n",
        "* Gender : `Male` or `Female`\n",
        "* Race : `White`, `Black`,  `Asian`, `Indian` or `Other`\n",
        "\n",
        "So the objective is to train a model that can predict these three characteristics from face image. This is referred to as multistak learning as we have mutiple labels to predict for each image, and we'll use Pytorch for this purpose. So let's start!"
      ]
    },
    {
      "metadata": {
        "id": "0zcLiRsp6-GU",
        "colab_type": "text"
      },
      "cell_type": "markdown",
      "source": [
        "## 1. Install packages\n",
        "I Gathered all my preprocessing and model training utility functions/classes in a small package I called DEmoClassi (sorry for the name, my inspiration went away at that time 😜) which stands for **D**emographic (Age, gender, race) and **Emo**tion **Classi**fication.\n",
        "\n",
        "This package contains three modules : `emotion_detection`, `multitask_rag` and `vision_utils`."
      ]
    },
    {
      "metadata": {
        "id": "Xu3mPWMN_rNG",
        "colab_type": "code",
        "outputId": "7e2ad155-b645-47a5-aa58-f23e27b49934",
        "colab": {
          "base_uri": "https://localhost:8080/",
          "height": 564
        }
      },
      "cell_type": "code",
      "source": [
        "!pip install --upgrade democlassi"
      ],
      "execution_count": 0,
      "outputs": [
        {
          "output_type": "stream",
          "text": [
            "Collecting democlassi\n",
            "\u001b[?25l  Downloading https://files.pythonhosted.org/packages/76/76/3fc98684bca77b7e28bd79a43cd327d76c6f337caff89584b8e44b4f470e/democlassi-0.4-py3-none-any.whl (10.1MB)\n",
            "\u001b[K    100% |████████████████████████████████| 10.1MB 4.8MB/s \n",
            "\u001b[?25hRequirement already satisfied, skipping upgrade: torchvision in /usr/local/lib/python3.6/dist-packages (from democlassi) (0.2.2.post3)\n",
            "Requirement already satisfied, skipping upgrade: dlib in /usr/local/lib/python3.6/dist-packages (from democlassi) (19.16.0)\n",
            "Requirement already satisfied, skipping upgrade: torch in /usr/local/lib/python3.6/dist-packages (from democlassi) (1.0.1.post2)\n",
            "Collecting pytorch-ignite (from democlassi)\n",
            "\u001b[?25l  Downloading https://files.pythonhosted.org/packages/98/7b/1da69e5fdcb70e8f40ff3955516550207d5f5c81b428a5056510e72c60c5/pytorch_ignite-0.2.0-py2.py3-none-any.whl (73kB)\n",
            "\u001b[K    100% |████████████████████████████████| 81kB 28.4MB/s \n",
            "\u001b[?25hRequirement already satisfied, skipping upgrade: kaggle in /usr/local/lib/python3.6/dist-packages (from democlassi) (1.5.3)\n",
            "Requirement already satisfied, skipping upgrade: imutils in /usr/local/lib/python3.6/dist-packages (from democlassi) (0.5.2)\n",
            "Collecting tensorboardX (from democlassi)\n",
            "\u001b[?25l  Downloading https://files.pythonhosted.org/packages/5c/76/89dd44458eb976347e5a6e75eb79fecf8facd46c1ce259bad54e0044ea35/tensorboardX-1.6-py2.py3-none-any.whl (129kB)\n",
            "\u001b[K    100% |████████████████████████████████| 133kB 31.3MB/s \n",
            "\u001b[?25hRequirement already satisfied, skipping upgrade: pillow>=4.1.1 in /usr/local/lib/python3.6/dist-packages (from torchvision->democlassi) (4.3.0)\n",
            "Requirement already satisfied, skipping upgrade: six in /usr/local/lib/python3.6/dist-packages (from torchvision->democlassi) (1.11.0)\n",
            "Requirement already satisfied, skipping upgrade: numpy in /usr/local/lib/python3.6/dist-packages (from torchvision->democlassi) (1.16.2)\n",
            "Requirement already satisfied, skipping upgrade: urllib3<1.25,>=1.21.1 in /usr/local/lib/python3.6/dist-packages (from kaggle->democlassi) (1.22)\n",
            "Requirement already satisfied, skipping upgrade: certifi in /usr/local/lib/python3.6/dist-packages (from kaggle->democlassi) (2019.3.9)\n",
            "Requirement already satisfied, skipping upgrade: python-dateutil in /usr/local/lib/python3.6/dist-packages (from kaggle->democlassi) (2.5.3)\n",
            "Requirement already satisfied, skipping upgrade: requests in /usr/local/lib/python3.6/dist-packages (from kaggle->democlassi) (2.18.4)\n",
            "Requirement already satisfied, skipping upgrade: tqdm in /usr/local/lib/python3.6/dist-packages (from kaggle->democlassi) (4.28.1)\n",
            "Requirement already satisfied, skipping upgrade: python-slugify in /usr/local/lib/python3.6/dist-packages (from kaggle->democlassi) (3.0.2)\n",
            "Requirement already satisfied, skipping upgrade: protobuf>=3.2.0 in /usr/local/lib/python3.6/dist-packages (from tensorboardX->democlassi) (3.7.1)\n",
            "Requirement already satisfied, skipping upgrade: olefile in /usr/local/lib/python3.6/dist-packages (from pillow>=4.1.1->torchvision->democlassi) (0.46)\n",
            "Requirement already satisfied, skipping upgrade: idna<2.7,>=2.5 in /usr/local/lib/python3.6/dist-packages (from requests->kaggle->democlassi) (2.6)\n",
            "Requirement already satisfied, skipping upgrade: chardet<3.1.0,>=3.0.2 in /usr/local/lib/python3.6/dist-packages (from requests->kaggle->democlassi) (3.0.4)\n",
            "Requirement already satisfied, skipping upgrade: text-unidecode==1.2 in /usr/local/lib/python3.6/dist-packages (from python-slugify->kaggle->democlassi) (1.2)\n",
            "Requirement already satisfied, skipping upgrade: setuptools in /usr/local/lib/python3.6/dist-packages (from protobuf>=3.2.0->tensorboardX->democlassi) (40.9.0)\n",
            "Installing collected packages: pytorch-ignite, tensorboardX, democlassi\n",
            "Successfully installed democlassi-0.4 pytorch-ignite-0.2.0 tensorboardX-1.6\n"
          ],
          "name": "stdout"
        }
      ]
    },
    {
      "metadata": {
        "id": "a02eEjNz6-GY",
        "colab_type": "code",
        "colab": {}
      },
      "cell_type": "code",
      "source": [
        "import torch\n",
        "import torchvision.transforms as transforms\n",
        "\n",
        "from vision_utils.custom_torch_utils import load_model\n",
        "from vision_utils.custom_architectures import SepConvModelMT, SepConvModel, initialize_model, PretrainedMT\n",
        "\n",
        "\n",
        "from multitask_rag.train import run_utk\n",
        "from multitask_rag.utk_data_utils import get_utk_dataloader, split_utk\n",
        "from multitask_rag.evaluate import evaluate_model as eval_utk\n",
        "\n",
        "import numpy as np\n",
        "import tqdm\n",
        "import glob\n",
        "import os\n",
        "\n",
        "from google.colab import drive"
      ],
      "execution_count": 0,
      "outputs": []
    },
    {
      "metadata": {
        "id": "f7BMvL6wBFKN",
        "colab_type": "text"
      },
      "cell_type": "markdown",
      "source": [
        "The UTK face datasets which I am going to use and which can be [downloaded here](https://drive.google.com/open?id=0BxYys69jI14kYVM3aVhKS1VhRUk) is located in my google drive, so I need to mount my google drive folder in order to copy the data locally on googlr colab :"
      ]
    },
    {
      "metadata": {
        "id": "kZ8Hp3xpBExj",
        "colab_type": "code",
        "outputId": "f422e9e8-5dcd-4cc3-bbaf-071d33dbe29b",
        "colab": {
          "base_uri": "https://localhost:8080/",
          "height": 122
        }
      },
      "cell_type": "code",
      "source": [
        "drive.mount('gdrive')"
      ],
      "execution_count": 0,
      "outputs": [
        {
          "output_type": "stream",
          "text": [
            "Go to this URL in a browser: https://accounts.google.com/o/oauth2/auth?client_id=947318989803-6bn6qk8qdgf4n4g3pfee6491hc0brc4i.apps.googleusercontent.com&redirect_uri=urn%3Aietf%3Awg%3Aoauth%3A2.0%3Aoob&scope=email%20https%3A%2F%2Fwww.googleapis.com%2Fauth%2Fdocs.test%20https%3A%2F%2Fwww.googleapis.com%2Fauth%2Fdrive%20https%3A%2F%2Fwww.googleapis.com%2Fauth%2Fdrive.photos.readonly%20https%3A%2F%2Fwww.googleapis.com%2Fauth%2Fpeopleapi.readonly&response_type=code\n",
            "\n",
            "Enter your authorization code:\n",
            "··········\n",
            "Mounted at gdrive\n"
          ],
          "name": "stdout"
        }
      ]
    },
    {
      "metadata": {
        "id": "tkFX8o4zB-en",
        "colab_type": "code",
        "colab": {}
      },
      "cell_type": "code",
      "source": [
        "# Create a directory where to store data\n",
        "os.makedirs('/content/data', exist_ok=True)"
      ],
      "execution_count": 0,
      "outputs": []
    },
    {
      "metadata": {
        "id": "hiS84ofxr32n",
        "colab_type": "code",
        "colab": {}
      },
      "cell_type": "code",
      "source": [
        "# copy the data from google drive\n",
        "!cp gdrive/My\\ Drive/DeepLearning/Face_detection/utk_face.zip /content/data/"
      ],
      "execution_count": 0,
      "outputs": []
    },
    {
      "metadata": {
        "id": "IWqXz0qQGxFG",
        "colab_type": "text"
      },
      "cell_type": "markdown",
      "source": [
        "And finally extract the data"
      ]
    },
    {
      "metadata": {
        "id": "tSCbpC3rsC38",
        "colab_type": "code",
        "outputId": "873ad8fa-1c54-44ba-fb6d-01570019ee47",
        "colab": {
          "base_uri": "https://localhost:8080/",
          "height": 68
        }
      },
      "cell_type": "code",
      "source": [
        "!unzip data/utk_face.zip -d data/"
      ],
      "execution_count": 0,
      "outputs": [
        {
          "output_type": "stream",
          "text": [
            "Archive:  data/utk_face.zip\n",
            "  inflating: data/crop_part1.tar.gz  \n",
            "  inflating: data/UTKFace.tar.gz     \n"
          ],
          "name": "stdout"
        }
      ]
    },
    {
      "metadata": {
        "id": "VzkX6nmVsG71",
        "colab_type": "code",
        "colab": {}
      },
      "cell_type": "code",
      "source": [
        "# extract the images\n",
        "!tar -C data/ -xzf data/UTKFace.tar.gz"
      ],
      "execution_count": 0,
      "outputs": []
    },
    {
      "metadata": {
        "id": "PExaIyGhBcIr",
        "colab_type": "code",
        "outputId": "672903dd-47d7-4585-cc4b-d6be926bdad3",
        "colab": {
          "base_uri": "https://localhost:8080/",
          "height": 34
        }
      },
      "cell_type": "code",
      "source": [
        "# print content of the data directory\n",
        "!ls /content/data/"
      ],
      "execution_count": 0,
      "outputs": [
        {
          "output_type": "stream",
          "text": [
            "crop_part1.tar.gz  UTKFace  UTKFace.tar.gz  utk_face.zip\n"
          ],
          "name": "stdout"
        }
      ]
    },
    {
      "metadata": {
        "id": "2czpStHRsNOo",
        "colab_type": "code",
        "outputId": "987ce9d1-0589-41ca-9e5a-11ab9faef65a",
        "colab": {
          "base_uri": "https://localhost:8080/",
          "height": 34
        }
      },
      "cell_type": "code",
      "source": [
        "list_images = glob.glob('/content/data/UTKFace/*jp*')\n",
        "print(len(list_images))"
      ],
      "execution_count": 0,
      "outputs": [
        {
          "output_type": "stream",
          "text": [
            "23708\n"
          ],
          "name": "stdout"
        }
      ]
    },
    {
      "metadata": {
        "id": "-U_C4M_JG6wO",
        "colab_type": "text"
      },
      "cell_type": "markdown",
      "source": [
        "We have 23708 images in total, and the labels are given in the image names. the image names format is the following : `age_gender_race_date`.\n",
        "for instance this image name `1_0_0_20161219140623097.jpg.chip.jpg` suggests that the image corresponds to a person whose age is `1`, gender is `0` (Male) and race is `0` (White).\n",
        "However there are few images for which the name is malfomed, so we remove them using the following code snippet :"
      ]
    },
    {
      "metadata": {
        "id": "iQPpWkkvseJV",
        "colab_type": "code",
        "colab": {}
      },
      "cell_type": "code",
      "source": [
        "# function to remove invalid images (that he filenames is not correctly formatted)\n",
        "def get_invalid_images(root_path='/content/data/UTKFace/'):\n",
        "    list_files = glob.glob(os.path.join(root_path, '*.[jJ][pP]*'))\n",
        "    filenames = [path.split('/')[-1].split('_') for path in list_files]\n",
        "    print()\n",
        "    invalid_images = []\n",
        "    for i, im in enumerate(tqdm.tqdm(filenames)):\n",
        "        if im[0].isdigit() and im[1].isdigit() and im[2].isdigit():\n",
        "            continue\n",
        "        else:\n",
        "            invalid_images.append(list_files[i])\n",
        "    return invalid_images"
      ],
      "execution_count": 0,
      "outputs": []
    },
    {
      "metadata": {
        "id": "dvPN2c8CsrHW",
        "colab_type": "code",
        "outputId": "18585f99-18f9-4fb7-d545-a97a86e64901",
        "colab": {
          "base_uri": "https://localhost:8080/",
          "height": 88
        }
      },
      "cell_type": "code",
      "source": [
        "invalid_images = get_invalid_images()\n",
        "print(invalid_images)"
      ],
      "execution_count": 0,
      "outputs": [
        {
          "output_type": "stream",
          "text": [
            "100%|██████████| 23708/23708 [00:00<00:00, 1356726.55it/s]"
          ],
          "name": "stderr"
        },
        {
          "output_type": "stream",
          "text": [
            "\n",
            "['/content/data/UTKFace/39_1_20170116174525125.jpg.chip.jpg', '/content/data/UTKFace/61_1_20170109150557335.jpg.chip.jpg', '/content/data/UTKFace/61_1_20170109142408075.jpg.chip.jpg']\n"
          ],
          "name": "stdout"
        },
        {
          "output_type": "stream",
          "text": [
            "\n"
          ],
          "name": "stderr"
        }
      ]
    },
    {
      "metadata": {
        "id": "29YQ2IGMsvlD",
        "colab_type": "code",
        "colab": {}
      },
      "cell_type": "code",
      "source": [
        "# Remove invalid files\n",
        "for f in invalid_images:\n",
        "    os.remove(f)"
      ],
      "execution_count": 0,
      "outputs": []
    },
    {
      "metadata": {
        "id": "Z6Q6N6Ga6-Gh",
        "colab_type": "text"
      },
      "cell_type": "markdown",
      "source": [
        "## 2. Some data pre-processing operations\n",
        "\n",
        "Now that we have our dataset ready let's split it into training (70%), test (15%) and validation (15%) sets:"
      ]
    },
    {
      "metadata": {
        "id": "tZ_WKloZt1vz",
        "colab_type": "code",
        "colab": {}
      },
      "cell_type": "code",
      "source": [
        "# split the dataset into train, test and validation sets \n",
        "SRC_DIR = '/content/data/UTKFace/'  # path to the folder containing all images\n",
        "DEST_DIR = '/content/data/utk_split/' # path where to save the split dataset, 3 subdirectories will be created (train, valid and test)\n",
        "SPLIT = 0.7 # ratio of the train set, the remaining (30%) will be split equally between validation and test sets"
      ],
      "execution_count": 0,
      "outputs": []
    },
    {
      "metadata": {
        "id": "RfGSvdSXuTkv",
        "colab_type": "code",
        "outputId": "d36d9ff4-a875-4173-dede-26f1855da4cc",
        "colab": {
          "base_uri": "https://localhost:8080/",
          "height": 119
        }
      },
      "cell_type": "code",
      "source": [
        "split_utk(SRC_DIR, DEST_DIR, SPLIT)"
      ],
      "execution_count": 0,
      "outputs": [
        {
          "output_type": "stream",
          "text": [
            "  4%|▍         | 654/16593 [00:00<00:02, 6538.23it/s]"
          ],
          "name": "stderr"
        },
        {
          "output_type": "stream",
          "text": [
            "------------Copying train images-------------\n"
          ],
          "name": "stdout"
        },
        {
          "output_type": "stream",
          "text": [
            "100%|██████████| 16593/16593 [00:02<00:00, 6386.52it/s]\n",
            " 18%|█▊        | 627/3556 [00:00<00:00, 6267.97it/s]"
          ],
          "name": "stderr"
        },
        {
          "output_type": "stream",
          "text": [
            "------------Copying valid images-------------\n"
          ],
          "name": "stdout"
        },
        {
          "output_type": "stream",
          "text": [
            "100%|██████████| 3556/3556 [00:00<00:00, 6267.90it/s]\n",
            " 17%|█▋        | 587/3556 [00:00<00:00, 5868.79it/s]"
          ],
          "name": "stderr"
        },
        {
          "output_type": "stream",
          "text": [
            "------------Copying test images-------------\n"
          ],
          "name": "stdout"
        },
        {
          "output_type": "stream",
          "text": [
            "100%|██████████| 3556/3556 [00:00<00:00, 4139.23it/s]\n"
          ],
          "name": "stderr"
        }
      ]
    },
    {
      "metadata": {
        "id": "ak1q1vWwJM3t",
        "colab_type": "code",
        "colab": {}
      },
      "cell_type": "code",
      "source": [
        ""
      ],
      "execution_count": 0,
      "outputs": []
    },
    {
      "metadata": {
        "id": "WEYIhW97JQHN",
        "colab_type": "text"
      },
      "cell_type": "markdown",
      "source": [
        "Let's also define some transformations we would like to apply :\n",
        "* Resize all images to 128 x 128\n",
        "* convert them to pytorch tensors before feeding to the model"
      ]
    },
    {
      "metadata": {
        "id": "07NvuKaBvJie",
        "colab_type": "code",
        "colab": {}
      },
      "cell_type": "code",
      "source": [
        "data_transforms = transforms.Compose([\n",
        "    transforms.Resize((128, 128)),\n",
        "    transforms.ToTensor()\n",
        "])"
      ],
      "execution_count": 0,
      "outputs": []
    },
    {
      "metadata": {
        "id": "GIFoPIGJKfC-",
        "colab_type": "text"
      },
      "cell_type": "markdown",
      "source": [
        "The last step before training is to create  DataLoader objects, which are pytorch generator-like objects for yielding data into batches during training :"
      ]
    },
    {
      "metadata": {
        "id": "K30DAfY2tmIU",
        "colab_type": "code",
        "colab": {}
      },
      "cell_type": "code",
      "source": [
        "train_loader = get_utk_dataloader(batch_size=128, data_dir=DEST_DIR, data_transforms=data_transforms, flag='train')\n",
        "val_loader = get_utk_dataloader(batch_size=128, data_dir=DEST_DIR, data_transforms=data_transforms, flag='valid')\n",
        "\n",
        "my_data_loaders = {\n",
        "    'train': train_loader,\n",
        "    'valid': val_loader\n",
        "}"
      ],
      "execution_count": 0,
      "outputs": []
    },
    {
      "metadata": {
        "id": "N2E7a5w7LD0l",
        "colab_type": "text"
      },
      "cell_type": "markdown",
      "source": [
        "## 3. Training"
      ]
    },
    {
      "metadata": {
        "id": "QFldsxJeLcDb",
        "colab_type": "text"
      },
      "cell_type": "markdown",
      "source": [
        "We'll trry three different architectures : \n",
        "* CNN based on Depthwise separable convolutions blocks\n",
        "* Finetuning a pretrained Resnet50\n",
        "* Finetuning a pretrained VGG19"
      ]
    },
    {
      "metadata": {
        "id": "LQeEdKHtLQpY",
        "colab_type": "text"
      },
      "cell_type": "markdown",
      "source": [
        "### 3.1 Deptwhise Separable Convolutions architecture"
      ]
    },
    {
      "metadata": {
        "id": "LjuzVpeYwPeA",
        "colab_type": "code",
        "colab": {}
      },
      "cell_type": "code",
      "source": [
        "# Sepconv with adam\n",
        "\n",
        "my_model = SepConvModelMT(dropout=0.7, n_class=[1, 2, 5], n_filters=[64, 128, 256, 512], kernels_size=[3, 3, 3, 3])\n",
        "my_optimizer = torch.optim.Adam(my_model.parameters(), lr=1e-3)"
      ],
      "execution_count": 0,
      "outputs": []
    },
    {
      "metadata": {
        "id": "w_mbLvWRL7ao",
        "colab_type": "text"
      },
      "cell_type": "markdown",
      "source": [
        "We have created above a model and an Adam optimizer. The model has the following parameters :\n",
        "* `dropout` = 0.7 : we apply a droput of 70%\n",
        "* `n_class` = [1, 2, 5] : the model has 3 outputs that are age (a scalar thus a shape of 1), gender (male or female thus a shape of 2) and race (white, black, asian, indian or other thus a shape of 5).\n",
        "*`n_filters` =  [64, 128, 256, 512] : number of features maps for each conv block\n",
        "* `kernels_size` = [3, 3, 3, 3] : conv kernel size for each conv block"
      ]
    },
    {
      "metadata": {
        "id": "25jpOuvnNieu",
        "colab_type": "text"
      },
      "cell_type": "markdown",
      "source": [
        "I also need to periodically backup the model's checkpoints in my google drive in case I get disconnected to google colab due to connectivity issues or anything else :\n"
      ]
    },
    {
      "metadata": {
        "id": "8Q1zRw85xcVF",
        "colab_type": "code",
        "colab": {}
      },
      "cell_type": "code",
      "source": [
        "backup_path = \"/content/gdrive/My Drive/DeepLearning/Face_detection/checkpoints/sep_conv_adam\"\n",
        "os.makedirs(backup_path, exist_ok=True)"
      ],
      "execution_count": 0,
      "outputs": []
    },
    {
      "metadata": {
        "id": "LnRkLNkvOa7N",
        "colab_type": "text"
      },
      "cell_type": "markdown",
      "source": [
        "Before starting training, let's clarify some important input arguments to the training function that are not quite clear :\n",
        "* `log_interval` : print the training loss each `log_interval` iterations\n",
        "* `dirname` : path to the directory where to locally save the best model checkpoint after each epoch\n",
        "* `filename_prefix` : file name under which to save the model checkpoint\n",
        "* `n_saved` : save the `n_saved` best models\n",
        "* `launch_tensorboard` and `log_dir` :  whether to write tensorboard summaries, and if True, write them under `log_dir` folder\n",
        "* `patience`: number of epochs to wait for before stopping training if no improvement is observed\n",
        "* `resume_model` and `resume_optimizer` : optional paths to previously trained model and optimizer to start use them as starting point for the training\n",
        "* `backup_step` and `backup_path` : copy the saved checkpoints from `dirname` to `backup_path` each `backup_step` epochs\n",
        "* `n_epochs_freeze` : unfreeze the frozen layers after `n_epochs_freeze`, this is particularly used in case of finetuning a pretrained model\n",
        "* `lr_after_freeze` : in case of finetuning a pretrained model, new learning rate to set after unfreezing frozen layers\n",
        "* `loss_weights` : the model's outputs (age, gender, race) are not of the same magnitude, wo we made need to assign them different weights representing their respective contributions to the global loss\n",
        "\n",
        "\n",
        "\n",
        "Now that it's a little bit clearer let's start training :"
      ]
    },
    {
      "metadata": {
        "id": "ZhUlXkCcw3VT",
        "colab_type": "code",
        "outputId": "21617fd4-36c8-46a1-d6c4-0901f242574e",
        "colab": {
          "base_uri": "https://localhost:8080/",
          "height": 2752
        }
      },
      "cell_type": "code",
      "source": [
        "run_utk(my_model, my_optimizer, epochs=300, log_interval=1, dataloaders=my_data_loaders,\n",
        "        dirname='/content/checkpoints/sep_conv_adam', filename_prefix='sep_conv_adam', n_saved=1,\n",
        "        log_dir=None, launch_tensorboard=False, patience=50,\n",
        "        resume_model=None, resume_optimizer=None, backup_step=5, backup_path=backup_path,\n",
        "        n_epochs_freeze=0, lr_after_freeze=None,\n",
        "        loss_weights=[1/10, 1/0.16, 1/0.44])"
      ],
      "execution_count": 0,
      "outputs": [
        {
          "output_type": "stream",
          "text": [
            "Number of trainable parameters : 706,278\n",
            "Number of non-trainable parameters : 0\n"
          ],
          "name": "stdout"
        },
        {
          "output_type": "stream",
          "text": [
            "ITERATION - loss: 10.693: 100%|██████████| 130/130 [02:54<00:00,  1.15it/s]"
          ],
          "name": "stderr"
        },
        {
          "output_type": "stream",
          "text": [
            "Training Results - Epoch: 1 Age L1-loss: 31.704 ** Gender accuracy: 0.525 ** Race accuracy: 0.462 ** Avg loss: 13.038\n"
          ],
          "name": "stdout"
        },
        {
          "output_type": "stream",
          "text": [
            "ITERATION - loss: 10.693: 100%|██████████| 130/130 [03:06<00:00,  1.15it/s]"
          ],
          "name": "stderr"
        },
        {
          "output_type": "stream",
          "text": [
            "Validation Results - Epoch: 1 Age L1-loss: 31.058 ** Gender accuracy: 0.526 ** Race accuracy: 0.456 ** Avg loss: 12.997\n"
          ],
          "name": "stdout"
        },
        {
          "output_type": "stream",
          "text": [
            "ITERATION - loss: 9.345: 100%|██████████| 130/130 [06:01<00:00,  1.16it/s]"
          ],
          "name": "stderr"
        },
        {
          "output_type": "stream",
          "text": [
            "Training Results - Epoch: 2 Age L1-loss: 30.515 ** Gender accuracy: 0.749 ** Race accuracy: 0.510 ** Avg loss: 9.207\n"
          ],
          "name": "stdout"
        },
        {
          "output_type": "stream",
          "text": [
            "ITERATION - loss: 9.345: 100%|██████████| 130/130 [06:12<00:00,  1.16it/s]"
          ],
          "name": "stderr"
        },
        {
          "output_type": "stream",
          "text": [
            "Validation Results - Epoch: 2 Age L1-loss: 29.866 ** Gender accuracy: 0.759 ** Race accuracy: 0.510 ** Avg loss: 9.084\n"
          ],
          "name": "stdout"
        },
        {
          "output_type": "stream",
          "text": [
            "ITERATION - loss: 7.820: 100%|██████████| 130/130 [09:07<00:00,  1.15it/s]"
          ],
          "name": "stderr"
        },
        {
          "output_type": "stream",
          "text": [
            "Training Results - Epoch: 3 Age L1-loss: 27.112 ** Gender accuracy: 0.763 ** Race accuracy: 0.509 ** Avg loss: 9.077\n"
          ],
          "name": "stdout"
        },
        {
          "output_type": "stream",
          "text": [
            "ITERATION - loss: 7.820: 100%|██████████| 130/130 [09:19<00:00,  1.15it/s]"
          ],
          "name": "stderr"
        },
        {
          "output_type": "stream",
          "text": [
            "Validation Results - Epoch: 3 Age L1-loss: 26.565 ** Gender accuracy: 0.767 ** Race accuracy: 0.516 ** Avg loss: 9.015\n"
          ],
          "name": "stdout"
        },
        {
          "output_type": "stream",
          "text": [
            "ITERATION - loss: 6.379: 100%|██████████| 130/130 [12:20<00:00,  1.12it/s]"
          ],
          "name": "stderr"
        },
        {
          "output_type": "stream",
          "text": [
            "Training Results - Epoch: 4 Age L1-loss: 18.477 ** Gender accuracy: 0.729 ** Race accuracy: 0.513 ** Avg loss: 8.391\n"
          ],
          "name": "stdout"
        },
        {
          "output_type": "stream",
          "text": [
            "ITERATION - loss: 6.379: 100%|██████████| 130/130 [12:32<00:00,  1.12it/s]"
          ],
          "name": "stderr"
        },
        {
          "output_type": "stream",
          "text": [
            "Validation Results - Epoch: 4 Age L1-loss: 18.202 ** Gender accuracy: 0.710 ** Race accuracy: 0.511 ** Avg loss: 8.657\n"
          ],
          "name": "stdout"
        },
        {
          "output_type": "stream",
          "text": [
            "ITERATION - loss: 6.373: 100%|██████████| 130/130 [15:34<00:00,  1.11it/s]"
          ],
          "name": "stderr"
        },
        {
          "output_type": "stream",
          "text": [
            "Training Results - Epoch: 5 Age L1-loss: 15.677 ** Gender accuracy: 0.867 ** Race accuracy: 0.570 ** Avg loss: 6.075\n"
          ],
          "name": "stdout"
        },
        {
          "output_type": "stream",
          "text": [
            "ITERATION - loss: 6.373: 100%|██████████| 130/130 [15:47<00:00,  1.11it/s]"
          ],
          "name": "stderr"
        },
        {
          "output_type": "stream",
          "text": [
            "Validation Results - Epoch: 5 Age L1-loss: 15.503 ** Gender accuracy: 0.853 ** Race accuracy: 0.569 ** Avg loss: 6.243\n"
          ],
          "name": "stdout"
        },
        {
          "output_type": "stream",
          "text": [
            "ITERATION - loss: 6.033: 100%|██████████| 130/130 [18:47<00:00,  1.16it/s]"
          ],
          "name": "stderr"
        },
        {
          "output_type": "stream",
          "text": [
            "Training Results - Epoch: 6 Age L1-loss: 15.069 ** Gender accuracy: 0.889 ** Race accuracy: 0.601 ** Avg loss: 5.577\n"
          ],
          "name": "stdout"
        },
        {
          "output_type": "stream",
          "text": [
            "ITERATION - loss: 6.033: 100%|██████████| 130/130 [18:59<00:00,  1.16it/s]"
          ],
          "name": "stderr"
        },
        {
          "output_type": "stream",
          "text": [
            "Validation Results - Epoch: 6 Age L1-loss: 14.962 ** Gender accuracy: 0.870 ** Race accuracy: 0.593 ** Avg loss: 5.822\n"
          ],
          "name": "stdout"
        },
        {
          "output_type": "stream",
          "text": [
            "ITERATION - loss: 5.625: 100%|██████████| 130/130 [21:55<00:00,  1.15it/s]"
          ],
          "name": "stderr"
        },
        {
          "output_type": "stream",
          "text": [
            "Training Results - Epoch: 7 Age L1-loss: 15.065 ** Gender accuracy: 0.888 ** Race accuracy: 0.621 ** Avg loss: 5.478\n"
          ],
          "name": "stdout"
        },
        {
          "output_type": "stream",
          "text": [
            "ITERATION - loss: 5.625: 100%|██████████| 130/130 [22:07<00:00,  1.15it/s]"
          ],
          "name": "stderr"
        },
        {
          "output_type": "stream",
          "text": [
            "Validation Results - Epoch: 7 Age L1-loss: 14.959 ** Gender accuracy: 0.873 ** Race accuracy: 0.621 ** Avg loss: 5.773\n"
          ],
          "name": "stdout"
        },
        {
          "output_type": "stream",
          "text": [
            "ITERATION - loss: 5.260: 100%|██████████| 130/130 [25:04<00:00,  1.15it/s]"
          ],
          "name": "stderr"
        },
        {
          "output_type": "stream",
          "text": [
            "Training Results - Epoch: 8 Age L1-loss: 15.059 ** Gender accuracy: 0.873 ** Race accuracy: 0.619 ** Avg loss: 5.819\n"
          ],
          "name": "stdout"
        },
        {
          "output_type": "stream",
          "text": [
            "ITERATION - loss: 5.260: 100%|██████████| 130/130 [25:15<00:00,  1.15it/s]"
          ],
          "name": "stderr"
        },
        {
          "output_type": "stream",
          "text": [
            "Validation Results - Epoch: 8 Age L1-loss: 14.958 ** Gender accuracy: 0.859 ** Race accuracy: 0.618 ** Avg loss: 6.026\n"
          ],
          "name": "stdout"
        },
        {
          "output_type": "stream",
          "text": [
            "ITERATION - loss: 5.159: 100%|██████████| 130/130 [28:17<00:00,  1.07it/s]"
          ],
          "name": "stderr"
        },
        {
          "output_type": "stream",
          "text": [
            "Training Results - Epoch: 9 Age L1-loss: 15.034 ** Gender accuracy: 0.901 ** Race accuracy: 0.654 ** Avg loss: 5.177\n"
          ],
          "name": "stdout"
        },
        {
          "output_type": "stream",
          "text": [
            "ITERATION - loss: 5.159: 100%|██████████| 130/130 [28:29<00:00,  1.07it/s]"
          ],
          "name": "stderr"
        },
        {
          "output_type": "stream",
          "text": [
            "Validation Results - Epoch: 9 Age L1-loss: 14.930 ** Gender accuracy: 0.886 ** Race accuracy: 0.650 ** Avg loss: 5.484\n"
          ],
          "name": "stdout"
        },
        {
          "output_type": "stream",
          "text": [
            "ITERATION - loss: 5.772: 100%|██████████| 130/130 [31:31<00:00,  1.11it/s]"
          ],
          "name": "stderr"
        },
        {
          "output_type": "stream",
          "text": [
            "Training Results - Epoch: 10 Age L1-loss: 15.024 ** Gender accuracy: 0.901 ** Race accuracy: 0.710 ** Avg loss: 4.833\n"
          ],
          "name": "stdout"
        },
        {
          "output_type": "stream",
          "text": [
            "ITERATION - loss: 5.772: 100%|██████████| 130/130 [31:44<00:00,  1.11it/s]"
          ],
          "name": "stderr"
        },
        {
          "output_type": "stream",
          "text": [
            "Validation Results - Epoch: 10 Age L1-loss: 14.925 ** Gender accuracy: 0.876 ** Race accuracy: 0.696 ** Avg loss: 5.216\n"
          ],
          "name": "stdout"
        },
        {
          "output_type": "stream",
          "text": [
            "ITERATION - loss: 4.954: 100%|██████████| 130/130 [34:47<00:00,  1.06it/s]"
          ],
          "name": "stderr"
        },
        {
          "output_type": "stream",
          "text": [
            "Training Results - Epoch: 11 Age L1-loss: 15.145 ** Gender accuracy: 0.837 ** Race accuracy: 0.728 ** Avg loss: 5.829\n"
          ],
          "name": "stdout"
        },
        {
          "output_type": "stream",
          "text": [
            "ITERATION - loss: 4.954: 100%|██████████| 130/130 [34:59<00:00,  1.06it/s]"
          ],
          "name": "stderr"
        },
        {
          "output_type": "stream",
          "text": [
            "Validation Results - Epoch: 11 Age L1-loss: 15.056 ** Gender accuracy: 0.828 ** Race accuracy: 0.710 ** Avg loss: 6.374\n"
          ],
          "name": "stdout"
        },
        {
          "output_type": "stream",
          "text": [
            "ITERATION - loss: 5.071: 100%|██████████| 130/130 [37:59<00:00,  1.14it/s]"
          ],
          "name": "stderr"
        },
        {
          "output_type": "stream",
          "text": [
            "Training Results - Epoch: 12 Age L1-loss: 15.049 ** Gender accuracy: 0.908 ** Race accuracy: 0.622 ** Avg loss: 5.431\n"
          ],
          "name": "stdout"
        },
        {
          "output_type": "stream",
          "text": [
            "ITERATION - loss: 5.071: 100%|██████████| 130/130 [38:11<00:00,  1.14it/s]"
          ],
          "name": "stderr"
        },
        {
          "output_type": "stream",
          "text": [
            "Validation Results - Epoch: 12 Age L1-loss: 14.945 ** Gender accuracy: 0.871 ** Race accuracy: 0.616 ** Avg loss: 5.819\n"
          ],
          "name": "stdout"
        },
        {
          "output_type": "stream",
          "text": [
            "ITERATION - loss: 5.286: 100%|██████████| 130/130 [41:11<00:00,  1.07it/s]"
          ],
          "name": "stderr"
        },
        {
          "output_type": "stream",
          "text": [
            "Training Results - Epoch: 13 Age L1-loss: 15.028 ** Gender accuracy: 0.918 ** Race accuracy: 0.755 ** Avg loss: 4.356\n"
          ],
          "name": "stdout"
        },
        {
          "output_type": "stream",
          "text": [
            "ITERATION - loss: 5.286: 100%|██████████| 130/130 [41:23<00:00,  1.07it/s]"
          ],
          "name": "stderr"
        },
        {
          "output_type": "stream",
          "text": [
            "Validation Results - Epoch: 13 Age L1-loss: 14.926 ** Gender accuracy: 0.884 ** Race accuracy: 0.734 ** Avg loss: 4.926\n"
          ],
          "name": "stdout"
        },
        {
          "output_type": "stream",
          "text": [
            "ITERATION - loss: 5.503: 100%|██████████| 130/130 [44:23<00:00,  1.13it/s]"
          ],
          "name": "stderr"
        },
        {
          "output_type": "stream",
          "text": [
            "Training Results - Epoch: 14 Age L1-loss: 15.032 ** Gender accuracy: 0.931 ** Race accuracy: 0.773 ** Avg loss: 4.110\n"
          ],
          "name": "stdout"
        },
        {
          "output_type": "stream",
          "text": [
            "ITERATION - loss: 5.503: 100%|██████████| 130/130 [44:35<00:00,  1.13it/s]"
          ],
          "name": "stderr"
        },
        {
          "output_type": "stream",
          "text": [
            "Validation Results - Epoch: 14 Age L1-loss: 14.931 ** Gender accuracy: 0.898 ** Race accuracy: 0.745 ** Avg loss: 4.729\n"
          ],
          "name": "stdout"
        },
        {
          "output_type": "stream",
          "text": [
            "ITERATION - loss: 4.452: 100%|██████████| 130/130 [47:34<00:00,  1.12it/s]"
          ],
          "name": "stderr"
        },
        {
          "output_type": "stream",
          "text": [
            "Training Results - Epoch: 15 Age L1-loss: 15.028 ** Gender accuracy: 0.925 ** Race accuracy: 0.783 ** Avg loss: 4.090\n"
          ],
          "name": "stdout"
        },
        {
          "output_type": "stream",
          "text": [
            "ITERATION - loss: 4.452: 100%|██████████| 130/130 [47:46<00:00,  1.12it/s]"
          ],
          "name": "stderr"
        },
        {
          "output_type": "stream",
          "text": [
            "Validation Results - Epoch: 15 Age L1-loss: 14.925 ** Gender accuracy: 0.887 ** Race accuracy: 0.756 ** Avg loss: 4.730\n"
          ],
          "name": "stdout"
        },
        {
          "output_type": "stream",
          "text": [
            "ITERATION - loss: 4.767: 100%|██████████| 130/130 [50:46<00:00,  1.13it/s]"
          ],
          "name": "stderr"
        },
        {
          "output_type": "stream",
          "text": [
            "Training Results - Epoch: 16 Age L1-loss: 15.041 ** Gender accuracy: 0.934 ** Race accuracy: 0.770 ** Avg loss: 4.090\n"
          ],
          "name": "stdout"
        },
        {
          "output_type": "stream",
          "text": [
            "ITERATION - loss: 4.767: 100%|██████████| 130/130 [50:58<00:00,  1.13it/s]"
          ],
          "name": "stderr"
        },
        {
          "output_type": "stream",
          "text": [
            "Validation Results - Epoch: 16 Age L1-loss: 14.948 ** Gender accuracy: 0.904 ** Race accuracy: 0.746 ** Avg loss: 4.715\n"
          ],
          "name": "stdout"
        },
        {
          "output_type": "stream",
          "text": [
            "ITERATION - loss: 3.967: 100%|██████████| 130/130 [53:58<00:00,  1.13it/s]"
          ],
          "name": "stderr"
        },
        {
          "output_type": "stream",
          "text": [
            "Training Results - Epoch: 17 Age L1-loss: 15.024 ** Gender accuracy: 0.927 ** Race accuracy: 0.761 ** Avg loss: 4.218\n"
          ],
          "name": "stdout"
        },
        {
          "output_type": "stream",
          "text": [
            "ITERATION - loss: 3.967: 100%|██████████| 130/130 [54:10<00:00,  1.13it/s]"
          ],
          "name": "stderr"
        },
        {
          "output_type": "stream",
          "text": [
            "Validation Results - Epoch: 17 Age L1-loss: 14.919 ** Gender accuracy: 0.888 ** Race accuracy: 0.737 ** Avg loss: 4.899\n"
          ],
          "name": "stdout"
        },
        {
          "output_type": "stream",
          "text": [
            "ITERATION - loss: 4.054: 100%|██████████| 130/130 [57:10<00:00,  1.15it/s]"
          ],
          "name": "stderr"
        },
        {
          "output_type": "stream",
          "text": [
            "Training Results - Epoch: 18 Age L1-loss: 15.041 ** Gender accuracy: 0.872 ** Race accuracy: 0.744 ** Avg loss: 5.296\n"
          ],
          "name": "stdout"
        },
        {
          "output_type": "stream",
          "text": [
            "ITERATION - loss: 4.054: 100%|██████████| 130/130 [57:22<00:00,  1.15it/s]"
          ],
          "name": "stderr"
        },
        {
          "output_type": "stream",
          "text": [
            "Validation Results - Epoch: 18 Age L1-loss: 14.942 ** Gender accuracy: 0.855 ** Race accuracy: 0.713 ** Avg loss: 6.120\n"
          ],
          "name": "stdout"
        },
        {
          "output_type": "stream",
          "text": [
            "ITERATION - loss: 6.418: 100%|██████████| 130/130 [1:00:22<00:00,  1.12it/s]"
          ],
          "name": "stderr"
        },
        {
          "output_type": "stream",
          "text": [
            "Training Results - Epoch: 19 Age L1-loss: 15.025 ** Gender accuracy: 0.819 ** Race accuracy: 0.776 ** Avg loss: 5.582\n"
          ],
          "name": "stdout"
        },
        {
          "output_type": "stream",
          "text": [
            "ITERATION - loss: 6.418: 100%|██████████| 130/130 [1:00:34<00:00,  1.12it/s]"
          ],
          "name": "stderr"
        },
        {
          "output_type": "stream",
          "text": [
            "Validation Results - Epoch: 19 Age L1-loss: 14.928 ** Gender accuracy: 0.787 ** Race accuracy: 0.746 ** Avg loss: 6.498\n"
          ],
          "name": "stdout"
        },
        {
          "output_type": "stream",
          "text": [
            "ITERATION - loss: 5.200: 100%|██████████| 130/130 [1:03:34<00:00,  1.08it/s]"
          ],
          "name": "stderr"
        },
        {
          "output_type": "stream",
          "text": [
            "Training Results - Epoch: 20 Age L1-loss: 15.029 ** Gender accuracy: 0.929 ** Race accuracy: 0.756 ** Avg loss: 4.229\n"
          ],
          "name": "stdout"
        },
        {
          "output_type": "stream",
          "text": [
            "ITERATION - loss: 5.200: 100%|██████████| 130/130 [1:03:46<00:00,  1.08it/s]"
          ],
          "name": "stderr"
        },
        {
          "output_type": "stream",
          "text": [
            "Validation Results - Epoch: 20 Age L1-loss: 14.926 ** Gender accuracy: 0.882 ** Race accuracy: 0.732 ** Avg loss: 5.281\n"
          ],
          "name": "stdout"
        },
        {
          "output_type": "stream",
          "text": [
            "ITERATION - loss: 3.817: 100%|██████████| 130/130 [1:06:43<00:00,  1.15it/s]"
          ],
          "name": "stderr"
        },
        {
          "output_type": "stream",
          "text": [
            "Training Results - Epoch: 21 Age L1-loss: 15.028 ** Gender accuracy: 0.899 ** Race accuracy: 0.827 ** Avg loss: 4.188\n"
          ],
          "name": "stdout"
        },
        {
          "output_type": "stream",
          "text": [
            "ITERATION - loss: 3.817: 100%|██████████| 130/130 [1:06:54<00:00,  1.15it/s]"
          ],
          "name": "stderr"
        },
        {
          "output_type": "stream",
          "text": [
            "Validation Results - Epoch: 21 Age L1-loss: 14.933 ** Gender accuracy: 0.857 ** Race accuracy: 0.787 ** Avg loss: 5.231\n"
          ],
          "name": "stdout"
        },
        {
          "output_type": "stream",
          "text": [
            "ITERATION - loss: 4.379: 100%|██████████| 130/130 [1:09:49<00:00,  1.15it/s]"
          ],
          "name": "stderr"
        },
        {
          "output_type": "stream",
          "text": [
            "Training Results - Epoch: 22 Age L1-loss: 15.026 ** Gender accuracy: 0.863 ** Race accuracy: 0.784 ** Avg loss: 5.072\n"
          ],
          "name": "stdout"
        },
        {
          "output_type": "stream",
          "text": [
            "ITERATION - loss: 4.379: 100%|██████████| 130/130 [1:10:00<00:00,  1.15it/s]"
          ],
          "name": "stderr"
        },
        {
          "output_type": "stream",
          "text": [
            "Validation Results - Epoch: 22 Age L1-loss: 14.928 ** Gender accuracy: 0.821 ** Race accuracy: 0.754 ** Avg loss: 6.184\n"
          ],
          "name": "stdout"
        },
        {
          "output_type": "stream",
          "text": [
            "ITERATION - loss: 4.148: 100%|██████████| 130/130 [1:12:55<00:00,  1.15it/s]"
          ],
          "name": "stderr"
        },
        {
          "output_type": "stream",
          "text": [
            "Training Results - Epoch: 23 Age L1-loss: 15.019 ** Gender accuracy: 0.933 ** Race accuracy: 0.767 ** Avg loss: 4.048\n"
          ],
          "name": "stdout"
        },
        {
          "output_type": "stream",
          "text": [
            "ITERATION - loss: 4.148: 100%|██████████| 130/130 [1:13:07<00:00,  1.15it/s]"
          ],
          "name": "stderr"
        },
        {
          "output_type": "stream",
          "text": [
            "Validation Results - Epoch: 23 Age L1-loss: 14.916 ** Gender accuracy: 0.897 ** Race accuracy: 0.741 ** Avg loss: 4.886\n"
          ],
          "name": "stdout"
        },
        {
          "output_type": "stream",
          "text": [
            "ITERATION - loss: 4.057: 100%|██████████| 130/130 [1:16:02<00:00,  1.15it/s]"
          ],
          "name": "stderr"
        },
        {
          "output_type": "stream",
          "text": [
            "Training Results - Epoch: 24 Age L1-loss: 15.030 ** Gender accuracy: 0.882 ** Race accuracy: 0.823 ** Avg loss: 4.468\n"
          ],
          "name": "stdout"
        },
        {
          "output_type": "stream",
          "text": [
            "ITERATION - loss: 4.057: 100%|██████████| 130/130 [1:16:14<00:00,  1.15it/s]"
          ],
          "name": "stderr"
        },
        {
          "output_type": "stream",
          "text": [
            "Validation Results - Epoch: 24 Age L1-loss: 14.929 ** Gender accuracy: 0.841 ** Race accuracy: 0.771 ** Avg loss: 5.729\n"
          ],
          "name": "stdout"
        },
        {
          "output_type": "stream",
          "text": [
            "ITERATION - loss: 4.918: 100%|██████████| 130/130 [1:19:10<00:00,  1.12it/s]"
          ],
          "name": "stderr"
        },
        {
          "output_type": "stream",
          "text": [
            "Training Results - Epoch: 25 Age L1-loss: 15.024 ** Gender accuracy: 0.961 ** Race accuracy: 0.812 ** Avg loss: 3.434\n"
          ],
          "name": "stdout"
        },
        {
          "output_type": "stream",
          "text": [
            "ITERATION - loss: 4.918: 100%|██████████| 130/130 [1:19:22<00:00,  1.12it/s]"
          ],
          "name": "stderr"
        },
        {
          "output_type": "stream",
          "text": [
            "Validation Results - Epoch: 25 Age L1-loss: 14.924 ** Gender accuracy: 0.899 ** Race accuracy: 0.770 ** Avg loss: 4.783\n"
          ],
          "name": "stdout"
        },
        {
          "output_type": "stream",
          "text": [
            "ITERATION - loss: 4.337: 100%|██████████| 130/130 [1:22:17<00:00,  1.16it/s]"
          ],
          "name": "stderr"
        },
        {
          "output_type": "stream",
          "text": [
            "Training Results - Epoch: 26 Age L1-loss: 15.025 ** Gender accuracy: 0.956 ** Race accuracy: 0.818 ** Avg loss: 3.501\n"
          ],
          "name": "stdout"
        },
        {
          "output_type": "stream",
          "text": [
            "ITERATION - loss: 4.337: 100%|██████████| 130/130 [1:22:29<00:00,  1.16it/s]"
          ],
          "name": "stderr"
        },
        {
          "output_type": "stream",
          "text": [
            "Validation Results - Epoch: 26 Age L1-loss: 14.928 ** Gender accuracy: 0.900 ** Race accuracy: 0.768 ** Avg loss: 4.877\n"
          ],
          "name": "stdout"
        },
        {
          "output_type": "stream",
          "text": [
            "ITERATION - loss: 4.798: 100%|██████████| 130/130 [1:25:25<00:00,  1.13it/s]"
          ],
          "name": "stderr"
        },
        {
          "output_type": "stream",
          "text": [
            "Training Results - Epoch: 27 Age L1-loss: 15.023 ** Gender accuracy: 0.952 ** Race accuracy: 0.807 ** Avg loss: 3.539\n"
          ],
          "name": "stdout"
        },
        {
          "output_type": "stream",
          "text": [
            "ITERATION - loss: 4.798: 100%|██████████| 130/130 [1:25:37<00:00,  1.13it/s]"
          ],
          "name": "stderr"
        },
        {
          "output_type": "stream",
          "text": [
            "Validation Results - Epoch: 27 Age L1-loss: 14.919 ** Gender accuracy: 0.900 ** Race accuracy: 0.761 ** Avg loss: 5.039\n"
          ],
          "name": "stdout"
        },
        {
          "output_type": "stream",
          "text": [
            "ITERATION - loss: 4.218: 100%|██████████| 130/130 [1:28:32<00:00,  1.16it/s]"
          ],
          "name": "stderr"
        },
        {
          "output_type": "stream",
          "text": [
            "Training Results - Epoch: 28 Age L1-loss: 15.034 ** Gender accuracy: 0.953 ** Race accuracy: 0.846 ** Avg loss: 3.285\n"
          ],
          "name": "stdout"
        },
        {
          "output_type": "stream",
          "text": [
            "ITERATION - loss: 4.218: 100%|██████████| 130/130 [1:28:44<00:00,  1.16it/s]"
          ],
          "name": "stderr"
        },
        {
          "output_type": "stream",
          "text": [
            "Validation Results - Epoch: 28 Age L1-loss: 14.929 ** Gender accuracy: 0.902 ** Race accuracy: 0.788 ** Avg loss: 4.818\n"
          ],
          "name": "stdout"
        },
        {
          "output_type": "stream",
          "text": [
            "ITERATION - loss: 3.553: 100%|██████████| 130/130 [1:31:40<00:00,  1.15it/s]"
          ],
          "name": "stderr"
        },
        {
          "output_type": "stream",
          "text": [
            "Training Results - Epoch: 29 Age L1-loss: 15.024 ** Gender accuracy: 0.959 ** Race accuracy: 0.796 ** Avg loss: 3.566\n"
          ],
          "name": "stdout"
        },
        {
          "output_type": "stream",
          "text": [
            "ITERATION - loss: 3.553: 100%|██████████| 130/130 [1:31:52<00:00,  1.15it/s]"
          ],
          "name": "stderr"
        },
        {
          "output_type": "stream",
          "text": [
            "Validation Results - Epoch: 29 Age L1-loss: 14.920 ** Gender accuracy: 0.902 ** Race accuracy: 0.748 ** Avg loss: 5.051\n"
          ],
          "name": "stdout"
        },
        {
          "output_type": "stream",
          "text": [
            "ITERATION - loss: 3.482: 100%|██████████| 130/130 [1:34:47<00:00,  1.15it/s]"
          ],
          "name": "stderr"
        },
        {
          "output_type": "stream",
          "text": [
            "Training Results - Epoch: 30 Age L1-loss: 15.038 ** Gender accuracy: 0.901 ** Race accuracy: 0.845 ** Avg loss: 4.045\n"
          ],
          "name": "stdout"
        },
        {
          "output_type": "stream",
          "text": [
            "ITERATION - loss: 3.482: 100%|██████████| 130/130 [1:34:59<00:00,  1.15it/s]"
          ],
          "name": "stderr"
        },
        {
          "output_type": "stream",
          "text": [
            "Validation Results - Epoch: 30 Age L1-loss: 14.939 ** Gender accuracy: 0.863 ** Race accuracy: 0.787 ** Avg loss: 5.802\n"
          ],
          "name": "stdout"
        },
        {
          "output_type": "stream",
          "text": [
            "ITERATION - loss: 4.335: 100%|██████████| 130/130 [1:37:55<00:00,  1.15it/s]"
          ],
          "name": "stderr"
        },
        {
          "output_type": "stream",
          "text": [
            "Training Results - Epoch: 31 Age L1-loss: 15.036 ** Gender accuracy: 0.959 ** Race accuracy: 0.791 ** Avg loss: 3.575\n"
          ],
          "name": "stdout"
        },
        {
          "output_type": "stream",
          "text": [
            "ITERATION - loss: 4.335: 100%|██████████| 130/130 [1:38:06<00:00,  1.15it/s]"
          ],
          "name": "stderr"
        },
        {
          "output_type": "stream",
          "text": [
            "Validation Results - Epoch: 31 Age L1-loss: 14.943 ** Gender accuracy: 0.896 ** Race accuracy: 0.749 ** Avg loss: 5.267\n"
          ],
          "name": "stdout"
        },
        {
          "output_type": "stream",
          "text": [
            "ITERATION - loss: 4.056: 100%|██████████| 130/130 [1:41:02<00:00,  1.16it/s]"
          ],
          "name": "stderr"
        },
        {
          "output_type": "stream",
          "text": [
            "Training Results - Epoch: 32 Age L1-loss: 15.023 ** Gender accuracy: 0.966 ** Race accuracy: 0.838 ** Avg loss: 3.186\n"
          ],
          "name": "stdout"
        },
        {
          "output_type": "stream",
          "text": [
            "ITERATION - loss: 4.056: 100%|██████████| 130/130 [1:41:13<00:00,  1.16it/s]"
          ],
          "name": "stderr"
        },
        {
          "output_type": "stream",
          "text": [
            "Validation Results - Epoch: 32 Age L1-loss: 14.919 ** Gender accuracy: 0.906 ** Race accuracy: 0.778 ** Avg loss: 4.796\n"
          ],
          "name": "stdout"
        },
        {
          "output_type": "stream",
          "text": [
            "ITERATION - loss: 4.510: 100%|██████████| 130/130 [1:44:09<00:00,  1.14it/s]"
          ],
          "name": "stderr"
        },
        {
          "output_type": "stream",
          "text": [
            "Training Results - Epoch: 33 Age L1-loss: 15.025 ** Gender accuracy: 0.966 ** Race accuracy: 0.841 ** Avg loss: 3.120\n"
          ],
          "name": "stdout"
        },
        {
          "output_type": "stream",
          "text": [
            "ITERATION - loss: 4.510: 100%|██████████| 130/130 [1:44:21<00:00,  1.14it/s]"
          ],
          "name": "stderr"
        },
        {
          "output_type": "stream",
          "text": [
            "Validation Results - Epoch: 33 Age L1-loss: 14.925 ** Gender accuracy: 0.903 ** Race accuracy: 0.779 ** Avg loss: 5.074\n"
          ],
          "name": "stdout"
        },
        {
          "output_type": "stream",
          "text": [
            "ITERATION - loss: 3.898: 100%|██████████| 130/130 [1:47:16<00:00,  1.15it/s]"
          ],
          "name": "stderr"
        },
        {
          "output_type": "stream",
          "text": [
            "Training Results - Epoch: 34 Age L1-loss: 15.025 ** Gender accuracy: 0.892 ** Race accuracy: 0.838 ** Avg loss: 4.416\n"
          ],
          "name": "stdout"
        },
        {
          "output_type": "stream",
          "text": [
            "ITERATION - loss: 3.898: 100%|██████████| 130/130 [1:47:28<00:00,  1.15it/s]"
          ],
          "name": "stderr"
        },
        {
          "output_type": "stream",
          "text": [
            "Validation Results - Epoch: 34 Age L1-loss: 14.927 ** Gender accuracy: 0.855 ** Race accuracy: 0.772 ** Avg loss: 6.559\n"
          ],
          "name": "stdout"
        },
        {
          "output_type": "stream",
          "text": [
            "ITERATION - loss: 4.225: 100%|██████████| 130/130 [1:50:23<00:00,  1.14it/s]"
          ],
          "name": "stderr"
        },
        {
          "output_type": "stream",
          "text": [
            "Training Results - Epoch: 35 Age L1-loss: 15.020 ** Gender accuracy: 0.834 ** Race accuracy: 0.702 ** Avg loss: 6.667\n"
          ],
          "name": "stdout"
        },
        {
          "output_type": "stream",
          "text": [
            "ITERATION - loss: 4.225: 100%|██████████| 130/130 [1:50:35<00:00,  1.14it/s]"
          ],
          "name": "stderr"
        },
        {
          "output_type": "stream",
          "text": [
            "Validation Results - Epoch: 35 Age L1-loss: 14.925 ** Gender accuracy: 0.801 ** Race accuracy: 0.673 ** Avg loss: 7.997\n"
          ],
          "name": "stdout"
        },
        {
          "output_type": "stream",
          "text": [
            "ITERATION - loss: 2.964: 100%|██████████| 130/130 [1:53:31<00:00,  1.15it/s]"
          ],
          "name": "stderr"
        },
        {
          "output_type": "stream",
          "text": [
            "Training Results - Epoch: 36 Age L1-loss: 15.019 ** Gender accuracy: 0.971 ** Race accuracy: 0.841 ** Avg loss: 3.056\n"
          ],
          "name": "stdout"
        },
        {
          "output_type": "stream",
          "text": [
            "ITERATION - loss: 2.964: 100%|██████████| 130/130 [1:53:43<00:00,  1.15it/s]"
          ],
          "name": "stderr"
        },
        {
          "output_type": "stream",
          "text": [
            "Validation Results - Epoch: 36 Age L1-loss: 14.917 ** Gender accuracy: 0.899 ** Race accuracy: 0.774 ** Avg loss: 5.015\n"
          ],
          "name": "stdout"
        },
        {
          "output_type": "stream",
          "text": [
            "ITERATION - loss: 3.769: 100%|██████████| 130/130 [1:56:38<00:00,  1.15it/s]"
          ],
          "name": "stderr"
        },
        {
          "output_type": "stream",
          "text": [
            "Training Results - Epoch: 37 Age L1-loss: 15.020 ** Gender accuracy: 0.975 ** Race accuracy: 0.805 ** Avg loss: 3.215\n"
          ],
          "name": "stdout"
        },
        {
          "output_type": "stream",
          "text": [
            "ITERATION - loss: 3.769: 100%|██████████| 130/130 [1:56:50<00:00,  1.15it/s]"
          ],
          "name": "stderr"
        },
        {
          "output_type": "stream",
          "text": [
            "Validation Results - Epoch: 37 Age L1-loss: 14.915 ** Gender accuracy: 0.902 ** Race accuracy: 0.752 ** Avg loss: 5.203\n"
          ],
          "name": "stdout"
        },
        {
          "output_type": "stream",
          "text": [
            "ITERATION - loss: 2.989: 100%|██████████| 130/130 [1:59:45<00:00,  1.16it/s]"
          ],
          "name": "stderr"
        },
        {
          "output_type": "stream",
          "text": [
            "Training Results - Epoch: 38 Age L1-loss: 15.023 ** Gender accuracy: 0.980 ** Race accuracy: 0.861 ** Avg loss: 2.809\n"
          ],
          "name": "stdout"
        },
        {
          "output_type": "stream",
          "text": [
            "ITERATION - loss: 2.989: 100%|██████████| 130/130 [1:59:57<00:00,  1.16it/s]"
          ],
          "name": "stderr"
        },
        {
          "output_type": "stream",
          "text": [
            "Validation Results - Epoch: 38 Age L1-loss: 14.924 ** Gender accuracy: 0.898 ** Race accuracy: 0.786 ** Avg loss: 4.951\n"
          ],
          "name": "stdout"
        },
        {
          "output_type": "stream",
          "text": [
            "ITERATION - loss: 3.505: 100%|██████████| 130/130 [2:02:54<00:00,  1.15it/s]"
          ],
          "name": "stderr"
        },
        {
          "output_type": "stream",
          "text": [
            "Training Results - Epoch: 39 Age L1-loss: 15.027 ** Gender accuracy: 0.970 ** Race accuracy: 0.789 ** Avg loss: 3.425\n"
          ],
          "name": "stdout"
        },
        {
          "output_type": "stream",
          "text": [
            "ITERATION - loss: 3.505: 100%|██████████| 130/130 [2:03:06<00:00,  1.15it/s]"
          ],
          "name": "stderr"
        },
        {
          "output_type": "stream",
          "text": [
            "Validation Results - Epoch: 39 Age L1-loss: 14.928 ** Gender accuracy: 0.893 ** Race accuracy: 0.731 ** Avg loss: 5.734\n"
          ],
          "name": "stdout"
        },
        {
          "output_type": "stream",
          "text": [
            "ITERATION - loss: 3.636: 100%|██████████| 130/130 [2:06:00<00:00,  1.15it/s]"
          ],
          "name": "stderr"
        },
        {
          "output_type": "stream",
          "text": [
            "Training Results - Epoch: 40 Age L1-loss: 15.025 ** Gender accuracy: 0.978 ** Race accuracy: 0.854 ** Avg loss: 2.825\n"
          ],
          "name": "stdout"
        },
        {
          "output_type": "stream",
          "text": [
            "ITERATION - loss: 3.636: 100%|██████████| 130/130 [2:06:12<00:00,  1.15it/s]"
          ],
          "name": "stderr"
        },
        {
          "output_type": "stream",
          "text": [
            "Validation Results - Epoch: 40 Age L1-loss: 14.925 ** Gender accuracy: 0.905 ** Race accuracy: 0.770 ** Avg loss: 5.148\n"
          ],
          "name": "stdout"
        },
        {
          "output_type": "stream",
          "text": [
            "ITERATION - loss: 3.306: 100%|██████████| 130/130 [2:09:07<00:00,  1.14it/s]"
          ],
          "name": "stderr"
        },
        {
          "output_type": "stream",
          "text": [
            "Training Results - Epoch: 41 Age L1-loss: 15.024 ** Gender accuracy: 0.963 ** Race accuracy: 0.861 ** Avg loss: 3.009\n"
          ],
          "name": "stdout"
        },
        {
          "output_type": "stream",
          "text": [
            "ITERATION - loss: 3.306: 100%|██████████| 130/130 [2:09:19<00:00,  1.14it/s]"
          ],
          "name": "stderr"
        },
        {
          "output_type": "stream",
          "text": [
            "Validation Results - Epoch: 41 Age L1-loss: 14.920 ** Gender accuracy: 0.882 ** Race accuracy: 0.775 ** Avg loss: 5.688\n"
          ],
          "name": "stdout"
        },
        {
          "output_type": "stream",
          "text": [
            "ITERATION - loss: 5.354: 100%|██████████| 130/130 [2:12:13<00:00,  1.16it/s]"
          ],
          "name": "stderr"
        },
        {
          "output_type": "stream",
          "text": [
            "Training Results - Epoch: 42 Age L1-loss: 15.020 ** Gender accuracy: 0.955 ** Race accuracy: 0.858 ** Avg loss: 3.163\n"
          ],
          "name": "stdout"
        },
        {
          "output_type": "stream",
          "text": [
            "ITERATION - loss: 5.354: 100%|██████████| 130/130 [2:12:25<00:00,  1.16it/s]"
          ],
          "name": "stderr"
        },
        {
          "output_type": "stream",
          "text": [
            "Validation Results - Epoch: 42 Age L1-loss: 14.917 ** Gender accuracy: 0.874 ** Race accuracy: 0.776 ** Avg loss: 5.779\n"
          ],
          "name": "stdout"
        },
        {
          "output_type": "stream",
          "text": [
            "ITERATION - loss: 3.609: 100%|██████████| 130/130 [2:15:22<00:00,  1.13it/s]"
          ],
          "name": "stderr"
        },
        {
          "output_type": "stream",
          "text": [
            "Training Results - Epoch: 43 Age L1-loss: 15.030 ** Gender accuracy: 0.936 ** Race accuracy: 0.794 ** Avg loss: 4.144\n"
          ],
          "name": "stdout"
        },
        {
          "output_type": "stream",
          "text": [
            "ITERATION - loss: 3.609: 100%|██████████| 130/130 [2:15:34<00:00,  1.13it/s]"
          ],
          "name": "stderr"
        },
        {
          "output_type": "stream",
          "text": [
            "Validation Results - Epoch: 43 Age L1-loss: 14.923 ** Gender accuracy: 0.875 ** Race accuracy: 0.735 ** Avg loss: 6.772\n"
          ],
          "name": "stdout"
        },
        {
          "output_type": "stream",
          "text": [
            "ITERATION - loss: 3.155: 100%|██████████| 130/130 [2:18:29<00:00,  1.15it/s]"
          ],
          "name": "stderr"
        },
        {
          "output_type": "stream",
          "text": [
            "Training Results - Epoch: 44 Age L1-loss: 15.020 ** Gender accuracy: 0.958 ** Race accuracy: 0.803 ** Avg loss: 3.456\n"
          ],
          "name": "stdout"
        },
        {
          "output_type": "stream",
          "text": [
            "ITERATION - loss: 3.155: 100%|██████████| 130/130 [2:18:41<00:00,  1.15it/s]"
          ],
          "name": "stderr"
        },
        {
          "output_type": "stream",
          "text": [
            "Validation Results - Epoch: 44 Age L1-loss: 14.916 ** Gender accuracy: 0.880 ** Race accuracy: 0.726 ** Avg loss: 6.078\n"
          ],
          "name": "stdout"
        },
        {
          "output_type": "stream",
          "text": [
            "ITERATION - loss: 3.596: 100%|██████████| 130/130 [2:21:37<00:00,  1.15it/s]"
          ],
          "name": "stderr"
        },
        {
          "output_type": "stream",
          "text": [
            "Training Results - Epoch: 45 Age L1-loss: 15.053 ** Gender accuracy: 0.770 ** Race accuracy: 0.716 ** Avg loss: 10.016\n"
          ],
          "name": "stdout"
        },
        {
          "output_type": "stream",
          "text": [
            "ITERATION - loss: 3.596: 100%|██████████| 130/130 [2:21:49<00:00,  1.15it/s]"
          ],
          "name": "stderr"
        },
        {
          "output_type": "stream",
          "text": [
            "Validation Results - Epoch: 45 Age L1-loss: 14.950 ** Gender accuracy: 0.761 ** Race accuracy: 0.675 ** Avg loss: 12.666\n"
          ],
          "name": "stdout"
        },
        {
          "output_type": "stream",
          "text": [
            "ITERATION - loss: 2.927: 100%|██████████| 130/130 [2:24:44<00:00,  1.15it/s]"
          ],
          "name": "stderr"
        },
        {
          "output_type": "stream",
          "text": [
            "Training Results - Epoch: 46 Age L1-loss: 15.028 ** Gender accuracy: 0.961 ** Race accuracy: 0.811 ** Avg loss: 3.381\n"
          ],
          "name": "stdout"
        },
        {
          "output_type": "stream",
          "text": [
            "ITERATION - loss: 2.927: 100%|██████████| 130/130 [2:24:56<00:00,  1.15it/s]"
          ],
          "name": "stderr"
        },
        {
          "output_type": "stream",
          "text": [
            "Validation Results - Epoch: 46 Age L1-loss: 14.924 ** Gender accuracy: 0.882 ** Race accuracy: 0.735 ** Avg loss: 5.905\n"
          ],
          "name": "stdout"
        },
        {
          "output_type": "stream",
          "text": [
            "ITERATION - loss: 3.495: 100%|██████████| 130/130 [2:27:54<00:00,  1.13it/s]"
          ],
          "name": "stderr"
        },
        {
          "output_type": "stream",
          "text": [
            "Training Results - Epoch: 47 Age L1-loss: 15.020 ** Gender accuracy: 0.958 ** Race accuracy: 0.879 ** Avg loss: 2.952\n"
          ],
          "name": "stdout"
        },
        {
          "output_type": "stream",
          "text": [
            "ITERATION - loss: 3.495: 100%|██████████| 130/130 [2:28:07<00:00,  1.13it/s]"
          ],
          "name": "stderr"
        },
        {
          "output_type": "stream",
          "text": [
            "Validation Results - Epoch: 47 Age L1-loss: 14.918 ** Gender accuracy: 0.888 ** Race accuracy: 0.787 ** Avg loss: 5.500\n"
          ],
          "name": "stdout"
        },
        {
          "output_type": "stream",
          "text": [
            "ITERATION - loss: 2.765: 100%|██████████| 130/130 [2:31:04<00:00,  1.15it/s]"
          ],
          "name": "stderr"
        },
        {
          "output_type": "stream",
          "text": [
            "Training Results - Epoch: 48 Age L1-loss: 15.022 ** Gender accuracy: 0.981 ** Race accuracy: 0.901 ** Avg loss: 2.503\n"
          ],
          "name": "stdout"
        },
        {
          "output_type": "stream",
          "text": [
            "ITERATION - loss: 2.765: 100%|██████████| 130/130 [2:31:16<00:00,  1.15it/s]"
          ],
          "name": "stderr"
        },
        {
          "output_type": "stream",
          "text": [
            "Validation Results - Epoch: 48 Age L1-loss: 14.922 ** Gender accuracy: 0.900 ** Race accuracy: 0.794 ** Avg loss: 5.419\n"
          ],
          "name": "stdout"
        },
        {
          "output_type": "stream",
          "text": [
            "ITERATION - loss: 3.456: 100%|██████████| 130/130 [2:34:12<00:00,  1.14it/s]"
          ],
          "name": "stderr"
        },
        {
          "output_type": "stream",
          "text": [
            "Training Results - Epoch: 49 Age L1-loss: 15.021 ** Gender accuracy: 0.962 ** Race accuracy: 0.882 ** Avg loss: 2.902\n"
          ],
          "name": "stdout"
        },
        {
          "output_type": "stream",
          "text": [
            "ITERATION - loss: 3.456: 100%|██████████| 130/130 [2:34:24<00:00,  1.14it/s]"
          ],
          "name": "stderr"
        },
        {
          "output_type": "stream",
          "text": [
            "Validation Results - Epoch: 49 Age L1-loss: 14.917 ** Gender accuracy: 0.883 ** Race accuracy: 0.773 ** Avg loss: 5.770\n"
          ],
          "name": "stdout"
        },
        {
          "output_type": "stream",
          "text": [
            "ITERATION - loss: 3.581: 100%|██████████| 130/130 [2:37:20<00:00,  1.15it/s]"
          ],
          "name": "stderr"
        },
        {
          "output_type": "stream",
          "text": [
            "Training Results - Epoch: 50 Age L1-loss: 15.025 ** Gender accuracy: 0.905 ** Race accuracy: 0.834 ** Avg loss: 4.150\n"
          ],
          "name": "stdout"
        },
        {
          "output_type": "stream",
          "text": [
            "ITERATION - loss: 3.581: 100%|██████████| 130/130 [2:37:32<00:00,  1.15it/s]"
          ],
          "name": "stderr"
        },
        {
          "output_type": "stream",
          "text": [
            "Validation Results - Epoch: 50 Age L1-loss: 14.919 ** Gender accuracy: 0.835 ** Race accuracy: 0.730 ** Avg loss: 6.961\n"
          ],
          "name": "stdout"
        },
        {
          "output_type": "stream",
          "text": [
            "ITERATION - loss: 3.508: 100%|██████████| 130/130 [2:40:28<00:00,  1.14it/s]"
          ],
          "name": "stderr"
        },
        {
          "output_type": "stream",
          "text": [
            "Training Results - Epoch: 51 Age L1-loss: 15.019 ** Gender accuracy: 0.989 ** Race accuracy: 0.845 ** Avg loss: 2.716\n"
          ],
          "name": "stdout"
        },
        {
          "output_type": "stream",
          "text": [
            "ITERATION - loss: 3.508: 100%|██████████| 130/130 [2:40:40<00:00,  1.14it/s]"
          ],
          "name": "stderr"
        },
        {
          "output_type": "stream",
          "text": [
            "Validation Results - Epoch: 51 Age L1-loss: 14.917 ** Gender accuracy: 0.900 ** Race accuracy: 0.750 ** Avg loss: 5.584\n"
          ],
          "name": "stdout"
        },
        {
          "output_type": "stream",
          "text": [
            "ITERATION - loss: 3.568: 100%|██████████| 130/130 [2:43:36<00:00,  1.15it/s]"
          ],
          "name": "stderr"
        },
        {
          "output_type": "stream",
          "text": [
            "Training Results - Epoch: 52 Age L1-loss: 15.025 ** Gender accuracy: 0.964 ** Race accuracy: 0.795 ** Avg loss: 3.405\n"
          ],
          "name": "stdout"
        },
        {
          "output_type": "stream",
          "text": [
            "ITERATION - loss: 3.568: 100%|██████████| 130/130 [2:43:48<00:00,  1.15it/s]"
          ],
          "name": "stderr"
        },
        {
          "output_type": "stream",
          "text": [
            "Validation Results - Epoch: 52 Age L1-loss: 14.920 ** Gender accuracy: 0.893 ** Race accuracy: 0.701 ** Avg loss: 6.505\n"
          ],
          "name": "stdout"
        },
        {
          "output_type": "stream",
          "text": [
            "ITERATION - loss: 3.520: 100%|██████████| 130/130 [2:46:43<00:00,  1.15it/s]"
          ],
          "name": "stderr"
        },
        {
          "output_type": "stream",
          "text": [
            "Training Results - Epoch: 53 Age L1-loss: 15.023 ** Gender accuracy: 0.989 ** Race accuracy: 0.846 ** Avg loss: 2.700\n"
          ],
          "name": "stdout"
        },
        {
          "output_type": "stream",
          "text": [
            "ITERATION - loss: 3.520: 100%|██████████| 130/130 [2:46:55<00:00,  1.15it/s]"
          ],
          "name": "stderr"
        },
        {
          "output_type": "stream",
          "text": [
            "Validation Results - Epoch: 53 Age L1-loss: 14.919 ** Gender accuracy: 0.902 ** Race accuracy: 0.744 ** Avg loss: 5.855\n"
          ],
          "name": "stdout"
        },
        {
          "output_type": "stream",
          "text": [
            "ITERATION - loss: 3.423: 100%|██████████| 130/130 [2:49:50<00:00,  1.15it/s]"
          ],
          "name": "stderr"
        },
        {
          "output_type": "stream",
          "text": [
            "Training Results - Epoch: 54 Age L1-loss: 15.024 ** Gender accuracy: 0.987 ** Race accuracy: 0.818 ** Avg loss: 3.017\n"
          ],
          "name": "stdout"
        },
        {
          "output_type": "stream",
          "text": [
            "ITERATION - loss: 3.423: 100%|██████████| 130/130 [2:50:02<00:00,  1.15it/s]"
          ],
          "name": "stderr"
        },
        {
          "output_type": "stream",
          "text": [
            "Validation Results - Epoch: 54 Age L1-loss: 14.924 ** Gender accuracy: 0.900 ** Race accuracy: 0.733 ** Avg loss: 6.490\n"
          ],
          "name": "stdout"
        },
        {
          "output_type": "stream",
          "text": [
            "ITERATION - loss: 3.710: 100%|██████████| 130/130 [2:52:59<00:00,  1.15it/s]"
          ],
          "name": "stderr"
        },
        {
          "output_type": "stream",
          "text": [
            "Training Results - Epoch: 55 Age L1-loss: 15.025 ** Gender accuracy: 0.989 ** Race accuracy: 0.893 ** Avg loss: 2.384\n"
          ],
          "name": "stdout"
        },
        {
          "output_type": "stream",
          "text": [
            "ITERATION - loss: 3.710: 100%|██████████| 130/130 [2:53:12<00:00,  1.15it/s]"
          ],
          "name": "stderr"
        },
        {
          "output_type": "stream",
          "text": [
            "Validation Results - Epoch: 55 Age L1-loss: 14.924 ** Gender accuracy: 0.903 ** Race accuracy: 0.776 ** Avg loss: 5.888\n"
          ],
          "name": "stdout"
        },
        {
          "output_type": "stream",
          "text": [
            "ITERATION - loss: 3.543: 100%|██████████| 130/130 [2:56:09<00:00,  1.15it/s]"
          ],
          "name": "stderr"
        },
        {
          "output_type": "stream",
          "text": [
            "Training Results - Epoch: 56 Age L1-loss: 15.023 ** Gender accuracy: 0.953 ** Race accuracy: 0.906 ** Avg loss: 2.874\n"
          ],
          "name": "stdout"
        },
        {
          "output_type": "stream",
          "text": [
            "ITERATION - loss: 3.543: 100%|██████████| 130/130 [2:56:21<00:00,  1.15it/s]"
          ],
          "name": "stderr"
        },
        {
          "output_type": "stream",
          "text": [
            "Validation Results - Epoch: 56 Age L1-loss: 14.912 ** Gender accuracy: 0.874 ** Race accuracy: 0.789 ** Avg loss: 6.440\n"
          ],
          "name": "stdout"
        },
        {
          "output_type": "stream",
          "text": [
            "ITERATION - loss: 2.796: 100%|██████████| 130/130 [2:59:15<00:00,  1.15it/s]"
          ],
          "name": "stderr"
        },
        {
          "output_type": "stream",
          "text": [
            "Training Results - Epoch: 57 Age L1-loss: 15.019 ** Gender accuracy: 0.993 ** Race accuracy: 0.864 ** Avg loss: 2.533\n"
          ],
          "name": "stdout"
        },
        {
          "output_type": "stream",
          "text": [
            "ITERATION - loss: 2.796: 100%|██████████| 130/130 [2:59:28<00:00,  1.15it/s]"
          ],
          "name": "stderr"
        },
        {
          "output_type": "stream",
          "text": [
            "Validation Results - Epoch: 57 Age L1-loss: 14.916 ** Gender accuracy: 0.903 ** Race accuracy: 0.750 ** Avg loss: 5.843\n"
          ],
          "name": "stdout"
        },
        {
          "output_type": "stream",
          "text": [
            "ITERATION - loss: 3.686: 100%|██████████| 130/130 [3:02:22<00:00,  1.15it/s]"
          ],
          "name": "stderr"
        },
        {
          "output_type": "stream",
          "text": [
            "Training Results - Epoch: 58 Age L1-loss: 15.023 ** Gender accuracy: 0.984 ** Race accuracy: 0.857 ** Avg loss: 2.704\n"
          ],
          "name": "stdout"
        },
        {
          "output_type": "stream",
          "text": [
            "ITERATION - loss: 3.686: 100%|██████████| 130/130 [3:02:34<00:00,  1.15it/s]"
          ],
          "name": "stderr"
        },
        {
          "output_type": "stream",
          "text": [
            "Validation Results - Epoch: 58 Age L1-loss: 14.920 ** Gender accuracy: 0.900 ** Race accuracy: 0.750 ** Avg loss: 6.138\n"
          ],
          "name": "stdout"
        },
        {
          "output_type": "stream",
          "text": [
            "ITERATION - loss: 2.301: 100%|██████████| 130/130 [3:05:28<00:00,  1.15it/s]"
          ],
          "name": "stderr"
        },
        {
          "output_type": "stream",
          "text": [
            "Training Results - Epoch: 59 Age L1-loss: 15.038 ** Gender accuracy: 0.884 ** Race accuracy: 0.821 ** Avg loss: 4.808\n"
          ],
          "name": "stdout"
        },
        {
          "output_type": "stream",
          "text": [
            "ITERATION - loss: 2.301: 100%|██████████| 130/130 [3:05:40<00:00,  1.15it/s]"
          ],
          "name": "stderr"
        },
        {
          "output_type": "stream",
          "text": [
            "Validation Results - Epoch: 59 Age L1-loss: 14.925 ** Gender accuracy: 0.816 ** Race accuracy: 0.719 ** Avg loss: 8.526\n"
          ],
          "name": "stdout"
        },
        {
          "output_type": "stream",
          "text": [
            "ITERATION - loss: 2.850: 100%|██████████| 130/130 [3:08:35<00:00,  1.15it/s]"
          ],
          "name": "stderr"
        },
        {
          "output_type": "stream",
          "text": [
            "Training Results - Epoch: 60 Age L1-loss: 15.023 ** Gender accuracy: 0.992 ** Race accuracy: 0.885 ** Avg loss: 2.423\n"
          ],
          "name": "stdout"
        },
        {
          "output_type": "stream",
          "text": [
            "ITERATION - loss: 2.850: 100%|██████████| 130/130 [3:08:47<00:00,  1.15it/s]"
          ],
          "name": "stderr"
        },
        {
          "output_type": "stream",
          "text": [
            "Validation Results - Epoch: 60 Age L1-loss: 14.921 ** Gender accuracy: 0.907 ** Race accuracy: 0.771 ** Avg loss: 5.943\n"
          ],
          "name": "stdout"
        },
        {
          "output_type": "stream",
          "text": [
            "ITERATION - loss: 3.401: 100%|██████████| 130/130 [3:11:41<00:00,  1.15it/s]"
          ],
          "name": "stderr"
        },
        {
          "output_type": "stream",
          "text": [
            "Training Results - Epoch: 61 Age L1-loss: 15.024 ** Gender accuracy: 0.935 ** Race accuracy: 0.907 ** Avg loss: 3.143\n"
          ],
          "name": "stdout"
        },
        {
          "output_type": "stream",
          "text": [
            "ITERATION - loss: 3.401: 100%|██████████| 130/130 [3:11:53<00:00,  1.15it/s]"
          ],
          "name": "stderr"
        },
        {
          "output_type": "stream",
          "text": [
            "Validation Results - Epoch: 61 Age L1-loss: 14.922 ** Gender accuracy: 0.846 ** Race accuracy: 0.776 ** Avg loss: 6.801\n"
          ],
          "name": "stdout"
        },
        {
          "output_type": "stream",
          "text": [
            "ITERATION - loss: 2.938: 100%|██████████| 130/130 [3:14:47<00:00,  1.16it/s]"
          ],
          "name": "stderr"
        },
        {
          "output_type": "stream",
          "text": [
            "Training Results - Epoch: 62 Age L1-loss: 15.023 ** Gender accuracy: 0.986 ** Race accuracy: 0.841 ** Avg loss: 2.825\n"
          ],
          "name": "stdout"
        },
        {
          "output_type": "stream",
          "text": [
            "ITERATION - loss: 2.938: 100%|██████████| 130/130 [3:14:59<00:00,  1.16it/s]"
          ],
          "name": "stderr"
        },
        {
          "output_type": "stream",
          "text": [
            "Validation Results - Epoch: 62 Age L1-loss: 14.924 ** Gender accuracy: 0.893 ** Race accuracy: 0.741 ** Avg loss: 6.771\n"
          ],
          "name": "stdout"
        },
        {
          "output_type": "stream",
          "text": [
            "ITERATION - loss: 2.682: 100%|██████████| 130/130 [3:17:54<00:00,  1.15it/s]"
          ],
          "name": "stderr"
        },
        {
          "output_type": "stream",
          "text": [
            "Training Results - Epoch: 63 Age L1-loss: 15.016 ** Gender accuracy: 0.991 ** Race accuracy: 0.668 ** Avg loss: 3.660\n"
          ],
          "name": "stdout"
        },
        {
          "output_type": "stream",
          "text": [
            "ITERATION - loss: 2.682: 100%|██████████| 130/130 [3:18:06<00:00,  1.15it/s]"
          ],
          "name": "stderr"
        },
        {
          "output_type": "stream",
          "text": [
            "Validation Results - Epoch: 63 Age L1-loss: 14.910 ** Gender accuracy: 0.899 ** Race accuracy: 0.596 ** Avg loss: 6.682\n"
          ],
          "name": "stdout"
        },
        {
          "output_type": "stream",
          "text": [
            "ITERATION - loss: 2.206: 100%|██████████| 130/130 [3:21:02<00:00,  1.16it/s]"
          ],
          "name": "stderr"
        },
        {
          "output_type": "stream",
          "text": [
            "Training Results - Epoch: 64 Age L1-loss: 15.030 ** Gender accuracy: 0.850 ** Race accuracy: 0.927 ** Avg loss: 4.858\n"
          ],
          "name": "stdout"
        },
        {
          "output_type": "stream",
          "text": [
            "ITERATION - loss: 2.206: 100%|██████████| 130/130 [3:21:15<00:00,  1.16it/s]"
          ],
          "name": "stderr"
        },
        {
          "output_type": "stream",
          "text": [
            "Validation Results - Epoch: 64 Age L1-loss: 14.924 ** Gender accuracy: 0.784 ** Race accuracy: 0.781 ** Avg loss: 9.070\n"
          ],
          "name": "stdout"
        },
        {
          "output_type": "stream",
          "text": [
            "ITERATION - loss: 3.550: 100%|██████████| 130/130 [3:24:11<00:00,  1.13it/s]"
          ],
          "name": "stderr"
        },
        {
          "output_type": "stream",
          "text": [
            "Training Results - Epoch: 65 Age L1-loss: 15.025 ** Gender accuracy: 0.951 ** Race accuracy: 0.920 ** Avg loss: 2.873\n"
          ],
          "name": "stdout"
        },
        {
          "output_type": "stream",
          "text": [
            "ITERATION - loss: 3.550: 100%|██████████| 130/130 [3:24:22<00:00,  1.13it/s]"
          ],
          "name": "stderr"
        },
        {
          "output_type": "stream",
          "text": [
            "Validation Results - Epoch: 65 Age L1-loss: 14.926 ** Gender accuracy: 0.862 ** Race accuracy: 0.790 ** Avg loss: 6.483\n"
          ],
          "name": "stdout"
        },
        {
          "output_type": "stream",
          "text": [
            "ITERATION - loss: 2.956: 100%|██████████| 130/130 [3:27:18<00:00,  1.16it/s]"
          ],
          "name": "stderr"
        },
        {
          "output_type": "stream",
          "text": [
            "Training Results - Epoch: 66 Age L1-loss: 15.024 ** Gender accuracy: 0.986 ** Race accuracy: 0.790 ** Avg loss: 3.162\n"
          ],
          "name": "stdout"
        },
        {
          "output_type": "stream",
          "text": [
            "ITERATION - loss: 2.956: 100%|██████████| 130/130 [3:27:30<00:00,  1.16it/s]"
          ],
          "name": "stderr"
        },
        {
          "output_type": "stream",
          "text": [
            "Validation Results - Epoch: 66 Age L1-loss: 14.924 ** Gender accuracy: 0.905 ** Race accuracy: 0.688 ** Avg loss: 6.718\n"
          ],
          "name": "stdout"
        },
        {
          "output_type": "stream",
          "text": [
            "ITERATION - loss: 2.224: 100%|██████████| 130/130 [3:30:26<00:00,  1.14it/s]"
          ],
          "name": "stderr"
        },
        {
          "output_type": "stream",
          "text": [
            "Training Results - Epoch: 67 Age L1-loss: 15.031 ** Gender accuracy: 0.993 ** Race accuracy: 0.926 ** Avg loss: 2.081\n"
          ],
          "name": "stdout"
        },
        {
          "output_type": "stream",
          "text": [
            ""
          ],
          "name": "stderr"
        },
        {
          "output_type": "stream",
          "text": [
            "Validation Results - Epoch: 67 Age L1-loss: 14.934 ** Gender accuracy: 0.899 ** Race accuracy: 0.791 ** Avg loss: 5.943\n"
          ],
          "name": "stdout"
        },
        {
          "output_type": "display_data",
          "data": {
            "image/png": "[encoded data removed]",
            "text/plain": [
              "<Figure size 576x432 with 1 Axes>"
            ]
          },
          "metadata": {
            "tags": []
          }
        },
        {
          "output_type": "stream",
          "text": [
            "The execution took 3.0 hours | 30.0 minutes | 42.0 seconds!\n"
          ],
          "name": "stdout"
        }
      ]
    },
    {
      "metadata": {
        "id": "ZXY329vfmGK6",
        "colab_type": "code",
        "colab": {}
      },
      "cell_type": "code",
      "source": [
        ""
      ],
      "execution_count": 0,
      "outputs": []
    },
    {
      "metadata": {
        "id": "P0fd6xS6S1qw",
        "colab_type": "text"
      },
      "cell_type": "markdown",
      "source": [
        "### 3.2 Finetunig a pretrained Resnet50\n",
        "\n",
        "We are going to :\n",
        "* freeze all other layers and only train the classification using a learning rate of 1e-3\n",
        "* unfreeze all layers after 10 epochs and finetune the whole model using a learning rate of 1e-4"
      ]
    },
    {
      "metadata": {
        "id": "1JylvWdOnJmG",
        "colab_type": "code",
        "colab": {}
      },
      "cell_type": "code",
      "source": [
        "backup_path = \"/content/gdrive/My Drive/DeepLearning/Face_detection/checkpoints/resnet_adam\"\n",
        "os.makedirs(backup_path, exist_ok=True)"
      ],
      "execution_count": 0,
      "outputs": []
    },
    {
      "metadata": {
        "id": "d31f4MrQmGxa",
        "colab_type": "code",
        "outputId": "c252d71d-2765-46da-c3bc-d7b06ec1e373",
        "colab": {
          "base_uri": "https://localhost:8080/",
          "height": 51
        }
      },
      "cell_type": "code",
      "source": [
        "my_model = PretrainedMT(model_name='resnet', feature_extract=True, use_pretrained=True)\n",
        "my_optimizer = torch.optim.Adam(filter(lambda p: p.requires_grad, my_model.parameters()), lr=1e-3)"
      ],
      "execution_count": 0,
      "outputs": [
        {
          "output_type": "stream",
          "text": [
            "Downloading: \"https://download.pytorch.org/models/resnet50-19c8e357.pth\" to /root/.torch/models/resnet50-19c8e357.pth\n",
            "102502400it [00:05, 18020355.11it/s]\n"
          ],
          "name": "stderr"
        }
      ]
    },
    {
      "metadata": {
        "id": "rPMvktmyncQ1",
        "colab_type": "code",
        "outputId": "c2f4bead-4f4b-44b0-c405-215d4b71bc97",
        "colab": {
          "base_uri": "https://localhost:8080/",
          "height": 2599
        }
      },
      "cell_type": "code",
      "source": [
        "run_utk(my_model, my_optimizer, epochs=300, log_interval=1, dataloaders=my_data_loaders,\n",
        "        dirname='/content/checkpoints/resnet_adam', filename_prefix='resnet', n_saved=1,\n",
        "        log_dir='/content/logs', launch_tensorboard=False, patience=50,\n",
        "        resume_model=None, resume_optimizer=None, backup_step=5, backup_path=backup_path,\n",
        "        n_epochs_freeze=10, n_cycle=None, lr_after_freeze=1e-4,\n",
        "        loss_weights=[1/10, 1/0.16, 1/0.44], lr_plot=True)"
      ],
      "execution_count": 0,
      "outputs": [
        {
          "output_type": "stream",
          "text": [
            "\rITERATION - loss: 0.000:   0%|          | 0/130 [00:00<?, ?it/s]"
          ],
          "name": "stderr"
        },
        {
          "output_type": "stream",
          "text": [
            "Number of trainable parameters : 263,304\n",
            "Number of non-trainable parameters : 23,508,032\n"
          ],
          "name": "stdout"
        },
        {
          "output_type": "stream",
          "text": [
            "ITERATION - loss: 6.230: 100%|██████████| 130/130 [01:42<00:00,  3.05it/s]"
          ],
          "name": "stderr"
        },
        {
          "output_type": "stream",
          "text": [
            "Training Results - Epoch: 1 Age L1-loss: 15.746 ** Gender accuracy: 0.766 ** Race accuracy: 0.615 ** Avg loss: 6.978\n"
          ],
          "name": "stdout"
        },
        {
          "output_type": "stream",
          "text": [
            "ITERATION - loss: 6.230: 100%|██████████| 130/130 [01:56<00:00,  3.05it/s]"
          ],
          "name": "stderr"
        },
        {
          "output_type": "stream",
          "text": [
            "Validation Results - Epoch: 1 Age L1-loss: 15.637 ** Gender accuracy: 0.749 ** Race accuracy: 0.598 ** Avg loss: 7.201\n"
          ],
          "name": "stdout"
        },
        {
          "output_type": "stream",
          "text": [
            "ITERATION - loss: 6.093: 100%|██████████| 130/130 [03:40<00:00,  3.05it/s]"
          ],
          "name": "stderr"
        },
        {
          "output_type": "stream",
          "text": [
            "Training Results - Epoch: 2 Age L1-loss: 15.535 ** Gender accuracy: 0.822 ** Race accuracy: 0.642 ** Avg loss: 6.197\n"
          ],
          "name": "stdout"
        },
        {
          "output_type": "stream",
          "text": [
            "ITERATION - loss: 6.093: 100%|██████████| 130/130 [03:54<00:00,  3.05it/s]"
          ],
          "name": "stderr"
        },
        {
          "output_type": "stream",
          "text": [
            "Validation Results - Epoch: 2 Age L1-loss: 15.436 ** Gender accuracy: 0.802 ** Race accuracy: 0.623 ** Avg loss: 6.481\n"
          ],
          "name": "stdout"
        },
        {
          "output_type": "stream",
          "text": [
            "ITERATION - loss: 6.312: 100%|██████████| 130/130 [05:38<00:00,  3.05it/s]"
          ],
          "name": "stderr"
        },
        {
          "output_type": "stream",
          "text": [
            "Training Results - Epoch: 3 Age L1-loss: 15.425 ** Gender accuracy: 0.806 ** Race accuracy: 0.656 ** Avg loss: 6.258\n"
          ],
          "name": "stdout"
        },
        {
          "output_type": "stream",
          "text": [
            "ITERATION - loss: 6.312: 100%|██████████| 130/130 [05:53<00:00,  3.05it/s]"
          ],
          "name": "stderr"
        },
        {
          "output_type": "stream",
          "text": [
            "Validation Results - Epoch: 3 Age L1-loss: 15.322 ** Gender accuracy: 0.782 ** Race accuracy: 0.631 ** Avg loss: 6.664\n"
          ],
          "name": "stdout"
        },
        {
          "output_type": "stream",
          "text": [
            "ITERATION - loss: 6.221: 100%|██████████| 130/130 [07:37<00:00,  3.05it/s]"
          ],
          "name": "stderr"
        },
        {
          "output_type": "stream",
          "text": [
            "Training Results - Epoch: 4 Age L1-loss: 15.333 ** Gender accuracy: 0.810 ** Race accuracy: 0.659 ** Avg loss: 6.212\n"
          ],
          "name": "stdout"
        },
        {
          "output_type": "stream",
          "text": [
            "ITERATION - loss: 6.221: 100%|██████████| 130/130 [07:51<00:00,  3.05it/s]"
          ],
          "name": "stderr"
        },
        {
          "output_type": "stream",
          "text": [
            "Validation Results - Epoch: 4 Age L1-loss: 15.237 ** Gender accuracy: 0.793 ** Race accuracy: 0.622 ** Avg loss: 6.600\n"
          ],
          "name": "stdout"
        },
        {
          "output_type": "stream",
          "text": [
            "ITERATION - loss: 6.989: 100%|██████████| 130/130 [09:35<00:00,  3.06it/s]"
          ],
          "name": "stderr"
        },
        {
          "output_type": "stream",
          "text": [
            "Training Results - Epoch: 5 Age L1-loss: 15.264 ** Gender accuracy: 0.831 ** Race accuracy: 0.669 ** Avg loss: 5.890\n"
          ],
          "name": "stdout"
        },
        {
          "output_type": "stream",
          "text": [
            "ITERATION - loss: 6.989: 100%|██████████| 130/130 [09:49<00:00,  3.06it/s]"
          ],
          "name": "stderr"
        },
        {
          "output_type": "stream",
          "text": [
            "Validation Results - Epoch: 5 Age L1-loss: 15.174 ** Gender accuracy: 0.809 ** Race accuracy: 0.634 ** Avg loss: 6.288\n"
          ],
          "name": "stdout"
        },
        {
          "output_type": "stream",
          "text": [
            "ITERATION - loss: 5.762: 100%|██████████| 130/130 [11:35<00:00,  3.04it/s]"
          ],
          "name": "stderr"
        },
        {
          "output_type": "stream",
          "text": [
            "Training Results - Epoch: 6 Age L1-loss: 15.214 ** Gender accuracy: 0.780 ** Race accuracy: 0.666 ** Avg loss: 6.468\n"
          ],
          "name": "stdout"
        },
        {
          "output_type": "stream",
          "text": [
            "ITERATION - loss: 5.762: 100%|██████████| 130/130 [11:49<00:00,  3.04it/s]"
          ],
          "name": "stderr"
        },
        {
          "output_type": "stream",
          "text": [
            "Validation Results - Epoch: 6 Age L1-loss: 15.113 ** Gender accuracy: 0.758 ** Race accuracy: 0.633 ** Avg loss: 6.972\n"
          ],
          "name": "stdout"
        },
        {
          "output_type": "stream",
          "text": [
            "ITERATION - loss: 5.546: 100%|██████████| 130/130 [13:34<00:00,  3.05it/s]"
          ],
          "name": "stderr"
        },
        {
          "output_type": "stream",
          "text": [
            "Training Results - Epoch: 7 Age L1-loss: 15.192 ** Gender accuracy: 0.840 ** Race accuracy: 0.660 ** Avg loss: 5.900\n"
          ],
          "name": "stdout"
        },
        {
          "output_type": "stream",
          "text": [
            "ITERATION - loss: 5.546: 100%|██████████| 130/130 [13:48<00:00,  3.05it/s]"
          ],
          "name": "stderr"
        },
        {
          "output_type": "stream",
          "text": [
            "Validation Results - Epoch: 7 Age L1-loss: 15.106 ** Gender accuracy: 0.813 ** Race accuracy: 0.628 ** Avg loss: 6.385\n"
          ],
          "name": "stdout"
        },
        {
          "output_type": "stream",
          "text": [
            "ITERATION - loss: 6.393: 100%|██████████| 130/130 [15:33<00:00,  3.04it/s]"
          ],
          "name": "stderr"
        },
        {
          "output_type": "stream",
          "text": [
            "Training Results - Epoch: 8 Age L1-loss: 15.162 ** Gender accuracy: 0.830 ** Race accuracy: 0.690 ** Avg loss: 5.813\n"
          ],
          "name": "stdout"
        },
        {
          "output_type": "stream",
          "text": [
            "ITERATION - loss: 6.393: 100%|██████████| 130/130 [15:48<00:00,  3.04it/s]"
          ],
          "name": "stderr"
        },
        {
          "output_type": "stream",
          "text": [
            "Validation Results - Epoch: 8 Age L1-loss: 15.071 ** Gender accuracy: 0.801 ** Race accuracy: 0.652 ** Avg loss: 6.359\n"
          ],
          "name": "stdout"
        },
        {
          "output_type": "stream",
          "text": [
            "ITERATION - loss: 5.998: 100%|██████████| 130/130 [17:34<00:00,  3.05it/s]"
          ],
          "name": "stderr"
        },
        {
          "output_type": "stream",
          "text": [
            "Training Results - Epoch: 9 Age L1-loss: 15.198 ** Gender accuracy: 0.844 ** Race accuracy: 0.687 ** Avg loss: 5.674\n"
          ],
          "name": "stdout"
        },
        {
          "output_type": "stream",
          "text": [
            "ITERATION - loss: 5.998: 100%|██████████| 130/130 [17:49<00:00,  3.05it/s]"
          ],
          "name": "stderr"
        },
        {
          "output_type": "stream",
          "text": [
            "Validation Results - Epoch: 9 Age L1-loss: 15.129 ** Gender accuracy: 0.815 ** Race accuracy: 0.643 ** Avg loss: 6.204\n",
            "****Unfreezing frozen layers ... ***\n",
            "Number of trainable parameters : 23,771,336\n",
            "Number of non-trainable parameters : 0\n"
          ],
          "name": "stdout"
        },
        {
          "output_type": "stream",
          "text": [
            "ITERATION - loss: 4.946: 100%|██████████| 130/130 [21:21<00:00,  1.07s/it]"
          ],
          "name": "stderr"
        },
        {
          "output_type": "stream",
          "text": [
            "Training Results - Epoch: 10 Age L1-loss: 15.090 ** Gender accuracy: 0.965 ** Race accuracy: 0.865 ** Avg loss: 3.047\n"
          ],
          "name": "stdout"
        },
        {
          "output_type": "stream",
          "text": [
            "ITERATION - loss: 4.946: 100%|██████████| 130/130 [21:35<00:00,  1.07s/it]"
          ],
          "name": "stderr"
        },
        {
          "output_type": "stream",
          "text": [
            "Validation Results - Epoch: 10 Age L1-loss: 15.008 ** Gender accuracy: 0.915 ** Race accuracy: 0.786 ** Avg loss: 4.276\n"
          ],
          "name": "stdout"
        },
        {
          "output_type": "stream",
          "text": [
            "ITERATION - loss: 2.955: 100%|██████████| 130/130 [25:08<00:00,  1.07s/it]"
          ],
          "name": "stderr"
        },
        {
          "output_type": "stream",
          "text": [
            "Training Results - Epoch: 11 Age L1-loss: 15.052 ** Gender accuracy: 0.976 ** Race accuracy: 0.911 ** Avg loss: 2.521\n"
          ],
          "name": "stdout"
        },
        {
          "output_type": "stream",
          "text": [
            "ITERATION - loss: 2.955: 100%|██████████| 130/130 [25:21<00:00,  1.07s/it]"
          ],
          "name": "stderr"
        },
        {
          "output_type": "stream",
          "text": [
            "Validation Results - Epoch: 11 Age L1-loss: 14.942 ** Gender accuracy: 0.901 ** Race accuracy: 0.781 ** Avg loss: 4.861\n"
          ],
          "name": "stdout"
        },
        {
          "output_type": "stream",
          "text": [
            "ITERATION - loss: 3.235: 100%|██████████| 130/130 [28:51<00:00,  1.07s/it]"
          ],
          "name": "stderr"
        },
        {
          "output_type": "stream",
          "text": [
            "Training Results - Epoch: 12 Age L1-loss: 15.044 ** Gender accuracy: 0.982 ** Race accuracy: 0.943 ** Avg loss: 2.200\n"
          ],
          "name": "stdout"
        },
        {
          "output_type": "stream",
          "text": [
            "ITERATION - loss: 3.235: 100%|██████████| 130/130 [29:05<00:00,  1.07s/it]"
          ],
          "name": "stderr"
        },
        {
          "output_type": "stream",
          "text": [
            "Validation Results - Epoch: 12 Age L1-loss: 14.934 ** Gender accuracy: 0.904 ** Race accuracy: 0.792 ** Avg loss: 5.271\n"
          ],
          "name": "stdout"
        },
        {
          "output_type": "stream",
          "text": [
            "ITERATION - loss: 2.395: 100%|██████████| 130/130 [32:36<00:00,  1.07s/it]"
          ],
          "name": "stderr"
        },
        {
          "output_type": "stream",
          "text": [
            "Training Results - Epoch: 13 Age L1-loss: 15.049 ** Gender accuracy: 0.977 ** Race accuracy: 0.963 ** Avg loss: 2.119\n"
          ],
          "name": "stdout"
        },
        {
          "output_type": "stream",
          "text": [
            "ITERATION - loss: 2.395: 100%|██████████| 130/130 [32:49<00:00,  1.07s/it]"
          ],
          "name": "stderr"
        },
        {
          "output_type": "stream",
          "text": [
            "Validation Results - Epoch: 13 Age L1-loss: 14.945 ** Gender accuracy: 0.900 ** Race accuracy: 0.775 ** Avg loss: 5.893\n"
          ],
          "name": "stdout"
        },
        {
          "output_type": "stream",
          "text": [
            "ITERATION - loss: 1.885: 100%|██████████| 130/130 [36:19<00:00,  1.07s/it]"
          ],
          "name": "stderr"
        },
        {
          "output_type": "stream",
          "text": [
            "Training Results - Epoch: 14 Age L1-loss: 15.183 ** Gender accuracy: 0.991 ** Race accuracy: 0.954 ** Avg loss: 1.998\n"
          ],
          "name": "stdout"
        },
        {
          "output_type": "stream",
          "text": [
            "ITERATION - loss: 1.885: 100%|██████████| 130/130 [36:32<00:00,  1.07s/it]"
          ],
          "name": "stderr"
        },
        {
          "output_type": "stream",
          "text": [
            "Validation Results - Epoch: 14 Age L1-loss: 15.102 ** Gender accuracy: 0.909 ** Race accuracy: 0.781 ** Avg loss: 6.417\n"
          ],
          "name": "stdout"
        },
        {
          "output_type": "stream",
          "text": [
            "ITERATION - loss: 2.335: 100%|██████████| 130/130 [40:02<00:00,  1.07s/it]"
          ],
          "name": "stderr"
        },
        {
          "output_type": "stream",
          "text": [
            "Training Results - Epoch: 15 Age L1-loss: 15.032 ** Gender accuracy: 0.993 ** Race accuracy: 0.985 ** Avg loss: 1.746\n"
          ],
          "name": "stdout"
        },
        {
          "output_type": "stream",
          "text": [
            "ITERATION - loss: 2.335: 100%|██████████| 130/130 [40:15<00:00,  1.07s/it]"
          ],
          "name": "stderr"
        },
        {
          "output_type": "stream",
          "text": [
            "Validation Results - Epoch: 15 Age L1-loss: 14.926 ** Gender accuracy: 0.915 ** Race accuracy: 0.803 ** Avg loss: 5.865\n"
          ],
          "name": "stdout"
        },
        {
          "output_type": "stream",
          "text": [
            "ITERATION - loss: 1.877: 100%|██████████| 130/130 [43:46<00:00,  1.07s/it]"
          ],
          "name": "stderr"
        },
        {
          "output_type": "stream",
          "text": [
            "Training Results - Epoch: 16 Age L1-loss: 15.035 ** Gender accuracy: 0.991 ** Race accuracy: 0.980 ** Avg loss: 1.763\n"
          ],
          "name": "stdout"
        },
        {
          "output_type": "stream",
          "text": [
            "ITERATION - loss: 1.877: 100%|██████████| 130/130 [44:00<00:00,  1.07s/it]"
          ],
          "name": "stderr"
        },
        {
          "output_type": "stream",
          "text": [
            "Validation Results - Epoch: 16 Age L1-loss: 14.937 ** Gender accuracy: 0.904 ** Race accuracy: 0.806 ** Avg loss: 6.852\n"
          ],
          "name": "stdout"
        },
        {
          "output_type": "stream",
          "text": [
            "ITERATION - loss: 2.123: 100%|██████████| 130/130 [47:29<00:00,  1.06s/it]"
          ],
          "name": "stderr"
        },
        {
          "output_type": "stream",
          "text": [
            "Training Results - Epoch: 17 Age L1-loss: 15.073 ** Gender accuracy: 0.994 ** Race accuracy: 0.987 ** Avg loss: 1.693\n"
          ],
          "name": "stdout"
        },
        {
          "output_type": "stream",
          "text": [
            "ITERATION - loss: 2.123: 100%|██████████| 130/130 [47:42<00:00,  1.06s/it]"
          ],
          "name": "stderr"
        },
        {
          "output_type": "stream",
          "text": [
            "Validation Results - Epoch: 17 Age L1-loss: 14.948 ** Gender accuracy: 0.919 ** Race accuracy: 0.799 ** Avg loss: 6.312\n"
          ],
          "name": "stdout"
        },
        {
          "output_type": "stream",
          "text": [
            "ITERATION - loss: 1.658: 100%|██████████| 130/130 [51:11<00:00,  1.06s/it]"
          ],
          "name": "stderr"
        },
        {
          "output_type": "stream",
          "text": [
            "Training Results - Epoch: 18 Age L1-loss: 15.303 ** Gender accuracy: 0.989 ** Race accuracy: 0.983 ** Avg loss: 1.826\n"
          ],
          "name": "stdout"
        },
        {
          "output_type": "stream",
          "text": [
            "ITERATION - loss: 1.658: 100%|██████████| 130/130 [51:25<00:00,  1.06s/it]"
          ],
          "name": "stderr"
        },
        {
          "output_type": "stream",
          "text": [
            "Validation Results - Epoch: 18 Age L1-loss: 15.148 ** Gender accuracy: 0.911 ** Race accuracy: 0.796 ** Avg loss: 6.311\n"
          ],
          "name": "stdout"
        },
        {
          "output_type": "stream",
          "text": [
            "ITERATION - loss: 2.469: 100%|██████████| 130/130 [54:55<00:00,  1.07s/it]"
          ],
          "name": "stderr"
        },
        {
          "output_type": "stream",
          "text": [
            "Training Results - Epoch: 19 Age L1-loss: 15.125 ** Gender accuracy: 0.990 ** Race accuracy: 0.948 ** Avg loss: 2.074\n"
          ],
          "name": "stdout"
        },
        {
          "output_type": "stream",
          "text": [
            "ITERATION - loss: 2.469: 100%|██████████| 130/130 [55:08<00:00,  1.07s/it]"
          ],
          "name": "stderr"
        },
        {
          "output_type": "stream",
          "text": [
            "Validation Results - Epoch: 19 Age L1-loss: 15.044 ** Gender accuracy: 0.913 ** Race accuracy: 0.777 ** Avg loss: 6.876\n"
          ],
          "name": "stdout"
        },
        {
          "output_type": "stream",
          "text": [
            "ITERATION - loss: 1.640: 100%|██████████| 130/130 [58:39<00:00,  1.06s/it]"
          ],
          "name": "stderr"
        },
        {
          "output_type": "stream",
          "text": [
            "Training Results - Epoch: 20 Age L1-loss: 15.182 ** Gender accuracy: 0.996 ** Race accuracy: 0.981 ** Avg loss: 1.709\n"
          ],
          "name": "stdout"
        },
        {
          "output_type": "stream",
          "text": [
            "ITERATION - loss: 1.640: 100%|██████████| 130/130 [58:52<00:00,  1.06s/it]"
          ],
          "name": "stderr"
        },
        {
          "output_type": "stream",
          "text": [
            "Validation Results - Epoch: 20 Age L1-loss: 15.032 ** Gender accuracy: 0.926 ** Race accuracy: 0.793 ** Avg loss: 6.356\n"
          ],
          "name": "stdout"
        },
        {
          "output_type": "stream",
          "text": [
            "ITERATION - loss: 1.853: 100%|██████████| 130/130 [1:02:23<00:00,  1.07s/it]"
          ],
          "name": "stderr"
        },
        {
          "output_type": "stream",
          "text": [
            "Training Results - Epoch: 21 Age L1-loss: 15.021 ** Gender accuracy: 0.996 ** Race accuracy: 0.983 ** Avg loss: 1.692\n"
          ],
          "name": "stdout"
        },
        {
          "output_type": "stream",
          "text": [
            "ITERATION - loss: 1.853: 100%|██████████| 130/130 [1:02:37<00:00,  1.07s/it]"
          ],
          "name": "stderr"
        },
        {
          "output_type": "stream",
          "text": [
            "Validation Results - Epoch: 21 Age L1-loss: 14.919 ** Gender accuracy: 0.919 ** Race accuracy: 0.811 ** Avg loss: 6.508\n"
          ],
          "name": "stdout"
        },
        {
          "output_type": "stream",
          "text": [
            "ITERATION - loss: 2.145: 100%|██████████| 130/130 [1:06:08<00:00,  1.07s/it]"
          ],
          "name": "stderr"
        },
        {
          "output_type": "stream",
          "text": [
            "Training Results - Epoch: 22 Age L1-loss: 15.200 ** Gender accuracy: 0.989 ** Race accuracy: 0.966 ** Avg loss: 1.919\n"
          ],
          "name": "stdout"
        },
        {
          "output_type": "stream",
          "text": [
            "ITERATION - loss: 2.145: 100%|██████████| 130/130 [1:06:21<00:00,  1.07s/it]"
          ],
          "name": "stderr"
        },
        {
          "output_type": "stream",
          "text": [
            "Validation Results - Epoch: 22 Age L1-loss: 15.129 ** Gender accuracy: 0.912 ** Race accuracy: 0.789 ** Avg loss: 6.666\n"
          ],
          "name": "stdout"
        },
        {
          "output_type": "stream",
          "text": [
            "ITERATION - loss: 1.747: 100%|██████████| 130/130 [1:09:53<00:00,  1.08s/it]"
          ],
          "name": "stderr"
        },
        {
          "output_type": "stream",
          "text": [
            "Training Results - Epoch: 23 Age L1-loss: 15.066 ** Gender accuracy: 0.997 ** Race accuracy: 0.989 ** Avg loss: 1.628\n"
          ],
          "name": "stdout"
        },
        {
          "output_type": "stream",
          "text": [
            "ITERATION - loss: 1.747: 100%|██████████| 130/130 [1:10:06<00:00,  1.08s/it]"
          ],
          "name": "stderr"
        },
        {
          "output_type": "stream",
          "text": [
            "Validation Results - Epoch: 23 Age L1-loss: 14.975 ** Gender accuracy: 0.922 ** Race accuracy: 0.805 ** Avg loss: 6.545\n"
          ],
          "name": "stdout"
        },
        {
          "output_type": "stream",
          "text": [
            "ITERATION - loss: 1.898: 100%|██████████| 130/130 [1:13:37<00:00,  1.07s/it]"
          ],
          "name": "stderr"
        },
        {
          "output_type": "stream",
          "text": [
            "Training Results - Epoch: 24 Age L1-loss: 15.021 ** Gender accuracy: 0.995 ** Race accuracy: 0.974 ** Avg loss: 1.767\n"
          ],
          "name": "stdout"
        },
        {
          "output_type": "stream",
          "text": [
            "ITERATION - loss: 1.898: 100%|██████████| 130/130 [1:13:50<00:00,  1.07s/it]"
          ],
          "name": "stderr"
        },
        {
          "output_type": "stream",
          "text": [
            "Validation Results - Epoch: 24 Age L1-loss: 14.916 ** Gender accuracy: 0.909 ** Race accuracy: 0.787 ** Avg loss: 6.800\n"
          ],
          "name": "stdout"
        },
        {
          "output_type": "stream",
          "text": [
            "ITERATION - loss: 1.898: 100%|██████████| 130/130 [1:17:19<00:00,  1.07s/it]"
          ],
          "name": "stderr"
        },
        {
          "output_type": "stream",
          "text": [
            "Training Results - Epoch: 25 Age L1-loss: 15.029 ** Gender accuracy: 0.997 ** Race accuracy: 0.992 ** Avg loss: 1.598\n"
          ],
          "name": "stdout"
        },
        {
          "output_type": "stream",
          "text": [
            "ITERATION - loss: 1.898: 100%|██████████| 130/130 [1:17:33<00:00,  1.07s/it]"
          ],
          "name": "stderr"
        },
        {
          "output_type": "stream",
          "text": [
            "Validation Results - Epoch: 25 Age L1-loss: 14.925 ** Gender accuracy: 0.917 ** Race accuracy: 0.807 ** Avg loss: 6.633\n"
          ],
          "name": "stdout"
        },
        {
          "output_type": "stream",
          "text": [
            "ITERATION - loss: 2.138: 100%|██████████| 130/130 [1:21:03<00:00,  1.06s/it]"
          ],
          "name": "stderr"
        },
        {
          "output_type": "stream",
          "text": [
            "Training Results - Epoch: 26 Age L1-loss: 15.013 ** Gender accuracy: 0.993 ** Race accuracy: 0.928 ** Avg loss: 2.251\n"
          ],
          "name": "stdout"
        },
        {
          "output_type": "stream",
          "text": [
            "ITERATION - loss: 2.138: 100%|██████████| 130/130 [1:21:16<00:00,  1.06s/it]"
          ],
          "name": "stderr"
        },
        {
          "output_type": "stream",
          "text": [
            "Validation Results - Epoch: 26 Age L1-loss: 14.905 ** Gender accuracy: 0.908 ** Race accuracy: 0.760 ** Avg loss: 8.684\n"
          ],
          "name": "stdout"
        },
        {
          "output_type": "stream",
          "text": [
            "ITERATION - loss: 1.746: 100%|██████████| 130/130 [1:24:45<00:00,  1.06s/it]"
          ],
          "name": "stderr"
        },
        {
          "output_type": "stream",
          "text": [
            "Training Results - Epoch: 27 Age L1-loss: 15.144 ** Gender accuracy: 0.996 ** Race accuracy: 0.981 ** Avg loss: 1.711\n"
          ],
          "name": "stdout"
        },
        {
          "output_type": "stream",
          "text": [
            "ITERATION - loss: 1.746: 100%|██████████| 130/130 [1:24:59<00:00,  1.06s/it]"
          ],
          "name": "stderr"
        },
        {
          "output_type": "stream",
          "text": [
            "Validation Results - Epoch: 27 Age L1-loss: 15.064 ** Gender accuracy: 0.917 ** Race accuracy: 0.801 ** Avg loss: 7.580\n"
          ],
          "name": "stdout"
        },
        {
          "output_type": "stream",
          "text": [
            "ITERATION - loss: 1.899: 100%|██████████| 130/130 [1:28:28<00:00,  1.08s/it]"
          ],
          "name": "stderr"
        },
        {
          "output_type": "stream",
          "text": [
            "Training Results - Epoch: 28 Age L1-loss: 15.013 ** Gender accuracy: 0.997 ** Race accuracy: 0.990 ** Avg loss: 1.617\n"
          ],
          "name": "stdout"
        },
        {
          "output_type": "stream",
          "text": [
            "ITERATION - loss: 1.899: 100%|██████████| 130/130 [1:28:41<00:00,  1.08s/it]"
          ],
          "name": "stderr"
        },
        {
          "output_type": "stream",
          "text": [
            "Validation Results - Epoch: 28 Age L1-loss: 14.909 ** Gender accuracy: 0.914 ** Race accuracy: 0.803 ** Avg loss: 7.586\n"
          ],
          "name": "stdout"
        },
        {
          "output_type": "stream",
          "text": [
            "ITERATION - loss: 1.813: 100%|██████████| 130/130 [1:32:11<00:00,  1.07s/it]"
          ],
          "name": "stderr"
        },
        {
          "output_type": "stream",
          "text": [
            "Training Results - Epoch: 29 Age L1-loss: 15.448 ** Gender accuracy: 0.998 ** Race accuracy: 0.987 ** Avg loss: 1.670\n"
          ],
          "name": "stdout"
        },
        {
          "output_type": "stream",
          "text": [
            "ITERATION - loss: 1.813: 100%|██████████| 130/130 [1:32:24<00:00,  1.07s/it]"
          ],
          "name": "stderr"
        },
        {
          "output_type": "stream",
          "text": [
            "Validation Results - Epoch: 29 Age L1-loss: 15.378 ** Gender accuracy: 0.921 ** Race accuracy: 0.796 ** Avg loss: 7.049\n"
          ],
          "name": "stdout"
        },
        {
          "output_type": "stream",
          "text": [
            "ITERATION - loss: 1.815: 100%|██████████| 130/130 [1:35:54<00:00,  1.07s/it]"
          ],
          "name": "stderr"
        },
        {
          "output_type": "stream",
          "text": [
            "Training Results - Epoch: 30 Age L1-loss: 15.016 ** Gender accuracy: 0.998 ** Race accuracy: 0.991 ** Avg loss: 1.585\n"
          ],
          "name": "stdout"
        },
        {
          "output_type": "stream",
          "text": [
            "ITERATION - loss: 1.815: 100%|██████████| 130/130 [1:36:08<00:00,  1.07s/it]"
          ],
          "name": "stderr"
        },
        {
          "output_type": "stream",
          "text": [
            "Validation Results - Epoch: 30 Age L1-loss: 14.913 ** Gender accuracy: 0.918 ** Race accuracy: 0.808 ** Avg loss: 7.282\n"
          ],
          "name": "stdout"
        },
        {
          "output_type": "stream",
          "text": [
            "ITERATION - loss: 1.490: 100%|██████████| 130/130 [1:39:41<00:00,  1.08s/it]"
          ],
          "name": "stderr"
        },
        {
          "output_type": "stream",
          "text": [
            "Training Results - Epoch: 31 Age L1-loss: 15.019 ** Gender accuracy: 0.998 ** Race accuracy: 0.995 ** Avg loss: 1.564\n"
          ],
          "name": "stdout"
        },
        {
          "output_type": "stream",
          "text": [
            "ITERATION - loss: 1.490: 100%|██████████| 130/130 [1:39:54<00:00,  1.08s/it]"
          ],
          "name": "stderr"
        },
        {
          "output_type": "stream",
          "text": [
            "Validation Results - Epoch: 31 Age L1-loss: 14.903 ** Gender accuracy: 0.916 ** Race accuracy: 0.813 ** Avg loss: 7.831\n"
          ],
          "name": "stdout"
        },
        {
          "output_type": "stream",
          "text": [
            "ITERATION - loss: 1.456: 100%|██████████| 130/130 [1:43:26<00:00,  1.08s/it]"
          ],
          "name": "stderr"
        },
        {
          "output_type": "stream",
          "text": [
            "Training Results - Epoch: 32 Age L1-loss: 15.171 ** Gender accuracy: 0.989 ** Race accuracy: 0.978 ** Avg loss: 1.879\n"
          ],
          "name": "stdout"
        },
        {
          "output_type": "stream",
          "text": [
            "ITERATION - loss: 1.456: 100%|██████████| 130/130 [1:43:39<00:00,  1.08s/it]"
          ],
          "name": "stderr"
        },
        {
          "output_type": "stream",
          "text": [
            "Validation Results - Epoch: 32 Age L1-loss: 15.097 ** Gender accuracy: 0.903 ** Race accuracy: 0.785 ** Avg loss: 8.416\n"
          ],
          "name": "stdout"
        },
        {
          "output_type": "stream",
          "text": [
            "ITERATION - loss: 1.850: 100%|██████████| 130/130 [1:47:09<00:00,  1.07s/it]"
          ],
          "name": "stderr"
        },
        {
          "output_type": "stream",
          "text": [
            "Training Results - Epoch: 33 Age L1-loss: 15.427 ** Gender accuracy: 0.997 ** Race accuracy: 0.989 ** Avg loss: 1.656\n"
          ],
          "name": "stdout"
        },
        {
          "output_type": "stream",
          "text": [
            "ITERATION - loss: 1.850: 100%|██████████| 130/130 [1:47:22<00:00,  1.07s/it]"
          ],
          "name": "stderr"
        },
        {
          "output_type": "stream",
          "text": [
            "Validation Results - Epoch: 33 Age L1-loss: 15.360 ** Gender accuracy: 0.918 ** Race accuracy: 0.805 ** Avg loss: 7.160\n"
          ],
          "name": "stdout"
        },
        {
          "output_type": "stream",
          "text": [
            "ITERATION - loss: 1.586: 100%|██████████| 130/130 [1:50:53<00:00,  1.07s/it]"
          ],
          "name": "stderr"
        },
        {
          "output_type": "stream",
          "text": [
            "Training Results - Epoch: 34 Age L1-loss: 15.059 ** Gender accuracy: 0.992 ** Race accuracy: 0.974 ** Avg loss: 1.837\n"
          ],
          "name": "stdout"
        },
        {
          "output_type": "stream",
          "text": [
            "ITERATION - loss: 1.586: 100%|██████████| 130/130 [1:51:06<00:00,  1.07s/it]"
          ],
          "name": "stderr"
        },
        {
          "output_type": "stream",
          "text": [
            "Validation Results - Epoch: 34 Age L1-loss: 14.970 ** Gender accuracy: 0.913 ** Race accuracy: 0.801 ** Avg loss: 7.740\n"
          ],
          "name": "stdout"
        },
        {
          "output_type": "stream",
          "text": [
            "ITERATION - loss: 1.788: 100%|██████████| 130/130 [1:54:36<00:00,  1.07s/it]"
          ],
          "name": "stderr"
        },
        {
          "output_type": "stream",
          "text": [
            "Training Results - Epoch: 35 Age L1-loss: 15.111 ** Gender accuracy: 0.994 ** Race accuracy: 0.979 ** Avg loss: 1.754\n"
          ],
          "name": "stdout"
        },
        {
          "output_type": "stream",
          "text": [
            "ITERATION - loss: 1.788: 100%|██████████| 130/130 [1:54:49<00:00,  1.07s/it]"
          ],
          "name": "stderr"
        },
        {
          "output_type": "stream",
          "text": [
            "Validation Results - Epoch: 35 Age L1-loss: 15.035 ** Gender accuracy: 0.913 ** Race accuracy: 0.801 ** Avg loss: 7.291\n"
          ],
          "name": "stdout"
        },
        {
          "output_type": "stream",
          "text": [
            "ITERATION - loss: 1.564: 100%|██████████| 130/130 [1:58:21<00:00,  1.07s/it]"
          ],
          "name": "stderr"
        },
        {
          "output_type": "stream",
          "text": [
            "Training Results - Epoch: 36 Age L1-loss: 15.022 ** Gender accuracy: 0.996 ** Race accuracy: 0.992 ** Avg loss: 1.606\n"
          ],
          "name": "stdout"
        },
        {
          "output_type": "stream",
          "text": [
            "ITERATION - loss: 1.564: 100%|██████████| 130/130 [1:58:34<00:00,  1.07s/it]"
          ],
          "name": "stderr"
        },
        {
          "output_type": "stream",
          "text": [
            "Validation Results - Epoch: 36 Age L1-loss: 14.925 ** Gender accuracy: 0.919 ** Race accuracy: 0.801 ** Avg loss: 7.436\n"
          ],
          "name": "stdout"
        },
        {
          "output_type": "stream",
          "text": [
            "ITERATION - loss: 1.587: 100%|██████████| 130/130 [2:02:05<00:00,  1.07s/it]"
          ],
          "name": "stderr"
        },
        {
          "output_type": "stream",
          "text": [
            "Training Results - Epoch: 37 Age L1-loss: 15.013 ** Gender accuracy: 0.998 ** Race accuracy: 0.991 ** Avg loss: 1.586\n"
          ],
          "name": "stdout"
        },
        {
          "output_type": "stream",
          "text": [
            "ITERATION - loss: 1.587: 100%|██████████| 130/130 [2:02:18<00:00,  1.07s/it]"
          ],
          "name": "stderr"
        },
        {
          "output_type": "stream",
          "text": [
            "Validation Results - Epoch: 37 Age L1-loss: 14.908 ** Gender accuracy: 0.925 ** Race accuracy: 0.814 ** Avg loss: 7.165\n"
          ],
          "name": "stdout"
        },
        {
          "output_type": "stream",
          "text": [
            "ITERATION - loss: 1.637: 100%|██████████| 130/130 [2:05:48<00:00,  1.07s/it]"
          ],
          "name": "stderr"
        },
        {
          "output_type": "stream",
          "text": [
            "Training Results - Epoch: 38 Age L1-loss: 15.024 ** Gender accuracy: 0.997 ** Race accuracy: 0.993 ** Avg loss: 1.600\n"
          ],
          "name": "stdout"
        },
        {
          "output_type": "stream",
          "text": [
            "ITERATION - loss: 1.637: 100%|██████████| 130/130 [2:06:02<00:00,  1.07s/it]"
          ],
          "name": "stderr"
        },
        {
          "output_type": "stream",
          "text": [
            "Validation Results - Epoch: 38 Age L1-loss: 14.903 ** Gender accuracy: 0.919 ** Race accuracy: 0.806 ** Avg loss: 7.429\n"
          ],
          "name": "stdout"
        },
        {
          "output_type": "stream",
          "text": [
            "ITERATION - loss: 1.992: 100%|██████████| 130/130 [2:09:31<00:00,  1.07s/it]"
          ],
          "name": "stderr"
        },
        {
          "output_type": "stream",
          "text": [
            "Training Results - Epoch: 39 Age L1-loss: 15.012 ** Gender accuracy: 0.993 ** Race accuracy: 0.986 ** Avg loss: 1.712\n"
          ],
          "name": "stdout"
        },
        {
          "output_type": "stream",
          "text": [
            "ITERATION - loss: 1.992: 100%|██████████| 130/130 [2:09:45<00:00,  1.07s/it]"
          ],
          "name": "stderr"
        },
        {
          "output_type": "stream",
          "text": [
            "Validation Results - Epoch: 39 Age L1-loss: 14.910 ** Gender accuracy: 0.911 ** Race accuracy: 0.808 ** Avg loss: 7.024\n"
          ],
          "name": "stdout"
        },
        {
          "output_type": "stream",
          "text": [
            "ITERATION - loss: 1.815: 100%|██████████| 130/130 [2:13:16<00:00,  1.08s/it]"
          ],
          "name": "stderr"
        },
        {
          "output_type": "stream",
          "text": [
            "Training Results - Epoch: 40 Age L1-loss: 15.045 ** Gender accuracy: 0.998 ** Race accuracy: 0.986 ** Avg loss: 1.634\n"
          ],
          "name": "stdout"
        },
        {
          "output_type": "stream",
          "text": [
            "ITERATION - loss: 1.815: 100%|██████████| 130/130 [2:13:30<00:00,  1.08s/it]"
          ],
          "name": "stderr"
        },
        {
          "output_type": "stream",
          "text": [
            "Validation Results - Epoch: 40 Age L1-loss: 14.949 ** Gender accuracy: 0.922 ** Race accuracy: 0.804 ** Avg loss: 7.191\n"
          ],
          "name": "stdout"
        },
        {
          "output_type": "stream",
          "text": [
            "ITERATION - loss: 1.890: 100%|██████████| 130/130 [2:17:02<00:00,  1.07s/it]"
          ],
          "name": "stderr"
        },
        {
          "output_type": "stream",
          "text": [
            "Training Results - Epoch: 41 Age L1-loss: 15.048 ** Gender accuracy: 0.998 ** Race accuracy: 0.996 ** Avg loss: 1.562\n"
          ],
          "name": "stdout"
        },
        {
          "output_type": "stream",
          "text": [
            "ITERATION - loss: 1.890: 100%|██████████| 130/130 [2:17:16<00:00,  1.07s/it]"
          ],
          "name": "stderr"
        },
        {
          "output_type": "stream",
          "text": [
            "Validation Results - Epoch: 41 Age L1-loss: 14.921 ** Gender accuracy: 0.920 ** Race accuracy: 0.820 ** Avg loss: 6.882\n"
          ],
          "name": "stdout"
        },
        {
          "output_type": "stream",
          "text": [
            "ITERATION - loss: 1.669: 100%|██████████| 130/130 [2:20:46<00:00,  1.07s/it]"
          ],
          "name": "stderr"
        },
        {
          "output_type": "stream",
          "text": [
            "Training Results - Epoch: 42 Age L1-loss: 15.048 ** Gender accuracy: 0.998 ** Race accuracy: 0.993 ** Avg loss: 1.575\n"
          ],
          "name": "stdout"
        },
        {
          "output_type": "stream",
          "text": [
            "ITERATION - loss: 1.669: 100%|██████████| 130/130 [2:21:00<00:00,  1.07s/it]"
          ],
          "name": "stderr"
        },
        {
          "output_type": "stream",
          "text": [
            "Validation Results - Epoch: 42 Age L1-loss: 14.954 ** Gender accuracy: 0.923 ** Race accuracy: 0.807 ** Avg loss: 7.299\n"
          ],
          "name": "stdout"
        },
        {
          "output_type": "stream",
          "text": [
            "ITERATION - loss: 1.819: 100%|██████████| 130/130 [2:24:31<00:00,  1.07s/it]"
          ],
          "name": "stderr"
        },
        {
          "output_type": "stream",
          "text": [
            "Training Results - Epoch: 43 Age L1-loss: 15.052 ** Gender accuracy: 0.997 ** Race accuracy: 0.994 ** Avg loss: 1.594\n"
          ],
          "name": "stdout"
        },
        {
          "output_type": "stream",
          "text": [
            "ITERATION - loss: 1.819: 100%|██████████| 130/130 [2:24:44<00:00,  1.07s/it]"
          ],
          "name": "stderr"
        },
        {
          "output_type": "stream",
          "text": [
            "Validation Results - Epoch: 43 Age L1-loss: 14.953 ** Gender accuracy: 0.913 ** Race accuracy: 0.807 ** Avg loss: 7.272\n"
          ],
          "name": "stdout"
        },
        {
          "output_type": "stream",
          "text": [
            "ITERATION - loss: 1.649: 100%|██████████| 130/130 [2:28:15<00:00,  1.07s/it]"
          ],
          "name": "stderr"
        },
        {
          "output_type": "stream",
          "text": [
            "Training Results - Epoch: 44 Age L1-loss: 15.042 ** Gender accuracy: 0.997 ** Race accuracy: 0.994 ** Avg loss: 1.587\n"
          ],
          "name": "stdout"
        },
        {
          "output_type": "stream",
          "text": [
            "ITERATION - loss: 1.649: 100%|██████████| 130/130 [2:28:29<00:00,  1.07s/it]"
          ],
          "name": "stderr"
        },
        {
          "output_type": "stream",
          "text": [
            "Validation Results - Epoch: 44 Age L1-loss: 14.940 ** Gender accuracy: 0.922 ** Race accuracy: 0.811 ** Avg loss: 7.256\n"
          ],
          "name": "stdout"
        },
        {
          "output_type": "stream",
          "text": [
            "ITERATION - loss: 1.485: 100%|██████████| 130/130 [2:31:59<00:00,  1.07s/it]"
          ],
          "name": "stderr"
        },
        {
          "output_type": "stream",
          "text": [
            "Training Results - Epoch: 45 Age L1-loss: 15.051 ** Gender accuracy: 0.998 ** Race accuracy: 0.987 ** Avg loss: 1.612\n"
          ],
          "name": "stdout"
        },
        {
          "output_type": "stream",
          "text": [
            "ITERATION - loss: 1.485: 100%|██████████| 130/130 [2:32:12<00:00,  1.07s/it]"
          ],
          "name": "stderr"
        },
        {
          "output_type": "stream",
          "text": [
            "Validation Results - Epoch: 45 Age L1-loss: 14.920 ** Gender accuracy: 0.927 ** Race accuracy: 0.800 ** Avg loss: 8.209\n"
          ],
          "name": "stdout"
        },
        {
          "output_type": "stream",
          "text": [
            "ITERATION - loss: 1.688: 100%|██████████| 130/130 [2:35:44<00:00,  1.07s/it]"
          ],
          "name": "stderr"
        },
        {
          "output_type": "stream",
          "text": [
            "Training Results - Epoch: 46 Age L1-loss: 15.168 ** Gender accuracy: 0.996 ** Race accuracy: 0.993 ** Avg loss: 1.630\n"
          ],
          "name": "stdout"
        },
        {
          "output_type": "stream",
          "text": [
            "ITERATION - loss: 1.688: 100%|██████████| 130/130 [2:35:57<00:00,  1.07s/it]"
          ],
          "name": "stderr"
        },
        {
          "output_type": "stream",
          "text": [
            "Validation Results - Epoch: 46 Age L1-loss: 15.085 ** Gender accuracy: 0.923 ** Race accuracy: 0.812 ** Avg loss: 7.659\n"
          ],
          "name": "stdout"
        },
        {
          "output_type": "stream",
          "text": [
            "ITERATION - loss: 1.470: 100%|██████████| 130/130 [2:39:27<00:00,  1.07s/it]"
          ],
          "name": "stderr"
        },
        {
          "output_type": "stream",
          "text": [
            "Training Results - Epoch: 47 Age L1-loss: 15.061 ** Gender accuracy: 0.995 ** Race accuracy: 0.992 ** Avg loss: 1.660\n"
          ],
          "name": "stdout"
        },
        {
          "output_type": "stream",
          "text": [
            "ITERATION - loss: 1.470: 100%|██████████| 130/130 [2:39:40<00:00,  1.07s/it]"
          ],
          "name": "stderr"
        },
        {
          "output_type": "stream",
          "text": [
            "Validation Results - Epoch: 47 Age L1-loss: 14.924 ** Gender accuracy: 0.923 ** Race accuracy: 0.809 ** Avg loss: 7.250\n"
          ],
          "name": "stdout"
        },
        {
          "output_type": "stream",
          "text": [
            "ITERATION - loss: 2.362: 100%|██████████| 130/130 [2:43:09<00:00,  1.07s/it]"
          ],
          "name": "stderr"
        },
        {
          "output_type": "stream",
          "text": [
            "Training Results - Epoch: 48 Age L1-loss: 15.129 ** Gender accuracy: 0.989 ** Race accuracy: 0.986 ** Avg loss: 1.824\n"
          ],
          "name": "stdout"
        },
        {
          "output_type": "stream",
          "text": [
            "ITERATION - loss: 2.362: 100%|██████████| 130/130 [2:43:22<00:00,  1.07s/it]"
          ],
          "name": "stderr"
        },
        {
          "output_type": "stream",
          "text": [
            "Validation Results - Epoch: 48 Age L1-loss: 14.975 ** Gender accuracy: 0.909 ** Race accuracy: 0.817 ** Avg loss: 7.714\n"
          ],
          "name": "stdout"
        },
        {
          "output_type": "stream",
          "text": [
            "ITERATION - loss: 1.751: 100%|██████████| 130/130 [2:46:52<00:00,  1.07s/it]"
          ],
          "name": "stderr"
        },
        {
          "output_type": "stream",
          "text": [
            "Training Results - Epoch: 49 Age L1-loss: 15.031 ** Gender accuracy: 0.998 ** Race accuracy: 0.986 ** Avg loss: 1.613\n"
          ],
          "name": "stdout"
        },
        {
          "output_type": "stream",
          "text": [
            "ITERATION - loss: 1.751: 100%|██████████| 130/130 [2:47:05<00:00,  1.07s/it]"
          ],
          "name": "stderr"
        },
        {
          "output_type": "stream",
          "text": [
            "Validation Results - Epoch: 49 Age L1-loss: 14.937 ** Gender accuracy: 0.928 ** Race accuracy: 0.808 ** Avg loss: 6.863\n"
          ],
          "name": "stdout"
        },
        {
          "output_type": "stream",
          "text": [
            "ITERATION - loss: 1.549: 100%|██████████| 130/130 [2:50:35<00:00,  1.08s/it]"
          ],
          "name": "stderr"
        },
        {
          "output_type": "stream",
          "text": [
            "Training Results - Epoch: 50 Age L1-loss: 15.110 ** Gender accuracy: 0.998 ** Race accuracy: 0.993 ** Avg loss: 1.575\n"
          ],
          "name": "stdout"
        },
        {
          "output_type": "stream",
          "text": [
            "ITERATION - loss: 1.549: 100%|██████████| 130/130 [2:50:48<00:00,  1.08s/it]"
          ],
          "name": "stderr"
        },
        {
          "output_type": "stream",
          "text": [
            "Validation Results - Epoch: 50 Age L1-loss: 15.023 ** Gender accuracy: 0.920 ** Race accuracy: 0.814 ** Avg loss: 7.241\n"
          ],
          "name": "stdout"
        },
        {
          "output_type": "stream",
          "text": [
            "ITERATION - loss: 1.583: 100%|██████████| 130/130 [2:54:21<00:00,  1.07s/it]"
          ],
          "name": "stderr"
        },
        {
          "output_type": "stream",
          "text": [
            "Training Results - Epoch: 51 Age L1-loss: 15.064 ** Gender accuracy: 0.997 ** Race accuracy: 0.989 ** Avg loss: 1.631\n"
          ],
          "name": "stdout"
        },
        {
          "output_type": "stream",
          "text": [
            "ITERATION - loss: 1.583: 100%|██████████| 130/130 [2:54:35<00:00,  1.07s/it]"
          ],
          "name": "stderr"
        },
        {
          "output_type": "stream",
          "text": [
            "Validation Results - Epoch: 51 Age L1-loss: 14.927 ** Gender accuracy: 0.916 ** Race accuracy: 0.807 ** Avg loss: 7.241\n"
          ],
          "name": "stdout"
        },
        {
          "output_type": "stream",
          "text": [
            "ITERATION - loss: 1.779: 100%|██████████| 130/130 [2:58:06<00:00,  1.07s/it]"
          ],
          "name": "stderr"
        },
        {
          "output_type": "stream",
          "text": [
            "Training Results - Epoch: 52 Age L1-loss: 15.013 ** Gender accuracy: 0.998 ** Race accuracy: 0.992 ** Avg loss: 1.580\n"
          ],
          "name": "stdout"
        },
        {
          "output_type": "stream",
          "text": [
            "ITERATION - loss: 1.779: 100%|██████████| 130/130 [2:58:20<00:00,  1.07s/it]"
          ],
          "name": "stderr"
        },
        {
          "output_type": "stream",
          "text": [
            "Validation Results - Epoch: 52 Age L1-loss: 14.909 ** Gender accuracy: 0.915 ** Race accuracy: 0.810 ** Avg loss: 7.896\n"
          ],
          "name": "stdout"
        },
        {
          "output_type": "stream",
          "text": [
            "ITERATION - loss: 1.948: 100%|██████████| 130/130 [3:01:50<00:00,  1.07s/it]"
          ],
          "name": "stderr"
        },
        {
          "output_type": "stream",
          "text": [
            "Training Results - Epoch: 53 Age L1-loss: 15.015 ** Gender accuracy: 0.999 ** Race accuracy: 0.997 ** Avg loss: 1.538\n"
          ],
          "name": "stdout"
        },
        {
          "output_type": "stream",
          "text": [
            "ITERATION - loss: 1.948: 100%|██████████| 130/130 [3:02:03<00:00,  1.07s/it]"
          ],
          "name": "stderr"
        },
        {
          "output_type": "stream",
          "text": [
            "Validation Results - Epoch: 53 Age L1-loss: 14.901 ** Gender accuracy: 0.927 ** Race accuracy: 0.821 ** Avg loss: 6.944\n"
          ],
          "name": "stdout"
        },
        {
          "output_type": "stream",
          "text": [
            "ITERATION - loss: 1.575: 100%|██████████| 130/130 [3:05:34<00:00,  1.07s/it]"
          ],
          "name": "stderr"
        },
        {
          "output_type": "stream",
          "text": [
            "Training Results - Epoch: 54 Age L1-loss: 15.036 ** Gender accuracy: 0.999 ** Race accuracy: 0.996 ** Avg loss: 1.538\n"
          ],
          "name": "stdout"
        },
        {
          "output_type": "stream",
          "text": [
            "ITERATION - loss: 1.575: 100%|██████████| 130/130 [3:05:47<00:00,  1.07s/it]"
          ],
          "name": "stderr"
        },
        {
          "output_type": "stream",
          "text": [
            "Validation Results - Epoch: 54 Age L1-loss: 14.947 ** Gender accuracy: 0.924 ** Race accuracy: 0.815 ** Avg loss: 7.518\n"
          ],
          "name": "stdout"
        },
        {
          "output_type": "stream",
          "text": [
            "ITERATION - loss: 1.729: 100%|██████████| 130/130 [3:09:17<00:00,  1.07s/it]"
          ],
          "name": "stderr"
        },
        {
          "output_type": "stream",
          "text": [
            "Training Results - Epoch: 55 Age L1-loss: 15.011 ** Gender accuracy: 0.999 ** Race accuracy: 0.997 ** Avg loss: 1.531\n"
          ],
          "name": "stdout"
        },
        {
          "output_type": "stream",
          "text": [
            "ITERATION - loss: 1.729: 100%|██████████| 130/130 [3:09:30<00:00,  1.07s/it]"
          ],
          "name": "stderr"
        },
        {
          "output_type": "stream",
          "text": [
            "Validation Results - Epoch: 55 Age L1-loss: 14.905 ** Gender accuracy: 0.924 ** Race accuracy: 0.819 ** Avg loss: 7.692\n"
          ],
          "name": "stdout"
        },
        {
          "output_type": "stream",
          "text": [
            "ITERATION - loss: 1.487: 100%|██████████| 130/130 [3:13:02<00:00,  1.07s/it]"
          ],
          "name": "stderr"
        },
        {
          "output_type": "stream",
          "text": [
            "Training Results - Epoch: 56 Age L1-loss: 15.015 ** Gender accuracy: 0.997 ** Race accuracy: 0.991 ** Avg loss: 1.601\n"
          ],
          "name": "stdout"
        },
        {
          "output_type": "stream",
          "text": [
            "ITERATION - loss: 1.487: 100%|██████████| 130/130 [3:13:15<00:00,  1.07s/it]"
          ],
          "name": "stderr"
        },
        {
          "output_type": "stream",
          "text": [
            "Validation Results - Epoch: 56 Age L1-loss: 14.907 ** Gender accuracy: 0.916 ** Race accuracy: 0.823 ** Avg loss: 8.535\n"
          ],
          "name": "stdout"
        },
        {
          "output_type": "stream",
          "text": [
            "ITERATION - loss: 1.952: 100%|██████████| 130/130 [3:16:45<00:00,  1.07s/it]"
          ],
          "name": "stderr"
        },
        {
          "output_type": "stream",
          "text": [
            "Training Results - Epoch: 57 Age L1-loss: 15.040 ** Gender accuracy: 0.996 ** Race accuracy: 0.980 ** Avg loss: 1.720\n"
          ],
          "name": "stdout"
        },
        {
          "output_type": "stream",
          "text": [
            "ITERATION - loss: 1.952: 100%|██████████| 130/130 [3:16:58<00:00,  1.07s/it]"
          ],
          "name": "stderr"
        },
        {
          "output_type": "stream",
          "text": [
            "Validation Results - Epoch: 57 Age L1-loss: 14.945 ** Gender accuracy: 0.915 ** Race accuracy: 0.804 ** Avg loss: 7.286\n"
          ],
          "name": "stdout"
        },
        {
          "output_type": "stream",
          "text": [
            "ITERATION - loss: 2.430: 100%|██████████| 130/130 [3:20:28<00:00,  1.07s/it]"
          ],
          "name": "stderr"
        },
        {
          "output_type": "stream",
          "text": [
            "Training Results - Epoch: 58 Age L1-loss: 15.299 ** Gender accuracy: 0.997 ** Race accuracy: 0.974 ** Avg loss: 1.798\n"
          ],
          "name": "stdout"
        },
        {
          "output_type": "stream",
          "text": [
            "ITERATION - loss: 2.430: 100%|██████████| 130/130 [3:20:41<00:00,  1.07s/it]"
          ],
          "name": "stderr"
        },
        {
          "output_type": "stream",
          "text": [
            "Validation Results - Epoch: 58 Age L1-loss: 15.209 ** Gender accuracy: 0.923 ** Race accuracy: 0.784 ** Avg loss: 7.614\n"
          ],
          "name": "stdout"
        },
        {
          "output_type": "stream",
          "text": [
            "ITERATION - loss: 1.758: 100%|██████████| 130/130 [3:24:12<00:00,  1.07s/it]"
          ],
          "name": "stderr"
        },
        {
          "output_type": "stream",
          "text": [
            "Training Results - Epoch: 59 Age L1-loss: 15.078 ** Gender accuracy: 0.996 ** Race accuracy: 0.990 ** Avg loss: 1.633\n"
          ],
          "name": "stdout"
        },
        {
          "output_type": "stream",
          "text": [
            "ITERATION - loss: 1.758: 100%|██████████| 130/130 [3:24:25<00:00,  1.07s/it]"
          ],
          "name": "stderr"
        },
        {
          "output_type": "stream",
          "text": [
            "Validation Results - Epoch: 59 Age L1-loss: 14.935 ** Gender accuracy: 0.921 ** Race accuracy: 0.804 ** Avg loss: 7.677\n"
          ],
          "name": "stdout"
        },
        {
          "output_type": "stream",
          "text": [
            "ITERATION - loss: 2.063: 100%|██████████| 130/130 [3:27:55<00:00,  1.07s/it]"
          ],
          "name": "stderr"
        },
        {
          "output_type": "stream",
          "text": [
            "Training Results - Epoch: 60 Age L1-loss: 15.106 ** Gender accuracy: 0.996 ** Race accuracy: 0.989 ** Avg loss: 1.639\n"
          ],
          "name": "stdout"
        },
        {
          "output_type": "stream",
          "text": [
            "ITERATION - loss: 2.063: 100%|██████████| 130/130 [3:28:08<00:00,  1.07s/it]"
          ],
          "name": "stderr"
        },
        {
          "output_type": "stream",
          "text": [
            "Validation Results - Epoch: 60 Age L1-loss: 15.011 ** Gender accuracy: 0.924 ** Race accuracy: 0.808 ** Avg loss: 6.503\n"
          ],
          "name": "stdout"
        },
        {
          "output_type": "stream",
          "text": [
            "ITERATION - loss: 1.479: 100%|██████████| 130/130 [3:31:42<00:00,  1.07s/it]"
          ],
          "name": "stderr"
        },
        {
          "output_type": "stream",
          "text": [
            "Training Results - Epoch: 61 Age L1-loss: 15.013 ** Gender accuracy: 0.997 ** Race accuracy: 0.994 ** Avg loss: 1.589\n"
          ],
          "name": "stdout"
        },
        {
          "output_type": "stream",
          "text": [
            "ITERATION - loss: 1.479: 100%|██████████| 130/130 [3:31:55<00:00,  1.07s/it]"
          ],
          "name": "stderr"
        },
        {
          "output_type": "stream",
          "text": [
            "Validation Results - Epoch: 61 Age L1-loss: 14.911 ** Gender accuracy: 0.922 ** Race accuracy: 0.817 ** Avg loss: 6.650\n"
          ],
          "name": "stdout"
        },
        {
          "output_type": "stream",
          "text": [
            ""
          ],
          "name": "stderr"
        },
        {
          "output_type": "display_data",
          "data": {
            "image/png": "[encoded data removed]",
            "text/plain": [
              "<Figure size 576x432 with 1 Axes>"
            ]
          },
          "metadata": {
            "tags": []
          }
        },
        {
          "output_type": "stream",
          "text": [
            "The execution took 3.0 hours | 31.0 minutes | 57.5 seconds!\n"
          ],
          "name": "stdout"
        }
      ]
    },
    {
      "metadata": {
        "id": "TQNjrG_LePFl",
        "colab_type": "code",
        "colab": {}
      },
      "cell_type": "code",
      "source": [
        ""
      ],
      "execution_count": 0,
      "outputs": []
    },
    {
      "metadata": {
        "id": "q45G7NAbUeu9",
        "colab_type": "text"
      },
      "cell_type": "markdown",
      "source": [
        "### 3.3 Finetuning a pretrained VGG19"
      ]
    },
    {
      "metadata": {
        "colab_type": "code",
        "id": "g1c4Z5xpePkl",
        "colab": {}
      },
      "cell_type": "code",
      "source": [
        "backup_path = \"/content/gdrive/My Drive/DeepLearning/Face_detection/checkpoints/vgg_adam\"\n",
        "os.makedirs(backup_path, exist_ok=True)"
      ],
      "execution_count": 0,
      "outputs": []
    },
    {
      "metadata": {
        "colab_type": "code",
        "outputId": "f6588db9-d826-45fe-aeba-f3534498fda0",
        "id": "G8cAnX-eePkp",
        "colab": {
          "base_uri": "https://localhost:8080/",
          "height": 51
        }
      },
      "cell_type": "code",
      "source": [
        "\n",
        "my_model = PretrainedMT(model_name='vgg', feature_extract=True, use_pretrained=True)\n",
        "my_optimizer = torch.optim.Adam(filter(lambda p: p.requires_grad, my_model.parameters()), lr=1e-3)"
      ],
      "execution_count": 0,
      "outputs": [
        {
          "output_type": "stream",
          "text": [
            "Downloading: \"https://download.pytorch.org/models/vgg19_bn-c79401a0.pth\" to /root/.torch/models/vgg19_bn-c79401a0.pth\n",
            "574769405it [00:06, 83291644.09it/s]\n"
          ],
          "name": "stderr"
        }
      ]
    },
    {
      "metadata": {
        "colab_type": "code",
        "outputId": "9e26dde3-eb6c-446f-e1f9-480528054fe3",
        "id": "UGuIp90fePkv",
        "colab": {
          "base_uri": "https://localhost:8080/",
          "height": 53621
        }
      },
      "cell_type": "code",
      "source": [
        "run_utk(my_model, my_optimizer, epochs=300, log_interval=1, dataloaders=my_data_loaders,\n",
        "        dirname='/content/checkpoints/vgg_adam', filename_prefix='vgg', n_saved=1,\n",
        "        log_dir='/content/logs', launch_tensorboard=False, patience=50,\n",
        "        resume_model=None, resume_optimizer=None, backup_step=5, backup_path=backup_path,\n",
        "        n_epochs_freeze=10, n_cycle=None, lr_after_freeze=1e-4,\n",
        "        loss_weights=[1/10, 1/0.16, 1/0.44], lr_plot=True)"
      ],
      "execution_count": 0,
      "outputs": [
        {
          "output_type": "stream",
          "text": [
            "\n",
            "ITERATION - loss: 0.000:   0%|          | 0/130 [00:00<?, ?it/s]\u001b[A"
          ],
          "name": "stderr"
        },
        {
          "output_type": "stream",
          "text": [
            "Number of trainable parameters : 525,448\n",
            "Number of non-trainable parameters : 139,581,248\n"
          ],
          "name": "stdout"
        },
        {
          "output_type": "stream",
          "text": [
            "\n",
            "ITERATION - loss: 8.420:   1%|          | 1/130 [00:04<08:36,  4.00s/it]\u001b[A\n",
            "ITERATION - loss: 8.672:   2%|▏         | 2/130 [00:05<06:48,  3.19s/it]\u001b[A\n",
            "ITERATION - loss: 7.899:   2%|▏         | 3/130 [00:06<05:32,  2.62s/it]\u001b[A\n",
            "ITERATION - loss: 7.681:   3%|▎         | 4/130 [00:07<04:38,  2.21s/it]\u001b[A\n",
            "ITERATION - loss: 7.555:   4%|▍         | 5/130 [00:09<04:01,  1.93s/it]\u001b[A\n",
            "ITERATION - loss: 8.807:   5%|▍         | 6/130 [00:10<03:34,  1.73s/it]\u001b[A\n",
            "ITERATION - loss: 7.650:   5%|▌         | 7/130 [00:11<03:15,  1.59s/it]\u001b[A\n",
            "ITERATION - loss: 6.962:   6%|▌         | 8/130 [00:12<03:02,  1.49s/it]\u001b[A\n",
            "ITERATION - loss: 7.780:   7%|▋         | 9/130 [00:14<02:53,  1.43s/it]\u001b[A\n",
            "ITERATION - loss: 6.818:   8%|▊         | 10/130 [00:15<02:45,  1.38s/it]\u001b[A\n",
            "ITERATION - loss: 7.324:   8%|▊         | 11/130 [00:16<02:40,  1.34s/it]\u001b[A\n",
            "ITERATION - loss: 8.033:   9%|▉         | 12/130 [00:18<02:36,  1.32s/it]\u001b[A\n",
            "ITERATION - loss: 8.030:  10%|█         | 13/130 [00:19<02:32,  1.31s/it]\u001b[A\n",
            "ITERATION - loss: 8.092:  11%|█         | 14/130 [00:20<02:29,  1.29s/it]\u001b[A\n",
            "ITERATION - loss: 7.803:  12%|█▏        | 15/130 [00:21<02:27,  1.28s/it]\u001b[A\n",
            "ITERATION - loss: 7.590:  12%|█▏        | 16/130 [00:23<02:25,  1.28s/it]\u001b[A\n",
            "ITERATION - loss: 7.378:  13%|█▎        | 17/130 [00:24<02:24,  1.28s/it]\u001b[A\n",
            "ITERATION - loss: 7.387:  14%|█▍        | 18/130 [00:25<02:22,  1.27s/it]\u001b[A\n",
            "ITERATION - loss: 6.532:  15%|█▍        | 19/130 [00:26<02:21,  1.27s/it]\u001b[A\n",
            "ITERATION - loss: 6.876:  15%|█▌        | 20/130 [00:28<02:19,  1.27s/it]\u001b[A\n",
            "ITERATION - loss: 7.110:  16%|█▌        | 21/130 [00:29<02:18,  1.27s/it]\u001b[A\n",
            "ITERATION - loss: 6.804:  17%|█▋        | 22/130 [00:30<02:17,  1.27s/it]\u001b[A\n",
            "ITERATION - loss: 7.195:  18%|█▊        | 23/130 [00:31<02:16,  1.27s/it]\u001b[A\n",
            "ITERATION - loss: 7.748:  18%|█▊        | 24/130 [00:33<02:15,  1.28s/it]\u001b[A\n",
            "ITERATION - loss: 7.004:  19%|█▉        | 25/130 [00:34<02:13,  1.27s/it]\u001b[A\n",
            "ITERATION - loss: 6.510:  20%|██        | 26/130 [00:35<02:12,  1.28s/it]\u001b[A\n",
            "ITERATION - loss: 7.166:  21%|██        | 27/130 [00:37<02:11,  1.28s/it]\u001b[A\n",
            "ITERATION - loss: 7.389:  22%|██▏       | 28/130 [00:38<02:10,  1.28s/it]\u001b[A\n",
            "ITERATION - loss: 7.116:  22%|██▏       | 29/130 [00:39<02:08,  1.28s/it]\u001b[A\n",
            "ITERATION - loss: 7.288:  23%|██▎       | 30/130 [00:40<02:07,  1.28s/it]\u001b[A\n",
            "ITERATION - loss: 7.599:  24%|██▍       | 31/130 [00:42<02:06,  1.28s/it]\u001b[A\n",
            "ITERATION - loss: 7.309:  25%|██▍       | 32/130 [00:43<02:05,  1.28s/it]\u001b[A\n",
            "ITERATION - loss: 7.256:  25%|██▌       | 33/130 [00:44<02:03,  1.28s/it]\u001b[A\n",
            "ITERATION - loss: 7.398:  26%|██▌       | 34/130 [00:46<02:02,  1.28s/it]\u001b[A\n",
            "ITERATION - loss: 7.971:  27%|██▋       | 35/130 [00:47<02:01,  1.28s/it]\u001b[A\n",
            "ITERATION - loss: 7.275:  28%|██▊       | 36/130 [00:48<02:00,  1.28s/it]\u001b[A\n",
            "ITERATION - loss: 7.458:  28%|██▊       | 37/130 [00:49<01:58,  1.28s/it]\u001b[A\n",
            "ITERATION - loss: 6.103:  29%|██▉       | 38/130 [00:51<01:57,  1.28s/it]\u001b[A\n",
            "ITERATION - loss: 7.653:  30%|███       | 39/130 [00:52<01:56,  1.28s/it]\u001b[A\n",
            "ITERATION - loss: 7.309:  31%|███       | 40/130 [00:53<01:55,  1.28s/it]\u001b[A\n",
            "ITERATION - loss: 7.122:  32%|███▏      | 41/130 [00:54<01:53,  1.28s/it]\u001b[A\n",
            "ITERATION - loss: 6.530:  32%|███▏      | 42/130 [00:56<01:52,  1.28s/it]\u001b[A\n",
            "ITERATION - loss: 7.631:  33%|███▎      | 43/130 [00:57<01:51,  1.28s/it]\u001b[A\n",
            "ITERATION - loss: 8.134:  34%|███▍      | 44/130 [00:58<01:49,  1.28s/it]\u001b[A\n",
            "ITERATION - loss: 7.393:  35%|███▍      | 45/130 [01:00<01:48,  1.28s/it]\u001b[A\n",
            "ITERATION - loss: 7.731:  35%|███▌      | 46/130 [01:01<01:47,  1.28s/it]\u001b[A\n",
            "ITERATION - loss: 7.219:  36%|███▌      | 47/130 [01:02<01:45,  1.28s/it]\u001b[A\n",
            "ITERATION - loss: 7.429:  37%|███▋      | 48/130 [01:03<01:44,  1.28s/it]\u001b[A\n",
            "ITERATION - loss: 7.078:  38%|███▊      | 49/130 [01:05<01:43,  1.28s/it]\u001b[A\n",
            "ITERATION - loss: 6.492:  38%|███▊      | 50/130 [01:06<01:42,  1.28s/it]\u001b[A\n",
            "ITERATION - loss: 7.170:  39%|███▉      | 51/130 [01:07<01:41,  1.28s/it]\u001b[A\n",
            "ITERATION - loss: 7.088:  40%|████      | 52/130 [01:09<01:39,  1.28s/it]\u001b[A\n",
            "ITERATION - loss: 7.189:  41%|████      | 53/130 [01:10<01:38,  1.28s/it]\u001b[A\n",
            "ITERATION - loss: 6.636:  42%|████▏     | 54/130 [01:11<01:36,  1.28s/it]\u001b[A\n",
            "ITERATION - loss: 7.832:  42%|████▏     | 55/130 [01:12<01:35,  1.28s/it]\u001b[A\n",
            "ITERATION - loss: 6.903:  43%|████▎     | 56/130 [01:14<01:34,  1.28s/it]\u001b[A\n",
            "ITERATION - loss: 7.187:  44%|████▍     | 57/130 [01:15<01:33,  1.28s/it]\u001b[A\n",
            "ITERATION - loss: 6.329:  45%|████▍     | 58/130 [01:16<01:31,  1.28s/it]\u001b[A\n",
            "ITERATION - loss: 7.695:  45%|████▌     | 59/130 [01:17<01:30,  1.28s/it]\u001b[A\n",
            "ITERATION - loss: 6.766:  46%|████▌     | 60/130 [01:19<01:29,  1.28s/it]\u001b[A\n",
            "ITERATION - loss: 7.028:  47%|████▋     | 61/130 [01:20<01:28,  1.28s/it]\u001b[A\n",
            "ITERATION - loss: 6.962:  48%|████▊     | 62/130 [01:21<01:26,  1.28s/it]\u001b[A\n",
            "ITERATION - loss: 7.476:  48%|████▊     | 63/130 [01:23<01:25,  1.28s/it]\u001b[A\n",
            "ITERATION - loss: 6.762:  49%|████▉     | 64/130 [01:24<01:24,  1.28s/it]\u001b[A\n",
            "ITERATION - loss: 7.903:  50%|█████     | 65/130 [01:25<01:23,  1.28s/it]\u001b[A\n",
            "ITERATION - loss: 6.764:  51%|█████     | 66/130 [01:26<01:21,  1.28s/it]\u001b[A\n",
            "ITERATION - loss: 7.147:  52%|█████▏    | 67/130 [01:28<01:20,  1.28s/it]\u001b[A\n",
            "ITERATION - loss: 7.061:  52%|█████▏    | 68/130 [01:29<01:19,  1.28s/it]\u001b[A\n",
            "ITERATION - loss: 6.753:  53%|█████▎    | 69/130 [01:30<01:17,  1.28s/it]\u001b[A\n",
            "ITERATION - loss: 6.939:  54%|█████▍    | 70/130 [01:32<01:16,  1.28s/it]\u001b[A\n",
            "ITERATION - loss: 7.161:  55%|█████▍    | 71/130 [01:33<01:15,  1.28s/it]\u001b[A\n",
            "ITERATION - loss: 7.443:  55%|█████▌    | 72/130 [01:34<01:13,  1.28s/it]\u001b[A\n",
            "ITERATION - loss: 7.812:  56%|█████▌    | 73/130 [01:35<01:12,  1.28s/it]\u001b[A\n",
            "ITERATION - loss: 7.377:  57%|█████▋    | 74/130 [01:37<01:11,  1.28s/it]\u001b[A\n",
            "ITERATION - loss: 6.464:  58%|█████▊    | 75/130 [01:38<01:10,  1.28s/it]\u001b[A\n",
            "ITERATION - loss: 7.608:  58%|█████▊    | 76/130 [01:39<01:09,  1.28s/it]\u001b[A\n",
            "ITERATION - loss: 7.317:  59%|█████▉    | 77/130 [01:40<01:07,  1.28s/it]\u001b[A\n",
            "ITERATION - loss: 7.458:  60%|██████    | 78/130 [01:42<01:06,  1.28s/it]\u001b[A\n",
            "ITERATION - loss: 6.926:  61%|██████    | 79/130 [01:43<01:05,  1.28s/it]\u001b[A\n",
            "ITERATION - loss: 7.036:  62%|██████▏   | 80/130 [01:44<01:03,  1.28s/it]\u001b[A\n",
            "ITERATION - loss: 7.605:  62%|██████▏   | 81/130 [01:46<01:02,  1.28s/it]\u001b[A\n",
            "ITERATION - loss: 7.135:  63%|██████▎   | 82/130 [01:47<01:01,  1.28s/it]\u001b[A\n",
            "ITERATION - loss: 6.869:  64%|██████▍   | 83/130 [01:48<01:00,  1.28s/it]\u001b[A\n",
            "ITERATION - loss: 7.574:  65%|██████▍   | 84/130 [01:49<00:58,  1.28s/it]\u001b[A\n",
            "ITERATION - loss: 7.187:  65%|██████▌   | 85/130 [01:51<00:57,  1.28s/it]\u001b[A\n",
            "ITERATION - loss: 6.870:  66%|██████▌   | 86/130 [01:52<00:56,  1.28s/it]\u001b[A\n",
            "ITERATION - loss: 7.413:  67%|██████▋   | 87/130 [01:53<00:55,  1.28s/it]\u001b[A\n",
            "ITERATION - loss: 7.392:  68%|██████▊   | 88/130 [01:55<00:53,  1.28s/it]\u001b[A\n",
            "ITERATION - loss: 7.641:  68%|██████▊   | 89/130 [01:56<00:52,  1.28s/it]\u001b[A\n",
            "ITERATION - loss: 6.651:  69%|██████▉   | 90/130 [01:57<00:51,  1.28s/it]\u001b[A\n",
            "ITERATION - loss: 6.924:  70%|███████   | 91/130 [01:58<00:49,  1.28s/it]\u001b[A\n",
            "ITERATION - loss: 7.247:  71%|███████   | 92/130 [02:00<00:48,  1.27s/it]\u001b[A\n",
            "ITERATION - loss: 7.329:  72%|███████▏  | 93/130 [02:01<00:47,  1.28s/it]\u001b[A\n",
            "ITERATION - loss: 7.813:  72%|███████▏  | 94/130 [02:02<00:45,  1.28s/it]\u001b[A\n",
            "ITERATION - loss: 7.342:  73%|███████▎  | 95/130 [02:04<00:44,  1.28s/it]\u001b[A\n",
            "ITERATION - loss: 6.110:  74%|███████▍  | 96/130 [02:05<00:43,  1.28s/it]\u001b[A\n",
            "ITERATION - loss: 6.853:  75%|███████▍  | 97/130 [02:06<00:42,  1.28s/it]\u001b[A\n",
            "ITERATION - loss: 6.688:  75%|███████▌  | 98/130 [02:07<00:40,  1.28s/it]\u001b[A\n",
            "ITERATION - loss: 6.802:  76%|███████▌  | 99/130 [02:09<00:39,  1.28s/it]\u001b[A\n",
            "ITERATION - loss: 6.685:  77%|███████▋  | 100/130 [02:10<00:38,  1.28s/it]\u001b[A\n",
            "ITERATION - loss: 6.753:  78%|███████▊  | 101/130 [02:11<00:37,  1.28s/it]\u001b[A\n",
            "ITERATION - loss: 6.927:  78%|███████▊  | 102/130 [02:12<00:35,  1.28s/it]\u001b[A\n",
            "ITERATION - loss: 7.814:  79%|███████▉  | 103/130 [02:14<00:34,  1.28s/it]\u001b[A\n",
            "ITERATION - loss: 6.722:  80%|████████  | 104/130 [02:15<00:33,  1.28s/it]\u001b[A\n",
            "ITERATION - loss: 7.508:  81%|████████  | 105/130 [02:16<00:32,  1.28s/it]\u001b[A\n",
            "ITERATION - loss: 6.739:  82%|████████▏ | 106/130 [02:18<00:30,  1.28s/it]\u001b[A\n",
            "ITERATION - loss: 6.626:  82%|████████▏ | 107/130 [02:19<00:29,  1.28s/it]\u001b[A\n",
            "ITERATION - loss: 7.523:  83%|████████▎ | 108/130 [02:20<00:28,  1.28s/it]\u001b[A\n",
            "ITERATION - loss: 6.427:  84%|████████▍ | 109/130 [02:21<00:26,  1.28s/it]\u001b[A\n",
            "ITERATION - loss: 6.118:  85%|████████▍ | 110/130 [02:23<00:25,  1.28s/it]\u001b[A\n",
            "ITERATION - loss: 6.783:  85%|████████▌ | 111/130 [02:24<00:24,  1.27s/it]\u001b[A\n",
            "ITERATION - loss: 7.982:  86%|████████▌ | 112/130 [02:25<00:22,  1.28s/it]\u001b[A\n",
            "ITERATION - loss: 7.026:  87%|████████▋ | 113/130 [02:27<00:21,  1.28s/it]\u001b[A\n",
            "ITERATION - loss: 6.578:  88%|████████▊ | 114/130 [02:28<00:20,  1.28s/it]\u001b[A\n",
            "ITERATION - loss: 7.033:  88%|████████▊ | 115/130 [02:29<00:19,  1.28s/it]\u001b[A\n",
            "ITERATION - loss: 7.410:  89%|████████▉ | 116/130 [02:30<00:17,  1.28s/it]\u001b[A\n",
            "ITERATION - loss: 6.519:  90%|█████████ | 117/130 [02:32<00:16,  1.28s/it]\u001b[A\n",
            "ITERATION - loss: 7.398:  91%|█████████ | 118/130 [02:33<00:15,  1.27s/it]\u001b[A\n",
            "ITERATION - loss: 7.218:  92%|█████████▏| 119/130 [02:34<00:14,  1.27s/it]\u001b[A\n",
            "ITERATION - loss: 6.924:  92%|█████████▏| 120/130 [02:35<00:12,  1.28s/it]\u001b[A\n",
            "ITERATION - loss: 7.329:  93%|█████████▎| 121/130 [02:37<00:11,  1.28s/it]\u001b[A\n",
            "ITERATION - loss: 7.303:  94%|█████████▍| 122/130 [02:38<00:10,  1.28s/it]\u001b[A\n",
            "ITERATION - loss: 8.318:  95%|█████████▍| 123/130 [02:39<00:08,  1.28s/it]\u001b[A\n",
            "ITERATION - loss: 6.726:  95%|█████████▌| 124/130 [02:41<00:07,  1.27s/it]\u001b[A\n",
            "ITERATION - loss: 6.229:  96%|█████████▌| 125/130 [02:42<00:06,  1.28s/it]\u001b[A\n",
            "ITERATION - loss: 7.392:  97%|█████████▋| 126/130 [02:43<00:05,  1.27s/it]\u001b[A\n",
            "ITERATION - loss: 7.674:  98%|█████████▊| 127/130 [02:44<00:03,  1.27s/it]\u001b[A\n",
            "ITERATION - loss: 7.266:  98%|█████████▊| 128/130 [02:46<00:02,  1.27s/it]\u001b[A\n",
            "ITERATION - loss: 7.495:  99%|█████████▉| 129/130 [02:47<00:01,  1.27s/it]\u001b[A\n",
            "ITERATION - loss: 6.304: 100%|██████████| 130/130 [02:48<00:00,  1.17s/it]\u001b[A\n",
            "\n",
            "ITERATION - loss: 8.544:  13%|█▎        | 17/130 [06:09<02:22,  1.26s/it]\n",
            "ITERATION - loss: 6.304: 100%|██████████| 130/130 [05:35<00:00,  1.17s/it]\u001b[A"
          ],
          "name": "stderr"
        },
        {
          "output_type": "stream",
          "text": [
            "Training Results - Epoch: 1 Age L1-loss: 15.653 ** Gender accuracy: 0.782 ** Race accuracy: 0.605 ** Avg loss: 6.787\n"
          ],
          "name": "stdout"
        },
        {
          "output_type": "stream",
          "text": [
            "\n",
            "ITERATION - loss: 8.544:  13%|█▎        | 17/130 [06:48<02:22,  1.26s/it]\n",
            "ITERATION - loss: 6.304: 100%|██████████| 130/130 [06:13<00:00,  1.17s/it]\u001b[A"
          ],
          "name": "stderr"
        },
        {
          "output_type": "stream",
          "text": [
            "Validation Results - Epoch: 1 Age L1-loss: 15.503 ** Gender accuracy: 0.775 ** Race accuracy: 0.575 ** Avg loss: 7.002\n"
          ],
          "name": "stdout"
        },
        {
          "output_type": "stream",
          "text": [
            "\n",
            "ITERATION - loss: 7.011:   1%|          | 1/130 [06:18<2:16:59, 63.72s/it]\u001b[A\n",
            "ITERATION - loss: 7.147:   2%|▏         | 2/130 [06:19<1:36:00, 45.00s/it]\u001b[A\n",
            "ITERATION - loss: 7.149:   2%|▏         | 3/130 [06:20<1:07:30, 31.89s/it]\u001b[A\n",
            "ITERATION - loss: 7.808:   3%|▎         | 4/130 [06:21<47:41, 22.71s/it]  \u001b[A\n",
            "ITERATION - loss: 6.481:   4%|▍         | 5/130 [06:23<33:54, 16.28s/it]\u001b[A\n",
            "ITERATION - loss: 7.031:   5%|▍         | 6/130 [06:24<24:20, 11.78s/it]\u001b[A\n",
            "ITERATION - loss: 7.747:   5%|▌         | 7/130 [06:25<17:41,  8.63s/it]\u001b[A\n",
            "ITERATION - loss: 6.697:   6%|▌         | 8/130 [06:27<13:03,  6.42s/it]\u001b[A\n",
            "ITERATION - loss: 8.311:   7%|▋         | 9/130 [06:28<09:50,  4.88s/it]\u001b[A\n",
            "ITERATION - loss: 6.224:   8%|▊         | 10/130 [06:29<07:35,  3.80s/it]\u001b[A\n",
            "ITERATION - loss: 7.331:   8%|▊         | 11/130 [06:30<06:02,  3.04s/it]\u001b[A\n",
            "ITERATION - loss: 6.733:   9%|▉         | 12/130 [06:32<04:56,  2.52s/it]\u001b[A\n",
            "ITERATION - loss: 6.654:  10%|█         | 13/130 [06:33<04:10,  2.14s/it]\u001b[A\n",
            "ITERATION - loss: 7.457:  11%|█         | 14/130 [06:34<03:38,  1.89s/it]\u001b[A\n",
            "ITERATION - loss: 7.312:  12%|█▏        | 15/130 [06:35<03:15,  1.70s/it]\u001b[A\n",
            "ITERATION - loss: 7.442:  12%|█▏        | 16/130 [06:37<02:59,  1.57s/it]\u001b[A\n",
            "ITERATION - loss: 6.736:  13%|█▎        | 17/130 [06:38<02:47,  1.48s/it]\u001b[A\n",
            "ITERATION - loss: 6.631:  14%|█▍        | 18/130 [06:39<02:39,  1.42s/it]\u001b[A\n",
            "ITERATION - loss: 6.555:  15%|█▍        | 19/130 [06:41<02:33,  1.38s/it]\u001b[A\n",
            "ITERATION - loss: 7.468:  15%|█▌        | 20/130 [06:42<02:28,  1.35s/it]\u001b[A\n",
            "ITERATION - loss: 7.283:  16%|█▌        | 21/130 [06:43<02:24,  1.33s/it]\u001b[A\n",
            "ITERATION - loss: 6.881:  17%|█▋        | 22/130 [06:44<02:21,  1.31s/it]\u001b[A\n",
            "ITERATION - loss: 6.534:  18%|█▊        | 23/130 [06:46<02:19,  1.30s/it]\u001b[A\n",
            "ITERATION - loss: 6.559:  18%|█▊        | 24/130 [06:47<02:17,  1.29s/it]\u001b[A\n",
            "ITERATION - loss: 7.466:  19%|█▉        | 25/130 [06:48<02:15,  1.29s/it]\u001b[A\n",
            "ITERATION - loss: 7.388:  20%|██        | 26/130 [06:50<02:13,  1.29s/it]\u001b[A\n",
            "ITERATION - loss: 7.272:  21%|██        | 27/130 [06:51<02:12,  1.28s/it]\u001b[A\n",
            "ITERATION - loss: 7.306:  22%|██▏       | 28/130 [06:52<02:10,  1.28s/it]\u001b[A\n",
            "ITERATION - loss: 6.773:  22%|██▏       | 29/130 [06:53<02:09,  1.28s/it]\u001b[A\n",
            "ITERATION - loss: 6.785:  23%|██▎       | 30/130 [06:55<02:08,  1.28s/it]\u001b[A\n",
            "ITERATION - loss: 7.257:  24%|██▍       | 31/130 [06:56<02:06,  1.28s/it]\u001b[A\n",
            "ITERATION - loss: 6.950:  25%|██▍       | 32/130 [06:57<02:05,  1.28s/it]\u001b[A\n",
            "ITERATION - loss: 6.760:  25%|██▌       | 33/130 [06:58<02:04,  1.28s/it]\u001b[A\n",
            "ITERATION - loss: 6.627:  26%|██▌       | 34/130 [07:00<02:02,  1.28s/it]\u001b[A\n",
            "ITERATION - loss: 6.550:  27%|██▋       | 35/130 [07:01<02:01,  1.28s/it]\u001b[A\n",
            "ITERATION - loss: 7.010:  28%|██▊       | 36/130 [07:02<02:00,  1.28s/it]\u001b[A\n",
            "ITERATION - loss: 6.465:  28%|██▊       | 37/130 [07:04<01:58,  1.28s/it]\u001b[A\n",
            "ITERATION - loss: 6.986:  29%|██▉       | 38/130 [07:05<01:57,  1.28s/it]\u001b[A\n",
            "ITERATION - loss: 6.662:  30%|███       | 39/130 [07:06<01:56,  1.28s/it]\u001b[A\n",
            "ITERATION - loss: 6.366:  31%|███       | 40/130 [07:07<01:54,  1.27s/it]\u001b[A\n",
            "ITERATION - loss: 7.539:  32%|███▏      | 41/130 [07:09<01:53,  1.28s/it]\u001b[A\n",
            "ITERATION - loss: 7.051:  32%|███▏      | 42/130 [07:10<01:52,  1.27s/it]\u001b[A\n",
            "ITERATION - loss: 7.093:  33%|███▎      | 43/130 [07:11<01:50,  1.28s/it]\u001b[A\n",
            "ITERATION - loss: 7.411:  34%|███▍      | 44/130 [07:13<01:49,  1.28s/it]\u001b[A\n",
            "ITERATION - loss: 6.596:  35%|███▍      | 45/130 [07:14<01:48,  1.28s/it]\u001b[A\n",
            "ITERATION - loss: 6.883:  35%|███▌      | 46/130 [07:15<01:47,  1.28s/it]\u001b[A\n",
            "ITERATION - loss: 6.950:  36%|███▌      | 47/130 [07:16<01:46,  1.28s/it]\u001b[A\n",
            "ITERATION - loss: 6.737:  37%|███▋      | 48/130 [07:18<01:44,  1.28s/it]\u001b[A\n",
            "ITERATION - loss: 7.272:  38%|███▊      | 49/130 [07:19<01:43,  1.28s/it]\u001b[A\n",
            "ITERATION - loss: 6.260:  38%|███▊      | 50/130 [07:20<01:42,  1.28s/it]\u001b[A\n",
            "ITERATION - loss: 7.465:  39%|███▉      | 51/130 [07:21<01:41,  1.28s/it]\u001b[A\n",
            "ITERATION - loss: 6.873:  40%|████      | 52/130 [07:23<01:39,  1.28s/it]\u001b[A\n",
            "ITERATION - loss: 6.885:  41%|████      | 53/130 [07:24<01:38,  1.28s/it]\u001b[A\n",
            "ITERATION - loss: 6.694:  42%|████▏     | 54/130 [07:25<01:36,  1.28s/it]\u001b[A\n",
            "ITERATION - loss: 6.616:  42%|████▏     | 55/130 [07:27<01:35,  1.27s/it]\u001b[A\n",
            "ITERATION - loss: 6.384:  43%|████▎     | 56/130 [07:28<01:34,  1.28s/it]\u001b[A\n",
            "ITERATION - loss: 7.227:  44%|████▍     | 57/130 [07:29<01:33,  1.28s/it]\u001b[A\n",
            "ITERATION - loss: 6.635:  45%|████▍     | 58/130 [07:30<01:31,  1.28s/it]\u001b[A\n",
            "ITERATION - loss: 5.754:  45%|████▌     | 59/130 [07:32<01:30,  1.28s/it]\u001b[A\n",
            "ITERATION - loss: 6.335:  46%|████▌     | 60/130 [07:33<01:29,  1.28s/it]\u001b[A\n",
            "ITERATION - loss: 6.688:  47%|████▋     | 61/130 [07:34<01:28,  1.28s/it]\u001b[A\n",
            "ITERATION - loss: 7.186:  48%|████▊     | 62/130 [07:36<01:26,  1.28s/it]\u001b[A\n",
            "ITERATION - loss: 6.325:  48%|████▊     | 63/130 [07:37<01:25,  1.28s/it]\u001b[A\n",
            "ITERATION - loss: 7.132:  49%|████▉     | 64/130 [07:38<01:24,  1.28s/it]\u001b[A\n",
            "ITERATION - loss: 6.546:  50%|█████     | 65/130 [07:39<01:23,  1.28s/it]\u001b[A\n",
            "ITERATION - loss: 7.367:  51%|█████     | 66/130 [07:41<01:21,  1.28s/it]\u001b[A\n",
            "ITERATION - loss: 6.647:  52%|█████▏    | 67/130 [07:42<01:20,  1.28s/it]\u001b[A\n",
            "ITERATION - loss: 6.357:  52%|█████▏    | 68/130 [07:43<01:19,  1.28s/it]\u001b[A\n",
            "ITERATION - loss: 6.960:  53%|█████▎    | 69/130 [07:44<01:17,  1.28s/it]\u001b[A\n",
            "ITERATION - loss: 6.605:  54%|█████▍    | 70/130 [07:46<01:16,  1.28s/it]\u001b[A\n",
            "ITERATION - loss: 6.874:  55%|█████▍    | 71/130 [07:47<01:15,  1.28s/it]\u001b[A\n",
            "ITERATION - loss: 6.759:  55%|█████▌    | 72/130 [07:48<01:14,  1.28s/it]\u001b[A\n",
            "ITERATION - loss: 6.511:  56%|█████▌    | 73/130 [07:50<01:12,  1.28s/it]\u001b[A\n",
            "ITERATION - loss: 6.179:  57%|█████▋    | 74/130 [07:51<01:11,  1.28s/it]\u001b[A\n",
            "ITERATION - loss: 6.731:  58%|█████▊    | 75/130 [07:52<01:10,  1.28s/it]\u001b[A\n",
            "ITERATION - loss: 6.894:  58%|█████▊    | 76/130 [07:53<01:08,  1.28s/it]\u001b[A\n",
            "ITERATION - loss: 6.146:  59%|█████▉    | 77/130 [07:55<01:07,  1.28s/it]\u001b[A\n",
            "ITERATION - loss: 7.838:  60%|██████    | 78/130 [07:56<01:06,  1.28s/it]\u001b[A\n",
            "ITERATION - loss: 6.854:  61%|██████    | 79/130 [07:57<01:05,  1.28s/it]\u001b[A\n",
            "ITERATION - loss: 7.298:  62%|██████▏   | 80/130 [07:59<01:04,  1.28s/it]\u001b[A\n",
            "ITERATION - loss: 6.927:  62%|██████▏   | 81/130 [08:00<01:02,  1.28s/it]\u001b[A\n",
            "ITERATION - loss: 6.737:  63%|██████▎   | 82/130 [08:01<01:01,  1.28s/it]\u001b[A\n",
            "ITERATION - loss: 7.336:  64%|██████▍   | 83/130 [08:02<01:00,  1.28s/it]\u001b[A\n",
            "ITERATION - loss: 6.584:  65%|██████▍   | 84/130 [08:04<00:58,  1.28s/it]\u001b[A\n",
            "ITERATION - loss: 6.912:  65%|██████▌   | 85/130 [08:05<00:57,  1.28s/it]\u001b[A\n",
            "ITERATION - loss: 7.115:  66%|██████▌   | 86/130 [08:06<00:56,  1.28s/it]\u001b[A\n",
            "ITERATION - loss: 6.515:  67%|██████▋   | 87/130 [08:07<00:54,  1.28s/it]\u001b[A\n",
            "ITERATION - loss: 6.570:  68%|██████▊   | 88/130 [08:09<00:53,  1.28s/it]\u001b[A\n",
            "ITERATION - loss: 7.258:  68%|██████▊   | 89/130 [08:10<00:52,  1.28s/it]\u001b[A\n",
            "ITERATION - loss: 7.905:  69%|██████▉   | 90/130 [08:11<00:51,  1.28s/it]\u001b[A\n",
            "ITERATION - loss: 7.315:  70%|███████   | 91/130 [08:13<00:49,  1.28s/it]\u001b[A\n",
            "ITERATION - loss: 7.085:  71%|███████   | 92/130 [08:14<00:48,  1.28s/it]\u001b[A\n",
            "ITERATION - loss: 6.749:  72%|███████▏  | 93/130 [08:15<00:47,  1.28s/it]\u001b[A\n",
            "ITERATION - loss: 7.646:  72%|███████▏  | 94/130 [08:16<00:46,  1.28s/it]\u001b[A\n",
            "ITERATION - loss: 6.885:  73%|███████▎  | 95/130 [08:18<00:44,  1.28s/it]\u001b[A\n",
            "ITERATION - loss: 7.099:  74%|███████▍  | 96/130 [08:19<00:43,  1.28s/it]\u001b[A\n",
            "ITERATION - loss: 6.910:  75%|███████▍  | 97/130 [08:20<00:42,  1.28s/it]\u001b[A\n",
            "ITERATION - loss: 6.452:  75%|███████▌  | 98/130 [08:22<00:40,  1.28s/it]\u001b[A\n",
            "ITERATION - loss: 7.025:  76%|███████▌  | 99/130 [08:23<00:39,  1.28s/it]\u001b[A\n",
            "ITERATION - loss: 6.920:  77%|███████▋  | 100/130 [08:24<00:38,  1.28s/it]\u001b[A\n",
            "ITERATION - loss: 7.170:  78%|███████▊  | 101/130 [08:25<00:37,  1.28s/it]\u001b[A\n",
            "ITERATION - loss: 6.908:  78%|███████▊  | 102/130 [08:27<00:35,  1.28s/it]\u001b[A\n",
            "ITERATION - loss: 6.996:  79%|███████▉  | 103/130 [08:28<00:35,  1.30s/it]\u001b[A\n",
            "ITERATION - loss: 7.134:  80%|████████  | 104/130 [08:29<00:33,  1.29s/it]\u001b[A\n",
            "ITERATION - loss: 6.693:  81%|████████  | 105/130 [08:31<00:32,  1.29s/it]\u001b[A\n",
            "ITERATION - loss: 7.091:  82%|████████▏ | 106/130 [08:32<00:30,  1.28s/it]\u001b[A\n",
            "ITERATION - loss: 6.975:  82%|████████▏ | 107/130 [08:33<00:29,  1.28s/it]\u001b[A\n",
            "ITERATION - loss: 6.425:  83%|████████▎ | 108/130 [08:34<00:28,  1.28s/it]\u001b[A\n",
            "ITERATION - loss: 7.459:  84%|████████▍ | 109/130 [08:36<00:26,  1.28s/it]\u001b[A\n",
            "ITERATION - loss: 6.323:  85%|████████▍ | 110/130 [08:37<00:25,  1.28s/it]\u001b[A\n",
            "ITERATION - loss: 7.034:  85%|████████▌ | 111/130 [08:38<00:24,  1.28s/it]\u001b[A\n",
            "ITERATION - loss: 7.307:  86%|████████▌ | 112/130 [08:40<00:23,  1.28s/it]\u001b[A\n",
            "ITERATION - loss: 6.970:  87%|████████▋ | 113/130 [08:41<00:21,  1.28s/it]\u001b[A\n",
            "ITERATION - loss: 6.993:  88%|████████▊ | 114/130 [08:42<00:20,  1.28s/it]\u001b[A\n",
            "ITERATION - loss: 7.474:  88%|████████▊ | 115/130 [08:43<00:19,  1.28s/it]\u001b[A\n",
            "ITERATION - loss: 6.688:  89%|████████▉ | 116/130 [08:45<00:17,  1.28s/it]\u001b[A\n",
            "ITERATION - loss: 6.840:  90%|█████████ | 117/130 [08:46<00:16,  1.27s/it]\u001b[A\n",
            "ITERATION - loss: 6.882:  91%|█████████ | 118/130 [08:47<00:15,  1.28s/it]\u001b[A\n",
            "ITERATION - loss: 6.747:  92%|█████████▏| 119/130 [08:48<00:14,  1.28s/it]\u001b[A\n",
            "ITERATION - loss: 6.462:  92%|█████████▏| 120/130 [08:50<00:12,  1.28s/it]\u001b[A\n",
            "ITERATION - loss: 7.591:  93%|█████████▎| 121/130 [08:51<00:11,  1.28s/it]\u001b[A\n",
            "ITERATION - loss: 6.401:  94%|█████████▍| 122/130 [08:52<00:10,  1.28s/it]\u001b[A\n",
            "ITERATION - loss: 6.877:  95%|█████████▍| 123/130 [08:54<00:08,  1.28s/it]\u001b[A\n",
            "ITERATION - loss: 6.413:  95%|█████████▌| 124/130 [08:55<00:07,  1.28s/it]\u001b[A\n",
            "ITERATION - loss: 7.293:  96%|█████████▌| 125/130 [08:56<00:06,  1.28s/it]\u001b[A\n",
            "ITERATION - loss: 6.488:  97%|█████████▋| 126/130 [08:57<00:05,  1.28s/it]\u001b[A\n",
            "ITERATION - loss: 6.761:  98%|█████████▊| 127/130 [08:59<00:03,  1.28s/it]\u001b[A\n",
            "ITERATION - loss: 6.660:  98%|█████████▊| 128/130 [09:00<00:02,  1.28s/it]\u001b[A\n",
            "ITERATION - loss: 6.506:  99%|█████████▉| 129/130 [09:01<00:01,  1.28s/it]\u001b[A\n",
            "ITERATION - loss: 6.455: 100%|██████████| 130/130 [09:02<00:00,  1.17s/it]\u001b[A\n",
            "\n",
            "ITERATION - loss: 8.544:  13%|█▎        | 17/130 [12:21<02:22,  1.26s/it]\n",
            "ITERATION - loss: 6.455: 100%|██████████| 130/130 [11:47<00:00,  1.17s/it]\u001b[A"
          ],
          "name": "stderr"
        },
        {
          "output_type": "stream",
          "text": [
            "Training Results - Epoch: 2 Age L1-loss: 15.590 ** Gender accuracy: 0.822 ** Race accuracy: 0.629 ** Avg loss: 6.313\n"
          ],
          "name": "stdout"
        },
        {
          "output_type": "stream",
          "text": [
            "\n",
            "ITERATION - loss: 8.544:  13%|█▎        | 17/130 [12:59<02:22,  1.26s/it]\n",
            "ITERATION - loss: 6.455: 100%|██████████| 130/130 [12:25<00:00,  1.17s/it]\u001b[A"
          ],
          "name": "stderr"
        },
        {
          "output_type": "stream",
          "text": [
            "Validation Results - Epoch: 2 Age L1-loss: 15.451 ** Gender accuracy: 0.810 ** Race accuracy: 0.599 ** Avg loss: 6.573\n"
          ],
          "name": "stdout"
        },
        {
          "output_type": "stream",
          "text": [
            "\n",
            "ITERATION - loss: 6.296:   1%|          | 1/130 [12:29<2:15:20, 62.95s/it]\u001b[A\n",
            "ITERATION - loss: 6.742:   2%|▏         | 2/130 [12:31<1:34:51, 44.46s/it]\u001b[A\n",
            "ITERATION - loss: 6.636:   2%|▏         | 3/130 [12:32<1:06:42, 31.52s/it]\u001b[A\n",
            "ITERATION - loss: 7.373:   3%|▎         | 4/130 [12:33<47:08, 22.45s/it]  \u001b[A\n",
            "ITERATION - loss: 6.420:   4%|▍         | 5/130 [12:34<33:31, 16.09s/it]\u001b[A\n",
            "ITERATION - loss: 6.931:   5%|▍         | 6/130 [12:36<24:04, 11.65s/it]\u001b[A\n",
            "ITERATION - loss: 6.666:   5%|▌         | 7/130 [12:37<17:29,  8.53s/it]\u001b[A\n",
            "ITERATION - loss: 6.235:   6%|▌         | 8/130 [12:38<12:55,  6.35s/it]\u001b[A\n",
            "ITERATION - loss: 6.616:   7%|▋         | 9/130 [12:40<09:45,  4.83s/it]\u001b[A\n",
            "ITERATION - loss: 6.888:   8%|▊         | 10/130 [12:41<07:32,  3.77s/it]\u001b[A\n",
            "ITERATION - loss: 6.504:   8%|▊         | 11/130 [12:42<06:00,  3.03s/it]\u001b[A\n",
            "ITERATION - loss: 6.745:   9%|▉         | 12/130 [12:43<04:55,  2.50s/it]\u001b[A\n",
            "ITERATION - loss: 6.971:  10%|█         | 13/130 [12:45<04:09,  2.13s/it]\u001b[A\n",
            "ITERATION - loss: 6.550:  11%|█         | 14/130 [12:46<03:37,  1.88s/it]\u001b[A\n",
            "ITERATION - loss: 6.496:  12%|█▏        | 15/130 [12:47<03:14,  1.70s/it]\u001b[A\n",
            "ITERATION - loss: 6.971:  12%|█▏        | 16/130 [12:48<02:58,  1.57s/it]\u001b[A\n",
            "ITERATION - loss: 7.127:  13%|█▎        | 17/130 [12:50<02:47,  1.48s/it]\u001b[A\n",
            "ITERATION - loss: 7.113:  14%|█▍        | 18/130 [12:51<02:39,  1.42s/it]\u001b[A\n",
            "ITERATION - loss: 6.216:  15%|█▍        | 19/130 [12:52<02:33,  1.38s/it]\u001b[A\n",
            "ITERATION - loss: 6.393:  15%|█▌        | 20/130 [12:54<02:28,  1.35s/it]\u001b[A\n",
            "ITERATION - loss: 6.285:  16%|█▌        | 21/130 [12:55<02:24,  1.33s/it]\u001b[A\n",
            "ITERATION - loss: 6.478:  17%|█▋        | 22/130 [12:56<02:22,  1.32s/it]\u001b[A\n",
            "ITERATION - loss: 6.200:  18%|█▊        | 23/130 [12:57<02:19,  1.31s/it]\u001b[A\n",
            "ITERATION - loss: 6.993:  18%|█▊        | 24/130 [12:59<02:17,  1.30s/it]\u001b[A\n",
            "ITERATION - loss: 6.624:  19%|█▉        | 25/130 [13:00<02:15,  1.29s/it]\u001b[A\n",
            "ITERATION - loss: 6.771:  20%|██        | 26/130 [13:01<02:14,  1.29s/it]\u001b[A\n",
            "ITERATION - loss: 7.013:  21%|██        | 27/130 [13:03<02:12,  1.29s/it]\u001b[A\n",
            "ITERATION - loss: 7.160:  22%|██▏       | 28/130 [13:04<02:11,  1.29s/it]\u001b[A\n",
            "ITERATION - loss: 6.321:  22%|██▏       | 29/130 [13:05<02:10,  1.29s/it]\u001b[A\n",
            "ITERATION - loss: 6.555:  23%|██▎       | 30/130 [13:06<02:08,  1.28s/it]\u001b[A\n",
            "ITERATION - loss: 6.087:  24%|██▍       | 31/130 [13:08<02:06,  1.28s/it]\u001b[A\n",
            "ITERATION - loss: 7.035:  25%|██▍       | 32/130 [13:09<02:05,  1.28s/it]\u001b[A\n",
            "ITERATION - loss: 7.634:  25%|██▌       | 33/130 [13:10<02:04,  1.28s/it]\u001b[A\n",
            "ITERATION - loss: 7.020:  26%|██▌       | 34/130 [13:12<02:02,  1.28s/it]\u001b[A\n",
            "ITERATION - loss: 7.002:  27%|██▋       | 35/130 [13:13<02:01,  1.28s/it]\u001b[A\n",
            "ITERATION - loss: 6.947:  28%|██▊       | 36/130 [13:14<02:00,  1.28s/it]\u001b[A\n",
            "ITERATION - loss: 6.385:  28%|██▊       | 37/130 [13:15<01:59,  1.28s/it]\u001b[A\n",
            "ITERATION - loss: 6.745:  29%|██▉       | 38/130 [13:17<01:57,  1.28s/it]\u001b[A\n",
            "ITERATION - loss: 7.225:  30%|███       | 39/130 [13:18<01:56,  1.28s/it]\u001b[A\n",
            "ITERATION - loss: 7.032:  31%|███       | 40/130 [13:19<01:55,  1.28s/it]\u001b[A\n",
            "ITERATION - loss: 6.466:  32%|███▏      | 41/130 [13:21<01:53,  1.28s/it]\u001b[A\n",
            "ITERATION - loss: 6.533:  32%|███▏      | 42/130 [13:22<01:52,  1.28s/it]\u001b[A\n",
            "ITERATION - loss: 6.993:  33%|███▎      | 43/130 [13:23<01:51,  1.28s/it]\u001b[A\n",
            "ITERATION - loss: 6.288:  34%|███▍      | 44/130 [13:24<01:50,  1.28s/it]\u001b[A\n",
            "ITERATION - loss: 6.864:  35%|███▍      | 45/130 [13:26<01:48,  1.28s/it]\u001b[A\n",
            "ITERATION - loss: 6.455:  35%|███▌      | 46/130 [13:27<01:47,  1.28s/it]\u001b[A\n",
            "ITERATION - loss: 7.703:  36%|███▌      | 47/130 [13:28<01:46,  1.28s/it]\u001b[A\n",
            "ITERATION - loss: 6.477:  37%|███▋      | 48/130 [13:29<01:44,  1.28s/it]\u001b[A\n",
            "ITERATION - loss: 7.299:  38%|███▊      | 49/130 [13:31<01:43,  1.28s/it]\u001b[A\n",
            "ITERATION - loss: 6.735:  38%|███▊      | 50/130 [13:32<01:42,  1.28s/it]\u001b[A\n",
            "ITERATION - loss: 6.192:  39%|███▉      | 51/130 [13:33<01:40,  1.28s/it]\u001b[A\n",
            "ITERATION - loss: 6.408:  40%|████      | 52/130 [13:35<01:39,  1.28s/it]\u001b[A\n",
            "ITERATION - loss: 6.592:  41%|████      | 53/130 [13:36<01:38,  1.28s/it]\u001b[A\n",
            "ITERATION - loss: 6.583:  42%|████▏     | 54/130 [13:37<01:37,  1.28s/it]\u001b[A\n",
            "ITERATION - loss: 7.179:  42%|████▏     | 55/130 [13:38<01:35,  1.28s/it]\u001b[A\n",
            "ITERATION - loss: 6.724:  43%|████▎     | 56/130 [13:40<01:34,  1.28s/it]\u001b[A\n",
            "ITERATION - loss: 6.824:  44%|████▍     | 57/130 [13:41<01:33,  1.28s/it]\u001b[A\n",
            "ITERATION - loss: 6.907:  45%|████▍     | 58/130 [13:42<01:31,  1.28s/it]\u001b[A\n",
            "ITERATION - loss: 6.168:  45%|████▌     | 59/130 [13:44<01:30,  1.28s/it]\u001b[A\n",
            "ITERATION - loss: 7.214:  46%|████▌     | 60/130 [13:45<01:29,  1.28s/it]\u001b[A\n",
            "ITERATION - loss: 6.771:  47%|████▋     | 61/130 [13:46<01:28,  1.28s/it]\u001b[A\n",
            "ITERATION - loss: 6.641:  48%|████▊     | 62/130 [13:47<01:26,  1.28s/it]\u001b[A\n",
            "ITERATION - loss: 6.170:  48%|████▊     | 63/130 [13:49<01:25,  1.28s/it]\u001b[A\n",
            "ITERATION - loss: 7.462:  49%|████▉     | 64/130 [13:50<01:24,  1.28s/it]\u001b[A\n",
            "ITERATION - loss: 6.465:  50%|█████     | 65/130 [13:51<01:23,  1.28s/it]\u001b[A\n",
            "ITERATION - loss: 6.363:  51%|█████     | 66/130 [13:52<01:21,  1.28s/it]\u001b[A\n",
            "ITERATION - loss: 7.107:  52%|█████▏    | 67/130 [13:54<01:20,  1.28s/it]\u001b[A\n",
            "ITERATION - loss: 6.653:  52%|█████▏    | 68/130 [13:55<01:19,  1.28s/it]\u001b[A\n",
            "ITERATION - loss: 6.719:  53%|█████▎    | 69/130 [13:56<01:17,  1.28s/it]\u001b[A\n",
            "ITERATION - loss: 6.457:  54%|█████▍    | 70/130 [13:58<01:16,  1.28s/it]\u001b[A\n",
            "ITERATION - loss: 6.088:  55%|█████▍    | 71/130 [13:59<01:15,  1.28s/it]\u001b[A\n",
            "ITERATION - loss: 7.092:  55%|█████▌    | 72/130 [14:00<01:14,  1.28s/it]\u001b[A\n",
            "ITERATION - loss: 6.524:  56%|█████▌    | 73/130 [14:01<01:12,  1.28s/it]\u001b[A\n",
            "ITERATION - loss: 6.990:  57%|█████▋    | 74/130 [14:03<01:11,  1.28s/it]\u001b[A\n",
            "ITERATION - loss: 7.557:  58%|█████▊    | 75/130 [14:04<01:10,  1.27s/it]\u001b[A\n",
            "ITERATION - loss: 6.184:  58%|█████▊    | 76/130 [14:05<01:08,  1.27s/it]\u001b[A\n",
            "ITERATION - loss: 6.398:  59%|█████▉    | 77/130 [14:06<01:07,  1.27s/it]\u001b[A\n",
            "ITERATION - loss: 5.957:  60%|██████    | 78/130 [14:08<01:06,  1.27s/it]\u001b[A\n",
            "ITERATION - loss: 6.513:  61%|██████    | 79/130 [14:09<01:05,  1.28s/it]\u001b[A\n",
            "ITERATION - loss: 7.073:  62%|██████▏   | 80/130 [14:10<01:03,  1.28s/it]\u001b[A\n",
            "ITERATION - loss: 6.898:  62%|██████▏   | 81/130 [14:12<01:02,  1.28s/it]\u001b[A\n",
            "ITERATION - loss: 6.728:  63%|██████▎   | 82/130 [14:13<01:01,  1.28s/it]\u001b[A\n",
            "ITERATION - loss: 6.438:  64%|██████▍   | 83/130 [14:14<00:59,  1.28s/it]\u001b[A\n",
            "ITERATION - loss: 7.095:  65%|██████▍   | 84/130 [14:15<00:58,  1.27s/it]\u001b[A\n",
            "ITERATION - loss: 7.277:  65%|██████▌   | 85/130 [14:17<00:57,  1.28s/it]\u001b[A\n",
            "ITERATION - loss: 6.055:  66%|██████▌   | 86/130 [14:18<00:56,  1.28s/it]\u001b[A\n",
            "ITERATION - loss: 6.851:  67%|██████▋   | 87/130 [14:19<00:54,  1.28s/it]\u001b[A\n",
            "ITERATION - loss: 7.072:  68%|██████▊   | 88/130 [14:21<00:53,  1.27s/it]\u001b[A\n",
            "ITERATION - loss: 7.061:  68%|██████▊   | 89/130 [14:22<00:52,  1.27s/it]\u001b[A\n",
            "ITERATION - loss: 6.489:  69%|██████▉   | 90/130 [14:23<00:51,  1.28s/it]\u001b[A\n",
            "ITERATION - loss: 6.692:  70%|███████   | 91/130 [14:24<00:49,  1.28s/it]\u001b[A\n",
            "ITERATION - loss: 6.732:  71%|███████   | 92/130 [14:26<00:48,  1.28s/it]\u001b[A\n",
            "ITERATION - loss: 6.862:  72%|███████▏  | 93/130 [14:27<00:47,  1.28s/it]\u001b[A\n",
            "ITERATION - loss: 6.589:  72%|███████▏  | 94/130 [14:28<00:45,  1.28s/it]\u001b[A\n",
            "ITERATION - loss: 6.409:  73%|███████▎  | 95/130 [14:29<00:44,  1.28s/it]\u001b[A\n",
            "ITERATION - loss: 6.956:  74%|███████▍  | 96/130 [14:31<00:43,  1.28s/it]\u001b[A\n",
            "ITERATION - loss: 6.135:  75%|███████▍  | 97/130 [14:32<00:42,  1.28s/it]\u001b[A\n",
            "ITERATION - loss: 6.655:  75%|███████▌  | 98/130 [14:33<00:40,  1.28s/it]\u001b[A\n",
            "ITERATION - loss: 7.065:  76%|███████▌  | 99/130 [14:35<00:39,  1.28s/it]\u001b[A\n",
            "ITERATION - loss: 6.426:  77%|███████▋  | 100/130 [14:36<00:38,  1.28s/it]\u001b[A\n",
            "ITERATION - loss: 6.892:  78%|███████▊  | 101/130 [14:37<00:37,  1.28s/it]\u001b[A\n",
            "ITERATION - loss: 6.551:  78%|███████▊  | 102/130 [14:38<00:35,  1.28s/it]\u001b[A\n",
            "ITERATION - loss: 6.450:  79%|███████▉  | 103/130 [14:40<00:34,  1.28s/it]\u001b[A\n",
            "ITERATION - loss: 6.386:  80%|████████  | 104/130 [14:41<00:33,  1.28s/it]\u001b[A\n",
            "ITERATION - loss: 7.335:  81%|████████  | 105/130 [14:42<00:32,  1.28s/it]\u001b[A\n",
            "ITERATION - loss: 6.927:  82%|████████▏ | 106/130 [14:44<00:30,  1.28s/it]\u001b[A\n",
            "ITERATION - loss: 7.129:  82%|████████▏ | 107/130 [14:45<00:29,  1.28s/it]\u001b[A\n",
            "ITERATION - loss: 6.628:  83%|████████▎ | 108/130 [14:46<00:28,  1.28s/it]\u001b[A\n",
            "ITERATION - loss: 6.363:  84%|████████▍ | 109/130 [14:47<00:26,  1.28s/it]\u001b[A\n",
            "ITERATION - loss: 6.454:  85%|████████▍ | 110/130 [14:49<00:25,  1.28s/it]\u001b[A\n",
            "ITERATION - loss: 7.102:  85%|████████▌ | 111/130 [14:50<00:24,  1.28s/it]\u001b[A\n",
            "ITERATION - loss: 6.927:  86%|████████▌ | 112/130 [14:51<00:23,  1.28s/it]\u001b[A\n",
            "ITERATION - loss: 6.663:  87%|████████▋ | 113/130 [14:53<00:21,  1.28s/it]\u001b[A\n",
            "ITERATION - loss: 6.734:  88%|████████▊ | 114/130 [14:54<00:20,  1.28s/it]\u001b[A\n",
            "ITERATION - loss: 6.338:  88%|████████▊ | 115/130 [14:55<00:19,  1.28s/it]\u001b[A\n",
            "ITERATION - loss: 6.959:  89%|████████▉ | 116/130 [14:56<00:17,  1.27s/it]\u001b[A\n",
            "ITERATION - loss: 6.794:  90%|█████████ | 117/130 [14:58<00:16,  1.28s/it]\u001b[A\n",
            "ITERATION - loss: 7.068:  91%|█████████ | 118/130 [14:59<00:15,  1.28s/it]\u001b[A\n",
            "ITERATION - loss: 6.478:  92%|█████████▏| 119/130 [15:00<00:14,  1.28s/it]\u001b[A\n",
            "ITERATION - loss: 5.734:  92%|█████████▏| 120/130 [15:01<00:12,  1.28s/it]\u001b[A\n",
            "ITERATION - loss: 6.266:  93%|█████████▎| 121/130 [15:03<00:11,  1.28s/it]\u001b[A\n",
            "ITERATION - loss: 6.534:  94%|█████████▍| 122/130 [15:04<00:10,  1.27s/it]\u001b[A\n",
            "ITERATION - loss: 6.836:  95%|█████████▍| 123/130 [15:05<00:08,  1.27s/it]\u001b[A\n",
            "ITERATION - loss: 7.165:  95%|█████████▌| 124/130 [15:07<00:07,  1.27s/it]\u001b[A\n",
            "ITERATION - loss: 7.320:  96%|█████████▌| 125/130 [15:08<00:06,  1.27s/it]\u001b[A\n",
            "ITERATION - loss: 7.753:  97%|█████████▋| 126/130 [15:09<00:05,  1.27s/it]\u001b[A\n",
            "ITERATION - loss: 6.473:  98%|█████████▊| 127/130 [15:10<00:03,  1.27s/it]\u001b[A\n",
            "ITERATION - loss: 6.625:  98%|█████████▊| 128/130 [15:12<00:02,  1.28s/it]\u001b[A\n",
            "ITERATION - loss: 6.896:  99%|█████████▉| 129/130 [15:13<00:01,  1.28s/it]\u001b[A\n",
            "ITERATION - loss: 7.612: 100%|██████████| 130/130 [15:14<00:00,  1.17s/it]\u001b[A\n",
            "\n",
            "ITERATION - loss: 8.544:  13%|█▎        | 17/130 [18:36<02:22,  1.26s/it]\n",
            "ITERATION - loss: 7.612: 100%|██████████| 130/130 [18:02<00:00,  1.17s/it]\u001b[A"
          ],
          "name": "stderr"
        },
        {
          "output_type": "stream",
          "text": [
            "Training Results - Epoch: 3 Age L1-loss: 15.476 ** Gender accuracy: 0.821 ** Race accuracy: 0.631 ** Avg loss: 6.273\n"
          ],
          "name": "stdout"
        },
        {
          "output_type": "stream",
          "text": [
            "\n",
            "ITERATION - loss: 8.544:  13%|█▎        | 17/130 [19:14<02:22,  1.26s/it]\n",
            "ITERATION - loss: 7.612: 100%|██████████| 130/130 [18:40<00:00,  1.17s/it]\u001b[A"
          ],
          "name": "stderr"
        },
        {
          "output_type": "stream",
          "text": [
            "Validation Results - Epoch: 3 Age L1-loss: 15.344 ** Gender accuracy: 0.803 ** Race accuracy: 0.605 ** Avg loss: 6.596\n"
          ],
          "name": "stdout"
        },
        {
          "output_type": "stream",
          "text": [
            "\n",
            "ITERATION - loss: 7.539:   1%|          | 1/130 [18:44<2:17:22, 63.89s/it]\u001b[A\n",
            "ITERATION - loss: 6.305:   2%|▏         | 2/130 [18:45<1:36:16, 45.13s/it]\u001b[A\n",
            "ITERATION - loss: 6.800:   2%|▏         | 3/130 [18:47<1:07:41, 31.98s/it]\u001b[A\n",
            "ITERATION - loss: 6.562:   3%|▎         | 4/130 [18:48<47:49, 22.77s/it]  \u001b[A\n",
            "ITERATION - loss: 6.485:   4%|▍         | 5/130 [18:49<34:00, 16.33s/it]\u001b[A\n",
            "ITERATION - loss: 6.792:   5%|▍         | 6/130 [18:51<24:24, 11.81s/it]\u001b[A\n",
            "ITERATION - loss: 6.834:   5%|▌         | 7/130 [18:52<17:43,  8.65s/it]\u001b[A\n",
            "ITERATION - loss: 7.107:   6%|▌         | 8/130 [18:53<13:05,  6.44s/it]\u001b[A\n",
            "ITERATION - loss: 6.506:   7%|▋         | 9/130 [18:54<09:51,  4.89s/it]\u001b[A\n",
            "ITERATION - loss: 6.308:   8%|▊         | 10/130 [18:56<07:37,  3.81s/it]\u001b[A\n",
            "ITERATION - loss: 7.210:   8%|▊         | 11/130 [18:57<06:02,  3.05s/it]\u001b[A\n",
            "ITERATION - loss: 6.781:   9%|▉         | 12/130 [18:58<04:57,  2.52s/it]\u001b[A\n",
            "ITERATION - loss: 6.644:  10%|█         | 13/130 [19:00<04:11,  2.15s/it]\u001b[A\n",
            "ITERATION - loss: 6.454:  11%|█         | 14/130 [19:01<03:39,  1.89s/it]\u001b[A\n",
            "ITERATION - loss: 6.422:  12%|█▏        | 15/130 [19:02<03:15,  1.70s/it]\u001b[A\n",
            "ITERATION - loss: 6.637:  12%|█▏        | 16/130 [19:03<03:00,  1.58s/it]\u001b[A\n",
            "ITERATION - loss: 6.919:  13%|█▎        | 17/130 [19:05<02:48,  1.49s/it]\u001b[A\n",
            "ITERATION - loss: 6.253:  14%|█▍        | 18/130 [19:06<02:39,  1.43s/it]\u001b[A\n",
            "ITERATION - loss: 7.236:  15%|█▍        | 19/130 [19:07<02:33,  1.38s/it]\u001b[A\n",
            "ITERATION - loss: 6.892:  15%|█▌        | 20/130 [19:08<02:28,  1.35s/it]\u001b[A\n",
            "ITERATION - loss: 7.259:  16%|█▌        | 21/130 [19:10<02:25,  1.33s/it]\u001b[A\n",
            "ITERATION - loss: 6.163:  17%|█▋        | 22/130 [19:11<02:22,  1.32s/it]\u001b[A\n",
            "ITERATION - loss: 7.051:  18%|█▊        | 23/130 [19:12<02:19,  1.30s/it]\u001b[A\n",
            "ITERATION - loss: 6.440:  18%|█▊        | 24/130 [19:14<02:17,  1.30s/it]\u001b[A\n",
            "ITERATION - loss: 6.321:  19%|█▉        | 25/130 [19:15<02:15,  1.29s/it]\u001b[A\n",
            "ITERATION - loss: 6.259:  20%|██        | 26/130 [19:16<02:13,  1.29s/it]\u001b[A\n",
            "ITERATION - loss: 7.464:  21%|██        | 27/130 [19:17<02:12,  1.28s/it]\u001b[A\n",
            "ITERATION - loss: 7.152:  22%|██▏       | 28/130 [19:19<02:10,  1.28s/it]\u001b[A\n",
            "ITERATION - loss: 6.135:  22%|██▏       | 29/130 [19:20<02:09,  1.28s/it]\u001b[A\n",
            "ITERATION - loss: 6.214:  23%|██▎       | 30/130 [19:21<02:08,  1.28s/it]\u001b[A\n",
            "ITERATION - loss: 6.660:  24%|██▍       | 31/130 [19:23<02:06,  1.28s/it]\u001b[A\n",
            "ITERATION - loss: 7.537:  25%|██▍       | 32/130 [19:24<02:05,  1.28s/it]\u001b[A\n",
            "ITERATION - loss: 7.559:  25%|██▌       | 33/130 [19:25<02:03,  1.28s/it]\u001b[A\n",
            "ITERATION - loss: 6.907:  26%|██▌       | 34/130 [19:26<02:02,  1.28s/it]\u001b[A\n",
            "ITERATION - loss: 6.131:  27%|██▋       | 35/130 [19:28<02:01,  1.28s/it]\u001b[A\n",
            "ITERATION - loss: 6.795:  28%|██▊       | 36/130 [19:29<01:59,  1.28s/it]\u001b[A\n",
            "ITERATION - loss: 6.835:  28%|██▊       | 37/130 [19:30<01:58,  1.28s/it]\u001b[A\n",
            "ITERATION - loss: 7.265:  29%|██▉       | 38/130 [19:31<01:57,  1.28s/it]\u001b[A\n",
            "ITERATION - loss: 6.651:  30%|███       | 39/130 [19:33<01:56,  1.28s/it]\u001b[A\n",
            "ITERATION - loss: 6.624:  31%|███       | 40/130 [19:34<01:54,  1.28s/it]\u001b[A\n",
            "ITERATION - loss: 5.891:  32%|███▏      | 41/130 [19:35<01:53,  1.28s/it]\u001b[A\n",
            "ITERATION - loss: 6.854:  32%|███▏      | 42/130 [19:37<01:52,  1.28s/it]\u001b[A\n",
            "ITERATION - loss: 6.057:  33%|███▎      | 43/130 [19:38<01:51,  1.28s/it]\u001b[A\n",
            "ITERATION - loss: 6.374:  34%|███▍      | 44/130 [19:39<01:50,  1.28s/it]\u001b[A\n",
            "ITERATION - loss: 6.651:  35%|███▍      | 45/130 [19:40<01:48,  1.28s/it]\u001b[A\n",
            "ITERATION - loss: 7.036:  35%|███▌      | 46/130 [19:42<01:47,  1.28s/it]\u001b[A\n",
            "ITERATION - loss: 5.961:  36%|███▌      | 47/130 [19:43<01:46,  1.28s/it]\u001b[A\n",
            "ITERATION - loss: 5.914:  37%|███▋      | 48/130 [19:44<01:44,  1.28s/it]\u001b[A\n",
            "ITERATION - loss: 6.711:  38%|███▊      | 49/130 [19:46<01:43,  1.28s/it]\u001b[A\n",
            "ITERATION - loss: 6.400:  38%|███▊      | 50/130 [19:47<01:42,  1.28s/it]\u001b[A\n",
            "ITERATION - loss: 6.243:  39%|███▉      | 51/130 [19:48<01:40,  1.28s/it]\u001b[A\n",
            "ITERATION - loss: 6.922:  40%|████      | 52/130 [19:49<01:39,  1.28s/it]\u001b[A\n",
            "ITERATION - loss: 6.597:  41%|████      | 53/130 [19:51<01:38,  1.28s/it]\u001b[A\n",
            "ITERATION - loss: 6.298:  42%|████▏     | 54/130 [19:52<01:36,  1.28s/it]\u001b[A\n",
            "ITERATION - loss: 6.694:  42%|████▏     | 55/130 [19:53<01:35,  1.28s/it]\u001b[A\n",
            "ITERATION - loss: 7.188:  43%|████▎     | 56/130 [19:55<01:34,  1.28s/it]\u001b[A\n",
            "ITERATION - loss: 6.208:  44%|████▍     | 57/130 [19:56<01:33,  1.28s/it]\u001b[A\n",
            "ITERATION - loss: 6.921:  45%|████▍     | 58/130 [19:57<01:32,  1.28s/it]\u001b[A\n",
            "ITERATION - loss: 6.041:  45%|████▌     | 59/130 [19:58<01:30,  1.28s/it]\u001b[A\n",
            "ITERATION - loss: 7.439:  46%|████▌     | 60/130 [20:00<01:29,  1.28s/it]\u001b[A\n",
            "ITERATION - loss: 6.527:  47%|████▋     | 61/130 [20:01<01:28,  1.28s/it]\u001b[A\n",
            "ITERATION - loss: 7.775:  48%|████▊     | 62/130 [20:02<01:26,  1.28s/it]\u001b[A\n",
            "ITERATION - loss: 6.504:  48%|████▊     | 63/130 [20:03<01:25,  1.28s/it]\u001b[A\n",
            "ITERATION - loss: 6.980:  49%|████▉     | 64/130 [20:05<01:24,  1.28s/it]\u001b[A\n",
            "ITERATION - loss: 6.485:  50%|█████     | 65/130 [20:06<01:22,  1.28s/it]\u001b[A\n",
            "ITERATION - loss: 6.727:  51%|█████     | 66/130 [20:07<01:21,  1.28s/it]\u001b[A\n",
            "ITERATION - loss: 7.303:  52%|█████▏    | 67/130 [20:09<01:20,  1.28s/it]\u001b[A\n",
            "ITERATION - loss: 6.559:  52%|█████▏    | 68/130 [20:10<01:19,  1.28s/it]\u001b[A\n",
            "ITERATION - loss: 7.243:  53%|█████▎    | 69/130 [20:11<01:17,  1.28s/it]\u001b[A\n",
            "ITERATION - loss: 7.034:  54%|█████▍    | 70/130 [20:12<01:17,  1.29s/it]\u001b[A\n",
            "ITERATION - loss: 6.340:  55%|█████▍    | 71/130 [20:14<01:15,  1.28s/it]\u001b[A\n",
            "ITERATION - loss: 6.549:  55%|█████▌    | 72/130 [20:15<01:14,  1.28s/it]\u001b[A\n",
            "ITERATION - loss: 6.653:  56%|█████▌    | 73/130 [20:16<01:13,  1.29s/it]\u001b[A\n",
            "ITERATION - loss: 6.891:  57%|█████▋    | 74/130 [20:18<01:12,  1.29s/it]\u001b[A\n",
            "ITERATION - loss: 6.604:  58%|█████▊    | 75/130 [20:19<01:10,  1.29s/it]\u001b[A\n",
            "ITERATION - loss: 6.878:  58%|█████▊    | 76/130 [20:20<01:09,  1.29s/it]\u001b[A\n",
            "ITERATION - loss: 6.989:  59%|█████▉    | 77/130 [20:21<01:08,  1.29s/it]\u001b[A\n",
            "ITERATION - loss: 6.938:  60%|██████    | 78/130 [20:23<01:06,  1.28s/it]\u001b[A\n",
            "ITERATION - loss: 7.118:  61%|██████    | 79/130 [20:24<01:05,  1.28s/it]\u001b[A\n",
            "ITERATION - loss: 7.798:  62%|██████▏   | 80/130 [20:25<01:04,  1.28s/it]\u001b[A\n",
            "ITERATION - loss: 6.411:  62%|██████▏   | 81/130 [20:27<01:02,  1.28s/it]\u001b[A\n",
            "ITERATION - loss: 6.117:  63%|██████▎   | 82/130 [20:28<01:01,  1.28s/it]\u001b[A\n",
            "ITERATION - loss: 6.789:  64%|██████▍   | 83/130 [20:29<01:00,  1.28s/it]\u001b[A\n",
            "ITERATION - loss: 6.282:  65%|██████▍   | 84/130 [20:30<00:58,  1.28s/it]\u001b[A\n",
            "ITERATION - loss: 6.377:  65%|██████▌   | 85/130 [20:32<00:57,  1.28s/it]\u001b[A\n",
            "ITERATION - loss: 6.547:  66%|██████▌   | 86/130 [20:33<00:56,  1.28s/it]\u001b[A\n",
            "ITERATION - loss: 6.992:  67%|██████▋   | 87/130 [20:34<00:54,  1.28s/it]\u001b[A\n",
            "ITERATION - loss: 7.472:  68%|██████▊   | 88/130 [20:36<00:53,  1.28s/it]\u001b[A\n",
            "ITERATION - loss: 7.023:  68%|██████▊   | 89/130 [20:37<00:52,  1.28s/it]\u001b[A\n",
            "ITERATION - loss: 7.607:  69%|██████▉   | 90/130 [20:38<00:51,  1.28s/it]\u001b[A\n",
            "ITERATION - loss: 6.834:  70%|███████   | 91/130 [20:39<00:50,  1.28s/it]\u001b[A\n",
            "ITERATION - loss: 6.158:  71%|███████   | 92/130 [20:41<00:48,  1.28s/it]\u001b[A\n",
            "ITERATION - loss: 7.128:  72%|███████▏  | 93/130 [20:42<00:47,  1.28s/it]\u001b[A\n",
            "ITERATION - loss: 7.122:  72%|███████▏  | 94/130 [20:43<00:46,  1.28s/it]\u001b[A\n",
            "ITERATION - loss: 6.771:  73%|███████▎  | 95/130 [20:45<00:44,  1.28s/it]\u001b[A\n",
            "ITERATION - loss: 6.896:  74%|███████▍  | 96/130 [20:46<00:43,  1.29s/it]\u001b[A\n",
            "ITERATION - loss: 7.164:  75%|███████▍  | 97/130 [20:47<00:42,  1.29s/it]\u001b[A\n",
            "ITERATION - loss: 6.061:  75%|███████▌  | 98/130 [20:48<00:41,  1.28s/it]\u001b[A\n",
            "ITERATION - loss: 7.736:  76%|███████▌  | 99/130 [20:50<00:39,  1.29s/it]\u001b[A\n",
            "ITERATION - loss: 6.488:  77%|███████▋  | 100/130 [20:51<00:38,  1.28s/it]\u001b[A\n",
            "ITERATION - loss: 6.808:  78%|███████▊  | 101/130 [20:52<00:37,  1.28s/it]\u001b[A\n",
            "ITERATION - loss: 6.364:  78%|███████▊  | 102/130 [20:53<00:35,  1.28s/it]\u001b[A\n",
            "ITERATION - loss: 6.473:  79%|███████▉  | 103/130 [20:55<00:34,  1.28s/it]\u001b[A\n",
            "ITERATION - loss: 6.956:  80%|████████  | 104/130 [20:56<00:33,  1.28s/it]\u001b[A\n",
            "ITERATION - loss: 6.614:  81%|████████  | 105/130 [20:57<00:31,  1.28s/it]\u001b[A\n",
            "ITERATION - loss: 7.715:  82%|████████▏ | 106/130 [20:59<00:30,  1.28s/it]\u001b[A\n",
            "ITERATION - loss: 7.444:  82%|████████▏ | 107/130 [21:00<00:29,  1.28s/it]\u001b[A\n",
            "ITERATION - loss: 6.449:  83%|████████▎ | 108/130 [21:01<00:28,  1.28s/it]\u001b[A\n",
            "ITERATION - loss: 6.640:  84%|████████▍ | 109/130 [21:02<00:26,  1.28s/it]\u001b[A\n",
            "ITERATION - loss: 6.526:  85%|████████▍ | 110/130 [21:04<00:25,  1.28s/it]\u001b[A\n",
            "ITERATION - loss: 6.767:  85%|████████▌ | 111/130 [21:05<00:24,  1.28s/it]\u001b[A\n",
            "ITERATION - loss: 6.373:  86%|████████▌ | 112/130 [21:06<00:23,  1.28s/it]\u001b[A\n",
            "ITERATION - loss: 6.645:  87%|████████▋ | 113/130 [21:08<00:21,  1.28s/it]\u001b[A\n",
            "ITERATION - loss: 6.938:  88%|████████▊ | 114/130 [21:09<00:20,  1.28s/it]\u001b[A\n",
            "ITERATION - loss: 6.239:  88%|████████▊ | 115/130 [21:10<00:19,  1.28s/it]\u001b[A\n",
            "ITERATION - loss: 7.132:  89%|████████▉ | 116/130 [21:11<00:17,  1.28s/it]\u001b[A\n",
            "ITERATION - loss: 6.068:  90%|█████████ | 117/130 [21:13<00:16,  1.27s/it]\u001b[A\n",
            "ITERATION - loss: 6.620:  91%|█████████ | 118/130 [21:14<00:15,  1.28s/it]\u001b[A\n",
            "ITERATION - loss: 5.970:  92%|█████████▏| 119/130 [21:15<00:14,  1.27s/it]\u001b[A\n",
            "ITERATION - loss: 6.140:  92%|█████████▏| 120/130 [21:16<00:12,  1.27s/it]\u001b[A\n",
            "ITERATION - loss: 6.041:  93%|█████████▎| 121/130 [21:18<00:11,  1.28s/it]\u001b[A\n",
            "ITERATION - loss: 7.036:  94%|█████████▍| 122/130 [21:19<00:10,  1.27s/it]\u001b[A\n",
            "ITERATION - loss: 7.157:  95%|█████████▍| 123/130 [21:20<00:08,  1.28s/it]\u001b[A\n",
            "ITERATION - loss: 6.389:  95%|█████████▌| 124/130 [21:22<00:07,  1.27s/it]\u001b[A\n",
            "ITERATION - loss: 7.038:  96%|█████████▌| 125/130 [21:23<00:06,  1.28s/it]\u001b[A\n",
            "ITERATION - loss: 6.762:  97%|█████████▋| 126/130 [21:24<00:05,  1.28s/it]\u001b[A\n",
            "ITERATION - loss: 7.160:  98%|█████████▊| 127/130 [21:25<00:03,  1.27s/it]\u001b[A\n",
            "ITERATION - loss: 5.859:  98%|█████████▊| 128/130 [21:27<00:02,  1.28s/it]\u001b[A\n",
            "ITERATION - loss: 6.299:  99%|█████████▉| 129/130 [21:28<00:01,  1.27s/it]\u001b[A\n",
            "ITERATION - loss: 6.437: 100%|██████████| 130/130 [21:29<00:00,  1.17s/it]\u001b[A\n",
            "\n",
            "ITERATION - loss: 8.544:  13%|█▎        | 17/130 [24:48<02:22,  1.26s/it]\n",
            "ITERATION - loss: 6.437: 100%|██████████| 130/130 [24:14<00:00,  1.17s/it]\u001b[A"
          ],
          "name": "stderr"
        },
        {
          "output_type": "stream",
          "text": [
            "Training Results - Epoch: 4 Age L1-loss: 15.347 ** Gender accuracy: 0.820 ** Race accuracy: 0.648 ** Avg loss: 6.194\n"
          ],
          "name": "stdout"
        },
        {
          "output_type": "stream",
          "text": [
            "\n",
            "ITERATION - loss: 8.544:  13%|█▎        | 17/130 [25:26<02:22,  1.26s/it]\n",
            "ITERATION - loss: 6.437: 100%|██████████| 130/130 [24:52<00:00,  1.17s/it]\u001b[A"
          ],
          "name": "stderr"
        },
        {
          "output_type": "stream",
          "text": [
            "Validation Results - Epoch: 4 Age L1-loss: 15.235 ** Gender accuracy: 0.808 ** Race accuracy: 0.606 ** Avg loss: 6.510\n"
          ],
          "name": "stdout"
        },
        {
          "output_type": "stream",
          "text": [
            "\n",
            "ITERATION - loss: 6.411:   1%|          | 1/130 [24:56<2:15:10, 62.87s/it]\u001b[A\n",
            "ITERATION - loss: 7.188:   2%|▏         | 2/130 [24:57<1:34:45, 44.42s/it]\u001b[A\n",
            "ITERATION - loss: 6.295:   2%|▏         | 3/130 [24:58<1:06:39, 31.49s/it]\u001b[A\n",
            "ITERATION - loss: 6.864:   3%|▎         | 4/130 [25:00<47:05, 22.43s/it]  \u001b[A\n",
            "ITERATION - loss: 6.401:   4%|▍         | 5/130 [25:01<33:30, 16.08s/it]\u001b[A\n",
            "ITERATION - loss: 6.268:   5%|▍         | 6/130 [25:02<24:03, 11.64s/it]\u001b[A\n",
            "ITERATION - loss: 6.402:   5%|▌         | 7/130 [25:04<17:29,  8.53s/it]\u001b[A\n",
            "ITERATION - loss: 6.776:   6%|▌         | 8/130 [25:05<12:55,  6.35s/it]\u001b[A\n",
            "ITERATION - loss: 6.593:   7%|▋         | 9/130 [25:06<09:44,  4.83s/it]\u001b[A\n",
            "ITERATION - loss: 7.646:   8%|▊         | 10/130 [25:07<07:31,  3.77s/it]\u001b[A\n",
            "ITERATION - loss: 7.197:   8%|▊         | 11/130 [25:09<05:59,  3.02s/it]\u001b[A\n",
            "ITERATION - loss: 6.502:   9%|▉         | 12/130 [25:10<04:55,  2.50s/it]\u001b[A\n",
            "ITERATION - loss: 6.873:  10%|█         | 13/130 [25:11<04:09,  2.13s/it]\u001b[A\n",
            "ITERATION - loss: 6.618:  11%|█         | 14/130 [25:12<03:37,  1.88s/it]\u001b[A\n",
            "ITERATION - loss: 6.276:  12%|█▏        | 15/130 [25:14<03:15,  1.70s/it]\u001b[A\n",
            "ITERATION - loss: 6.752:  12%|█▏        | 16/130 [25:15<02:58,  1.57s/it]\u001b[A\n",
            "ITERATION - loss: 6.514:  13%|█▎        | 17/130 [25:16<02:47,  1.48s/it]\u001b[A\n",
            "ITERATION - loss: 6.424:  14%|█▍        | 18/130 [25:18<02:39,  1.42s/it]\u001b[A\n",
            "ITERATION - loss: 6.869:  15%|█▍        | 19/130 [25:19<02:33,  1.38s/it]\u001b[A\n",
            "ITERATION - loss: 6.211:  15%|█▌        | 20/130 [25:20<02:28,  1.35s/it]\u001b[A\n",
            "ITERATION - loss: 6.779:  16%|█▌        | 21/130 [25:21<02:25,  1.33s/it]\u001b[A\n",
            "ITERATION - loss: 6.256:  17%|█▋        | 22/130 [25:23<02:21,  1.31s/it]\u001b[A\n",
            "ITERATION - loss: 6.779:  18%|█▊        | 23/130 [25:24<02:19,  1.30s/it]\u001b[A\n",
            "ITERATION - loss: 6.018:  18%|█▊        | 24/130 [25:25<02:17,  1.30s/it]\u001b[A\n",
            "ITERATION - loss: 6.898:  19%|█▉        | 25/130 [25:27<02:15,  1.29s/it]\u001b[A\n",
            "ITERATION - loss: 6.729:  20%|██        | 26/130 [25:28<02:13,  1.29s/it]\u001b[A\n",
            "ITERATION - loss: 7.207:  21%|██        | 27/130 [25:29<02:12,  1.28s/it]\u001b[A\n",
            "ITERATION - loss: 6.968:  22%|██▏       | 28/130 [25:30<02:10,  1.28s/it]\u001b[A\n",
            "ITERATION - loss: 7.584:  22%|██▏       | 29/130 [25:32<02:09,  1.28s/it]\u001b[A\n",
            "ITERATION - loss: 6.969:  23%|██▎       | 30/130 [25:33<02:07,  1.28s/it]\u001b[A\n",
            "ITERATION - loss: 6.464:  24%|██▍       | 31/130 [25:34<02:06,  1.28s/it]\u001b[A\n",
            "ITERATION - loss: 7.419:  25%|██▍       | 32/130 [25:35<02:05,  1.28s/it]\u001b[A\n",
            "ITERATION - loss: 6.100:  25%|██▌       | 33/130 [25:37<02:03,  1.28s/it]\u001b[A\n",
            "ITERATION - loss: 7.407:  26%|██▌       | 34/130 [25:38<02:02,  1.28s/it]\u001b[A\n",
            "ITERATION - loss: 6.588:  27%|██▋       | 35/130 [25:39<02:01,  1.28s/it]\u001b[A\n",
            "ITERATION - loss: 6.531:  28%|██▊       | 36/130 [25:41<01:59,  1.28s/it]\u001b[A\n",
            "ITERATION - loss: 6.660:  28%|██▊       | 37/130 [25:42<01:58,  1.28s/it]\u001b[A\n",
            "ITERATION - loss: 5.893:  29%|██▉       | 38/130 [25:43<01:57,  1.28s/it]\u001b[A\n",
            "ITERATION - loss: 6.025:  30%|███       | 39/130 [25:44<01:56,  1.28s/it]\u001b[A\n",
            "ITERATION - loss: 7.214:  31%|███       | 40/130 [25:46<01:54,  1.28s/it]\u001b[A\n",
            "ITERATION - loss: 6.787:  32%|███▏      | 41/130 [25:47<01:53,  1.28s/it]\u001b[A\n",
            "ITERATION - loss: 6.844:  32%|███▏      | 42/130 [25:48<01:52,  1.28s/it]\u001b[A\n",
            "ITERATION - loss: 6.957:  33%|███▎      | 43/130 [25:50<01:51,  1.28s/it]\u001b[A\n",
            "ITERATION - loss: 6.558:  34%|███▍      | 44/130 [25:51<01:49,  1.28s/it]\u001b[A\n",
            "ITERATION - loss: 6.288:  35%|███▍      | 45/130 [25:52<01:48,  1.28s/it]\u001b[A\n",
            "ITERATION - loss: 6.787:  35%|███▌      | 46/130 [25:53<01:47,  1.28s/it]\u001b[A\n",
            "ITERATION - loss: 6.441:  36%|███▌      | 47/130 [25:55<01:45,  1.28s/it]\u001b[A\n",
            "ITERATION - loss: 6.290:  37%|███▋      | 48/130 [25:56<01:44,  1.28s/it]\u001b[A\n",
            "ITERATION - loss: 7.197:  38%|███▊      | 49/130 [25:57<01:43,  1.28s/it]\u001b[A\n",
            "ITERATION - loss: 5.924:  38%|███▊      | 50/130 [25:58<01:42,  1.28s/it]\u001b[A\n",
            "ITERATION - loss: 6.846:  39%|███▉      | 51/130 [26:00<01:41,  1.28s/it]\u001b[A\n",
            "ITERATION - loss: 6.245:  40%|████      | 52/130 [26:01<01:39,  1.28s/it]\u001b[A\n",
            "ITERATION - loss: 6.474:  41%|████      | 53/130 [26:02<01:38,  1.28s/it]\u001b[A\n",
            "ITERATION - loss: 6.249:  42%|████▏     | 54/130 [26:04<01:37,  1.28s/it]\u001b[A\n",
            "ITERATION - loss: 6.745:  42%|████▏     | 55/130 [26:05<01:35,  1.28s/it]\u001b[A\n",
            "ITERATION - loss: 6.267:  43%|████▎     | 56/130 [26:06<01:34,  1.28s/it]\u001b[A\n",
            "ITERATION - loss: 5.946:  44%|████▍     | 57/130 [26:07<01:33,  1.28s/it]\u001b[A\n",
            "ITERATION - loss: 6.555:  45%|████▍     | 58/130 [26:09<01:31,  1.28s/it]\u001b[A\n",
            "ITERATION - loss: 6.545:  45%|████▌     | 59/130 [26:10<01:30,  1.28s/it]\u001b[A\n",
            "ITERATION - loss: 5.979:  46%|████▌     | 60/130 [26:11<01:29,  1.28s/it]\u001b[A\n",
            "ITERATION - loss: 6.375:  47%|████▋     | 61/130 [26:12<01:28,  1.28s/it]\u001b[A\n",
            "ITERATION - loss: 6.807:  48%|████▊     | 62/130 [26:14<01:26,  1.28s/it]\u001b[A\n",
            "ITERATION - loss: 7.610:  48%|████▊     | 63/130 [26:15<01:25,  1.28s/it]\u001b[A\n",
            "ITERATION - loss: 7.135:  49%|████▉     | 64/130 [26:16<01:24,  1.28s/it]\u001b[A\n",
            "ITERATION - loss: 6.167:  50%|█████     | 65/130 [26:18<01:22,  1.28s/it]\u001b[A\n",
            "ITERATION - loss: 6.905:  51%|█████     | 66/130 [26:19<01:21,  1.28s/it]\u001b[A\n",
            "ITERATION - loss: 6.823:  52%|█████▏    | 67/130 [26:20<01:20,  1.28s/it]\u001b[A\n",
            "ITERATION - loss: 6.448:  52%|█████▏    | 68/130 [26:21<01:19,  1.27s/it]\u001b[A\n",
            "ITERATION - loss: 6.892:  53%|█████▎    | 69/130 [26:23<01:17,  1.28s/it]\u001b[A\n",
            "ITERATION - loss: 7.111:  54%|█████▍    | 70/130 [26:24<01:16,  1.27s/it]\u001b[A\n",
            "ITERATION - loss: 6.017:  55%|█████▍    | 71/130 [26:25<01:15,  1.28s/it]\u001b[A\n",
            "ITERATION - loss: 6.168:  55%|█████▌    | 72/130 [26:27<01:14,  1.28s/it]\u001b[A\n",
            "ITERATION - loss: 6.570:  56%|█████▌    | 73/130 [26:28<01:12,  1.28s/it]\u001b[A\n",
            "ITERATION - loss: 6.636:  57%|█████▋    | 74/130 [26:29<01:11,  1.28s/it]\u001b[A\n",
            "ITERATION - loss: 6.329:  58%|█████▊    | 75/130 [26:30<01:10,  1.28s/it]\u001b[A\n",
            "ITERATION - loss: 6.373:  58%|█████▊    | 76/130 [26:32<01:09,  1.28s/it]\u001b[A\n",
            "ITERATION - loss: 6.174:  59%|█████▉    | 77/130 [26:33<01:07,  1.28s/it]\u001b[A\n",
            "ITERATION - loss: 6.926:  60%|██████    | 78/130 [26:34<01:06,  1.28s/it]\u001b[A\n",
            "ITERATION - loss: 6.845:  61%|██████    | 79/130 [26:35<01:05,  1.28s/it]\u001b[A\n",
            "ITERATION - loss: 6.822:  62%|██████▏   | 80/130 [26:37<01:04,  1.28s/it]\u001b[A\n",
            "ITERATION - loss: 6.103:  62%|██████▏   | 81/130 [26:38<01:02,  1.28s/it]\u001b[A\n",
            "ITERATION - loss: 6.437:  63%|██████▎   | 82/130 [26:39<01:01,  1.28s/it]\u001b[A\n",
            "ITERATION - loss: 6.858:  64%|██████▍   | 83/130 [26:41<00:59,  1.28s/it]\u001b[A\n",
            "ITERATION - loss: 7.295:  65%|██████▍   | 84/130 [26:42<00:58,  1.27s/it]\u001b[A\n",
            "ITERATION - loss: 6.370:  65%|██████▌   | 85/130 [26:43<00:57,  1.27s/it]\u001b[A\n",
            "ITERATION - loss: 6.531:  66%|██████▌   | 86/130 [26:44<00:56,  1.27s/it]\u001b[A\n",
            "ITERATION - loss: 6.715:  67%|██████▋   | 87/130 [26:46<00:54,  1.28s/it]\u001b[A\n",
            "ITERATION - loss: 7.563:  68%|██████▊   | 88/130 [26:47<00:53,  1.28s/it]\u001b[A\n",
            "ITERATION - loss: 6.620:  68%|██████▊   | 89/130 [26:48<00:52,  1.28s/it]\u001b[A\n",
            "ITERATION - loss: 7.201:  69%|██████▉   | 90/130 [26:50<00:51,  1.28s/it]\u001b[A\n",
            "ITERATION - loss: 6.455:  70%|███████   | 91/130 [26:51<00:49,  1.28s/it]\u001b[A\n",
            "ITERATION - loss: 6.486:  71%|███████   | 92/130 [26:52<00:48,  1.28s/it]\u001b[A\n",
            "ITERATION - loss: 7.326:  72%|███████▏  | 93/130 [26:53<00:47,  1.28s/it]\u001b[A\n",
            "ITERATION - loss: 6.557:  72%|███████▏  | 94/130 [26:55<00:46,  1.28s/it]\u001b[A\n",
            "ITERATION - loss: 6.848:  73%|███████▎  | 95/130 [26:56<00:44,  1.28s/it]\u001b[A\n",
            "ITERATION - loss: 7.141:  74%|███████▍  | 96/130 [26:57<00:43,  1.28s/it]\u001b[A\n",
            "ITERATION - loss: 6.361:  75%|███████▍  | 97/130 [26:58<00:42,  1.28s/it]\u001b[A\n",
            "ITERATION - loss: 6.684:  75%|███████▌  | 98/130 [27:00<00:40,  1.28s/it]\u001b[A\n",
            "ITERATION - loss: 6.870:  76%|███████▌  | 99/130 [27:01<00:39,  1.28s/it]\u001b[A\n",
            "ITERATION - loss: 6.592:  77%|███████▋  | 100/130 [27:02<00:38,  1.28s/it]\u001b[A\n",
            "ITERATION - loss: 6.751:  78%|███████▊  | 101/130 [27:04<00:37,  1.28s/it]\u001b[A\n",
            "ITERATION - loss: 6.592:  78%|███████▊  | 102/130 [27:05<00:35,  1.28s/it]\u001b[A\n",
            "ITERATION - loss: 6.451:  79%|███████▉  | 103/130 [27:06<00:34,  1.28s/it]\u001b[A\n",
            "ITERATION - loss: 6.132:  80%|████████  | 104/130 [27:07<00:33,  1.28s/it]\u001b[A\n",
            "ITERATION - loss: 6.723:  81%|████████  | 105/130 [27:09<00:31,  1.28s/it]\u001b[A\n",
            "ITERATION - loss: 6.475:  82%|████████▏ | 106/130 [27:10<00:30,  1.28s/it]\u001b[A\n",
            "ITERATION - loss: 6.956:  82%|████████▏ | 107/130 [27:11<00:29,  1.28s/it]\u001b[A\n",
            "ITERATION - loss: 6.898:  83%|████████▎ | 108/130 [27:13<00:28,  1.28s/it]\u001b[A\n",
            "ITERATION - loss: 6.735:  84%|████████▍ | 109/130 [27:14<00:26,  1.28s/it]\u001b[A\n",
            "ITERATION - loss: 6.588:  85%|████████▍ | 110/130 [27:15<00:25,  1.28s/it]\u001b[A\n",
            "ITERATION - loss: 6.779:  85%|████████▌ | 111/130 [27:16<00:24,  1.28s/it]\u001b[A\n",
            "ITERATION - loss: 6.954:  86%|████████▌ | 112/130 [27:18<00:22,  1.27s/it]\u001b[A\n",
            "ITERATION - loss: 6.761:  87%|████████▋ | 113/130 [27:19<00:21,  1.27s/it]\u001b[A\n",
            "ITERATION - loss: 6.246:  88%|████████▊ | 114/130 [27:20<00:20,  1.27s/it]\u001b[A\n",
            "ITERATION - loss: 6.586:  88%|████████▊ | 115/130 [27:21<00:19,  1.27s/it]\u001b[A\n",
            "ITERATION - loss: 6.656:  89%|████████▉ | 116/130 [27:23<00:17,  1.27s/it]\u001b[A\n",
            "ITERATION - loss: 6.515:  90%|█████████ | 117/130 [27:24<00:16,  1.27s/it]\u001b[A\n",
            "ITERATION - loss: 6.602:  91%|█████████ | 118/130 [27:25<00:15,  1.27s/it]\u001b[A\n",
            "ITERATION - loss: 6.645:  92%|█████████▏| 119/130 [27:27<00:14,  1.28s/it]\u001b[A\n",
            "ITERATION - loss: 6.674:  92%|█████████▏| 120/130 [27:28<00:12,  1.28s/it]\u001b[A\n",
            "ITERATION - loss: 6.635:  93%|█████████▎| 121/130 [27:29<00:11,  1.28s/it]\u001b[A\n",
            "ITERATION - loss: 6.456:  94%|█████████▍| 122/130 [27:30<00:10,  1.27s/it]\u001b[A\n",
            "ITERATION - loss: 6.124:  95%|█████████▍| 123/130 [27:32<00:08,  1.27s/it]\u001b[A\n",
            "ITERATION - loss: 6.552:  95%|█████████▌| 124/130 [27:33<00:07,  1.27s/it]\u001b[A\n",
            "ITERATION - loss: 7.055:  96%|█████████▌| 125/130 [27:34<00:06,  1.27s/it]\u001b[A\n",
            "ITERATION - loss: 6.666:  97%|█████████▋| 126/130 [27:35<00:05,  1.27s/it]\u001b[A\n",
            "ITERATION - loss: 6.001:  98%|█████████▊| 127/130 [27:37<00:03,  1.27s/it]\u001b[A\n",
            "ITERATION - loss: 6.253:  98%|█████████▊| 128/130 [27:38<00:02,  1.27s/it]\u001b[A\n",
            "ITERATION - loss: 6.935:  99%|█████████▉| 129/130 [27:39<00:01,  1.27s/it]\u001b[A\n",
            "ITERATION - loss: 6.872: 100%|██████████| 130/130 [27:40<00:00,  1.16s/it]\u001b[A\n",
            "\n",
            "ITERATION - loss: 8.544:  13%|█▎        | 17/130 [31:02<02:22,  1.26s/it]\n",
            "ITERATION - loss: 6.872: 100%|██████████| 130/130 [30:28<00:00,  1.16s/it]\u001b[A"
          ],
          "name": "stderr"
        },
        {
          "output_type": "stream",
          "text": [
            "Training Results - Epoch: 5 Age L1-loss: 15.369 ** Gender accuracy: 0.826 ** Race accuracy: 0.648 ** Avg loss: 6.133\n"
          ],
          "name": "stdout"
        },
        {
          "output_type": "stream",
          "text": [
            "\n",
            "ITERATION - loss: 8.544:  13%|█▎        | 17/130 [31:40<02:22,  1.26s/it]\n",
            "ITERATION - loss: 6.872: 100%|██████████| 130/130 [31:05<00:00,  1.16s/it]\u001b[A"
          ],
          "name": "stderr"
        },
        {
          "output_type": "stream",
          "text": [
            "Validation Results - Epoch: 5 Age L1-loss: 15.244 ** Gender accuracy: 0.810 ** Race accuracy: 0.612 ** Avg loss: 6.464\n"
          ],
          "name": "stdout"
        },
        {
          "output_type": "stream",
          "text": [
            "\n",
            "ITERATION - loss: 6.370:   1%|          | 1/130 [31:13<2:18:45, 64.54s/it]\u001b[A\n",
            "ITERATION - loss: 6.971:   2%|▏         | 2/130 [31:14<1:37:15, 45.59s/it]\u001b[A\n",
            "ITERATION - loss: 7.084:   2%|▏         | 3/130 [31:15<1:08:21, 32.30s/it]\u001b[A\n",
            "ITERATION - loss: 6.539:   3%|▎         | 4/130 [31:17<48:16, 22.99s/it]  \u001b[A\n",
            "ITERATION - loss: 6.815:   4%|▍         | 5/130 [31:18<34:19, 16.48s/it]\u001b[A\n",
            "ITERATION - loss: 6.270:   5%|▍         | 6/130 [31:19<24:37, 11.92s/it]\u001b[A\n",
            "ITERATION - loss: 7.042:   5%|▌         | 7/130 [31:20<17:53,  8.73s/it]\u001b[A\n",
            "ITERATION - loss: 6.890:   6%|▌         | 8/130 [31:22<13:12,  6.50s/it]\u001b[A\n",
            "ITERATION - loss: 6.373:   7%|▋         | 9/130 [31:23<09:56,  4.93s/it]\u001b[A\n",
            "ITERATION - loss: 6.362:   8%|▊         | 10/130 [31:24<07:40,  3.84s/it]\u001b[A\n",
            "ITERATION - loss: 6.337:   8%|▊         | 11/130 [31:26<06:05,  3.07s/it]\u001b[A\n",
            "ITERATION - loss: 6.580:   9%|▉         | 12/130 [31:27<04:58,  2.53s/it]\u001b[A\n",
            "ITERATION - loss: 6.177:  10%|█         | 13/130 [31:28<04:12,  2.15s/it]\u001b[A\n",
            "ITERATION - loss: 6.446:  11%|█         | 14/130 [31:29<03:39,  1.89s/it]\u001b[A\n",
            "ITERATION - loss: 5.862:  12%|█▏        | 15/130 [31:31<03:16,  1.71s/it]\u001b[A\n",
            "ITERATION - loss: 6.231:  12%|█▏        | 16/130 [31:32<03:00,  1.58s/it]\u001b[A\n",
            "ITERATION - loss: 6.419:  13%|█▎        | 17/130 [31:33<02:48,  1.49s/it]\u001b[A\n",
            "ITERATION - loss: 6.960:  14%|█▍        | 18/130 [31:34<02:39,  1.43s/it]\u001b[A\n",
            "ITERATION - loss: 6.543:  15%|█▍        | 19/130 [31:36<02:33,  1.38s/it]\u001b[A\n",
            "ITERATION - loss: 6.685:  15%|█▌        | 20/130 [31:37<02:28,  1.35s/it]\u001b[A\n",
            "ITERATION - loss: 6.243:  16%|█▌        | 21/130 [31:38<02:24,  1.33s/it]\u001b[A\n",
            "ITERATION - loss: 6.763:  17%|█▋        | 22/130 [31:40<02:21,  1.31s/it]\u001b[A\n",
            "ITERATION - loss: 6.642:  18%|█▊        | 23/130 [31:41<02:19,  1.30s/it]\u001b[A\n",
            "ITERATION - loss: 6.556:  18%|█▊        | 24/130 [31:42<02:17,  1.29s/it]\u001b[A\n",
            "ITERATION - loss: 6.641:  19%|█▉        | 25/130 [31:43<02:15,  1.29s/it]\u001b[A\n",
            "ITERATION - loss: 6.548:  20%|██        | 26/130 [31:45<02:13,  1.29s/it]\u001b[A\n",
            "ITERATION - loss: 6.674:  21%|██        | 27/130 [31:46<02:12,  1.28s/it]\u001b[A\n",
            "ITERATION - loss: 5.968:  22%|██▏       | 28/130 [31:47<02:11,  1.28s/it]\u001b[A\n",
            "ITERATION - loss: 6.901:  22%|██▏       | 29/130 [31:49<02:09,  1.28s/it]\u001b[A\n",
            "ITERATION - loss: 6.359:  23%|██▎       | 30/130 [31:50<02:08,  1.28s/it]\u001b[A\n",
            "ITERATION - loss: 6.989:  24%|██▍       | 31/130 [31:51<02:06,  1.28s/it]\u001b[A\n",
            "ITERATION - loss: 6.227:  25%|██▍       | 32/130 [31:52<02:05,  1.28s/it]\u001b[A\n",
            "ITERATION - loss: 6.704:  25%|██▌       | 33/130 [31:54<02:04,  1.28s/it]\u001b[A\n",
            "ITERATION - loss: 6.646:  26%|██▌       | 34/130 [31:55<02:02,  1.28s/it]\u001b[A\n",
            "ITERATION - loss: 6.408:  27%|██▋       | 35/130 [31:56<02:01,  1.28s/it]\u001b[A\n",
            "ITERATION - loss: 6.526:  28%|██▊       | 36/130 [31:57<02:00,  1.28s/it]\u001b[A\n",
            "ITERATION - loss: 6.838:  28%|██▊       | 37/130 [31:59<01:58,  1.28s/it]\u001b[A\n",
            "ITERATION - loss: 6.393:  29%|██▉       | 38/130 [32:00<01:57,  1.28s/it]\u001b[A\n",
            "ITERATION - loss: 6.674:  30%|███       | 39/130 [32:01<01:56,  1.28s/it]\u001b[A\n",
            "ITERATION - loss: 6.373:  31%|███       | 40/130 [32:03<01:55,  1.28s/it]\u001b[A\n",
            "ITERATION - loss: 6.844:  32%|███▏      | 41/130 [32:04<01:53,  1.28s/it]\u001b[A\n",
            "ITERATION - loss: 6.930:  32%|███▏      | 42/130 [32:05<01:52,  1.28s/it]\u001b[A\n",
            "ITERATION - loss: 7.032:  33%|███▎      | 43/130 [32:06<01:51,  1.28s/it]\u001b[A\n",
            "ITERATION - loss: 6.729:  34%|███▍      | 44/130 [32:08<01:49,  1.28s/it]\u001b[A\n",
            "ITERATION - loss: 6.385:  35%|███▍      | 45/130 [32:09<01:48,  1.28s/it]\u001b[A\n",
            "ITERATION - loss: 7.302:  35%|███▌      | 46/130 [32:10<01:47,  1.28s/it]\u001b[A\n",
            "ITERATION - loss: 6.105:  36%|███▌      | 47/130 [32:12<01:45,  1.28s/it]\u001b[A\n",
            "ITERATION - loss: 6.798:  37%|███▋      | 48/130 [32:13<01:44,  1.28s/it]\u001b[A\n",
            "ITERATION - loss: 6.446:  38%|███▊      | 49/130 [32:14<01:43,  1.28s/it]\u001b[A\n",
            "ITERATION - loss: 6.320:  38%|███▊      | 50/130 [32:15<01:42,  1.28s/it]\u001b[A\n",
            "ITERATION - loss: 6.646:  39%|███▉      | 51/130 [32:17<01:40,  1.28s/it]\u001b[A\n",
            "ITERATION - loss: 6.707:  40%|████      | 52/130 [32:18<01:39,  1.28s/it]\u001b[A\n",
            "ITERATION - loss: 6.702:  41%|████      | 53/130 [32:19<01:38,  1.28s/it]\u001b[A\n",
            "ITERATION - loss: 6.534:  42%|████▏     | 54/130 [32:20<01:37,  1.28s/it]\u001b[A\n",
            "ITERATION - loss: 7.094:  42%|████▏     | 55/130 [32:22<01:36,  1.28s/it]\u001b[A\n",
            "ITERATION - loss: 6.674:  43%|████▎     | 56/130 [32:23<01:34,  1.28s/it]\u001b[A\n",
            "ITERATION - loss: 7.410:  44%|████▍     | 57/130 [32:24<01:33,  1.28s/it]\u001b[A\n",
            "ITERATION - loss: 6.433:  45%|████▍     | 58/130 [32:26<01:31,  1.28s/it]\u001b[A\n",
            "ITERATION - loss: 6.868:  45%|████▌     | 59/130 [32:27<01:30,  1.28s/it]\u001b[A\n",
            "ITERATION - loss: 6.553:  46%|████▌     | 60/130 [32:28<01:29,  1.28s/it]\u001b[A\n",
            "ITERATION - loss: 6.079:  47%|████▋     | 61/130 [32:29<01:28,  1.28s/it]\u001b[A\n",
            "ITERATION - loss: 7.565:  48%|████▊     | 62/130 [32:31<01:27,  1.28s/it]\u001b[A\n",
            "ITERATION - loss: 6.524:  48%|████▊     | 63/130 [32:32<01:25,  1.28s/it]\u001b[A\n",
            "ITERATION - loss: 6.199:  49%|████▉     | 64/130 [32:33<01:24,  1.28s/it]\u001b[A\n",
            "ITERATION - loss: 6.840:  50%|█████     | 65/130 [32:35<01:23,  1.28s/it]\u001b[A\n",
            "ITERATION - loss: 6.890:  51%|█████     | 66/130 [32:36<01:21,  1.28s/it]\u001b[A\n",
            "ITERATION - loss: 6.670:  52%|█████▏    | 67/130 [32:37<01:20,  1.28s/it]\u001b[A\n",
            "ITERATION - loss: 7.288:  52%|█████▏    | 68/130 [32:38<01:19,  1.28s/it]\u001b[A\n",
            "ITERATION - loss: 6.311:  53%|█████▎    | 69/130 [32:40<01:17,  1.28s/it]\u001b[A\n",
            "ITERATION - loss: 6.944:  54%|█████▍    | 70/130 [32:41<01:16,  1.28s/it]\u001b[A\n",
            "ITERATION - loss: 6.238:  55%|█████▍    | 71/130 [32:42<01:15,  1.28s/it]\u001b[A\n",
            "ITERATION - loss: 6.924:  55%|█████▌    | 72/130 [32:43<01:14,  1.28s/it]\u001b[A\n",
            "ITERATION - loss: 6.864:  56%|█████▌    | 73/130 [32:45<01:13,  1.28s/it]\u001b[A\n",
            "ITERATION - loss: 6.308:  57%|█████▋    | 74/130 [32:46<01:11,  1.28s/it]\u001b[A\n",
            "ITERATION - loss: 7.964:  58%|█████▊    | 75/130 [32:47<01:10,  1.28s/it]\u001b[A\n",
            "ITERATION - loss: 6.494:  58%|█████▊    | 76/130 [32:49<01:08,  1.28s/it]\u001b[A\n",
            "ITERATION - loss: 5.702:  59%|█████▉    | 77/130 [32:50<01:07,  1.28s/it]\u001b[A\n",
            "ITERATION - loss: 7.605:  60%|██████    | 78/130 [32:51<01:06,  1.28s/it]\u001b[A\n",
            "ITERATION - loss: 7.170:  61%|██████    | 79/130 [32:52<01:05,  1.28s/it]\u001b[A\n",
            "ITERATION - loss: 7.195:  62%|██████▏   | 80/130 [32:54<01:03,  1.28s/it]\u001b[A\n",
            "ITERATION - loss: 7.438:  62%|██████▏   | 81/130 [32:55<01:02,  1.28s/it]\u001b[A\n",
            "ITERATION - loss: 7.102:  63%|██████▎   | 82/130 [32:56<01:01,  1.28s/it]\u001b[A\n",
            "ITERATION - loss: 6.981:  64%|██████▍   | 83/130 [32:58<01:00,  1.28s/it]\u001b[A\n",
            "ITERATION - loss: 7.415:  65%|██████▍   | 84/130 [32:59<00:58,  1.28s/it]\u001b[A\n",
            "ITERATION - loss: 7.189:  65%|██████▌   | 85/130 [33:00<00:57,  1.28s/it]\u001b[A\n",
            "ITERATION - loss: 6.727:  66%|██████▌   | 86/130 [33:01<00:56,  1.28s/it]\u001b[A\n",
            "ITERATION - loss: 6.485:  67%|██████▋   | 87/130 [33:03<00:54,  1.28s/it]\u001b[A\n",
            "ITERATION - loss: 6.554:  68%|██████▊   | 88/130 [33:04<00:53,  1.28s/it]\u001b[A\n",
            "ITERATION - loss: 6.864:  68%|██████▊   | 89/130 [33:05<00:52,  1.28s/it]\u001b[A\n",
            "ITERATION - loss: 6.584:  69%|██████▉   | 90/130 [33:06<00:51,  1.28s/it]\u001b[A\n",
            "ITERATION - loss: 7.600:  70%|███████   | 91/130 [33:08<00:49,  1.28s/it]\u001b[A\n",
            "ITERATION - loss: 6.676:  71%|███████   | 92/130 [33:09<00:48,  1.28s/it]\u001b[A\n",
            "ITERATION - loss: 6.885:  72%|███████▏  | 93/130 [33:10<00:47,  1.28s/it]\u001b[A\n",
            "ITERATION - loss: 7.614:  72%|███████▏  | 94/130 [33:12<00:46,  1.28s/it]\u001b[A\n",
            "ITERATION - loss: 6.095:  73%|███████▎  | 95/130 [33:13<00:44,  1.28s/it]\u001b[A\n",
            "ITERATION - loss: 6.997:  74%|███████▍  | 96/130 [33:14<00:43,  1.28s/it]\u001b[A\n",
            "ITERATION - loss: 6.036:  75%|███████▍  | 97/130 [33:15<00:42,  1.28s/it]\u001b[A\n",
            "ITERATION - loss: 6.354:  75%|███████▌  | 98/130 [33:17<00:40,  1.28s/it]\u001b[A\n",
            "ITERATION - loss: 7.751:  76%|███████▌  | 99/130 [33:18<00:39,  1.28s/it]\u001b[A\n",
            "ITERATION - loss: 6.480:  77%|███████▋  | 100/130 [33:19<00:38,  1.28s/it]\u001b[A\n",
            "ITERATION - loss: 6.624:  78%|███████▊  | 101/130 [33:21<00:37,  1.28s/it]\u001b[A\n",
            "ITERATION - loss: 6.211:  78%|███████▊  | 102/130 [33:22<00:35,  1.28s/it]\u001b[A\n",
            "ITERATION - loss: 5.881:  79%|███████▉  | 103/130 [33:23<00:34,  1.28s/it]\u001b[A\n",
            "ITERATION - loss: 6.519:  80%|████████  | 104/130 [33:24<00:33,  1.28s/it]\u001b[A\n",
            "ITERATION - loss: 6.843:  81%|████████  | 105/130 [33:26<00:31,  1.28s/it]\u001b[A\n",
            "ITERATION - loss: 7.170:  82%|████████▏ | 106/130 [33:27<00:30,  1.28s/it]\u001b[A\n",
            "ITERATION - loss: 6.770:  82%|████████▏ | 107/130 [33:28<00:29,  1.28s/it]\u001b[A\n",
            "ITERATION - loss: 5.831:  83%|████████▎ | 108/130 [33:29<00:28,  1.28s/it]\u001b[A\n",
            "ITERATION - loss: 7.124:  84%|████████▍ | 109/130 [33:31<00:26,  1.28s/it]\u001b[A\n",
            "ITERATION - loss: 7.406:  85%|████████▍ | 110/130 [33:32<00:25,  1.28s/it]\u001b[A\n",
            "ITERATION - loss: 7.120:  85%|████████▌ | 111/130 [33:33<00:24,  1.28s/it]\u001b[A\n",
            "ITERATION - loss: 6.262:  86%|████████▌ | 112/130 [33:35<00:22,  1.28s/it]\u001b[A\n",
            "ITERATION - loss: 7.004:  87%|████████▋ | 113/130 [33:36<00:21,  1.28s/it]\u001b[A\n",
            "ITERATION - loss: 6.092:  88%|████████▊ | 114/130 [33:37<00:20,  1.28s/it]\u001b[A\n",
            "ITERATION - loss: 6.597:  88%|████████▊ | 115/130 [33:38<00:19,  1.28s/it]\u001b[A\n",
            "ITERATION - loss: 6.397:  89%|████████▉ | 116/130 [33:40<00:17,  1.28s/it]\u001b[A\n",
            "ITERATION - loss: 6.887:  90%|█████████ | 117/130 [33:41<00:16,  1.27s/it]\u001b[A\n",
            "ITERATION - loss: 6.178:  91%|█████████ | 118/130 [33:42<00:15,  1.28s/it]\u001b[A\n",
            "ITERATION - loss: 6.054:  92%|█████████▏| 119/130 [33:44<00:14,  1.28s/it]\u001b[A\n",
            "ITERATION - loss: 6.200:  92%|█████████▏| 120/130 [33:45<00:12,  1.28s/it]\u001b[A\n",
            "ITERATION - loss: 6.970:  93%|█████████▎| 121/130 [33:46<00:11,  1.28s/it]\u001b[A\n",
            "ITERATION - loss: 7.180:  94%|█████████▍| 122/130 [33:47<00:10,  1.28s/it]\u001b[A\n",
            "ITERATION - loss: 7.010:  95%|█████████▍| 123/130 [33:49<00:08,  1.28s/it]\u001b[A\n",
            "ITERATION - loss: 6.684:  95%|█████████▌| 124/130 [33:50<00:07,  1.27s/it]\u001b[A\n",
            "ITERATION - loss: 6.469:  96%|█████████▌| 125/130 [33:51<00:06,  1.28s/it]\u001b[A\n",
            "ITERATION - loss: 6.719:  97%|█████████▋| 126/130 [33:52<00:05,  1.28s/it]\u001b[A\n",
            "ITERATION - loss: 7.177:  98%|█████████▊| 127/130 [33:54<00:03,  1.28s/it]\u001b[A\n",
            "ITERATION - loss: 7.479:  98%|█████████▊| 128/130 [33:55<00:02,  1.27s/it]\u001b[A\n",
            "ITERATION - loss: 6.426:  99%|█████████▉| 129/130 [33:56<00:01,  1.28s/it]\u001b[A\n",
            "ITERATION - loss: 6.914: 100%|██████████| 130/130 [33:57<00:00,  1.17s/it]\u001b[A\n",
            "\n",
            "ITERATION - loss: 8.544:  13%|█▎        | 17/130 [37:19<02:22,  1.26s/it]\n",
            "ITERATION - loss: 6.914: 100%|██████████| 130/130 [36:45<00:00,  1.17s/it]\u001b[A"
          ],
          "name": "stderr"
        },
        {
          "output_type": "stream",
          "text": [
            "Training Results - Epoch: 6 Age L1-loss: 16.008 ** Gender accuracy: 0.825 ** Race accuracy: 0.652 ** Avg loss: 6.188\n"
          ],
          "name": "stdout"
        },
        {
          "output_type": "stream",
          "text": [
            "\n",
            "ITERATION - loss: 8.544:  13%|█▎        | 17/130 [37:57<02:22,  1.26s/it]\n",
            "ITERATION - loss: 6.914: 100%|██████████| 130/130 [37:23<00:00,  1.17s/it]\u001b[A"
          ],
          "name": "stderr"
        },
        {
          "output_type": "stream",
          "text": [
            "Validation Results - Epoch: 6 Age L1-loss: 15.827 ** Gender accuracy: 0.808 ** Race accuracy: 0.617 ** Avg loss: 6.520\n"
          ],
          "name": "stdout"
        },
        {
          "output_type": "stream",
          "text": [
            "\n",
            "ITERATION - loss: 6.535:   1%|          | 1/130 [37:27<2:16:44, 63.60s/it]\u001b[A\n",
            "ITERATION - loss: 6.282:   2%|▏         | 2/130 [37:28<1:35:50, 44.93s/it]\u001b[A\n",
            "ITERATION - loss: 6.106:   2%|▏         | 3/130 [37:29<1:07:23, 31.84s/it]\u001b[A\n",
            "ITERATION - loss: 6.598:   3%|▎         | 4/130 [37:30<47:36, 22.67s/it]  \u001b[A\n",
            "ITERATION - loss: 6.842:   4%|▍         | 5/130 [37:32<33:51, 16.25s/it]\u001b[A\n",
            "ITERATION - loss: 6.223:   5%|▍         | 6/130 [37:33<24:18, 11.76s/it]\u001b[A\n",
            "ITERATION - loss: 6.306:   5%|▌         | 7/130 [37:34<17:39,  8.62s/it]\u001b[A\n",
            "ITERATION - loss: 6.108:   6%|▌         | 8/130 [37:36<13:02,  6.41s/it]\u001b[A\n",
            "ITERATION - loss: 7.247:   7%|▋         | 9/130 [37:37<09:49,  4.87s/it]\u001b[A\n",
            "ITERATION - loss: 6.379:   8%|▊         | 10/130 [37:38<07:35,  3.80s/it]\u001b[A\n",
            "ITERATION - loss: 6.829:   8%|▊         | 11/130 [37:39<06:02,  3.04s/it]\u001b[A\n",
            "ITERATION - loss: 6.816:   9%|▉         | 12/130 [37:41<04:56,  2.51s/it]\u001b[A\n",
            "ITERATION - loss: 6.927:  10%|█         | 13/130 [37:42<04:10,  2.14s/it]\u001b[A\n",
            "ITERATION - loss: 7.049:  11%|█         | 14/130 [37:43<03:38,  1.88s/it]\u001b[A\n",
            "ITERATION - loss: 6.176:  12%|█▏        | 15/130 [37:44<03:15,  1.70s/it]\u001b[A\n",
            "ITERATION - loss: 6.531:  12%|█▏        | 16/130 [37:46<02:58,  1.57s/it]\u001b[A\n",
            "ITERATION - loss: 6.456:  13%|█▎        | 17/130 [37:47<02:47,  1.48s/it]\u001b[A\n",
            "ITERATION - loss: 6.393:  14%|█▍        | 18/130 [37:48<02:39,  1.42s/it]\u001b[A\n",
            "ITERATION - loss: 6.825:  15%|█▍        | 19/130 [37:50<02:32,  1.38s/it]\u001b[A\n",
            "ITERATION - loss: 5.869:  15%|█▌        | 20/130 [37:51<02:28,  1.35s/it]\u001b[A\n",
            "ITERATION - loss: 6.928:  16%|█▌        | 21/130 [37:52<02:24,  1.32s/it]\u001b[A\n",
            "ITERATION - loss: 6.633:  17%|█▋        | 22/130 [37:53<02:21,  1.31s/it]\u001b[A\n",
            "ITERATION - loss: 6.829:  18%|█▊        | 23/130 [37:55<02:18,  1.30s/it]\u001b[A\n",
            "ITERATION - loss: 6.804:  18%|█▊        | 24/130 [37:56<02:17,  1.29s/it]\u001b[A\n",
            "ITERATION - loss: 6.320:  19%|█▉        | 25/130 [37:57<02:15,  1.29s/it]\u001b[A\n",
            "ITERATION - loss: 6.974:  20%|██        | 26/130 [37:59<02:13,  1.29s/it]\u001b[A\n",
            "ITERATION - loss: 6.770:  21%|██        | 27/130 [38:00<02:12,  1.28s/it]\u001b[A\n",
            "ITERATION - loss: 6.395:  22%|██▏       | 28/130 [38:01<02:10,  1.28s/it]\u001b[A\n",
            "ITERATION - loss: 6.097:  22%|██▏       | 29/130 [38:02<02:09,  1.28s/it]\u001b[A\n",
            "ITERATION - loss: 6.129:  23%|██▎       | 30/130 [38:04<02:07,  1.28s/it]\u001b[A\n",
            "ITERATION - loss: 6.237:  24%|██▍       | 31/130 [38:05<02:06,  1.28s/it]\u001b[A\n",
            "ITERATION - loss: 6.187:  25%|██▍       | 32/130 [38:06<02:05,  1.28s/it]\u001b[A\n",
            "ITERATION - loss: 6.998:  25%|██▌       | 33/130 [38:07<02:03,  1.28s/it]\u001b[A\n",
            "ITERATION - loss: 7.062:  26%|██▌       | 34/130 [38:09<02:02,  1.28s/it]\u001b[A\n",
            "ITERATION - loss: 6.876:  27%|██▋       | 35/130 [38:10<02:01,  1.28s/it]\u001b[A\n",
            "ITERATION - loss: 6.615:  28%|██▊       | 36/130 [38:11<01:59,  1.28s/it]\u001b[A\n",
            "ITERATION - loss: 6.264:  28%|██▊       | 37/130 [38:13<01:58,  1.28s/it]\u001b[A\n",
            "ITERATION - loss: 6.472:  29%|██▉       | 38/130 [38:14<01:57,  1.28s/it]\u001b[A\n",
            "ITERATION - loss: 6.982:  30%|███       | 39/130 [38:15<01:56,  1.28s/it]\u001b[A\n",
            "ITERATION - loss: 7.468:  31%|███       | 40/130 [38:16<01:54,  1.28s/it]\u001b[A\n",
            "ITERATION - loss: 6.479:  32%|███▏      | 41/130 [38:18<01:53,  1.28s/it]\u001b[A\n",
            "ITERATION - loss: 6.816:  32%|███▏      | 42/130 [38:19<01:52,  1.28s/it]\u001b[A\n",
            "ITERATION - loss: 6.440:  33%|███▎      | 43/130 [38:20<01:51,  1.28s/it]\u001b[A\n",
            "ITERATION - loss: 6.588:  34%|███▍      | 44/130 [38:21<01:49,  1.28s/it]\u001b[A\n",
            "ITERATION - loss: 6.768:  35%|███▍      | 45/130 [38:23<01:48,  1.28s/it]\u001b[A\n",
            "ITERATION - loss: 6.781:  35%|███▌      | 46/130 [38:24<01:47,  1.28s/it]\u001b[A\n",
            "ITERATION - loss: 6.178:  36%|███▌      | 47/130 [38:25<01:46,  1.28s/it]\u001b[A\n",
            "ITERATION - loss: 6.419:  37%|███▋      | 48/130 [38:27<01:45,  1.28s/it]\u001b[A\n",
            "ITERATION - loss: 6.667:  38%|███▊      | 49/130 [38:28<01:43,  1.28s/it]\u001b[A\n",
            "ITERATION - loss: 6.147:  38%|███▊      | 50/130 [38:29<01:42,  1.28s/it]\u001b[A\n",
            "ITERATION - loss: 6.902:  39%|███▉      | 51/130 [38:30<01:41,  1.28s/it]\u001b[A\n",
            "ITERATION - loss: 6.640:  40%|████      | 52/130 [38:32<01:39,  1.28s/it]\u001b[A\n",
            "ITERATION - loss: 6.823:  41%|████      | 53/130 [38:33<01:38,  1.28s/it]\u001b[A\n",
            "ITERATION - loss: 6.384:  42%|████▏     | 54/130 [38:34<01:36,  1.28s/it]\u001b[A\n",
            "ITERATION - loss: 6.720:  42%|████▏     | 55/130 [38:36<01:35,  1.28s/it]\u001b[A\n",
            "ITERATION - loss: 6.311:  43%|████▎     | 56/130 [38:37<01:34,  1.28s/it]\u001b[A\n",
            "ITERATION - loss: 6.834:  44%|████▍     | 57/130 [38:38<01:33,  1.28s/it]\u001b[A\n",
            "ITERATION - loss: 5.488:  45%|████▍     | 58/130 [38:39<01:32,  1.28s/it]\u001b[A\n",
            "ITERATION - loss: 6.491:  45%|████▌     | 59/130 [38:41<01:30,  1.28s/it]\u001b[A\n",
            "ITERATION - loss: 6.927:  46%|████▌     | 60/130 [38:42<01:29,  1.28s/it]\u001b[A\n",
            "ITERATION - loss: 6.925:  47%|████▋     | 61/130 [38:43<01:28,  1.28s/it]\u001b[A\n",
            "ITERATION - loss: 6.779:  48%|████▊     | 62/130 [38:44<01:26,  1.27s/it]\u001b[A\n",
            "ITERATION - loss: 7.306:  48%|████▊     | 63/130 [38:46<01:25,  1.27s/it]\u001b[A\n",
            "ITERATION - loss: 6.991:  49%|████▉     | 64/130 [38:47<01:24,  1.28s/it]\u001b[A\n",
            "ITERATION - loss: 6.889:  50%|█████     | 65/130 [38:48<01:22,  1.28s/it]\u001b[A\n",
            "ITERATION - loss: 5.958:  51%|█████     | 66/130 [38:50<01:21,  1.28s/it]\u001b[A\n",
            "ITERATION - loss: 6.869:  52%|█████▏    | 67/130 [38:51<01:20,  1.28s/it]\u001b[A\n",
            "ITERATION - loss: 7.241:  52%|█████▏    | 68/130 [38:52<01:19,  1.28s/it]\u001b[A\n",
            "ITERATION - loss: 6.200:  53%|█████▎    | 69/130 [38:53<01:17,  1.28s/it]\u001b[A\n",
            "ITERATION - loss: 6.837:  54%|█████▍    | 70/130 [38:55<01:16,  1.28s/it]\u001b[A\n",
            "ITERATION - loss: 6.811:  55%|█████▍    | 71/130 [38:56<01:15,  1.28s/it]\u001b[A\n",
            "ITERATION - loss: 6.072:  55%|█████▌    | 72/130 [38:57<01:14,  1.28s/it]\u001b[A\n",
            "ITERATION - loss: 7.103:  56%|█████▌    | 73/130 [38:59<01:12,  1.28s/it]\u001b[A\n",
            "ITERATION - loss: 6.265:  57%|█████▋    | 74/130 [39:00<01:11,  1.28s/it]\u001b[A\n",
            "ITERATION - loss: 7.157:  58%|█████▊    | 75/130 [39:01<01:10,  1.28s/it]\u001b[A\n",
            "ITERATION - loss: 6.754:  58%|█████▊    | 76/130 [39:02<01:09,  1.28s/it]\u001b[A\n",
            "ITERATION - loss: 6.449:  59%|█████▉    | 77/130 [39:04<01:07,  1.28s/it]\u001b[A\n",
            "ITERATION - loss: 6.035:  60%|██████    | 78/130 [39:05<01:06,  1.28s/it]\u001b[A\n",
            "ITERATION - loss: 6.624:  61%|██████    | 79/130 [39:06<01:05,  1.28s/it]\u001b[A\n",
            "ITERATION - loss: 6.898:  62%|██████▏   | 80/130 [39:07<01:03,  1.28s/it]\u001b[A\n",
            "ITERATION - loss: 6.540:  62%|██████▏   | 81/130 [39:09<01:02,  1.28s/it]\u001b[A\n",
            "ITERATION - loss: 6.959:  63%|██████▎   | 82/130 [39:10<01:01,  1.28s/it]\u001b[A\n",
            "ITERATION - loss: 6.659:  64%|██████▍   | 83/130 [39:11<00:59,  1.28s/it]\u001b[A\n",
            "ITERATION - loss: 6.546:  65%|██████▍   | 84/130 [39:13<00:58,  1.28s/it]\u001b[A\n",
            "ITERATION - loss: 7.187:  65%|██████▌   | 85/130 [39:14<00:57,  1.28s/it]\u001b[A\n",
            "ITERATION - loss: 7.041:  66%|██████▌   | 86/130 [39:15<00:56,  1.28s/it]\u001b[A\n",
            "ITERATION - loss: 6.582:  67%|██████▋   | 87/130 [39:16<00:54,  1.28s/it]\u001b[A\n",
            "ITERATION - loss: 6.831:  68%|██████▊   | 88/130 [39:18<00:53,  1.28s/it]\u001b[A\n",
            "ITERATION - loss: 7.016:  68%|██████▊   | 89/130 [39:19<00:52,  1.28s/it]\u001b[A\n",
            "ITERATION - loss: 7.243:  69%|██████▉   | 90/130 [39:20<00:51,  1.28s/it]\u001b[A\n",
            "ITERATION - loss: 7.216:  70%|███████   | 91/130 [39:22<00:49,  1.28s/it]\u001b[A\n",
            "ITERATION - loss: 6.403:  71%|███████   | 92/130 [39:23<00:48,  1.27s/it]\u001b[A\n",
            "ITERATION - loss: 6.151:  72%|███████▏  | 93/130 [39:24<00:47,  1.28s/it]\u001b[A\n",
            "ITERATION - loss: 5.740:  72%|███████▏  | 94/130 [39:25<00:45,  1.28s/it]\u001b[A\n",
            "ITERATION - loss: 7.031:  73%|███████▎  | 95/130 [39:27<00:44,  1.28s/it]\u001b[A\n",
            "ITERATION - loss: 6.365:  74%|███████▍  | 96/130 [39:28<00:43,  1.28s/it]\u001b[A\n",
            "ITERATION - loss: 6.523:  75%|███████▍  | 97/130 [39:29<00:42,  1.28s/it]\u001b[A\n",
            "ITERATION - loss: 6.341:  75%|███████▌  | 98/130 [39:30<00:40,  1.28s/it]\u001b[A\n",
            "ITERATION - loss: 6.044:  76%|███████▌  | 99/130 [39:32<00:39,  1.28s/it]\u001b[A\n",
            "ITERATION - loss: 6.064:  77%|███████▋  | 100/130 [39:33<00:38,  1.28s/it]\u001b[A\n",
            "ITERATION - loss: 6.590:  78%|███████▊  | 101/130 [39:34<00:37,  1.28s/it]\u001b[A\n",
            "ITERATION - loss: 6.828:  78%|███████▊  | 102/130 [39:36<00:35,  1.28s/it]\u001b[A\n",
            "ITERATION - loss: 6.672:  79%|███████▉  | 103/130 [39:37<00:34,  1.28s/it]\u001b[A\n",
            "ITERATION - loss: 6.807:  80%|████████  | 104/130 [39:38<00:33,  1.28s/it]\u001b[A\n",
            "ITERATION - loss: 6.091:  81%|████████  | 105/130 [39:39<00:31,  1.28s/it]\u001b[A\n",
            "ITERATION - loss: 6.172:  82%|████████▏ | 106/130 [39:41<00:30,  1.28s/it]\u001b[A\n",
            "ITERATION - loss: 6.739:  82%|████████▏ | 107/130 [39:42<00:29,  1.28s/it]\u001b[A\n",
            "ITERATION - loss: 7.166:  83%|████████▎ | 108/130 [39:43<00:28,  1.28s/it]\u001b[A\n",
            "ITERATION - loss: 6.916:  84%|████████▍ | 109/130 [39:45<00:26,  1.28s/it]\u001b[A\n",
            "ITERATION - loss: 7.471:  85%|████████▍ | 110/130 [39:46<00:25,  1.28s/it]\u001b[A\n",
            "ITERATION - loss: 7.180:  85%|████████▌ | 111/130 [39:47<00:24,  1.28s/it]\u001b[A\n",
            "ITERATION - loss: 6.916:  86%|████████▌ | 112/130 [39:48<00:22,  1.28s/it]\u001b[A\n",
            "ITERATION - loss: 6.271:  87%|████████▋ | 113/130 [39:50<00:21,  1.28s/it]\u001b[A\n",
            "ITERATION - loss: 6.628:  88%|████████▊ | 114/130 [39:51<00:20,  1.28s/it]\u001b[A\n",
            "ITERATION - loss: 6.881:  88%|████████▊ | 115/130 [39:52<00:19,  1.28s/it]\u001b[A\n",
            "ITERATION - loss: 7.530:  89%|████████▉ | 116/130 [39:53<00:17,  1.27s/it]\u001b[A\n",
            "ITERATION - loss: 6.748:  90%|█████████ | 117/130 [39:55<00:16,  1.28s/it]\u001b[A\n",
            "ITERATION - loss: 6.720:  91%|█████████ | 118/130 [39:56<00:15,  1.28s/it]\u001b[A\n",
            "ITERATION - loss: 6.551:  92%|█████████▏| 119/130 [39:57<00:14,  1.28s/it]\u001b[A\n",
            "ITERATION - loss: 6.192:  92%|█████████▏| 120/130 [39:59<00:12,  1.27s/it]\u001b[A\n",
            "ITERATION - loss: 6.632:  93%|█████████▎| 121/130 [40:00<00:11,  1.27s/it]\u001b[A\n",
            "ITERATION - loss: 6.128:  94%|█████████▍| 122/130 [40:01<00:10,  1.27s/it]\u001b[A\n",
            "ITERATION - loss: 5.838:  95%|█████████▍| 123/130 [40:02<00:08,  1.27s/it]\u001b[A\n",
            "ITERATION - loss: 6.841:  95%|█████████▌| 124/130 [40:04<00:07,  1.27s/it]\u001b[A\n",
            "ITERATION - loss: 6.757:  96%|█████████▌| 125/130 [40:05<00:06,  1.27s/it]\u001b[A\n",
            "ITERATION - loss: 6.107:  97%|█████████▋| 126/130 [40:06<00:05,  1.27s/it]\u001b[A\n",
            "ITERATION - loss: 6.678:  98%|█████████▊| 127/130 [40:07<00:03,  1.28s/it]\u001b[A\n",
            "ITERATION - loss: 6.560:  98%|█████████▊| 128/130 [40:09<00:02,  1.28s/it]\u001b[A\n",
            "ITERATION - loss: 6.539:  99%|█████████▉| 129/130 [40:10<00:01,  1.28s/it]\u001b[A\n",
            "ITERATION - loss: 7.624: 100%|██████████| 130/130 [40:11<00:00,  1.17s/it]\u001b[A\n",
            "\n",
            "ITERATION - loss: 8.544:  13%|█▎        | 17/130 [43:30<02:22,  1.26s/it]\n",
            "ITERATION - loss: 7.624: 100%|██████████| 130/130 [42:56<00:00,  1.17s/it]\u001b[A"
          ],
          "name": "stderr"
        },
        {
          "output_type": "stream",
          "text": [
            "Training Results - Epoch: 7 Age L1-loss: 15.249 ** Gender accuracy: 0.827 ** Race accuracy: 0.646 ** Avg loss: 6.134\n"
          ],
          "name": "stdout"
        },
        {
          "output_type": "stream",
          "text": [
            "\n",
            "ITERATION - loss: 8.544:  13%|█▎        | 17/130 [44:07<02:22,  1.26s/it]\n",
            "ITERATION - loss: 7.624: 100%|██████████| 130/130 [43:33<00:00,  1.17s/it]\u001b[A"
          ],
          "name": "stderr"
        },
        {
          "output_type": "stream",
          "text": [
            "Validation Results - Epoch: 7 Age L1-loss: 15.155 ** Gender accuracy: 0.812 ** Race accuracy: 0.607 ** Avg loss: 6.479\n"
          ],
          "name": "stdout"
        },
        {
          "output_type": "stream",
          "text": [
            "\n",
            "ITERATION - loss: 6.775:   1%|          | 1/130 [43:37<2:14:51, 62.73s/it]\u001b[A\n",
            "ITERATION - loss: 6.788:   2%|▏         | 2/130 [43:39<1:34:31, 44.31s/it]\u001b[A\n",
            "ITERATION - loss: 6.872:   2%|▏         | 3/130 [43:40<1:06:27, 31.40s/it]\u001b[A\n",
            "ITERATION - loss: 6.167:   3%|▎         | 4/130 [43:41<46:57, 22.36s/it]  \u001b[A\n",
            "ITERATION - loss: 6.278:   4%|▍         | 5/130 [43:42<33:24, 16.03s/it]\u001b[A\n",
            "ITERATION - loss: 6.506:   5%|▍         | 6/130 [43:44<23:59, 11.61s/it]\u001b[A\n",
            "ITERATION - loss: 7.128:   5%|▌         | 7/130 [43:45<17:26,  8.51s/it]\u001b[A\n",
            "ITERATION - loss: 6.406:   6%|▌         | 8/130 [43:46<12:53,  6.34s/it]\u001b[A\n",
            "ITERATION - loss: 6.486:   7%|▋         | 9/130 [43:48<09:43,  4.82s/it]\u001b[A\n",
            "ITERATION - loss: 6.199:   8%|▊         | 10/130 [43:49<07:31,  3.76s/it]\u001b[A\n",
            "ITERATION - loss: 6.771:   8%|▊         | 11/130 [43:50<05:58,  3.01s/it]\u001b[A\n",
            "ITERATION - loss: 6.622:   9%|▉         | 12/130 [43:51<04:54,  2.49s/it]\u001b[A\n",
            "ITERATION - loss: 6.354:  10%|█         | 13/130 [43:53<04:09,  2.13s/it]\u001b[A\n",
            "ITERATION - loss: 6.564:  11%|█         | 14/130 [43:54<03:37,  1.87s/it]\u001b[A\n",
            "ITERATION - loss: 6.679:  12%|█▏        | 15/130 [43:55<03:14,  1.69s/it]\u001b[A\n",
            "ITERATION - loss: 6.559:  12%|█▏        | 16/130 [43:56<02:58,  1.57s/it]\u001b[A\n",
            "ITERATION - loss: 6.550:  13%|█▎        | 17/130 [43:58<02:47,  1.48s/it]\u001b[A\n",
            "ITERATION - loss: 6.641:  14%|█▍        | 18/130 [43:59<02:39,  1.42s/it]\u001b[A\n",
            "ITERATION - loss: 6.299:  15%|█▍        | 19/130 [44:00<02:33,  1.38s/it]\u001b[A\n",
            "ITERATION - loss: 6.491:  15%|█▌        | 20/130 [44:02<02:28,  1.35s/it]\u001b[A\n",
            "ITERATION - loss: 6.429:  16%|█▌        | 21/130 [44:03<02:24,  1.33s/it]\u001b[A\n",
            "ITERATION - loss: 5.926:  17%|█▋        | 22/130 [44:04<02:21,  1.31s/it]\u001b[A\n",
            "ITERATION - loss: 7.231:  18%|█▊        | 23/130 [44:05<02:19,  1.30s/it]\u001b[A\n",
            "ITERATION - loss: 5.959:  18%|█▊        | 24/130 [44:07<02:17,  1.29s/it]\u001b[A\n",
            "ITERATION - loss: 6.165:  19%|█▉        | 25/130 [44:08<02:15,  1.29s/it]\u001b[A\n",
            "ITERATION - loss: 6.141:  20%|██        | 26/130 [44:09<02:13,  1.29s/it]\u001b[A\n",
            "ITERATION - loss: 7.306:  21%|██        | 27/130 [44:11<02:12,  1.29s/it]\u001b[A\n",
            "ITERATION - loss: 6.623:  22%|██▏       | 28/130 [44:12<02:10,  1.28s/it]\u001b[A\n",
            "ITERATION - loss: 6.141:  22%|██▏       | 29/130 [44:13<02:09,  1.28s/it]\u001b[A\n",
            "ITERATION - loss: 6.214:  23%|██▎       | 30/130 [44:14<02:07,  1.28s/it]\u001b[A\n",
            "ITERATION - loss: 7.095:  24%|██▍       | 31/130 [44:16<02:06,  1.28s/it]\u001b[A\n",
            "ITERATION - loss: 6.755:  25%|██▍       | 32/130 [44:17<02:05,  1.28s/it]\u001b[A\n",
            "ITERATION - loss: 6.317:  25%|██▌       | 33/130 [44:18<02:03,  1.28s/it]\u001b[A\n",
            "ITERATION - loss: 5.928:  26%|██▌       | 34/130 [44:20<02:02,  1.28s/it]\u001b[A\n",
            "ITERATION - loss: 6.241:  27%|██▋       | 35/130 [44:21<02:01,  1.28s/it]\u001b[A\n",
            "ITERATION - loss: 6.420:  28%|██▊       | 36/130 [44:22<01:59,  1.28s/it]\u001b[A\n",
            "ITERATION - loss: 7.374:  28%|██▊       | 37/130 [44:23<01:58,  1.28s/it]\u001b[A\n",
            "ITERATION - loss: 6.616:  29%|██▉       | 38/130 [44:25<01:57,  1.28s/it]\u001b[A\n",
            "ITERATION - loss: 6.391:  30%|███       | 39/130 [44:26<01:56,  1.28s/it]\u001b[A\n",
            "ITERATION - loss: 5.909:  31%|███       | 40/130 [44:27<01:55,  1.28s/it]\u001b[A\n",
            "ITERATION - loss: 6.405:  32%|███▏      | 41/130 [44:28<01:53,  1.28s/it]\u001b[A\n",
            "ITERATION - loss: 6.501:  32%|███▏      | 42/130 [44:30<01:52,  1.28s/it]\u001b[A\n",
            "ITERATION - loss: 6.020:  33%|███▎      | 43/130 [44:31<01:51,  1.28s/it]\u001b[A\n",
            "ITERATION - loss: 6.457:  34%|███▍      | 44/130 [44:32<01:49,  1.28s/it]\u001b[A\n",
            "ITERATION - loss: 6.456:  35%|███▍      | 45/130 [44:34<01:48,  1.28s/it]\u001b[A\n",
            "ITERATION - loss: 6.957:  35%|███▌      | 46/130 [44:35<01:47,  1.28s/it]\u001b[A\n",
            "ITERATION - loss: 6.852:  36%|███▌      | 47/130 [44:36<01:46,  1.28s/it]\u001b[A\n",
            "ITERATION - loss: 6.440:  37%|███▋      | 48/130 [44:37<01:44,  1.28s/it]\u001b[A\n",
            "ITERATION - loss: 6.574:  38%|███▊      | 49/130 [44:39<01:43,  1.28s/it]\u001b[A\n",
            "ITERATION - loss: 6.199:  38%|███▊      | 50/130 [44:40<01:42,  1.28s/it]\u001b[A\n",
            "ITERATION - loss: 7.881:  39%|███▉      | 51/130 [44:41<01:40,  1.28s/it]\u001b[A\n",
            "ITERATION - loss: 6.810:  40%|████      | 52/130 [44:43<01:39,  1.28s/it]\u001b[A\n",
            "ITERATION - loss: 7.430:  41%|████      | 53/130 [44:44<01:38,  1.28s/it]\u001b[A\n",
            "ITERATION - loss: 6.939:  42%|████▏     | 54/130 [44:45<01:36,  1.28s/it]\u001b[A\n",
            "ITERATION - loss: 6.891:  42%|████▏     | 55/130 [44:46<01:35,  1.28s/it]\u001b[A\n",
            "ITERATION - loss: 6.751:  43%|████▎     | 56/130 [44:48<01:34,  1.28s/it]\u001b[A\n",
            "ITERATION - loss: 6.694:  44%|████▍     | 57/130 [44:49<01:33,  1.28s/it]\u001b[A\n",
            "ITERATION - loss: 6.069:  45%|████▍     | 58/130 [44:50<01:31,  1.28s/it]\u001b[A\n",
            "ITERATION - loss: 6.468:  45%|████▌     | 59/130 [44:51<01:30,  1.28s/it]\u001b[A\n",
            "ITERATION - loss: 6.283:  46%|████▌     | 60/130 [44:53<01:29,  1.27s/it]\u001b[A\n",
            "ITERATION - loss: 6.157:  47%|████▋     | 61/130 [44:54<01:27,  1.27s/it]\u001b[A\n",
            "ITERATION - loss: 6.801:  48%|████▊     | 62/130 [44:55<01:26,  1.27s/it]\u001b[A\n",
            "ITERATION - loss: 6.989:  48%|████▊     | 63/130 [44:57<01:25,  1.28s/it]\u001b[A\n",
            "ITERATION - loss: 7.231:  49%|████▉     | 64/130 [44:58<01:24,  1.28s/it]\u001b[A\n",
            "ITERATION - loss: 6.804:  50%|█████     | 65/130 [44:59<01:23,  1.28s/it]\u001b[A\n",
            "ITERATION - loss: 6.132:  51%|█████     | 66/130 [45:00<01:21,  1.28s/it]\u001b[A\n",
            "ITERATION - loss: 6.553:  52%|█████▏    | 67/130 [45:02<01:20,  1.28s/it]\u001b[A\n",
            "ITERATION - loss: 6.865:  52%|█████▏    | 68/130 [45:03<01:19,  1.28s/it]\u001b[A\n",
            "ITERATION - loss: 6.202:  53%|█████▎    | 69/130 [45:04<01:18,  1.29s/it]\u001b[A\n",
            "ITERATION - loss: 6.381:  54%|█████▍    | 70/130 [45:06<01:16,  1.28s/it]\u001b[A\n",
            "ITERATION - loss: 6.827:  55%|█████▍    | 71/130 [45:07<01:15,  1.28s/it]\u001b[A\n",
            "ITERATION - loss: 6.130:  55%|█████▌    | 72/130 [45:08<01:14,  1.28s/it]\u001b[A\n",
            "ITERATION - loss: 6.150:  56%|█████▌    | 73/130 [45:09<01:12,  1.28s/it]\u001b[A\n",
            "ITERATION - loss: 6.691:  57%|█████▋    | 74/130 [45:11<01:11,  1.28s/it]\u001b[A\n",
            "ITERATION - loss: 6.681:  58%|█████▊    | 75/130 [45:12<01:10,  1.28s/it]\u001b[A\n",
            "ITERATION - loss: 6.796:  58%|█████▊    | 76/130 [45:13<01:09,  1.28s/it]\u001b[A\n",
            "ITERATION - loss: 6.792:  59%|█████▉    | 77/130 [45:14<01:07,  1.28s/it]\u001b[A\n",
            "ITERATION - loss: 6.700:  60%|██████    | 78/130 [45:16<01:06,  1.28s/it]\u001b[A\n",
            "ITERATION - loss: 6.933:  61%|██████    | 79/130 [45:17<01:05,  1.28s/it]\u001b[A\n",
            "ITERATION - loss: 6.242:  62%|██████▏   | 80/130 [45:18<01:03,  1.28s/it]\u001b[A\n",
            "ITERATION - loss: 6.487:  62%|██████▏   | 81/130 [45:20<01:02,  1.28s/it]\u001b[A\n",
            "ITERATION - loss: 6.309:  63%|██████▎   | 82/130 [45:21<01:01,  1.28s/it]\u001b[A\n",
            "ITERATION - loss: 6.432:  64%|██████▍   | 83/130 [45:22<01:00,  1.28s/it]\u001b[A\n",
            "ITERATION - loss: 6.668:  65%|██████▍   | 84/130 [45:23<00:58,  1.28s/it]\u001b[A\n",
            "ITERATION - loss: 6.504:  65%|██████▌   | 85/130 [45:25<00:57,  1.28s/it]\u001b[A\n",
            "ITERATION - loss: 6.160:  66%|██████▌   | 86/130 [45:26<00:56,  1.28s/it]\u001b[A\n",
            "ITERATION - loss: 6.484:  67%|██████▋   | 87/130 [45:27<00:54,  1.28s/it]\u001b[A\n",
            "ITERATION - loss: 6.219:  68%|██████▊   | 88/130 [45:29<00:53,  1.28s/it]\u001b[A\n",
            "ITERATION - loss: 6.135:  68%|██████▊   | 89/130 [45:30<00:52,  1.28s/it]\u001b[A\n",
            "ITERATION - loss: 7.677:  69%|██████▉   | 90/130 [45:31<00:50,  1.27s/it]\u001b[A\n",
            "ITERATION - loss: 6.120:  70%|███████   | 91/130 [45:32<00:49,  1.28s/it]\u001b[A\n",
            "ITERATION - loss: 7.216:  71%|███████   | 92/130 [45:34<00:48,  1.28s/it]\u001b[A\n",
            "ITERATION - loss: 6.164:  72%|███████▏  | 93/130 [45:35<00:47,  1.28s/it]\u001b[A\n",
            "ITERATION - loss: 6.046:  72%|███████▏  | 94/130 [45:36<00:46,  1.28s/it]\u001b[A\n",
            "ITERATION - loss: 6.653:  73%|███████▎  | 95/130 [45:37<00:44,  1.28s/it]\u001b[A\n",
            "ITERATION - loss: 6.918:  74%|███████▍  | 96/130 [45:39<00:43,  1.28s/it]\u001b[A\n",
            "ITERATION - loss: 6.310:  75%|███████▍  | 97/130 [45:40<00:42,  1.28s/it]\u001b[A\n",
            "ITERATION - loss: 6.632:  75%|███████▌  | 98/130 [45:41<00:40,  1.28s/it]\u001b[A\n",
            "ITERATION - loss: 6.530:  76%|███████▌  | 99/130 [45:43<00:39,  1.28s/it]\u001b[A\n",
            "ITERATION - loss: 6.811:  77%|███████▋  | 100/130 [45:44<00:38,  1.28s/it]\u001b[A\n",
            "ITERATION - loss: 7.118:  78%|███████▊  | 101/130 [45:45<00:37,  1.28s/it]\u001b[A\n",
            "ITERATION - loss: 6.515:  78%|███████▊  | 102/130 [45:46<00:35,  1.28s/it]\u001b[A\n",
            "ITERATION - loss: 6.338:  79%|███████▉  | 103/130 [45:48<00:34,  1.28s/it]\u001b[A\n",
            "ITERATION - loss: 6.617:  80%|████████  | 104/130 [45:49<00:33,  1.28s/it]\u001b[A\n",
            "ITERATION - loss: 6.717:  81%|████████  | 105/130 [45:50<00:31,  1.28s/it]\u001b[A\n",
            "ITERATION - loss: 6.556:  82%|████████▏ | 106/130 [45:52<00:30,  1.28s/it]\u001b[A\n",
            "ITERATION - loss: 5.929:  82%|████████▏ | 107/130 [45:53<00:29,  1.28s/it]\u001b[A\n",
            "ITERATION - loss: 6.602:  83%|████████▎ | 108/130 [45:54<00:28,  1.28s/it]\u001b[A\n",
            "ITERATION - loss: 7.008:  84%|████████▍ | 109/130 [45:55<00:26,  1.28s/it]\u001b[A\n",
            "ITERATION - loss: 6.532:  85%|████████▍ | 110/130 [45:57<00:25,  1.28s/it]\u001b[A\n",
            "ITERATION - loss: 6.046:  85%|████████▌ | 111/130 [45:58<00:24,  1.28s/it]\u001b[A\n",
            "ITERATION - loss: 6.308:  86%|████████▌ | 112/130 [45:59<00:23,  1.28s/it]\u001b[A\n",
            "ITERATION - loss: 6.286:  87%|████████▋ | 113/130 [46:00<00:21,  1.28s/it]\u001b[A\n",
            "ITERATION - loss: 6.234:  88%|████████▊ | 114/130 [46:02<00:20,  1.28s/it]\u001b[A\n",
            "ITERATION - loss: 6.324:  88%|████████▊ | 115/130 [46:03<00:19,  1.28s/it]\u001b[A\n",
            "ITERATION - loss: 6.256:  89%|████████▉ | 116/130 [46:04<00:17,  1.27s/it]\u001b[A\n",
            "ITERATION - loss: 6.405:  90%|█████████ | 117/130 [46:06<00:16,  1.27s/it]\u001b[A\n",
            "ITERATION - loss: 6.538:  91%|█████████ | 118/130 [46:07<00:15,  1.27s/it]\u001b[A\n",
            "ITERATION - loss: 6.632:  92%|█████████▏| 119/130 [46:08<00:14,  1.27s/it]\u001b[A\n",
            "ITERATION - loss: 5.889:  92%|█████████▏| 120/130 [46:09<00:12,  1.28s/it]\u001b[A\n",
            "ITERATION - loss: 6.325:  93%|█████████▎| 121/130 [46:11<00:11,  1.27s/it]\u001b[A\n",
            "ITERATION - loss: 7.159:  94%|█████████▍| 122/130 [46:12<00:10,  1.27s/it]\u001b[A\n",
            "ITERATION - loss: 6.593:  95%|█████████▍| 123/130 [46:13<00:08,  1.27s/it]\u001b[A\n",
            "ITERATION - loss: 7.269:  95%|█████████▌| 124/130 [46:14<00:07,  1.28s/it]\u001b[A\n",
            "ITERATION - loss: 6.783:  96%|█████████▌| 125/130 [46:16<00:06,  1.28s/it]\u001b[A\n",
            "ITERATION - loss: 6.821:  97%|█████████▋| 126/130 [46:17<00:05,  1.27s/it]\u001b[A\n",
            "ITERATION - loss: 6.737:  98%|█████████▊| 127/130 [46:18<00:03,  1.27s/it]\u001b[A\n",
            "ITERATION - loss: 6.879:  98%|█████████▊| 128/130 [46:20<00:02,  1.27s/it]\u001b[A\n",
            "ITERATION - loss: 7.287:  99%|█████████▉| 129/130 [46:21<00:01,  1.27s/it]\u001b[A\n",
            "ITERATION - loss: 7.163: 100%|██████████| 130/130 [46:22<00:00,  1.17s/it]\u001b[A\n",
            "\n",
            "ITERATION - loss: 8.544:  13%|█▎        | 17/130 [49:41<02:22,  1.26s/it]\n",
            "ITERATION - loss: 7.163: 100%|██████████| 130/130 [49:07<00:00,  1.17s/it]\u001b[A"
          ],
          "name": "stderr"
        },
        {
          "output_type": "stream",
          "text": [
            "Training Results - Epoch: 8 Age L1-loss: 15.627 ** Gender accuracy: 0.820 ** Race accuracy: 0.650 ** Avg loss: 6.163\n"
          ],
          "name": "stdout"
        },
        {
          "output_type": "stream",
          "text": [
            "\n",
            "ITERATION - loss: 8.544:  13%|█▎        | 17/130 [50:19<02:22,  1.26s/it]\n",
            "ITERATION - loss: 7.163: 100%|██████████| 130/130 [49:45<00:00,  1.17s/it]\u001b[A"
          ],
          "name": "stderr"
        },
        {
          "output_type": "stream",
          "text": [
            "Validation Results - Epoch: 8 Age L1-loss: 15.476 ** Gender accuracy: 0.801 ** Race accuracy: 0.608 ** Avg loss: 6.538\n"
          ],
          "name": "stdout"
        },
        {
          "output_type": "stream",
          "text": [
            "\n",
            "ITERATION - loss: 6.742:   1%|          | 1/130 [49:49<2:15:17, 62.92s/it]\u001b[A\n",
            "ITERATION - loss: 7.061:   2%|▏         | 2/130 [49:50<1:34:51, 44.46s/it]\u001b[A\n",
            "ITERATION - loss: 6.190:   2%|▏         | 3/130 [49:51<1:06:42, 31.51s/it]\u001b[A\n",
            "ITERATION - loss: 5.895:   3%|▎         | 4/130 [49:53<47:07, 22.44s/it]  \u001b[A\n",
            "ITERATION - loss: 6.580:   4%|▍         | 5/130 [49:54<33:31, 16.09s/it]\u001b[A\n",
            "ITERATION - loss: 6.546:   5%|▍         | 6/130 [49:55<24:04, 11.65s/it]\u001b[A\n",
            "ITERATION - loss: 6.108:   5%|▌         | 7/130 [49:57<17:30,  8.54s/it]\u001b[A\n",
            "ITERATION - loss: 6.859:   6%|▌         | 8/130 [49:58<12:55,  6.36s/it]\u001b[A\n",
            "ITERATION - loss: 6.716:   7%|▋         | 9/130 [49:59<09:45,  4.84s/it]\u001b[A\n",
            "ITERATION - loss: 6.873:   8%|▊         | 10/130 [50:00<07:33,  3.78s/it]\u001b[A\n",
            "ITERATION - loss: 7.165:   8%|▊         | 11/130 [50:02<05:59,  3.02s/it]\u001b[A\n",
            "ITERATION - loss: 6.160:   9%|▉         | 12/130 [50:03<04:55,  2.50s/it]\u001b[A\n",
            "ITERATION - loss: 6.513:  10%|█         | 13/130 [50:04<04:11,  2.15s/it]\u001b[A\n",
            "ITERATION - loss: 6.474:  11%|█         | 14/130 [50:06<03:38,  1.88s/it]\u001b[A\n",
            "ITERATION - loss: 7.707:  12%|█▏        | 15/130 [50:07<03:15,  1.70s/it]\u001b[A\n",
            "ITERATION - loss: 6.670:  12%|█▏        | 16/130 [50:08<02:59,  1.57s/it]\u001b[A\n",
            "ITERATION - loss: 6.237:  13%|█▎        | 17/130 [50:09<02:47,  1.49s/it]\u001b[A\n",
            "ITERATION - loss: 6.463:  14%|█▍        | 18/130 [50:11<02:40,  1.43s/it]\u001b[A\n",
            "ITERATION - loss: 6.449:  15%|█▍        | 19/130 [50:12<02:34,  1.39s/it]\u001b[A\n",
            "ITERATION - loss: 6.660:  15%|█▌        | 20/130 [50:13<02:29,  1.36s/it]\u001b[A\n",
            "ITERATION - loss: 6.495:  16%|█▌        | 21/130 [50:15<02:25,  1.34s/it]\u001b[A\n",
            "ITERATION - loss: 6.006:  17%|█▋        | 22/130 [50:16<02:22,  1.32s/it]\u001b[A\n",
            "ITERATION - loss: 7.456:  18%|█▊        | 23/130 [50:17<02:19,  1.30s/it]\u001b[A\n",
            "ITERATION - loss: 6.014:  18%|█▊        | 24/130 [50:18<02:17,  1.30s/it]\u001b[A\n",
            "ITERATION - loss: 6.305:  19%|█▉        | 25/130 [50:20<02:15,  1.29s/it]\u001b[A\n",
            "ITERATION - loss: 6.279:  20%|██        | 26/130 [50:21<02:13,  1.29s/it]\u001b[A\n",
            "ITERATION - loss: 6.861:  21%|██        | 27/130 [50:22<02:12,  1.29s/it]\u001b[A\n",
            "ITERATION - loss: 6.662:  22%|██▏       | 28/130 [50:24<02:11,  1.29s/it]\u001b[A\n",
            "ITERATION - loss: 6.238:  22%|██▏       | 29/130 [50:25<02:10,  1.29s/it]\u001b[A\n",
            "ITERATION - loss: 6.975:  23%|██▎       | 30/130 [50:26<02:08,  1.29s/it]\u001b[A\n",
            "ITERATION - loss: 6.197:  24%|██▍       | 31/130 [50:27<02:07,  1.28s/it]\u001b[A\n",
            "ITERATION - loss: 6.139:  25%|██▍       | 32/130 [50:29<02:05,  1.28s/it]\u001b[A\n",
            "ITERATION - loss: 6.149:  25%|██▌       | 33/130 [50:30<02:04,  1.28s/it]\u001b[A\n",
            "ITERATION - loss: 6.680:  26%|██▌       | 34/130 [50:31<02:02,  1.28s/it]\u001b[A\n",
            "ITERATION - loss: 7.020:  27%|██▋       | 35/130 [50:33<02:01,  1.28s/it]\u001b[A\n",
            "ITERATION - loss: 6.592:  28%|██▊       | 36/130 [50:34<02:00,  1.28s/it]\u001b[A\n",
            "ITERATION - loss: 5.555:  28%|██▊       | 37/130 [50:35<01:58,  1.28s/it]\u001b[A\n",
            "ITERATION - loss: 6.972:  29%|██▉       | 38/130 [50:36<01:57,  1.28s/it]\u001b[A\n",
            "ITERATION - loss: 6.214:  30%|███       | 39/130 [50:38<01:56,  1.28s/it]\u001b[A\n",
            "ITERATION - loss: 6.799:  31%|███       | 40/130 [50:39<01:54,  1.28s/it]\u001b[A\n",
            "ITERATION - loss: 6.635:  32%|███▏      | 41/130 [50:40<01:53,  1.28s/it]\u001b[A\n",
            "ITERATION - loss: 6.603:  32%|███▏      | 42/130 [50:41<01:52,  1.28s/it]\u001b[A\n",
            "ITERATION - loss: 6.963:  33%|███▎      | 43/130 [50:43<01:51,  1.28s/it]\u001b[A\n",
            "ITERATION - loss: 6.273:  34%|███▍      | 44/130 [50:44<01:49,  1.28s/it]\u001b[A\n",
            "ITERATION - loss: 6.954:  35%|███▍      | 45/130 [50:45<01:48,  1.28s/it]\u001b[A\n",
            "ITERATION - loss: 6.163:  35%|███▌      | 46/130 [50:47<01:47,  1.28s/it]\u001b[A\n",
            "ITERATION - loss: 7.021:  36%|███▌      | 47/130 [50:48<01:46,  1.28s/it]\u001b[A\n",
            "ITERATION - loss: 6.383:  37%|███▋      | 48/130 [50:49<01:44,  1.28s/it]\u001b[A\n",
            "ITERATION - loss: 6.193:  38%|███▊      | 49/130 [50:50<01:43,  1.28s/it]\u001b[A\n",
            "ITERATION - loss: 7.347:  38%|███▊      | 50/130 [50:52<01:42,  1.28s/it]\u001b[A\n",
            "ITERATION - loss: 6.566:  39%|███▉      | 51/130 [50:53<01:41,  1.28s/it]\u001b[A\n",
            "ITERATION - loss: 6.567:  40%|████      | 52/130 [50:54<01:39,  1.28s/it]\u001b[A\n",
            "ITERATION - loss: 6.173:  41%|████      | 53/130 [50:56<01:38,  1.28s/it]\u001b[A\n",
            "ITERATION - loss: 6.366:  42%|████▏     | 54/130 [50:57<01:37,  1.28s/it]\u001b[A\n",
            "ITERATION - loss: 6.457:  42%|████▏     | 55/130 [50:58<01:35,  1.28s/it]\u001b[A\n",
            "ITERATION - loss: 7.343:  43%|████▎     | 56/130 [50:59<01:34,  1.28s/it]\u001b[A\n",
            "ITERATION - loss: 6.605:  44%|████▍     | 57/130 [51:01<01:33,  1.28s/it]\u001b[A\n",
            "ITERATION - loss: 6.912:  45%|████▍     | 58/130 [51:02<01:32,  1.28s/it]\u001b[A\n",
            "ITERATION - loss: 7.130:  45%|████▌     | 59/130 [51:03<01:30,  1.28s/it]\u001b[A\n",
            "ITERATION - loss: 6.042:  46%|████▌     | 60/130 [51:04<01:29,  1.28s/it]\u001b[A\n",
            "ITERATION - loss: 6.211:  47%|████▋     | 61/130 [51:06<01:28,  1.28s/it]\u001b[A\n",
            "ITERATION - loss: 6.964:  48%|████▊     | 62/130 [51:07<01:27,  1.29s/it]\u001b[A\n",
            "ITERATION - loss: 6.790:  48%|████▊     | 63/130 [51:08<01:26,  1.29s/it]\u001b[A\n",
            "ITERATION - loss: 6.475:  49%|████▉     | 64/130 [51:10<01:25,  1.29s/it]\u001b[A\n",
            "ITERATION - loss: 6.863:  50%|█████     | 65/130 [51:11<01:23,  1.29s/it]\u001b[A\n",
            "ITERATION - loss: 7.349:  51%|█████     | 66/130 [51:12<01:22,  1.29s/it]\u001b[A\n",
            "ITERATION - loss: 6.039:  52%|█████▏    | 67/130 [51:14<01:20,  1.28s/it]\u001b[A\n",
            "ITERATION - loss: 6.720:  52%|█████▏    | 68/130 [51:15<01:19,  1.28s/it]\u001b[A\n",
            "ITERATION - loss: 6.117:  53%|█████▎    | 69/130 [51:16<01:18,  1.28s/it]\u001b[A\n",
            "ITERATION - loss: 6.359:  54%|█████▍    | 70/130 [51:17<01:16,  1.28s/it]\u001b[A\n",
            "ITERATION - loss: 6.161:  55%|█████▍    | 71/130 [51:19<01:15,  1.28s/it]\u001b[A\n",
            "ITERATION - loss: 6.033:  55%|█████▌    | 72/130 [51:20<01:14,  1.28s/it]\u001b[A\n",
            "ITERATION - loss: 6.162:  56%|█████▌    | 73/130 [51:21<01:13,  1.28s/it]\u001b[A\n",
            "ITERATION - loss: 6.036:  57%|█████▋    | 74/130 [51:22<01:11,  1.28s/it]\u001b[A\n",
            "ITERATION - loss: 6.292:  58%|█████▊    | 75/130 [51:24<01:10,  1.28s/it]\u001b[A\n",
            "ITERATION - loss: 6.947:  58%|█████▊    | 76/130 [51:25<01:08,  1.28s/it]\u001b[A\n",
            "ITERATION - loss: 6.058:  59%|█████▉    | 77/130 [51:26<01:07,  1.28s/it]\u001b[A\n",
            "ITERATION - loss: 6.468:  60%|██████    | 78/130 [51:28<01:06,  1.28s/it]\u001b[A\n",
            "ITERATION - loss: 6.478:  61%|██████    | 79/130 [51:29<01:05,  1.28s/it]\u001b[A\n",
            "ITERATION - loss: 6.790:  62%|██████▏   | 80/130 [51:30<01:04,  1.28s/it]\u001b[A\n",
            "ITERATION - loss: 5.901:  62%|██████▏   | 81/130 [51:31<01:02,  1.28s/it]\u001b[A\n",
            "ITERATION - loss: 6.094:  63%|██████▎   | 82/130 [51:33<01:01,  1.28s/it]\u001b[A\n",
            "ITERATION - loss: 6.590:  64%|██████▍   | 83/130 [51:34<01:00,  1.28s/it]\u001b[A\n",
            "ITERATION - loss: 6.865:  65%|██████▍   | 84/130 [51:35<00:58,  1.28s/it]\u001b[A\n",
            "ITERATION - loss: 6.721:  65%|██████▌   | 85/130 [51:37<00:57,  1.28s/it]\u001b[A\n",
            "ITERATION - loss: 6.388:  66%|██████▌   | 86/130 [51:38<00:56,  1.28s/it]\u001b[A\n",
            "ITERATION - loss: 7.244:  67%|██████▋   | 87/130 [51:39<00:54,  1.28s/it]\u001b[A\n",
            "ITERATION - loss: 6.351:  68%|██████▊   | 88/130 [51:40<00:53,  1.28s/it]\u001b[A\n",
            "ITERATION - loss: 6.257:  68%|██████▊   | 89/130 [51:42<00:52,  1.28s/it]\u001b[A\n",
            "ITERATION - loss: 6.625:  69%|██████▉   | 90/130 [51:43<00:51,  1.28s/it]\u001b[A\n",
            "ITERATION - loss: 6.843:  70%|███████   | 91/130 [51:44<00:49,  1.28s/it]\u001b[A\n",
            "ITERATION - loss: 7.019:  71%|███████   | 92/130 [51:45<00:48,  1.28s/it]\u001b[A\n",
            "ITERATION - loss: 7.192:  72%|███████▏  | 93/130 [51:47<00:47,  1.28s/it]\u001b[A\n",
            "ITERATION - loss: 6.818:  72%|███████▏  | 94/130 [51:48<00:46,  1.28s/it]\u001b[A\n",
            "ITERATION - loss: 6.237:  73%|███████▎  | 95/130 [51:49<00:44,  1.28s/it]\u001b[A\n",
            "ITERATION - loss: 6.570:  74%|███████▍  | 96/130 [51:51<00:43,  1.28s/it]\u001b[A\n",
            "ITERATION - loss: 6.256:  75%|███████▍  | 97/130 [51:52<00:42,  1.28s/it]\u001b[A\n",
            "ITERATION - loss: 6.654:  75%|███████▌  | 98/130 [51:53<00:40,  1.28s/it]\u001b[A\n",
            "ITERATION - loss: 7.203:  76%|███████▌  | 99/130 [51:54<00:39,  1.28s/it]\u001b[A\n",
            "ITERATION - loss: 6.248:  77%|███████▋  | 100/130 [51:56<00:38,  1.28s/it]\u001b[A\n",
            "ITERATION - loss: 6.926:  78%|███████▊  | 101/130 [51:57<00:37,  1.28s/it]\u001b[A\n",
            "ITERATION - loss: 6.514:  78%|███████▊  | 102/130 [51:58<00:35,  1.28s/it]\u001b[A\n",
            "ITERATION - loss: 5.952:  79%|███████▉  | 103/130 [52:00<00:34,  1.28s/it]\u001b[A\n",
            "ITERATION - loss: 6.618:  80%|████████  | 104/130 [52:01<00:33,  1.28s/it]\u001b[A\n",
            "ITERATION - loss: 6.596:  81%|████████  | 105/130 [52:02<00:31,  1.28s/it]\u001b[A\n",
            "ITERATION - loss: 5.741:  82%|████████▏ | 106/130 [52:03<00:30,  1.28s/it]\u001b[A\n",
            "ITERATION - loss: 7.212:  82%|████████▏ | 107/130 [52:05<00:29,  1.28s/it]\u001b[A\n",
            "ITERATION - loss: 6.301:  83%|████████▎ | 108/130 [52:06<00:28,  1.28s/it]\u001b[A\n",
            "ITERATION - loss: 7.294:  84%|████████▍ | 109/130 [52:07<00:26,  1.28s/it]\u001b[A\n",
            "ITERATION - loss: 6.824:  85%|████████▍ | 110/130 [52:09<00:25,  1.28s/it]\u001b[A\n",
            "ITERATION - loss: 6.663:  85%|████████▌ | 111/130 [52:10<00:24,  1.28s/it]\u001b[A\n",
            "ITERATION - loss: 6.333:  86%|████████▌ | 112/130 [52:11<00:23,  1.28s/it]\u001b[A\n",
            "ITERATION - loss: 6.802:  87%|████████▋ | 113/130 [52:12<00:21,  1.28s/it]\u001b[A\n",
            "ITERATION - loss: 6.611:  88%|████████▊ | 114/130 [52:14<00:20,  1.28s/it]\u001b[A\n",
            "ITERATION - loss: 6.978:  88%|████████▊ | 115/130 [52:15<00:19,  1.28s/it]\u001b[A\n",
            "ITERATION - loss: 6.659:  89%|████████▉ | 116/130 [52:16<00:17,  1.28s/it]\u001b[A\n",
            "ITERATION - loss: 6.067:  90%|█████████ | 117/130 [52:17<00:16,  1.28s/it]\u001b[A\n",
            "ITERATION - loss: 6.776:  91%|█████████ | 118/130 [52:19<00:15,  1.28s/it]\u001b[A\n",
            "ITERATION - loss: 6.514:  92%|█████████▏| 119/130 [52:20<00:14,  1.28s/it]\u001b[A\n",
            "ITERATION - loss: 7.224:  92%|█████████▏| 120/130 [52:21<00:12,  1.28s/it]\u001b[A\n",
            "ITERATION - loss: 6.225:  93%|█████████▎| 121/130 [52:23<00:11,  1.28s/it]\u001b[A\n",
            "ITERATION - loss: 6.897:  94%|█████████▍| 122/130 [52:24<00:10,  1.28s/it]\u001b[A\n",
            "ITERATION - loss: 6.551:  95%|█████████▍| 123/130 [52:25<00:08,  1.28s/it]\u001b[A\n",
            "ITERATION - loss: 7.581:  95%|█████████▌| 124/130 [52:26<00:07,  1.28s/it]\u001b[A\n",
            "ITERATION - loss: 7.299:  96%|█████████▌| 125/130 [52:28<00:06,  1.27s/it]\u001b[A\n",
            "ITERATION - loss: 6.328:  97%|█████████▋| 126/130 [52:29<00:05,  1.28s/it]\u001b[A\n",
            "ITERATION - loss: 6.619:  98%|█████████▊| 127/130 [52:30<00:03,  1.28s/it]\u001b[A\n",
            "ITERATION - loss: 6.569:  98%|█████████▊| 128/130 [52:32<00:02,  1.28s/it]\u001b[A\n",
            "ITERATION - loss: 6.690:  99%|█████████▉| 129/130 [52:33<00:01,  1.28s/it]\u001b[A\n",
            "ITERATION - loss: 6.055: 100%|██████████| 130/130 [52:34<00:00,  1.17s/it]\u001b[A\n",
            "\n",
            "ITERATION - loss: 8.544:  13%|█▎        | 17/130 [55:53<02:22,  1.26s/it]\n",
            "ITERATION - loss: 6.055: 100%|██████████| 130/130 [55:19<00:00,  1.17s/it]\u001b[A"
          ],
          "name": "stderr"
        },
        {
          "output_type": "stream",
          "text": [
            "Training Results - Epoch: 9 Age L1-loss: 15.477 ** Gender accuracy: 0.828 ** Race accuracy: 0.656 ** Avg loss: 6.131\n"
          ],
          "name": "stdout"
        },
        {
          "output_type": "stream",
          "text": [
            "\n",
            "ITERATION - loss: 8.544:  13%|█▎        | 17/130 [56:31<02:22,  1.26s/it]\n",
            "ITERATION - loss: 6.055: 100%|██████████| 130/130 [55:57<00:00,  1.17s/it]\u001b[A"
          ],
          "name": "stderr"
        },
        {
          "output_type": "stream",
          "text": [
            "Validation Results - Epoch: 9 Age L1-loss: 15.336 ** Gender accuracy: 0.811 ** Race accuracy: 0.608 ** Avg loss: 6.488\n",
            "****Unfreezing frozen layers ... ***\n",
            "Number of trainable parameters : 140,106,696\n",
            "Number of non-trainable parameters : 0\n"
          ],
          "name": "stdout"
        },
        {
          "output_type": "stream",
          "text": [
            "\n",
            "ITERATION - loss: 6.580:   1%|          | 1/130 [56:03<2:17:03, 63.75s/it]\u001b[A\n",
            "ITERATION - loss: 6.318:   2%|▏         | 2/130 [56:07<1:37:33, 45.73s/it]\u001b[A\n",
            "ITERATION - loss: 6.178:   2%|▏         | 3/130 [56:11<1:10:05, 33.12s/it]\u001b[A\n",
            "ITERATION - loss: 6.014:   3%|▎         | 4/130 [56:15<50:58, 24.28s/it]  \u001b[A\n",
            "ITERATION - loss: 7.085:   4%|▍         | 5/130 [56:18<37:41, 18.09s/it]\u001b[A\n",
            "ITERATION - loss: 6.714:   5%|▍         | 6/130 [56:22<28:26, 13.77s/it]\u001b[A\n",
            "ITERATION - loss: 5.956:   5%|▌         | 7/130 [56:25<21:58, 10.72s/it]\u001b[A\n",
            "ITERATION - loss: 6.651:   6%|▌         | 8/130 [56:29<17:28,  8.59s/it]\u001b[A\n",
            "ITERATION - loss: 6.063:   7%|▋         | 9/130 [56:33<14:21,  7.12s/it]\u001b[A\n",
            "ITERATION - loss: 5.340:   8%|▊         | 10/130 [56:36<12:09,  6.08s/it]\u001b[A\n",
            "ITERATION - loss: 6.552:   8%|▊         | 11/130 [56:40<10:36,  5.35s/it]\u001b[A\n",
            "ITERATION - loss: 5.412:   9%|▉         | 12/130 [56:44<09:32,  4.85s/it]\u001b[A\n",
            "ITERATION - loss: 5.911:  10%|█         | 13/130 [56:47<08:46,  4.50s/it]\u001b[A\n",
            "ITERATION - loss: 5.560:  11%|█         | 14/130 [56:51<08:12,  4.25s/it]\u001b[A\n",
            "ITERATION - loss: 5.975:  12%|█▏        | 15/130 [56:55<07:47,  4.06s/it]\u001b[A\n",
            "ITERATION - loss: 5.290:  12%|█▏        | 16/130 [56:58<07:28,  3.94s/it]\u001b[A\n",
            "ITERATION - loss: 5.925:  13%|█▎        | 17/130 [57:02<07:15,  3.86s/it]\u001b[A\n",
            "ITERATION - loss: 5.721:  14%|█▍        | 18/130 [57:06<07:05,  3.80s/it]\u001b[A\n",
            "ITERATION - loss: 5.788:  15%|█▍        | 19/130 [57:09<06:56,  3.75s/it]\u001b[A\n",
            "ITERATION - loss: 6.154:  15%|█▌        | 20/130 [57:13<06:49,  3.72s/it]\u001b[A\n",
            "ITERATION - loss: 5.675:  16%|█▌        | 21/130 [57:17<06:43,  3.70s/it]\u001b[A\n",
            "ITERATION - loss: 5.693:  17%|█▋        | 22/130 [57:20<06:38,  3.69s/it]\u001b[A\n",
            "ITERATION - loss: 6.423:  18%|█▊        | 23/130 [57:24<06:34,  3.68s/it]\u001b[A\n",
            "ITERATION - loss: 5.623:  18%|█▊        | 24/130 [57:28<06:29,  3.68s/it]\u001b[A\n",
            "ITERATION - loss: 5.440:  19%|█▉        | 25/130 [57:31<06:25,  3.67s/it]\u001b[A\n",
            "ITERATION - loss: 5.231:  20%|██        | 26/130 [57:35<06:21,  3.67s/it]\u001b[A\n",
            "ITERATION - loss: 5.649:  21%|██        | 27/130 [57:39<06:18,  3.67s/it]\u001b[A\n",
            "ITERATION - loss: 5.460:  22%|██▏       | 28/130 [57:42<06:13,  3.66s/it]\u001b[A\n",
            "ITERATION - loss: 5.155:  22%|██▏       | 29/130 [57:46<06:09,  3.66s/it]\u001b[A\n",
            "ITERATION - loss: 4.950:  23%|██▎       | 30/130 [57:50<06:06,  3.66s/it]\u001b[A\n",
            "ITERATION - loss: 5.038:  24%|██▍       | 31/130 [57:53<06:02,  3.66s/it]\u001b[A\n",
            "ITERATION - loss: 5.720:  25%|██▍       | 32/130 [57:57<05:58,  3.66s/it]\u001b[A\n",
            "ITERATION - loss: 5.026:  25%|██▌       | 33/130 [58:01<05:54,  3.66s/it]\u001b[A\n",
            "ITERATION - loss: 4.921:  26%|██▌       | 34/130 [58:04<05:51,  3.66s/it]\u001b[A\n",
            "ITERATION - loss: 5.038:  27%|██▋       | 35/130 [58:08<05:47,  3.66s/it]\u001b[A\n",
            "ITERATION - loss: 5.194:  28%|██▊       | 36/130 [58:12<05:43,  3.66s/it]\u001b[A\n",
            "ITERATION - loss: 4.767:  28%|██▊       | 37/130 [58:15<05:40,  3.66s/it]\u001b[A\n",
            "ITERATION - loss: 4.469:  29%|██▉       | 38/130 [58:19<05:36,  3.66s/it]\u001b[A\n",
            "ITERATION - loss: 5.391:  30%|███       | 39/130 [58:23<05:32,  3.65s/it]\u001b[A\n",
            "ITERATION - loss: 5.148:  31%|███       | 40/130 [58:26<05:28,  3.65s/it]\u001b[A\n",
            "ITERATION - loss: 5.419:  32%|███▏      | 41/130 [58:30<05:25,  3.65s/it]\u001b[A\n",
            "ITERATION - loss: 4.966:  32%|███▏      | 42/130 [58:33<05:21,  3.65s/it]\u001b[A\n",
            "ITERATION - loss: 4.400:  33%|███▎      | 43/130 [58:37<05:17,  3.65s/it]\u001b[A\n",
            "ITERATION - loss: 5.318:  34%|███▍      | 44/130 [58:41<05:14,  3.66s/it]\u001b[A\n",
            "ITERATION - loss: 5.836:  35%|███▍      | 45/130 [58:44<05:10,  3.66s/it]\u001b[A\n",
            "ITERATION - loss: 4.888:  35%|███▌      | 46/130 [58:48<05:07,  3.66s/it]\u001b[A\n",
            "ITERATION - loss: 4.910:  36%|███▌      | 47/130 [58:52<05:04,  3.66s/it]\u001b[A\n",
            "ITERATION - loss: 5.076:  37%|███▋      | 48/130 [58:55<05:00,  3.66s/it]\u001b[A\n",
            "ITERATION - loss: 4.999:  38%|███▊      | 49/130 [58:59<04:56,  3.66s/it]\u001b[A\n",
            "ITERATION - loss: 4.861:  38%|███▊      | 50/130 [59:03<04:52,  3.66s/it]\u001b[A\n",
            "ITERATION - loss: 4.607:  39%|███▉      | 51/130 [59:06<04:48,  3.65s/it]\u001b[A\n",
            "ITERATION - loss: 4.810:  40%|████      | 52/130 [59:10<04:44,  3.65s/it]\u001b[A\n",
            "ITERATION - loss: 4.766:  41%|████      | 53/130 [59:14<04:41,  3.65s/it]\u001b[A\n",
            "ITERATION - loss: 4.307:  42%|████▏     | 54/130 [59:17<04:37,  3.65s/it]\u001b[A\n",
            "ITERATION - loss: 5.106:  42%|████▏     | 55/130 [59:21<04:33,  3.65s/it]\u001b[A\n",
            "ITERATION - loss: 4.829:  43%|████▎     | 56/130 [59:25<04:29,  3.65s/it]\u001b[A\n",
            "ITERATION - loss: 4.350:  44%|████▍     | 57/130 [59:28<04:26,  3.65s/it]\u001b[A\n",
            "ITERATION - loss: 3.938:  45%|████▍     | 58/130 [59:32<04:23,  3.65s/it]\u001b[A\n",
            "ITERATION - loss: 4.574:  45%|████▌     | 59/130 [59:36<04:19,  3.65s/it]\u001b[A\n",
            "ITERATION - loss: 4.965:  46%|████▌     | 60/130 [59:39<04:15,  3.66s/it]\u001b[A\n",
            "ITERATION - loss: 5.038:  47%|████▋     | 61/130 [59:43<04:12,  3.66s/it]\u001b[A\n",
            "ITERATION - loss: 4.400:  48%|████▊     | 62/130 [59:47<04:08,  3.66s/it]\u001b[A\n",
            "ITERATION - loss: 4.770:  48%|████▊     | 63/130 [59:50<04:04,  3.65s/it]\u001b[A\n",
            "ITERATION - loss: 4.977:  49%|████▉     | 64/130 [59:54<04:00,  3.65s/it]\u001b[A\n",
            "ITERATION - loss: 4.830:  50%|█████     | 65/130 [59:57<03:57,  3.65s/it]\u001b[A\n",
            "ITERATION - loss: 4.631:  51%|█████     | 66/130 [1:00:01<03:53,  3.65s/it]\u001b[A\n",
            "ITERATION - loss: 5.109:  52%|█████▏    | 67/130 [1:00:05<03:50,  3.65s/it]\u001b[A\n",
            "ITERATION - loss: 4.917:  52%|█████▏    | 68/130 [1:00:08<03:47,  3.66s/it]\u001b[A\n",
            "ITERATION - loss: 4.743:  53%|█████▎    | 69/130 [1:00:12<03:42,  3.65s/it]\u001b[A\n",
            "ITERATION - loss: 4.497:  54%|█████▍    | 70/130 [1:00:16<03:39,  3.66s/it]\u001b[A\n",
            "ITERATION - loss: 4.152:  55%|█████▍    | 71/130 [1:00:19<03:35,  3.65s/it]\u001b[A\n",
            "ITERATION - loss: 5.154:  55%|█████▌    | 72/130 [1:00:23<03:32,  3.66s/it]\u001b[A\n",
            "ITERATION - loss: 4.473:  56%|█████▌    | 73/130 [1:00:27<03:28,  3.66s/it]\u001b[A\n",
            "ITERATION - loss: 4.279:  57%|█████▋    | 74/130 [1:00:30<03:24,  3.65s/it]\u001b[A\n",
            "ITERATION - loss: 5.438:  58%|█████▊    | 75/130 [1:00:34<03:20,  3.65s/it]\u001b[A\n",
            "ITERATION - loss: 5.442:  58%|█████▊    | 76/130 [1:00:38<03:16,  3.65s/it]\u001b[A\n",
            "ITERATION - loss: 4.821:  59%|█████▉    | 77/130 [1:00:41<03:13,  3.65s/it]\u001b[A\n",
            "ITERATION - loss: 4.939:  60%|██████    | 78/130 [1:00:45<03:10,  3.67s/it]\u001b[A\n",
            "ITERATION - loss: 4.521:  61%|██████    | 79/130 [1:00:49<03:06,  3.66s/it]\u001b[A\n",
            "ITERATION - loss: 4.318:  62%|██████▏   | 80/130 [1:00:52<03:02,  3.66s/it]\u001b[A\n",
            "ITERATION - loss: 5.242:  62%|██████▏   | 81/130 [1:00:56<02:59,  3.66s/it]\u001b[A\n",
            "ITERATION - loss: 5.037:  63%|██████▎   | 82/130 [1:01:00<02:56,  3.67s/it]\u001b[A\n",
            "ITERATION - loss: 4.398:  64%|██████▍   | 83/130 [1:01:03<02:52,  3.66s/it]\u001b[A\n",
            "ITERATION - loss: 4.675:  65%|██████▍   | 84/130 [1:01:07<02:48,  3.65s/it]\u001b[A\n",
            "ITERATION - loss: 4.145:  65%|██████▌   | 85/130 [1:01:11<02:44,  3.65s/it]\u001b[A\n",
            "ITERATION - loss: 3.979:  66%|██████▌   | 86/130 [1:01:14<02:40,  3.66s/it]\u001b[A\n",
            "ITERATION - loss: 4.996:  67%|██████▋   | 87/130 [1:01:18<02:36,  3.65s/it]\u001b[A\n",
            "ITERATION - loss: 4.522:  68%|██████▊   | 88/130 [1:01:22<02:32,  3.64s/it]\u001b[A\n",
            "ITERATION - loss: 4.820:  68%|██████▊   | 89/130 [1:01:25<02:29,  3.65s/it]\u001b[A\n",
            "ITERATION - loss: 5.317:  69%|██████▉   | 90/130 [1:01:29<02:26,  3.66s/it]\u001b[A\n",
            "ITERATION - loss: 3.973:  70%|███████   | 91/130 [1:01:33<02:22,  3.65s/it]\u001b[A\n",
            "ITERATION - loss: 4.172:  71%|███████   | 92/130 [1:01:36<02:18,  3.65s/it]\u001b[A\n",
            "ITERATION - loss: 4.259:  72%|███████▏  | 93/130 [1:01:40<02:15,  3.65s/it]\u001b[A\n",
            "ITERATION - loss: 3.806:  72%|███████▏  | 94/130 [1:01:43<02:11,  3.65s/it]\u001b[A\n",
            "ITERATION - loss: 4.461:  73%|███████▎  | 95/130 [1:01:47<02:07,  3.65s/it]\u001b[A\n",
            "ITERATION - loss: 3.352:  74%|███████▍  | 96/130 [1:01:51<02:04,  3.66s/it]\u001b[A\n",
            "ITERATION - loss: 4.677:  75%|███████▍  | 97/130 [1:01:54<02:00,  3.66s/it]\u001b[A\n",
            "ITERATION - loss: 4.325:  75%|███████▌  | 98/130 [1:01:58<01:57,  3.66s/it]\u001b[A\n",
            "ITERATION - loss: 4.719:  76%|███████▌  | 99/130 [1:02:02<01:53,  3.66s/it]\u001b[A\n",
            "ITERATION - loss: 4.005:  77%|███████▋  | 100/130 [1:02:05<01:49,  3.66s/it]\u001b[A\n",
            "ITERATION - loss: 4.906:  78%|███████▊  | 101/130 [1:02:09<01:46,  3.66s/it]\u001b[A\n",
            "ITERATION - loss: 4.934:  78%|███████▊  | 102/130 [1:02:13<01:42,  3.65s/it]\u001b[A\n",
            "ITERATION - loss: 4.566:  79%|███████▉  | 103/130 [1:02:16<01:38,  3.66s/it]\u001b[A\n",
            "ITERATION - loss: 3.997:  80%|████████  | 104/130 [1:02:20<01:34,  3.65s/it]\u001b[A\n",
            "ITERATION - loss: 4.308:  81%|████████  | 105/130 [1:02:24<01:31,  3.65s/it]\u001b[A\n",
            "ITERATION - loss: 4.248:  82%|████████▏ | 106/130 [1:02:27<01:27,  3.64s/it]\u001b[A\n",
            "ITERATION - loss: 4.374:  82%|████████▏ | 107/130 [1:02:31<01:23,  3.64s/it]\u001b[A\n",
            "ITERATION - loss: 4.121:  83%|████████▎ | 108/130 [1:02:35<01:20,  3.65s/it]\u001b[A\n",
            "ITERATION - loss: 4.187:  84%|████████▍ | 109/130 [1:02:38<01:16,  3.64s/it]\u001b[A\n",
            "ITERATION - loss: 4.750:  85%|████████▍ | 110/130 [1:02:42<01:13,  3.67s/it]\u001b[A\n",
            "ITERATION - loss: 4.775:  85%|████████▌ | 111/130 [1:02:46<01:09,  3.66s/it]\u001b[A\n",
            "ITERATION - loss: 4.401:  86%|████████▌ | 112/130 [1:02:49<01:05,  3.66s/it]\u001b[A\n",
            "ITERATION - loss: 4.286:  87%|████████▋ | 113/130 [1:02:53<01:02,  3.65s/it]\u001b[A\n",
            "ITERATION - loss: 3.847:  88%|████████▊ | 114/130 [1:02:57<00:58,  3.66s/it]\u001b[A\n",
            "ITERATION - loss: 4.475:  88%|████████▊ | 115/130 [1:03:00<00:54,  3.65s/it]\u001b[A\n",
            "ITERATION - loss: 4.462:  89%|████████▉ | 116/130 [1:03:04<00:51,  3.65s/it]\u001b[A\n",
            "ITERATION - loss: 3.949:  90%|█████████ | 117/130 [1:03:07<00:47,  3.64s/it]\u001b[A\n",
            "ITERATION - loss: 4.600:  91%|█████████ | 118/130 [1:03:11<00:43,  3.64s/it]\u001b[A\n",
            "ITERATION - loss: 4.341:  92%|█████████▏| 119/130 [1:03:15<00:40,  3.64s/it]\u001b[A\n",
            "ITERATION - loss: 5.236:  92%|█████████▏| 120/130 [1:03:18<00:36,  3.65s/it]\u001b[A\n",
            "ITERATION - loss: 4.510:  93%|█████████▎| 121/130 [1:03:22<00:32,  3.65s/it]\u001b[A\n",
            "ITERATION - loss: 4.017:  94%|█████████▍| 122/130 [1:03:26<00:29,  3.66s/it]\u001b[A\n",
            "ITERATION - loss: 3.833:  95%|█████████▍| 123/130 [1:03:29<00:25,  3.65s/it]\u001b[A\n",
            "ITERATION - loss: 4.293:  95%|█████████▌| 124/130 [1:03:33<00:21,  3.66s/it]\u001b[A\n",
            "ITERATION - loss: 4.084:  96%|█████████▌| 125/130 [1:03:37<00:18,  3.66s/it]\u001b[A\n",
            "ITERATION - loss: 4.335:  97%|█████████▋| 126/130 [1:03:40<00:14,  3.66s/it]\u001b[A\n",
            "ITERATION - loss: 3.662:  98%|█████████▊| 127/130 [1:03:44<00:10,  3.65s/it]\u001b[A\n",
            "ITERATION - loss: 4.501:  98%|█████████▊| 128/130 [1:03:48<00:07,  3.65s/it]\u001b[A\n",
            "ITERATION - loss: 4.224:  99%|█████████▉| 129/130 [1:03:51<00:03,  3.65s/it]\u001b[A\n",
            "ITERATION - loss: 4.206: 100%|██████████| 130/130 [1:03:55<00:00,  3.52s/it]\u001b[A\n",
            "\n",
            "ITERATION - loss: 8.544:  13%|█▎        | 17/130 [1:06:58<02:22,  1.26s/it]\n",
            "ITERATION - loss: 4.206: 100%|██████████| 130/130 [1:06:24<00:00,  3.52s/it]\u001b[A"
          ],
          "name": "stderr"
        },
        {
          "output_type": "stream",
          "text": [
            "Training Results - Epoch: 10 Age L1-loss: 15.270 ** Gender accuracy: 0.963 ** Race accuracy: 0.855 ** Avg loss: 3.193\n"
          ],
          "name": "stdout"
        },
        {
          "output_type": "stream",
          "text": [
            "\n",
            "ITERATION - loss: 8.544:  13%|█▎        | 17/130 [1:07:33<02:22,  1.26s/it]\n",
            "ITERATION - loss: 4.206: 100%|██████████| 130/130 [1:06:59<00:00,  3.52s/it]\u001b[A"
          ],
          "name": "stderr"
        },
        {
          "output_type": "stream",
          "text": [
            "Validation Results - Epoch: 10 Age L1-loss: 15.163 ** Gender accuracy: 0.909 ** Race accuracy: 0.802 ** Avg loss: 4.139\n"
          ],
          "name": "stdout"
        },
        {
          "output_type": "stream",
          "text": [
            "\n",
            "ITERATION - loss: 3.384:   1%|          | 1/130 [1:07:09<2:10:51, 60.86s/it]\u001b[A\n",
            "ITERATION - loss: 3.313:   2%|▏         | 2/130 [1:07:13<1:33:13, 43.70s/it]\u001b[A\n",
            "ITERATION - loss: 3.056:   2%|▏         | 3/130 [1:07:17<1:07:04, 31.69s/it]\u001b[A\n",
            "ITERATION - loss: 2.843:   3%|▎         | 4/130 [1:07:20<48:52, 23.27s/it]  \u001b[A\n",
            "ITERATION - loss: 3.471:   4%|▍         | 5/130 [1:07:24<36:13, 17.39s/it]\u001b[A\n",
            "ITERATION - loss: 3.175:   5%|▍         | 6/130 [1:07:27<27:25, 13.27s/it]\u001b[A\n",
            "ITERATION - loss: 3.138:   5%|▌         | 7/130 [1:07:31<21:17, 10.38s/it]\u001b[A\n",
            "ITERATION - loss: 3.339:   6%|▌         | 8/130 [1:07:35<17:00,  8.37s/it]\u001b[A\n",
            "ITERATION - loss: 2.904:   7%|▋         | 9/130 [1:07:38<14:01,  6.96s/it]\u001b[A\n",
            "ITERATION - loss: 3.081:   8%|▊         | 10/130 [1:07:42<11:55,  5.96s/it]\u001b[A\n",
            "ITERATION - loss: 2.998:   8%|▊         | 11/130 [1:07:46<10:27,  5.27s/it]\u001b[A\n",
            "ITERATION - loss: 3.433:   9%|▉         | 12/130 [1:07:49<09:25,  4.79s/it]\u001b[A\n",
            "ITERATION - loss: 3.221:  10%|█         | 13/130 [1:07:53<08:41,  4.45s/it]\u001b[A\n",
            "ITERATION - loss: 3.370:  11%|█         | 14/130 [1:07:57<08:07,  4.21s/it]\u001b[A\n",
            "ITERATION - loss: 3.392:  12%|█▏        | 15/130 [1:08:00<07:43,  4.03s/it]\u001b[A\n",
            "ITERATION - loss: 3.766:  12%|█▏        | 16/130 [1:08:04<07:26,  3.92s/it]\u001b[A\n",
            "ITERATION - loss: 3.513:  13%|█▎        | 17/130 [1:08:08<07:14,  3.84s/it]\u001b[A\n",
            "ITERATION - loss: 4.029:  14%|█▍        | 18/130 [1:08:11<07:03,  3.78s/it]\u001b[A\n",
            "ITERATION - loss: 3.139:  15%|█▍        | 19/130 [1:08:15<06:55,  3.74s/it]\u001b[A\n",
            "ITERATION - loss: 3.249:  15%|█▌        | 20/130 [1:08:19<06:48,  3.71s/it]\u001b[A\n",
            "ITERATION - loss: 2.976:  16%|█▌        | 21/130 [1:08:22<06:43,  3.70s/it]\u001b[A\n",
            "ITERATION - loss: 3.850:  17%|█▋        | 22/130 [1:08:26<06:38,  3.69s/it]\u001b[A\n",
            "ITERATION - loss: 3.631:  18%|█▊        | 23/130 [1:08:30<06:33,  3.68s/it]\u001b[A\n",
            "ITERATION - loss: 3.425:  18%|█▊        | 24/130 [1:08:33<06:29,  3.67s/it]\u001b[A\n",
            "ITERATION - loss: 3.548:  19%|█▉        | 25/130 [1:08:37<06:24,  3.66s/it]\u001b[A\n",
            "ITERATION - loss: 2.959:  20%|██        | 26/130 [1:08:41<06:21,  3.67s/it]\u001b[A\n",
            "ITERATION - loss: 2.878:  21%|██        | 27/130 [1:08:44<06:17,  3.66s/it]\u001b[A\n",
            "ITERATION - loss: 2.977:  22%|██▏       | 28/130 [1:08:48<06:13,  3.66s/it]\u001b[A\n",
            "ITERATION - loss: 3.209:  22%|██▏       | 29/130 [1:08:52<06:09,  3.66s/it]\u001b[A\n",
            "ITERATION - loss: 2.886:  23%|██▎       | 30/130 [1:08:55<06:04,  3.65s/it]\u001b[A\n",
            "ITERATION - loss: 3.403:  24%|██▍       | 31/130 [1:08:59<06:01,  3.65s/it]\u001b[A\n",
            "ITERATION - loss: 3.210:  25%|██▍       | 32/130 [1:09:02<05:58,  3.66s/it]\u001b[A\n",
            "ITERATION - loss: 2.777:  25%|██▌       | 33/130 [1:09:06<05:55,  3.67s/it]\u001b[A\n",
            "ITERATION - loss: 3.196:  26%|██▌       | 34/130 [1:09:10<05:51,  3.66s/it]\u001b[A\n",
            "ITERATION - loss: 3.304:  27%|██▋       | 35/130 [1:09:13<05:47,  3.65s/it]\u001b[A\n",
            "ITERATION - loss: 3.421:  28%|██▊       | 36/130 [1:09:17<05:42,  3.65s/it]\u001b[A\n",
            "ITERATION - loss: 2.842:  28%|██▊       | 37/130 [1:09:21<05:39,  3.65s/it]\u001b[A\n",
            "ITERATION - loss: 2.960:  29%|██▉       | 38/130 [1:09:24<05:35,  3.65s/it]\u001b[A\n",
            "ITERATION - loss: 2.754:  30%|███       | 39/130 [1:09:28<05:32,  3.65s/it]\u001b[A\n",
            "ITERATION - loss: 3.390:  31%|███       | 40/130 [1:09:32<05:28,  3.65s/it]\u001b[A\n",
            "ITERATION - loss: 3.909:  32%|███▏      | 41/130 [1:09:35<05:25,  3.66s/it]\u001b[A\n",
            "ITERATION - loss: 3.607:  32%|███▏      | 42/130 [1:09:39<05:21,  3.65s/it]\u001b[A\n",
            "ITERATION - loss: 3.242:  33%|███▎      | 43/130 [1:09:43<05:17,  3.65s/it]\u001b[A\n",
            "ITERATION - loss: 2.924:  34%|███▍      | 44/130 [1:09:46<05:13,  3.65s/it]\u001b[A\n",
            "ITERATION - loss: 3.651:  35%|███▍      | 45/130 [1:09:50<05:10,  3.65s/it]\u001b[A\n",
            "ITERATION - loss: 3.523:  35%|███▌      | 46/130 [1:09:54<05:06,  3.65s/it]\u001b[A\n",
            "ITERATION - loss: 3.508:  36%|███▌      | 47/130 [1:09:57<05:02,  3.65s/it]\u001b[A\n",
            "ITERATION - loss: 3.159:  37%|███▋      | 48/130 [1:10:01<04:59,  3.65s/it]\u001b[A\n",
            "ITERATION - loss: 2.960:  38%|███▊      | 49/130 [1:10:05<04:56,  3.66s/it]\u001b[A\n",
            "ITERATION - loss: 3.268:  38%|███▊      | 50/130 [1:10:08<04:52,  3.65s/it]\u001b[A\n",
            "ITERATION - loss: 2.975:  39%|███▉      | 51/130 [1:10:12<04:48,  3.65s/it]\u001b[A\n",
            "ITERATION - loss: 3.280:  40%|████      | 52/130 [1:10:16<04:44,  3.65s/it]\u001b[A\n",
            "ITERATION - loss: 4.217:  41%|████      | 53/130 [1:10:19<04:41,  3.65s/it]\u001b[A\n",
            "ITERATION - loss: 3.144:  42%|████▏     | 54/130 [1:10:23<04:37,  3.65s/it]\u001b[A\n",
            "ITERATION - loss: 3.525:  42%|████▏     | 55/130 [1:10:26<04:33,  3.64s/it]\u001b[A\n",
            "ITERATION - loss: 2.923:  43%|████▎     | 56/130 [1:10:30<04:29,  3.65s/it]\u001b[A\n",
            "ITERATION - loss: 3.741:  44%|████▍     | 57/130 [1:10:34<04:26,  3.65s/it]\u001b[A\n",
            "ITERATION - loss: 3.161:  45%|████▍     | 58/130 [1:10:37<04:22,  3.65s/it]\u001b[A\n",
            "ITERATION - loss: 3.328:  45%|████▌     | 59/130 [1:10:41<04:18,  3.65s/it]\u001b[A\n",
            "ITERATION - loss: 3.408:  46%|████▌     | 60/130 [1:10:45<04:15,  3.65s/it]\u001b[A\n",
            "ITERATION - loss: 2.916:  47%|████▋     | 61/130 [1:10:48<04:11,  3.65s/it]\u001b[A\n",
            "ITERATION - loss: 2.991:  48%|████▊     | 62/130 [1:10:52<04:07,  3.64s/it]\u001b[A\n",
            "ITERATION - loss: 3.428:  48%|████▊     | 63/130 [1:10:56<04:04,  3.64s/it]\u001b[A\n",
            "ITERATION - loss: 3.870:  49%|████▉     | 64/130 [1:10:59<04:00,  3.64s/it]\u001b[A\n",
            "ITERATION - loss: 3.379:  50%|█████     | 65/130 [1:11:03<03:57,  3.65s/it]\u001b[A\n",
            "ITERATION - loss: 2.961:  51%|█████     | 66/130 [1:11:07<03:53,  3.65s/it]\u001b[A\n",
            "ITERATION - loss: 3.314:  52%|█████▏    | 67/130 [1:11:10<03:49,  3.64s/it]\u001b[A\n",
            "ITERATION - loss: 3.626:  52%|█████▏    | 68/130 [1:11:14<03:46,  3.65s/it]\u001b[A\n",
            "ITERATION - loss: 3.613:  53%|█████▎    | 69/130 [1:11:17<03:42,  3.65s/it]\u001b[A\n",
            "ITERATION - loss: 3.578:  54%|█████▍    | 70/130 [1:11:21<03:38,  3.64s/it]\u001b[A\n",
            "ITERATION - loss: 3.693:  55%|█████▍    | 71/130 [1:11:25<03:34,  3.64s/it]\u001b[A\n",
            "ITERATION - loss: 3.075:  55%|█████▌    | 72/130 [1:11:28<03:31,  3.64s/it]\u001b[A\n",
            "ITERATION - loss: 3.523:  56%|█████▌    | 73/130 [1:11:32<03:28,  3.65s/it]\u001b[A\n",
            "ITERATION - loss: 3.239:  57%|█████▋    | 74/130 [1:11:36<03:24,  3.65s/it]\u001b[A\n",
            "ITERATION - loss: 3.538:  58%|█████▊    | 75/130 [1:11:39<03:20,  3.65s/it]\u001b[A\n",
            "ITERATION - loss: 3.269:  58%|█████▊    | 76/130 [1:11:43<03:16,  3.65s/it]\u001b[A\n",
            "ITERATION - loss: 3.585:  59%|█████▉    | 77/130 [1:11:47<03:13,  3.65s/it]\u001b[A\n",
            "ITERATION - loss: 3.160:  60%|██████    | 78/130 [1:11:50<03:09,  3.64s/it]\u001b[A\n",
            "ITERATION - loss: 3.362:  61%|██████    | 79/130 [1:11:54<03:05,  3.64s/it]\u001b[A\n",
            "ITERATION - loss: 2.785:  62%|██████▏   | 80/130 [1:11:58<03:02,  3.64s/it]\u001b[A\n",
            "ITERATION - loss: 3.374:  62%|██████▏   | 81/130 [1:12:01<02:58,  3.65s/it]\u001b[A\n",
            "ITERATION - loss: 3.107:  63%|██████▎   | 82/130 [1:12:05<02:55,  3.65s/it]\u001b[A\n",
            "ITERATION - loss: 3.205:  64%|██████▍   | 83/130 [1:12:09<02:51,  3.64s/it]\u001b[A\n",
            "ITERATION - loss: 2.889:  65%|██████▍   | 84/130 [1:12:12<02:47,  3.64s/it]\u001b[A\n",
            "ITERATION - loss: 3.397:  65%|██████▌   | 85/130 [1:12:16<02:44,  3.65s/it]\u001b[A\n",
            "ITERATION - loss: 3.189:  66%|██████▌   | 86/130 [1:12:19<02:40,  3.64s/it]\u001b[A\n",
            "ITERATION - loss: 3.239:  67%|██████▋   | 87/130 [1:12:23<02:36,  3.65s/it]\u001b[A\n",
            "ITERATION - loss: 2.729:  68%|██████▊   | 88/130 [1:12:27<02:33,  3.65s/it]\u001b[A\n",
            "ITERATION - loss: 3.702:  68%|██████▊   | 89/130 [1:12:30<02:29,  3.66s/it]\u001b[A\n",
            "ITERATION - loss: 2.864:  69%|██████▉   | 90/130 [1:12:34<02:26,  3.66s/it]\u001b[A\n",
            "ITERATION - loss: 3.370:  70%|███████   | 91/130 [1:12:38<02:22,  3.65s/it]\u001b[A\n",
            "ITERATION - loss: 3.720:  71%|███████   | 92/130 [1:12:41<02:18,  3.65s/it]\u001b[A\n",
            "ITERATION - loss: 2.841:  72%|███████▏  | 93/130 [1:12:45<02:15,  3.67s/it]\u001b[A\n",
            "ITERATION - loss: 3.468:  72%|███████▏  | 94/130 [1:12:49<02:11,  3.66s/it]\u001b[A\n",
            "ITERATION - loss: 2.812:  73%|███████▎  | 95/130 [1:12:52<02:07,  3.65s/it]\u001b[A\n",
            "ITERATION - loss: 3.067:  74%|███████▍  | 96/130 [1:12:56<02:04,  3.67s/it]\u001b[A\n",
            "ITERATION - loss: 2.980:  75%|███████▍  | 97/130 [1:13:00<02:00,  3.67s/it]\u001b[A\n",
            "ITERATION - loss: 3.296:  75%|███████▌  | 98/130 [1:13:03<01:57,  3.66s/it]\u001b[A\n",
            "ITERATION - loss: 3.702:  76%|███████▌  | 99/130 [1:13:07<01:53,  3.66s/it]\u001b[A\n",
            "ITERATION - loss: 2.735:  77%|███████▋  | 100/130 [1:13:11<01:49,  3.66s/it]\u001b[A\n",
            "ITERATION - loss: 2.998:  78%|███████▊  | 101/130 [1:13:14<01:45,  3.65s/it]\u001b[A\n",
            "ITERATION - loss: 4.065:  78%|███████▊  | 102/130 [1:13:18<01:41,  3.64s/it]\u001b[A\n",
            "ITERATION - loss: 2.986:  79%|███████▉  | 103/130 [1:13:22<01:38,  3.64s/it]\u001b[A\n",
            "ITERATION - loss: 3.080:  80%|████████  | 104/130 [1:13:25<01:34,  3.64s/it]\u001b[A\n",
            "ITERATION - loss: 3.409:  81%|████████  | 105/130 [1:13:29<01:31,  3.66s/it]\u001b[A\n",
            "ITERATION - loss: 3.561:  82%|████████▏ | 106/130 [1:13:33<01:27,  3.65s/it]\u001b[A\n",
            "ITERATION - loss: 3.281:  82%|████████▏ | 107/130 [1:13:36<01:23,  3.65s/it]\u001b[A\n",
            "ITERATION - loss: 3.444:  83%|████████▎ | 108/130 [1:13:40<01:20,  3.66s/it]\u001b[A\n",
            "ITERATION - loss: 3.144:  84%|████████▍ | 109/130 [1:13:44<01:16,  3.66s/it]\u001b[A\n",
            "ITERATION - loss: 3.048:  85%|████████▍ | 110/130 [1:13:47<01:13,  3.66s/it]\u001b[A\n",
            "ITERATION - loss: 3.911:  85%|████████▌ | 111/130 [1:13:51<01:09,  3.65s/it]\u001b[A\n",
            "ITERATION - loss: 3.298:  86%|████████▌ | 112/130 [1:13:54<01:05,  3.65s/it]\u001b[A\n",
            "ITERATION - loss: 3.515:  87%|████████▋ | 113/130 [1:13:58<01:02,  3.65s/it]\u001b[A\n",
            "ITERATION - loss: 3.062:  88%|████████▊ | 114/130 [1:14:02<00:58,  3.64s/it]\u001b[A\n",
            "ITERATION - loss: 3.962:  88%|████████▊ | 115/130 [1:14:05<00:54,  3.64s/it]\u001b[A\n",
            "ITERATION - loss: 3.125:  89%|████████▉ | 116/130 [1:14:09<00:50,  3.64s/it]\u001b[A\n",
            "ITERATION - loss: 2.599:  90%|█████████ | 117/130 [1:14:13<00:47,  3.65s/it]\u001b[A\n",
            "ITERATION - loss: 3.418:  91%|█████████ | 118/130 [1:14:16<00:43,  3.64s/it]\u001b[A\n",
            "ITERATION - loss: 3.313:  92%|█████████▏| 119/130 [1:14:20<00:40,  3.64s/it]\u001b[A\n",
            "ITERATION - loss: 2.749:  92%|█████████▏| 120/130 [1:14:24<00:36,  3.64s/it]\u001b[A\n",
            "ITERATION - loss: 3.243:  93%|█████████▎| 121/130 [1:14:27<00:32,  3.65s/it]\u001b[A\n",
            "ITERATION - loss: 3.309:  94%|█████████▍| 122/130 [1:14:31<00:29,  3.64s/it]\u001b[A\n",
            "ITERATION - loss: 2.847:  95%|█████████▍| 123/130 [1:14:35<00:25,  3.64s/it]\u001b[A\n",
            "ITERATION - loss: 2.261:  95%|█████████▌| 124/130 [1:14:38<00:21,  3.64s/it]\u001b[A\n",
            "ITERATION - loss: 3.149:  96%|█████████▌| 125/130 [1:14:42<00:18,  3.65s/it]\u001b[A\n",
            "ITERATION - loss: 3.560:  97%|█████████▋| 126/130 [1:14:46<00:14,  3.65s/it]\u001b[A\n",
            "ITERATION - loss: 3.172:  98%|█████████▊| 127/130 [1:14:49<00:10,  3.65s/it]\u001b[A\n",
            "ITERATION - loss: 3.459:  98%|█████████▊| 128/130 [1:14:53<00:07,  3.67s/it]\u001b[A\n",
            "ITERATION - loss: 3.301:  99%|█████████▉| 129/130 [1:14:57<00:03,  3.67s/it]\u001b[A\n",
            "ITERATION - loss: 3.527: 100%|██████████| 130/130 [1:14:59<00:00,  3.42s/it]\u001b[A\n",
            "\n",
            "ITERATION - loss: 8.544:  13%|█▎        | 17/130 [1:18:14<02:22,  1.26s/it]\n",
            "ITERATION - loss: 3.527: 100%|██████████| 130/130 [1:17:39<00:00,  3.42s/it]\u001b[A"
          ],
          "name": "stderr"
        },
        {
          "output_type": "stream",
          "text": [
            "Training Results - Epoch: 11 Age L1-loss: 15.548 ** Gender accuracy: 0.977 ** Race accuracy: 0.911 ** Avg loss: 2.581\n"
          ],
          "name": "stdout"
        },
        {
          "output_type": "stream",
          "text": [
            "\n",
            "ITERATION - loss: 8.544:  13%|█▎        | 17/130 [1:18:48<02:22,  1.26s/it]\n",
            "ITERATION - loss: 3.527: 100%|██████████| 130/130 [1:18:14<00:00,  3.42s/it]\u001b[A"
          ],
          "name": "stderr"
        },
        {
          "output_type": "stream",
          "text": [
            "Validation Results - Epoch: 11 Age L1-loss: 15.441 ** Gender accuracy: 0.900 ** Race accuracy: 0.804 ** Avg loss: 4.489\n"
          ],
          "name": "stdout"
        },
        {
          "output_type": "stream",
          "text": [
            "\n",
            "ITERATION - loss: 2.658:   1%|          | 1/130 [1:18:20<2:14:27, 62.54s/it]\u001b[A\n",
            "ITERATION - loss: 2.679:   2%|▏         | 2/130 [1:18:24<1:35:43, 44.87s/it]\u001b[A\n",
            "ITERATION - loss: 2.248:   2%|▏         | 3/130 [1:18:27<1:08:47, 32.50s/it]\u001b[A\n",
            "ITERATION - loss: 2.697:   3%|▎         | 4/130 [1:18:31<50:05, 23.86s/it]  \u001b[A\n",
            "ITERATION - loss: 2.671:   4%|▍         | 5/130 [1:18:34<37:04, 17.79s/it]\u001b[A\n",
            "ITERATION - loss: 2.757:   5%|▍         | 6/130 [1:18:38<28:00, 13.55s/it]\u001b[A\n",
            "ITERATION - loss: 2.514:   5%|▌         | 7/130 [1:18:42<21:42, 10.59s/it]\u001b[A\n",
            "ITERATION - loss: 2.622:   6%|▌         | 8/130 [1:18:46<17:18,  8.52s/it]\u001b[A\n",
            "ITERATION - loss: 2.241:   7%|▋         | 9/130 [1:18:49<14:13,  7.06s/it]\u001b[A\n",
            "ITERATION - loss: 2.944:   8%|▊         | 10/130 [1:18:53<12:03,  6.03s/it]\u001b[A\n",
            "ITERATION - loss: 2.480:   8%|▊         | 11/130 [1:18:56<10:32,  5.31s/it]\u001b[A\n",
            "ITERATION - loss: 2.352:   9%|▉         | 12/130 [1:19:00<09:28,  4.82s/it]\u001b[A\n",
            "ITERATION - loss: 2.584:  10%|█         | 13/130 [1:19:04<08:42,  4.46s/it]\u001b[A\n",
            "ITERATION - loss: 2.309:  11%|█         | 14/130 [1:19:07<08:09,  4.22s/it]\u001b[A\n",
            "ITERATION - loss: 2.255:  12%|█▏        | 15/130 [1:19:11<07:45,  4.05s/it]\u001b[A\n",
            "ITERATION - loss: 3.191:  12%|█▏        | 16/130 [1:19:15<07:28,  3.93s/it]\u001b[A\n",
            "ITERATION - loss: 2.917:  13%|█▎        | 17/130 [1:19:18<07:14,  3.85s/it]\u001b[A\n",
            "ITERATION - loss: 2.553:  14%|█▍        | 18/130 [1:19:22<07:04,  3.79s/it]\u001b[A\n",
            "ITERATION - loss: 3.005:  15%|█▍        | 19/130 [1:19:26<06:56,  3.75s/it]\u001b[A\n",
            "ITERATION - loss: 2.513:  15%|█▌        | 20/130 [1:19:29<06:49,  3.73s/it]\u001b[A\n",
            "ITERATION - loss: 2.742:  16%|█▌        | 21/130 [1:19:33<06:43,  3.70s/it]\u001b[A\n",
            "ITERATION - loss: 2.962:  17%|█▋        | 22/130 [1:19:37<06:38,  3.69s/it]\u001b[A\n",
            "ITERATION - loss: 2.758:  18%|█▊        | 23/130 [1:19:40<06:33,  3.68s/it]\u001b[A\n",
            "ITERATION - loss: 3.213:  18%|█▊        | 24/130 [1:19:44<06:29,  3.68s/it]\u001b[A\n",
            "ITERATION - loss: 2.384:  19%|█▉        | 25/130 [1:19:48<06:25,  3.67s/it]\u001b[A\n",
            "ITERATION - loss: 2.226:  20%|██        | 26/130 [1:19:51<06:20,  3.66s/it]\u001b[A\n",
            "ITERATION - loss: 2.593:  21%|██        | 27/130 [1:19:55<06:16,  3.65s/it]\u001b[A\n",
            "ITERATION - loss: 1.969:  22%|██▏       | 28/130 [1:19:59<06:12,  3.66s/it]\u001b[A\n",
            "ITERATION - loss: 2.484:  22%|██▏       | 29/130 [1:20:02<06:08,  3.65s/it]\u001b[A\n",
            "ITERATION - loss: 2.218:  23%|██▎       | 30/130 [1:20:06<06:04,  3.65s/it]\u001b[A\n",
            "ITERATION - loss: 2.351:  24%|██▍       | 31/130 [1:20:09<06:01,  3.65s/it]\u001b[A\n",
            "ITERATION - loss: 2.489:  25%|██▍       | 32/130 [1:20:13<05:57,  3.65s/it]\u001b[A\n",
            "ITERATION - loss: 2.173:  25%|██▌       | 33/130 [1:20:17<05:54,  3.66s/it]\u001b[A\n",
            "ITERATION - loss: 2.078:  26%|██▌       | 34/130 [1:20:20<05:51,  3.66s/it]\u001b[A\n",
            "ITERATION - loss: 2.416:  27%|██▋       | 35/130 [1:20:24<05:47,  3.66s/it]\u001b[A\n",
            "ITERATION - loss: 2.200:  28%|██▊       | 36/130 [1:20:28<05:44,  3.67s/it]\u001b[A\n",
            "ITERATION - loss: 2.813:  28%|██▊       | 37/130 [1:20:31<05:40,  3.66s/it]\u001b[A\n",
            "ITERATION - loss: 2.635:  29%|██▉       | 38/130 [1:20:35<05:36,  3.66s/it]\u001b[A\n",
            "ITERATION - loss: 2.788:  30%|███       | 39/130 [1:20:39<05:33,  3.66s/it]\u001b[A\n",
            "ITERATION - loss: 2.791:  31%|███       | 40/130 [1:20:42<05:29,  3.66s/it]\u001b[A\n",
            "ITERATION - loss: 2.094:  32%|███▏      | 41/130 [1:20:46<05:25,  3.65s/it]\u001b[A\n",
            "ITERATION - loss: 2.916:  32%|███▏      | 42/130 [1:20:50<05:20,  3.65s/it]\u001b[A\n",
            "ITERATION - loss: 3.052:  33%|███▎      | 43/130 [1:20:53<05:17,  3.65s/it]\u001b[A\n",
            "ITERATION - loss: 2.084:  34%|███▍      | 44/130 [1:20:57<05:14,  3.66s/it]\u001b[A\n",
            "ITERATION - loss: 2.671:  35%|███▍      | 45/130 [1:21:01<05:10,  3.65s/it]\u001b[A\n",
            "ITERATION - loss: 2.336:  35%|███▌      | 46/130 [1:21:04<05:08,  3.67s/it]\u001b[A\n",
            "ITERATION - loss: 2.357:  36%|███▌      | 47/130 [1:21:08<05:04,  3.66s/it]\u001b[A\n",
            "ITERATION - loss: 2.436:  37%|███▋      | 48/130 [1:21:12<05:00,  3.67s/it]\u001b[A\n",
            "ITERATION - loss: 2.129:  38%|███▊      | 49/130 [1:21:15<04:56,  3.66s/it]\u001b[A\n",
            "ITERATION - loss: 2.328:  38%|███▊      | 50/130 [1:21:19<04:52,  3.66s/it]\u001b[A\n",
            "ITERATION - loss: 2.841:  39%|███▉      | 51/130 [1:21:23<04:48,  3.66s/it]\u001b[A\n",
            "ITERATION - loss: 2.731:  40%|████      | 52/130 [1:21:26<04:44,  3.65s/it]\u001b[A\n",
            "ITERATION - loss: 3.018:  41%|████      | 53/130 [1:21:30<04:41,  3.65s/it]\u001b[A\n",
            "ITERATION - loss: 2.488:  42%|████▏     | 54/130 [1:21:34<04:37,  3.65s/it]\u001b[A\n",
            "ITERATION - loss: 2.869:  42%|████▏     | 55/130 [1:21:37<04:33,  3.65s/it]\u001b[A\n",
            "ITERATION - loss: 2.190:  43%|████▎     | 56/130 [1:21:41<04:31,  3.67s/it]\u001b[A\n",
            "ITERATION - loss: 2.548:  44%|████▍     | 57/130 [1:21:45<04:27,  3.67s/it]\u001b[A\n",
            "ITERATION - loss: 2.384:  45%|████▍     | 58/130 [1:21:48<04:23,  3.66s/it]\u001b[A\n",
            "ITERATION - loss: 3.288:  45%|████▌     | 59/130 [1:21:52<04:20,  3.66s/it]\u001b[A\n",
            "ITERATION - loss: 2.618:  46%|████▌     | 60/130 [1:21:56<04:16,  3.66s/it]\u001b[A\n",
            "ITERATION - loss: 3.089:  47%|████▋     | 61/130 [1:21:59<04:12,  3.66s/it]\u001b[A\n",
            "ITERATION - loss: 2.322:  48%|████▊     | 62/130 [1:22:03<04:08,  3.65s/it]\u001b[A\n",
            "ITERATION - loss: 2.474:  48%|████▊     | 63/130 [1:22:07<04:04,  3.65s/it]\u001b[A\n",
            "ITERATION - loss: 2.743:  49%|████▉     | 64/130 [1:22:10<04:01,  3.65s/it]\u001b[A\n",
            "ITERATION - loss: 2.566:  50%|█████     | 65/130 [1:22:14<03:56,  3.64s/it]\u001b[A\n",
            "ITERATION - loss: 2.351:  51%|█████     | 66/130 [1:22:17<03:53,  3.65s/it]\u001b[A\n",
            "ITERATION - loss: 2.337:  52%|█████▏    | 67/130 [1:22:21<03:49,  3.64s/it]\u001b[A\n",
            "ITERATION - loss: 2.511:  52%|█████▏    | 68/130 [1:22:25<03:46,  3.65s/it]\u001b[A\n",
            "ITERATION - loss: 2.616:  53%|█████▎    | 69/130 [1:22:28<03:42,  3.65s/it]\u001b[A\n",
            "ITERATION - loss: 2.823:  54%|█████▍    | 70/130 [1:22:32<03:38,  3.65s/it]\u001b[A\n",
            "ITERATION - loss: 2.576:  55%|█████▍    | 71/130 [1:22:36<03:34,  3.64s/it]\u001b[A\n",
            "ITERATION - loss: 2.508:  55%|█████▌    | 72/130 [1:22:39<03:31,  3.64s/it]\u001b[A\n",
            "ITERATION - loss: 2.143:  56%|█████▌    | 73/130 [1:22:43<03:27,  3.64s/it]\u001b[A\n",
            "ITERATION - loss: 2.838:  57%|█████▋    | 74/130 [1:22:47<03:24,  3.65s/it]\u001b[A\n",
            "ITERATION - loss: 2.558:  58%|█████▊    | 75/130 [1:22:50<03:20,  3.65s/it]\u001b[A\n",
            "ITERATION - loss: 2.635:  58%|█████▊    | 76/130 [1:22:54<03:17,  3.66s/it]\u001b[A\n",
            "ITERATION - loss: 2.752:  59%|█████▉    | 77/130 [1:22:58<03:13,  3.65s/it]\u001b[A\n",
            "ITERATION - loss: 2.743:  60%|██████    | 78/130 [1:23:01<03:09,  3.65s/it]\u001b[A\n",
            "ITERATION - loss: 2.979:  61%|██████    | 79/130 [1:23:05<03:06,  3.67s/it]\u001b[A\n",
            "ITERATION - loss: 2.747:  62%|██████▏   | 80/130 [1:23:09<03:03,  3.67s/it]\u001b[A\n",
            "ITERATION - loss: 2.517:  62%|██████▏   | 81/130 [1:23:12<02:59,  3.66s/it]\u001b[A\n",
            "ITERATION - loss: 2.657:  63%|██████▎   | 82/130 [1:23:16<02:55,  3.66s/it]\u001b[A\n",
            "ITERATION - loss: 2.667:  64%|██████▍   | 83/130 [1:23:20<02:51,  3.65s/it]\u001b[A\n",
            "ITERATION - loss: 2.649:  65%|██████▍   | 84/130 [1:23:23<02:48,  3.65s/it]\u001b[A\n",
            "ITERATION - loss: 2.424:  65%|██████▌   | 85/130 [1:23:27<02:43,  3.64s/it]\u001b[A\n",
            "ITERATION - loss: 2.792:  66%|██████▌   | 86/130 [1:23:31<02:40,  3.65s/it]\u001b[A\n",
            "ITERATION - loss: 2.628:  67%|██████▋   | 87/130 [1:23:34<02:36,  3.65s/it]\u001b[A\n",
            "ITERATION - loss: 2.838:  68%|██████▊   | 88/130 [1:23:38<02:33,  3.65s/it]\u001b[A\n",
            "ITERATION - loss: 2.308:  68%|██████▊   | 89/130 [1:23:41<02:29,  3.65s/it]\u001b[A\n",
            "ITERATION - loss: 2.218:  69%|██████▉   | 90/130 [1:23:45<02:25,  3.65s/it]\u001b[A\n",
            "ITERATION - loss: 2.635:  70%|███████   | 91/130 [1:23:49<02:22,  3.65s/it]\u001b[A\n",
            "ITERATION - loss: 2.446:  71%|███████   | 92/130 [1:23:52<02:18,  3.65s/it]\u001b[A\n",
            "ITERATION - loss: 2.543:  72%|███████▏  | 93/130 [1:23:56<02:14,  3.65s/it]\u001b[A\n",
            "ITERATION - loss: 3.245:  72%|███████▏  | 94/130 [1:24:00<02:11,  3.64s/it]\u001b[A\n",
            "ITERATION - loss: 2.317:  73%|███████▎  | 95/130 [1:24:03<02:07,  3.65s/it]\u001b[A\n",
            "ITERATION - loss: 2.463:  74%|███████▍  | 96/130 [1:24:07<02:04,  3.65s/it]\u001b[A\n",
            "ITERATION - loss: 2.567:  75%|███████▍  | 97/130 [1:24:11<02:00,  3.64s/it]\u001b[A\n",
            "ITERATION - loss: 2.675:  75%|███████▌  | 98/130 [1:24:14<01:56,  3.65s/it]\u001b[A\n",
            "ITERATION - loss: 2.442:  76%|███████▌  | 99/130 [1:24:18<01:53,  3.65s/it]\u001b[A\n",
            "ITERATION - loss: 2.486:  77%|███████▋  | 100/130 [1:24:22<01:49,  3.64s/it]\u001b[A\n",
            "ITERATION - loss: 2.505:  78%|███████▊  | 101/130 [1:24:25<01:45,  3.64s/it]\u001b[A\n",
            "ITERATION - loss: 2.489:  78%|███████▊  | 102/130 [1:24:29<01:41,  3.64s/it]\u001b[A\n",
            "ITERATION - loss: 2.548:  79%|███████▉  | 103/130 [1:24:32<01:38,  3.64s/it]\u001b[A\n",
            "ITERATION - loss: 2.452:  80%|████████  | 104/130 [1:24:36<01:34,  3.65s/it]\u001b[A\n",
            "ITERATION - loss: 2.439:  81%|████████  | 105/130 [1:24:40<01:31,  3.65s/it]\u001b[A\n",
            "ITERATION - loss: 2.829:  82%|████████▏ | 106/130 [1:24:43<01:27,  3.65s/it]\u001b[A\n",
            "ITERATION - loss: 2.223:  82%|████████▏ | 107/130 [1:24:47<01:23,  3.65s/it]\u001b[A\n",
            "ITERATION - loss: 2.446:  83%|████████▎ | 108/130 [1:24:51<01:20,  3.65s/it]\u001b[A\n",
            "ITERATION - loss: 2.596:  84%|████████▍ | 109/130 [1:24:54<01:16,  3.64s/it]\u001b[A\n",
            "ITERATION - loss: 2.518:  85%|████████▍ | 110/130 [1:24:58<01:12,  3.65s/it]\u001b[A\n",
            "ITERATION - loss: 2.809:  85%|████████▌ | 111/130 [1:25:02<01:09,  3.65s/it]\u001b[A\n",
            "ITERATION - loss: 3.049:  86%|████████▌ | 112/130 [1:25:05<01:05,  3.65s/it]\u001b[A\n",
            "ITERATION - loss: 2.591:  87%|████████▋ | 113/130 [1:25:09<01:02,  3.65s/it]\u001b[A\n",
            "ITERATION - loss: 2.505:  88%|████████▊ | 114/130 [1:25:13<00:58,  3.65s/it]\u001b[A\n",
            "ITERATION - loss: 2.335:  88%|████████▊ | 115/130 [1:25:16<00:54,  3.65s/it]\u001b[A\n",
            "ITERATION - loss: 2.654:  89%|████████▉ | 116/130 [1:25:20<00:51,  3.66s/it]\u001b[A\n",
            "ITERATION - loss: 3.005:  90%|█████████ | 117/130 [1:25:24<00:47,  3.65s/it]\u001b[A\n",
            "ITERATION - loss: 2.523:  91%|█████████ | 118/130 [1:25:27<00:43,  3.65s/it]\u001b[A\n",
            "ITERATION - loss: 2.608:  92%|█████████▏| 119/130 [1:25:31<00:40,  3.65s/it]\u001b[A\n",
            "ITERATION - loss: 2.468:  92%|█████████▏| 120/130 [1:25:35<00:36,  3.65s/it]\u001b[A\n",
            "ITERATION - loss: 2.484:  93%|█████████▎| 121/130 [1:25:38<00:32,  3.65s/it]\u001b[A\n",
            "ITERATION - loss: 2.557:  94%|█████████▍| 122/130 [1:25:42<00:29,  3.65s/it]\u001b[A\n",
            "ITERATION - loss: 3.534:  95%|█████████▍| 123/130 [1:25:45<00:25,  3.64s/it]\u001b[A\n",
            "ITERATION - loss: 3.404:  95%|█████████▌| 124/130 [1:25:49<00:21,  3.64s/it]\u001b[A\n",
            "ITERATION - loss: 2.558:  96%|█████████▌| 125/130 [1:25:53<00:18,  3.64s/it]\u001b[A\n",
            "ITERATION - loss: 3.031:  97%|█████████▋| 126/130 [1:25:56<00:14,  3.64s/it]\u001b[A\n",
            "ITERATION - loss: 2.838:  98%|█████████▊| 127/130 [1:26:00<00:10,  3.64s/it]\u001b[A\n",
            "ITERATION - loss: 2.715:  98%|█████████▊| 128/130 [1:26:04<00:07,  3.64s/it]\u001b[A\n",
            "ITERATION - loss: 2.192:  99%|█████████▉| 129/130 [1:26:07<00:03,  3.64s/it]\u001b[A\n",
            "ITERATION - loss: 2.840: 100%|██████████| 130/130 [1:26:10<00:00,  3.40s/it]\u001b[A\n",
            "\n",
            "ITERATION - loss: 8.544:  13%|█▎        | 17/130 [1:29:13<02:22,  1.26s/it]\n",
            "ITERATION - loss: 2.840: 100%|██████████| 130/130 [1:28:39<00:00,  3.40s/it]\u001b[A"
          ],
          "name": "stderr"
        },
        {
          "output_type": "stream",
          "text": [
            "Training Results - Epoch: 12 Age L1-loss: 15.249 ** Gender accuracy: 0.990 ** Race accuracy: 0.936 ** Avg loss: 2.180\n"
          ],
          "name": "stdout"
        },
        {
          "output_type": "stream",
          "text": [
            "\n",
            "ITERATION - loss: 8.544:  13%|█▎        | 17/130 [1:29:48<02:22,  1.26s/it]\n",
            "ITERATION - loss: 2.840: 100%|██████████| 130/130 [1:29:14<00:00,  3.40s/it]\u001b[A"
          ],
          "name": "stderr"
        },
        {
          "output_type": "stream",
          "text": [
            "Validation Results - Epoch: 12 Age L1-loss: 15.163 ** Gender accuracy: 0.918 ** Race accuracy: 0.808 ** Avg loss: 4.437\n"
          ],
          "name": "stdout"
        },
        {
          "output_type": "stream",
          "text": [
            "\n",
            "ITERATION - loss: 2.409:   1%|          | 1/130 [1:29:20<2:07:33, 59.33s/it]\u001b[A\n",
            "ITERATION - loss: 2.280:   2%|▏         | 2/130 [1:29:24<1:30:54, 42.61s/it]\u001b[A\n",
            "ITERATION - loss: 2.076:   2%|▏         | 3/130 [1:29:27<1:05:29, 30.94s/it]\u001b[A\n",
            "ITERATION - loss: 2.141:   3%|▎         | 4/130 [1:29:31<47:45, 22.74s/it]  \u001b[A\n",
            "ITERATION - loss: 2.496:   4%|▍         | 5/130 [1:29:35<35:34, 17.08s/it]\u001b[A\n",
            "ITERATION - loss: 2.284:   5%|▍         | 6/130 [1:29:38<26:58, 13.05s/it]\u001b[A\n",
            "ITERATION - loss: 2.234:   5%|▌         | 7/130 [1:29:42<20:58, 10.23s/it]\u001b[A\n",
            "ITERATION - loss: 2.051:   6%|▌         | 8/130 [1:29:46<16:46,  8.25s/it]\u001b[A\n",
            "ITERATION - loss: 1.876:   7%|▋         | 9/130 [1:29:49<13:50,  6.87s/it]\u001b[A\n",
            "ITERATION - loss: 2.396:   8%|▊         | 10/130 [1:29:53<11:48,  5.90s/it]\u001b[A\n",
            "ITERATION - loss: 1.995:   8%|▊         | 11/130 [1:29:57<10:22,  5.23s/it]\u001b[A\n",
            "ITERATION - loss: 2.000:   9%|▉         | 12/130 [1:30:00<09:20,  4.75s/it]\u001b[A\n",
            "ITERATION - loss: 2.498:  10%|█         | 13/130 [1:30:04<08:36,  4.42s/it]\u001b[A\n",
            "ITERATION - loss: 2.408:  11%|█         | 14/130 [1:30:08<08:04,  4.18s/it]\u001b[A\n",
            "ITERATION - loss: 2.108:  12%|█▏        | 15/130 [1:30:11<07:42,  4.02s/it]\u001b[A\n",
            "ITERATION - loss: 2.170:  12%|█▏        | 16/130 [1:30:15<07:23,  3.89s/it]\u001b[A\n",
            "ITERATION - loss: 2.271:  13%|█▎        | 17/130 [1:30:18<07:11,  3.82s/it]\u001b[A\n",
            "ITERATION - loss: 2.285:  14%|█▍        | 18/130 [1:30:22<07:00,  3.76s/it]\u001b[A\n",
            "ITERATION - loss: 1.873:  15%|█▍        | 19/130 [1:30:26<06:53,  3.73s/it]\u001b[A\n",
            "ITERATION - loss: 2.313:  15%|█▌        | 20/130 [1:30:29<06:46,  3.69s/it]\u001b[A\n",
            "ITERATION - loss: 2.513:  16%|█▌        | 21/130 [1:30:33<06:40,  3.67s/it]\u001b[A\n",
            "ITERATION - loss: 2.205:  17%|█▋        | 22/130 [1:30:37<06:34,  3.65s/it]\u001b[A\n",
            "ITERATION - loss: 2.290:  18%|█▊        | 23/130 [1:30:40<06:30,  3.65s/it]\u001b[A\n",
            "ITERATION - loss: 2.158:  18%|█▊        | 24/130 [1:30:44<06:25,  3.63s/it]\u001b[A\n",
            "ITERATION - loss: 2.306:  19%|█▉        | 25/130 [1:30:47<06:21,  3.63s/it]\u001b[A\n",
            "ITERATION - loss: 2.172:  20%|██        | 26/130 [1:30:51<06:17,  3.63s/it]\u001b[A\n",
            "ITERATION - loss: 2.105:  21%|██        | 27/130 [1:30:55<06:13,  3.63s/it]\u001b[A\n",
            "ITERATION - loss: 1.736:  22%|██▏       | 28/130 [1:30:58<06:09,  3.63s/it]\u001b[A\n",
            "ITERATION - loss: 2.593:  22%|██▏       | 29/130 [1:31:02<06:07,  3.64s/it]\u001b[A\n",
            "ITERATION - loss: 1.970:  23%|██▎       | 30/130 [1:31:06<06:02,  3.63s/it]\u001b[A\n",
            "ITERATION - loss: 2.041:  24%|██▍       | 31/130 [1:31:09<05:59,  3.63s/it]\u001b[A\n",
            "ITERATION - loss: 2.105:  25%|██▍       | 32/130 [1:31:13<05:55,  3.62s/it]\u001b[A\n",
            "ITERATION - loss: 2.219:  25%|██▌       | 33/130 [1:31:16<05:51,  3.63s/it]\u001b[A\n",
            "ITERATION - loss: 2.041:  26%|██▌       | 34/130 [1:31:20<05:48,  3.63s/it]\u001b[A\n",
            "ITERATION - loss: 2.902:  27%|██▋       | 35/130 [1:31:24<05:47,  3.65s/it]\u001b[A\n",
            "ITERATION - loss: 1.908:  28%|██▊       | 36/130 [1:31:27<05:42,  3.65s/it]\u001b[A\n",
            "ITERATION - loss: 2.153:  28%|██▊       | 37/130 [1:31:31<05:39,  3.65s/it]\u001b[A\n",
            "ITERATION - loss: 2.025:  29%|██▉       | 38/130 [1:31:35<05:35,  3.65s/it]\u001b[A\n",
            "ITERATION - loss: 2.195:  30%|███       | 39/130 [1:31:38<05:32,  3.65s/it]\u001b[A\n",
            "ITERATION - loss: 2.502:  31%|███       | 40/130 [1:31:42<05:27,  3.64s/it]\u001b[A\n",
            "ITERATION - loss: 2.132:  32%|███▏      | 41/130 [1:31:46<05:23,  3.64s/it]\u001b[A\n",
            "ITERATION - loss: 2.265:  32%|███▏      | 42/130 [1:31:49<05:21,  3.65s/it]\u001b[A\n",
            "ITERATION - loss: 2.438:  33%|███▎      | 43/130 [1:31:53<05:17,  3.65s/it]\u001b[A\n",
            "ITERATION - loss: 2.242:  34%|███▍      | 44/130 [1:31:57<05:13,  3.65s/it]\u001b[A\n",
            "ITERATION - loss: 2.287:  35%|███▍      | 45/130 [1:32:00<05:10,  3.65s/it]\u001b[A\n",
            "ITERATION - loss: 2.007:  35%|███▌      | 46/130 [1:32:04<05:07,  3.66s/it]\u001b[A\n",
            "ITERATION - loss: 2.247:  36%|███▌      | 47/130 [1:32:08<05:03,  3.66s/it]\u001b[A\n",
            "ITERATION - loss: 1.895:  37%|███▋      | 48/130 [1:32:11<04:59,  3.65s/it]\u001b[A\n",
            "ITERATION - loss: 2.178:  38%|███▊      | 49/130 [1:32:15<04:56,  3.65s/it]\u001b[A\n",
            "ITERATION - loss: 2.051:  38%|███▊      | 50/130 [1:32:19<04:52,  3.65s/it]\u001b[A\n",
            "ITERATION - loss: 2.674:  39%|███▉      | 51/130 [1:32:22<04:49,  3.66s/it]\u001b[A\n",
            "ITERATION - loss: 2.219:  40%|████      | 52/130 [1:32:26<04:44,  3.65s/it]\u001b[A\n",
            "ITERATION - loss: 2.196:  41%|████      | 53/130 [1:32:29<04:40,  3.65s/it]\u001b[A\n",
            "ITERATION - loss: 2.699:  42%|████▏     | 54/130 [1:32:33<04:36,  3.64s/it]\u001b[A\n",
            "ITERATION - loss: 2.160:  42%|████▏     | 55/130 [1:32:37<04:33,  3.64s/it]\u001b[A\n",
            "ITERATION - loss: 2.651:  43%|████▎     | 56/130 [1:32:40<04:28,  3.63s/it]\u001b[A\n",
            "ITERATION - loss: 2.258:  44%|████▍     | 57/130 [1:32:44<04:25,  3.63s/it]\u001b[A\n",
            "ITERATION - loss: 2.172:  45%|████▍     | 58/130 [1:32:48<04:21,  3.63s/it]\u001b[A\n",
            "ITERATION - loss: 2.556:  45%|████▌     | 59/130 [1:32:51<04:18,  3.64s/it]\u001b[A\n",
            "ITERATION - loss: 2.059:  46%|████▌     | 60/130 [1:32:55<04:14,  3.63s/it]\u001b[A\n",
            "ITERATION - loss: 1.894:  47%|████▋     | 61/130 [1:32:59<04:10,  3.63s/it]\u001b[A\n",
            "ITERATION - loss: 1.961:  48%|████▊     | 62/130 [1:33:02<04:07,  3.63s/it]\u001b[A\n",
            "ITERATION - loss: 2.377:  48%|████▊     | 63/130 [1:33:06<04:04,  3.65s/it]\u001b[A\n",
            "ITERATION - loss: 1.929:  49%|████▉     | 64/130 [1:33:10<04:01,  3.65s/it]\u001b[A\n",
            "ITERATION - loss: 2.206:  50%|█████     | 65/130 [1:33:13<03:57,  3.65s/it]\u001b[A\n",
            "ITERATION - loss: 2.107:  51%|█████     | 66/130 [1:33:17<03:53,  3.65s/it]\u001b[A\n",
            "ITERATION - loss: 2.242:  52%|█████▏    | 67/130 [1:33:20<03:50,  3.65s/it]\u001b[A\n",
            "ITERATION - loss: 2.008:  52%|█████▏    | 68/130 [1:33:24<03:46,  3.65s/it]\u001b[A\n",
            "ITERATION - loss: 2.143:  53%|█████▎    | 69/130 [1:33:28<03:42,  3.64s/it]\u001b[A\n",
            "ITERATION - loss: 2.638:  54%|█████▍    | 70/130 [1:33:31<03:38,  3.64s/it]\u001b[A\n",
            "ITERATION - loss: 2.631:  55%|█████▍    | 71/130 [1:33:35<03:35,  3.66s/it]\u001b[A\n",
            "ITERATION - loss: 2.082:  55%|█████▌    | 72/130 [1:33:39<03:31,  3.65s/it]\u001b[A\n",
            "ITERATION - loss: 2.300:  56%|█████▌    | 73/130 [1:33:42<03:27,  3.64s/it]\u001b[A\n",
            "ITERATION - loss: 2.717:  57%|█████▋    | 74/130 [1:33:46<03:23,  3.64s/it]\u001b[A\n",
            "ITERATION - loss: 2.990:  58%|█████▊    | 75/130 [1:33:50<03:20,  3.65s/it]\u001b[A\n",
            "ITERATION - loss: 2.203:  58%|█████▊    | 76/130 [1:33:53<03:16,  3.64s/it]\u001b[A\n",
            "ITERATION - loss: 2.501:  59%|█████▉    | 77/130 [1:33:57<03:12,  3.64s/it]\u001b[A\n",
            "ITERATION - loss: 2.443:  60%|██████    | 78/130 [1:34:01<03:09,  3.64s/it]\u001b[A\n",
            "ITERATION - loss: 2.253:  61%|██████    | 79/130 [1:34:04<03:05,  3.64s/it]\u001b[A\n",
            "ITERATION - loss: 1.897:  62%|██████▏   | 80/130 [1:34:08<03:01,  3.63s/it]\u001b[A\n",
            "ITERATION - loss: 2.170:  62%|██████▏   | 81/130 [1:34:11<02:57,  3.63s/it]\u001b[A\n",
            "ITERATION - loss: 2.384:  63%|██████▎   | 82/130 [1:34:15<02:54,  3.63s/it]\u001b[A\n",
            "ITERATION - loss: 2.497:  64%|██████▍   | 83/130 [1:34:19<02:51,  3.64s/it]\u001b[A\n",
            "ITERATION - loss: 2.503:  65%|██████▍   | 84/130 [1:34:22<02:46,  3.63s/it]\u001b[A\n",
            "ITERATION - loss: 2.230:  65%|██████▌   | 85/130 [1:34:26<02:43,  3.62s/it]\u001b[A\n",
            "ITERATION - loss: 2.171:  66%|██████▌   | 86/130 [1:34:30<02:39,  3.62s/it]\u001b[A\n",
            "ITERATION - loss: 1.794:  67%|██████▋   | 87/130 [1:34:33<02:35,  3.62s/it]\u001b[A\n",
            "ITERATION - loss: 2.293:  68%|██████▊   | 88/130 [1:34:37<02:31,  3.61s/it]\u001b[A\n",
            "ITERATION - loss: 1.929:  68%|██████▊   | 89/130 [1:34:40<02:27,  3.61s/it]\u001b[A\n",
            "ITERATION - loss: 2.653:  69%|██████▉   | 90/130 [1:34:44<02:24,  3.61s/it]\u001b[A\n",
            "ITERATION - loss: 3.052:  70%|███████   | 91/130 [1:34:48<02:20,  3.61s/it]\u001b[A\n",
            "ITERATION - loss: 2.136:  71%|███████   | 92/130 [1:34:51<02:17,  3.61s/it]\u001b[A\n",
            "ITERATION - loss: 2.729:  72%|███████▏  | 93/130 [1:34:55<02:13,  3.60s/it]\u001b[A\n",
            "ITERATION - loss: 2.367:  72%|███████▏  | 94/130 [1:34:58<02:09,  3.61s/it]\u001b[A\n",
            "ITERATION - loss: 2.227:  73%|███████▎  | 95/130 [1:35:02<02:06,  3.61s/it]\u001b[A\n",
            "ITERATION - loss: 2.553:  74%|███████▍  | 96/130 [1:35:06<02:02,  3.61s/it]\u001b[A\n",
            "ITERATION - loss: 2.395:  75%|███████▍  | 97/130 [1:35:09<01:58,  3.61s/it]\u001b[A\n",
            "ITERATION - loss: 2.463:  75%|███████▌  | 98/130 [1:35:13<01:55,  3.61s/it]\u001b[A\n",
            "ITERATION - loss: 2.351:  76%|███████▌  | 99/130 [1:35:16<01:51,  3.60s/it]\u001b[A\n",
            "ITERATION - loss: 2.709:  77%|███████▋  | 100/130 [1:35:20<01:48,  3.60s/it]\u001b[A\n",
            "ITERATION - loss: 2.110:  78%|███████▊  | 101/130 [1:35:24<01:44,  3.60s/it]\u001b[A\n",
            "ITERATION - loss: 2.005:  78%|███████▊  | 102/130 [1:35:27<01:40,  3.60s/it]\u001b[A\n",
            "ITERATION - loss: 2.405:  79%|███████▉  | 103/130 [1:35:31<01:37,  3.61s/it]\u001b[A\n",
            "ITERATION - loss: 2.050:  80%|████████  | 104/130 [1:35:34<01:33,  3.60s/it]\u001b[A\n",
            "ITERATION - loss: 2.417:  81%|████████  | 105/130 [1:35:38<01:30,  3.60s/it]\u001b[A\n",
            "ITERATION - loss: 2.339:  82%|████████▏ | 106/130 [1:35:42<01:26,  3.61s/it]\u001b[A\n",
            "ITERATION - loss: 2.235:  82%|████████▏ | 107/130 [1:35:45<01:23,  3.61s/it]\u001b[A\n",
            "ITERATION - loss: 2.582:  83%|████████▎ | 108/130 [1:35:49<01:19,  3.61s/it]\u001b[A\n",
            "ITERATION - loss: 2.179:  84%|████████▍ | 109/130 [1:35:52<01:15,  3.60s/it]\u001b[A\n",
            "ITERATION - loss: 2.707:  85%|████████▍ | 110/130 [1:35:56<01:12,  3.61s/it]\u001b[A\n",
            "ITERATION - loss: 2.142:  85%|████████▌ | 111/130 [1:36:00<01:08,  3.60s/it]\u001b[A\n",
            "ITERATION - loss: 2.544:  86%|████████▌ | 112/130 [1:36:03<01:04,  3.60s/it]\u001b[A\n",
            "ITERATION - loss: 2.233:  87%|████████▋ | 113/130 [1:36:07<01:01,  3.60s/it]\u001b[A\n",
            "ITERATION - loss: 2.102:  88%|████████▊ | 114/130 [1:36:10<00:57,  3.60s/it]\u001b[A\n",
            "ITERATION - loss: 1.842:  88%|████████▊ | 115/130 [1:36:14<00:54,  3.61s/it]\u001b[A\n",
            "ITERATION - loss: 2.349:  89%|████████▉ | 116/130 [1:36:18<00:50,  3.60s/it]\u001b[A\n",
            "ITERATION - loss: 2.316:  90%|█████████ | 117/130 [1:36:21<00:46,  3.60s/it]\u001b[A\n",
            "ITERATION - loss: 3.140:  91%|█████████ | 118/130 [1:36:25<00:43,  3.60s/it]\u001b[A\n",
            "ITERATION - loss: 2.441:  92%|█████████▏| 119/130 [1:36:28<00:39,  3.61s/it]\u001b[A\n",
            "ITERATION - loss: 2.459:  92%|█████████▏| 120/130 [1:36:32<00:36,  3.61s/it]\u001b[A\n",
            "ITERATION - loss: 2.074:  93%|█████████▎| 121/130 [1:36:36<00:32,  3.60s/it]\u001b[A\n",
            "ITERATION - loss: 2.429:  94%|█████████▍| 122/130 [1:36:39<00:28,  3.60s/it]\u001b[A\n",
            "ITERATION - loss: 2.631:  95%|█████████▍| 123/130 [1:36:43<00:25,  3.60s/it]\u001b[A\n",
            "ITERATION - loss: 2.124:  95%|█████████▌| 124/130 [1:36:46<00:21,  3.60s/it]\u001b[A\n",
            "ITERATION - loss: 2.481:  96%|█████████▌| 125/130 [1:36:50<00:18,  3.60s/it]\u001b[A\n",
            "ITERATION - loss: 2.154:  97%|█████████▋| 126/130 [1:36:54<00:14,  3.60s/it]\u001b[A\n",
            "ITERATION - loss: 2.236:  98%|█████████▊| 127/130 [1:36:57<00:10,  3.60s/it]\u001b[A\n",
            "ITERATION - loss: 2.406:  98%|█████████▊| 128/130 [1:37:01<00:07,  3.60s/it]\u001b[A\n",
            "ITERATION - loss: 2.304:  99%|█████████▉| 129/130 [1:37:04<00:03,  3.60s/it]\u001b[A\n",
            "ITERATION - loss: 2.449: 100%|██████████| 130/130 [1:37:07<00:00,  3.37s/it]\u001b[A\n",
            "\n",
            "ITERATION - loss: 8.544:  13%|█▎        | 17/130 [1:40:10<02:22,  1.26s/it]\n",
            "ITERATION - loss: 2.449: 100%|██████████| 130/130 [1:39:36<00:00,  3.37s/it]\u001b[A"
          ],
          "name": "stderr"
        },
        {
          "output_type": "stream",
          "text": [
            "Training Results - Epoch: 13 Age L1-loss: 15.341 ** Gender accuracy: 0.993 ** Race accuracy: 0.954 ** Avg loss: 1.996\n"
          ],
          "name": "stdout"
        },
        {
          "output_type": "stream",
          "text": [
            "\n",
            "ITERATION - loss: 8.544:  13%|█▎        | 17/130 [1:40:44<02:22,  1.26s/it]\n",
            "ITERATION - loss: 2.449: 100%|██████████| 130/130 [1:40:10<00:00,  3.37s/it]\u001b[A"
          ],
          "name": "stderr"
        },
        {
          "output_type": "stream",
          "text": [
            "Validation Results - Epoch: 13 Age L1-loss: 15.247 ** Gender accuracy: 0.915 ** Race accuracy: 0.795 ** Avg loss: 5.263\n"
          ],
          "name": "stdout"
        },
        {
          "output_type": "stream",
          "text": [
            "\n",
            "ITERATION - loss: 1.982:   1%|          | 1/130 [1:40:16<2:06:46, 58.96s/it]\u001b[A\n",
            "ITERATION - loss: 2.276:   2%|▏         | 2/130 [1:40:20<1:30:21, 42.36s/it]\u001b[A\n",
            "ITERATION - loss: 2.088:   2%|▏         | 3/130 [1:40:23<1:05:02, 30.72s/it]\u001b[A\n",
            "ITERATION - loss: 1.848:   3%|▎         | 4/130 [1:40:27<47:25, 22.58s/it]  \u001b[A\n",
            "ITERATION - loss: 1.702:   4%|▍         | 5/130 [1:40:30<35:10, 16.89s/it]\u001b[A\n",
            "ITERATION - loss: 1.890:   5%|▍         | 6/130 [1:40:34<26:40, 12.90s/it]\u001b[A\n",
            "ITERATION - loss: 1.829:   5%|▌         | 7/130 [1:40:38<20:43, 10.11s/it]\u001b[A\n",
            "ITERATION - loss: 1.988:   6%|▌         | 8/130 [1:40:41<16:34,  8.15s/it]\u001b[A\n",
            "ITERATION - loss: 2.178:   7%|▋         | 9/130 [1:40:45<13:40,  6.78s/it]\u001b[A\n",
            "ITERATION - loss: 2.267:   8%|▊         | 10/130 [1:40:48<11:39,  5.83s/it]\u001b[A\n",
            "ITERATION - loss: 2.281:   8%|▊         | 11/130 [1:40:52<10:14,  5.16s/it]\u001b[A\n",
            "ITERATION - loss: 1.966:   9%|▉         | 12/130 [1:40:56<09:13,  4.69s/it]\u001b[A\n",
            "ITERATION - loss: 1.745:  10%|█         | 13/130 [1:40:59<08:30,  4.36s/it]\u001b[A\n",
            "ITERATION - loss: 2.157:  11%|█         | 14/130 [1:41:03<07:59,  4.13s/it]\u001b[A\n",
            "ITERATION - loss: 1.966:  12%|█▏        | 15/130 [1:41:06<07:36,  3.97s/it]\u001b[A\n",
            "ITERATION - loss: 1.929:  12%|█▏        | 16/130 [1:41:10<07:20,  3.86s/it]\u001b[A\n",
            "ITERATION - loss: 1.869:  13%|█▎        | 17/130 [1:41:14<07:07,  3.78s/it]\u001b[A\n",
            "ITERATION - loss: 2.124:  14%|█▍        | 18/130 [1:41:17<06:58,  3.73s/it]\u001b[A\n",
            "ITERATION - loss: 1.964:  15%|█▍        | 19/130 [1:41:21<06:49,  3.69s/it]\u001b[A\n",
            "ITERATION - loss: 2.023:  15%|█▌        | 20/130 [1:41:24<06:43,  3.67s/it]\u001b[A\n",
            "ITERATION - loss: 1.779:  16%|█▌        | 21/130 [1:41:28<06:37,  3.65s/it]\u001b[A\n",
            "ITERATION - loss: 2.247:  17%|█▋        | 22/130 [1:41:32<06:32,  3.64s/it]\u001b[A\n",
            "ITERATION - loss: 1.977:  18%|█▊        | 23/130 [1:41:35<06:27,  3.63s/it]\u001b[A\n",
            "ITERATION - loss: 2.063:  18%|█▊        | 24/130 [1:41:39<06:23,  3.61s/it]\u001b[A\n",
            "ITERATION - loss: 1.883:  19%|█▉        | 25/130 [1:41:42<06:19,  3.61s/it]\u001b[A\n",
            "ITERATION - loss: 1.713:  20%|██        | 26/130 [1:41:46<06:15,  3.61s/it]\u001b[A\n",
            "ITERATION - loss: 2.216:  21%|██        | 27/130 [1:41:50<06:11,  3.61s/it]\u001b[A\n",
            "ITERATION - loss: 1.850:  22%|██▏       | 28/130 [1:41:53<06:08,  3.61s/it]\u001b[A\n",
            "ITERATION - loss: 1.776:  22%|██▏       | 29/130 [1:41:57<06:04,  3.61s/it]\u001b[A\n",
            "ITERATION - loss: 1.787:  23%|██▎       | 30/130 [1:42:00<06:00,  3.61s/it]\u001b[A\n",
            "ITERATION - loss: 2.117:  24%|██▍       | 31/130 [1:42:04<05:57,  3.61s/it]\u001b[A\n",
            "ITERATION - loss: 1.870:  25%|██▍       | 32/130 [1:42:08<05:53,  3.61s/it]\u001b[A\n",
            "ITERATION - loss: 1.920:  25%|██▌       | 33/130 [1:42:11<05:50,  3.61s/it]\u001b[A\n",
            "ITERATION - loss: 1.994:  26%|██▌       | 34/130 [1:42:15<05:46,  3.61s/it]\u001b[A\n",
            "ITERATION - loss: 2.012:  27%|██▋       | 35/130 [1:42:18<05:42,  3.61s/it]\u001b[A\n",
            "ITERATION - loss: 2.013:  28%|██▊       | 36/130 [1:42:22<05:38,  3.60s/it]\u001b[A\n",
            "ITERATION - loss: 2.005:  28%|██▊       | 37/130 [1:42:26<05:34,  3.60s/it]\u001b[A\n",
            "ITERATION - loss: 1.715:  29%|██▉       | 38/130 [1:42:29<05:31,  3.60s/it]\u001b[A\n",
            "ITERATION - loss: 1.867:  30%|███       | 39/130 [1:42:33<05:27,  3.60s/it]\u001b[A\n",
            "ITERATION - loss: 2.119:  31%|███       | 40/130 [1:42:36<05:24,  3.60s/it]\u001b[A\n",
            "ITERATION - loss: 1.740:  32%|███▏      | 41/130 [1:42:40<05:20,  3.60s/it]\u001b[A\n",
            "ITERATION - loss: 1.988:  32%|███▏      | 42/130 [1:42:44<05:17,  3.61s/it]\u001b[A\n",
            "ITERATION - loss: 1.600:  33%|███▎      | 43/130 [1:42:47<05:13,  3.60s/it]\u001b[A\n",
            "ITERATION - loss: 1.963:  34%|███▍      | 44/130 [1:42:51<05:09,  3.60s/it]\u001b[A\n",
            "ITERATION - loss: 1.878:  35%|███▍      | 45/130 [1:42:54<05:06,  3.60s/it]\u001b[A\n",
            "ITERATION - loss: 1.967:  35%|███▌      | 46/130 [1:42:58<05:03,  3.61s/it]\u001b[A\n",
            "ITERATION - loss: 2.338:  36%|███▌      | 47/130 [1:43:02<04:59,  3.61s/it]\u001b[A\n",
            "ITERATION - loss: 1.895:  37%|███▋      | 48/130 [1:43:05<04:56,  3.61s/it]\u001b[A\n",
            "ITERATION - loss: 1.980:  38%|███▊      | 49/130 [1:43:09<04:52,  3.62s/it]\u001b[A\n",
            "ITERATION - loss: 1.779:  38%|███▊      | 50/130 [1:43:13<04:50,  3.63s/it]\u001b[A\n",
            "ITERATION - loss: 1.965:  39%|███▉      | 51/130 [1:43:16<04:46,  3.63s/it]\u001b[A\n",
            "ITERATION - loss: 2.404:  40%|████      | 52/130 [1:43:20<04:43,  3.64s/it]\u001b[A\n",
            "ITERATION - loss: 1.809:  41%|████      | 53/130 [1:43:24<04:40,  3.64s/it]\u001b[A\n",
            "ITERATION - loss: 2.308:  42%|████▏     | 54/130 [1:43:27<04:37,  3.65s/it]\u001b[A\n",
            "ITERATION - loss: 1.860:  42%|████▏     | 55/130 [1:43:31<04:33,  3.64s/it]\u001b[A\n",
            "ITERATION - loss: 1.907:  43%|████▎     | 56/130 [1:43:35<04:29,  3.65s/it]\u001b[A\n",
            "ITERATION - loss: 2.063:  44%|████▍     | 57/130 [1:43:38<04:26,  3.65s/it]\u001b[A\n",
            "ITERATION - loss: 2.343:  45%|████▍     | 58/130 [1:43:42<04:22,  3.65s/it]\u001b[A\n",
            "ITERATION - loss: 2.266:  45%|████▌     | 59/130 [1:43:45<04:18,  3.65s/it]\u001b[A\n",
            "ITERATION - loss: 1.901:  46%|████▌     | 60/130 [1:43:49<04:15,  3.65s/it]\u001b[A\n",
            "ITERATION - loss: 2.055:  47%|████▋     | 61/130 [1:43:53<04:11,  3.65s/it]\u001b[A\n",
            "ITERATION - loss: 2.352:  48%|████▊     | 62/130 [1:43:56<04:08,  3.65s/it]\u001b[A\n",
            "ITERATION - loss: 1.978:  48%|████▊     | 63/130 [1:44:00<04:04,  3.65s/it]\u001b[A\n",
            "ITERATION - loss: 2.647:  49%|████▉     | 64/130 [1:44:04<04:00,  3.64s/it]\u001b[A\n",
            "ITERATION - loss: 1.973:  50%|█████     | 65/130 [1:44:07<03:57,  3.65s/it]\u001b[A\n",
            "ITERATION - loss: 2.254:  51%|█████     | 66/130 [1:44:11<03:53,  3.66s/it]\u001b[A\n",
            "ITERATION - loss: 1.926:  52%|█████▏    | 67/130 [1:44:15<03:49,  3.65s/it]\u001b[A\n",
            "ITERATION - loss: 1.874:  52%|█████▏    | 68/130 [1:44:18<03:46,  3.65s/it]\u001b[A\n",
            "ITERATION - loss: 2.374:  53%|█████▎    | 69/130 [1:44:22<03:42,  3.65s/it]\u001b[A\n",
            "ITERATION - loss: 2.185:  54%|█████▍    | 70/130 [1:44:26<03:39,  3.66s/it]\u001b[A\n",
            "ITERATION - loss: 2.060:  55%|█████▍    | 71/130 [1:44:29<03:35,  3.65s/it]\u001b[A\n",
            "ITERATION - loss: 1.725:  55%|█████▌    | 72/130 [1:44:33<03:31,  3.65s/it]\u001b[A\n",
            "ITERATION - loss: 2.113:  56%|█████▌    | 73/130 [1:44:37<03:28,  3.66s/it]\u001b[A\n",
            "ITERATION - loss: 2.128:  57%|█████▋    | 74/130 [1:44:40<03:24,  3.65s/it]\u001b[A\n",
            "ITERATION - loss: 1.670:  58%|█████▊    | 75/130 [1:44:44<03:20,  3.65s/it]\u001b[A\n",
            "ITERATION - loss: 2.412:  58%|█████▊    | 76/130 [1:44:48<03:16,  3.65s/it]\u001b[A\n",
            "ITERATION - loss: 2.076:  59%|█████▉    | 77/130 [1:44:51<03:13,  3.65s/it]\u001b[A\n",
            "ITERATION - loss: 2.588:  60%|██████    | 78/130 [1:44:55<03:10,  3.66s/it]\u001b[A\n",
            "ITERATION - loss: 2.178:  61%|██████    | 79/130 [1:44:58<03:05,  3.65s/it]\u001b[A\n",
            "ITERATION - loss: 2.172:  62%|██████▏   | 80/130 [1:45:02<03:02,  3.65s/it]\u001b[A\n",
            "ITERATION - loss: 2.029:  62%|██████▏   | 81/130 [1:45:06<02:58,  3.65s/it]\u001b[A\n",
            "ITERATION - loss: 1.956:  63%|██████▎   | 82/130 [1:45:09<02:55,  3.65s/it]\u001b[A\n",
            "ITERATION - loss: 2.093:  64%|██████▍   | 83/130 [1:45:13<02:51,  3.65s/it]\u001b[A\n",
            "ITERATION - loss: 1.745:  65%|██████▍   | 84/130 [1:45:17<02:47,  3.65s/it]\u001b[A\n",
            "ITERATION - loss: 1.909:  65%|██████▌   | 85/130 [1:45:20<02:44,  3.65s/it]\u001b[A\n",
            "ITERATION - loss: 2.306:  66%|██████▌   | 86/130 [1:45:24<02:40,  3.66s/it]\u001b[A\n",
            "ITERATION - loss: 2.041:  67%|██████▋   | 87/130 [1:45:28<02:36,  3.65s/it]\u001b[A\n",
            "ITERATION - loss: 2.164:  68%|██████▊   | 88/130 [1:45:31<02:33,  3.66s/it]\u001b[A\n",
            "ITERATION - loss: 1.776:  68%|██████▊   | 89/130 [1:45:35<02:29,  3.64s/it]\u001b[A\n",
            "ITERATION - loss: 2.237:  69%|██████▉   | 90/130 [1:45:39<02:25,  3.64s/it]\u001b[A\n",
            "ITERATION - loss: 1.932:  70%|███████   | 91/130 [1:45:42<02:21,  3.64s/it]\u001b[A\n",
            "ITERATION - loss: 2.375:  71%|███████   | 92/130 [1:45:46<02:18,  3.64s/it]\u001b[A\n",
            "ITERATION - loss: 1.990:  72%|███████▏  | 93/130 [1:45:50<02:14,  3.64s/it]\u001b[A\n",
            "ITERATION - loss: 2.185:  72%|███████▏  | 94/130 [1:45:53<02:11,  3.65s/it]\u001b[A\n",
            "ITERATION - loss: 2.590:  73%|███████▎  | 95/130 [1:45:57<02:07,  3.65s/it]\u001b[A\n",
            "ITERATION - loss: 1.715:  74%|███████▍  | 96/130 [1:46:00<02:04,  3.65s/it]\u001b[A\n",
            "ITERATION - loss: 1.811:  75%|███████▍  | 97/130 [1:46:04<02:00,  3.65s/it]\u001b[A\n",
            "ITERATION - loss: 2.145:  75%|███████▌  | 98/130 [1:46:08<01:56,  3.65s/it]\u001b[A\n",
            "ITERATION - loss: 1.902:  76%|███████▌  | 99/130 [1:46:11<01:53,  3.65s/it]\u001b[A\n",
            "ITERATION - loss: 2.024:  77%|███████▋  | 100/130 [1:46:15<01:49,  3.65s/it]\u001b[A\n",
            "ITERATION - loss: 1.796:  78%|███████▊  | 101/130 [1:46:19<01:45,  3.65s/it]\u001b[A\n",
            "ITERATION - loss: 1.833:  78%|███████▊  | 102/130 [1:46:22<01:42,  3.65s/it]\u001b[A\n",
            "ITERATION - loss: 2.253:  79%|███████▉  | 103/130 [1:46:26<01:38,  3.64s/it]\u001b[A\n",
            "ITERATION - loss: 2.123:  80%|████████  | 104/130 [1:46:30<01:34,  3.65s/it]\u001b[A\n",
            "ITERATION - loss: 2.376:  81%|████████  | 105/130 [1:46:33<01:31,  3.64s/it]\u001b[A\n",
            "ITERATION - loss: 1.941:  82%|████████▏ | 106/130 [1:46:37<01:27,  3.65s/it]\u001b[A\n",
            "ITERATION - loss: 2.188:  82%|████████▏ | 107/130 [1:46:41<01:23,  3.64s/it]\u001b[A\n",
            "ITERATION - loss: 2.170:  83%|████████▎ | 108/130 [1:46:44<01:20,  3.64s/it]\u001b[A\n",
            "ITERATION - loss: 1.803:  84%|████████▍ | 109/130 [1:46:48<01:16,  3.64s/it]\u001b[A\n",
            "ITERATION - loss: 2.061:  85%|████████▍ | 110/130 [1:46:51<01:12,  3.64s/it]\u001b[A\n",
            "ITERATION - loss: 2.089:  85%|████████▌ | 111/130 [1:46:55<01:09,  3.64s/it]\u001b[A\n",
            "ITERATION - loss: 1.807:  86%|████████▌ | 112/130 [1:46:59<01:05,  3.63s/it]\u001b[A\n",
            "ITERATION - loss: 2.075:  87%|████████▋ | 113/130 [1:47:02<01:01,  3.63s/it]\u001b[A\n",
            "ITERATION - loss: 2.093:  88%|████████▊ | 114/130 [1:47:06<00:58,  3.64s/it]\u001b[A\n",
            "ITERATION - loss: 2.019:  88%|████████▊ | 115/130 [1:47:10<00:54,  3.63s/it]\u001b[A\n",
            "ITERATION - loss: 1.697:  89%|████████▉ | 116/130 [1:47:13<00:50,  3.64s/it]\u001b[A\n",
            "ITERATION - loss: 2.133:  90%|█████████ | 117/130 [1:47:17<00:47,  3.64s/it]\u001b[A\n",
            "ITERATION - loss: 1.936:  91%|█████████ | 118/130 [1:47:21<00:43,  3.64s/it]\u001b[A\n",
            "ITERATION - loss: 2.078:  92%|█████████▏| 119/130 [1:47:24<00:40,  3.64s/it]\u001b[A\n",
            "ITERATION - loss: 2.011:  92%|█████████▏| 120/130 [1:47:28<00:36,  3.64s/it]\u001b[A\n",
            "ITERATION - loss: 2.440:  93%|█████████▎| 121/130 [1:47:31<00:32,  3.63s/it]\u001b[A\n",
            "ITERATION - loss: 2.608:  94%|█████████▍| 122/130 [1:47:35<00:29,  3.63s/it]\u001b[A\n",
            "ITERATION - loss: 2.497:  95%|█████████▍| 123/130 [1:47:39<00:25,  3.63s/it]\u001b[A\n",
            "ITERATION - loss: 1.883:  95%|█████████▌| 124/130 [1:47:42<00:21,  3.64s/it]\u001b[A\n",
            "ITERATION - loss: 1.616:  96%|█████████▌| 125/130 [1:47:46<00:18,  3.64s/it]\u001b[A\n",
            "ITERATION - loss: 1.859:  97%|█████████▋| 126/130 [1:47:50<00:14,  3.64s/it]\u001b[A\n",
            "ITERATION - loss: 2.461:  98%|█████████▊| 127/130 [1:47:53<00:10,  3.64s/it]\u001b[A\n",
            "ITERATION - loss: 2.831:  98%|█████████▊| 128/130 [1:47:57<00:07,  3.64s/it]\u001b[A\n",
            "ITERATION - loss: 2.154:  99%|█████████▉| 129/130 [1:48:01<00:03,  3.65s/it]\u001b[A\n",
            "ITERATION - loss: 2.297: 100%|██████████| 130/130 [1:48:03<00:00,  3.41s/it]\u001b[A\n",
            "\n",
            "ITERATION - loss: 8.544:  13%|█▎        | 17/130 [1:51:06<02:22,  1.26s/it]\n",
            "ITERATION - loss: 2.297: 100%|██████████| 130/130 [1:50:32<00:00,  3.41s/it]\u001b[A"
          ],
          "name": "stderr"
        },
        {
          "output_type": "stream",
          "text": [
            "Training Results - Epoch: 14 Age L1-loss: 15.312 ** Gender accuracy: 0.994 ** Race accuracy: 0.972 ** Avg loss: 1.845\n"
          ],
          "name": "stdout"
        },
        {
          "output_type": "stream",
          "text": [
            "\n",
            "ITERATION - loss: 8.544:  13%|█▎        | 17/130 [1:51:40<02:22,  1.26s/it]\n",
            "ITERATION - loss: 2.297: 100%|██████████| 130/130 [1:51:06<00:00,  3.41s/it]\u001b[A"
          ],
          "name": "stderr"
        },
        {
          "output_type": "stream",
          "text": [
            "Validation Results - Epoch: 14 Age L1-loss: 15.210 ** Gender accuracy: 0.914 ** Race accuracy: 0.812 ** Avg loss: 5.414\n"
          ],
          "name": "stdout"
        },
        {
          "output_type": "stream",
          "text": [
            "\n",
            "ITERATION - loss: 1.939:   1%|          | 1/130 [1:51:13<2:07:08, 59.13s/it]\u001b[A\n",
            "ITERATION - loss: 1.797:   2%|▏         | 2/130 [1:51:16<1:30:37, 42.48s/it]\u001b[A\n",
            "ITERATION - loss: 1.918:   2%|▏         | 3/130 [1:51:20<1:05:14, 30.82s/it]\u001b[A\n",
            "ITERATION - loss: 1.950:   3%|▎         | 4/130 [1:51:24<47:36, 22.67s/it]  \u001b[A\n",
            "ITERATION - loss: 1.886:   4%|▍         | 5/130 [1:51:27<35:20, 16.96s/it]\u001b[A\n",
            "ITERATION - loss: 1.691:   5%|▍         | 6/130 [1:51:31<26:45, 12.95s/it]\u001b[A\n",
            "ITERATION - loss: 2.078:   5%|▌         | 7/130 [1:51:34<20:48, 10.15s/it]\u001b[A\n",
            "ITERATION - loss: 1.731:   6%|▌         | 8/130 [1:51:38<16:39,  8.19s/it]\u001b[A\n",
            "ITERATION - loss: 1.900:   7%|▋         | 9/130 [1:51:42<13:46,  6.83s/it]\u001b[A\n",
            "ITERATION - loss: 1.759:   8%|▊         | 10/130 [1:51:45<11:44,  5.87s/it]\u001b[A\n",
            "ITERATION - loss: 1.865:   8%|▊         | 11/130 [1:51:49<10:18,  5.20s/it]\u001b[A\n",
            "ITERATION - loss: 1.711:   9%|▉         | 12/130 [1:51:53<09:17,  4.72s/it]\u001b[A\n",
            "ITERATION - loss: 2.060:  10%|█         | 13/130 [1:51:56<08:34,  4.39s/it]\u001b[A\n",
            "ITERATION - loss: 1.867:  11%|█         | 14/130 [1:52:00<08:02,  4.16s/it]\u001b[A\n",
            "ITERATION - loss: 1.898:  12%|█▏        | 15/130 [1:52:03<07:39,  4.00s/it]\u001b[A\n",
            "ITERATION - loss: 1.849:  12%|█▏        | 16/130 [1:52:07<07:23,  3.89s/it]\u001b[A\n",
            "ITERATION - loss: 1.668:  13%|█▎        | 17/130 [1:52:11<07:12,  3.83s/it]\u001b[A\n",
            "ITERATION - loss: 1.869:  14%|█▍        | 18/130 [1:52:14<07:01,  3.76s/it]\u001b[A\n",
            "ITERATION - loss: 2.113:  15%|█▍        | 19/130 [1:52:18<06:52,  3.72s/it]\u001b[A\n",
            "ITERATION - loss: 1.731:  15%|█▌        | 20/130 [1:52:22<06:46,  3.70s/it]\u001b[A\n",
            "ITERATION - loss: 1.801:  16%|█▌        | 21/130 [1:52:25<06:41,  3.68s/it]\u001b[A\n",
            "ITERATION - loss: 2.247:  17%|█▋        | 22/130 [1:52:29<06:35,  3.66s/it]\u001b[A\n",
            "ITERATION - loss: 1.601:  18%|█▊        | 23/130 [1:52:32<06:31,  3.66s/it]\u001b[A\n",
            "ITERATION - loss: 1.774:  18%|█▊        | 24/130 [1:52:36<06:27,  3.66s/it]\u001b[A\n",
            "ITERATION - loss: 1.775:  19%|█▉        | 25/130 [1:52:40<06:23,  3.66s/it]\u001b[A\n",
            "ITERATION - loss: 2.507:  20%|██        | 26/130 [1:52:43<06:18,  3.64s/it]\u001b[A\n",
            "ITERATION - loss: 2.115:  21%|██        | 27/130 [1:52:47<06:15,  3.64s/it]\u001b[A\n",
            "ITERATION - loss: 2.075:  22%|██▏       | 28/130 [1:52:51<06:10,  3.63s/it]\u001b[A\n",
            "ITERATION - loss: 1.933:  22%|██▏       | 29/130 [1:52:54<06:07,  3.64s/it]\u001b[A\n",
            "ITERATION - loss: 1.627:  23%|██▎       | 30/130 [1:52:58<06:03,  3.63s/it]\u001b[A\n",
            "ITERATION - loss: 1.850:  24%|██▍       | 31/130 [1:53:02<06:00,  3.64s/it]\u001b[A\n",
            "ITERATION - loss: 1.662:  25%|██▍       | 32/130 [1:53:05<05:56,  3.63s/it]\u001b[A\n",
            "ITERATION - loss: 1.545:  25%|██▌       | 33/130 [1:53:09<05:53,  3.64s/it]\u001b[A\n",
            "ITERATION - loss: 2.087:  26%|██▌       | 34/130 [1:53:12<05:48,  3.63s/it]\u001b[A\n",
            "ITERATION - loss: 1.879:  27%|██▋       | 35/130 [1:53:16<05:45,  3.64s/it]\u001b[A\n",
            "ITERATION - loss: 1.692:  28%|██▊       | 36/130 [1:53:20<05:41,  3.63s/it]\u001b[A\n",
            "ITERATION - loss: 1.990:  28%|██▊       | 37/130 [1:53:23<05:38,  3.64s/it]\u001b[A\n",
            "ITERATION - loss: 1.684:  29%|██▉       | 38/130 [1:53:27<05:34,  3.64s/it]\u001b[A\n",
            "ITERATION - loss: 1.624:  30%|███       | 39/130 [1:53:31<05:31,  3.65s/it]\u001b[A\n",
            "ITERATION - loss: 1.549:  31%|███       | 40/130 [1:53:34<05:27,  3.64s/it]\u001b[A\n",
            "ITERATION - loss: 2.186:  32%|███▏      | 41/130 [1:53:38<05:23,  3.64s/it]\u001b[A\n",
            "ITERATION - loss: 2.070:  32%|███▏      | 42/130 [1:53:42<05:19,  3.63s/it]\u001b[A\n",
            "ITERATION - loss: 1.969:  33%|███▎      | 43/130 [1:53:45<05:16,  3.63s/it]\u001b[A\n",
            "ITERATION - loss: 1.828:  34%|███▍      | 44/130 [1:53:49<05:12,  3.63s/it]\u001b[A\n",
            "ITERATION - loss: 2.152:  35%|███▍      | 45/130 [1:53:52<05:08,  3.63s/it]\u001b[A\n",
            "ITERATION - loss: 1.967:  35%|███▌      | 46/130 [1:53:56<05:04,  3.63s/it]\u001b[A\n",
            "ITERATION - loss: 1.631:  36%|███▌      | 47/130 [1:54:00<05:01,  3.63s/it]\u001b[A\n",
            "ITERATION - loss: 2.001:  37%|███▋      | 48/130 [1:54:03<04:57,  3.63s/it]\u001b[A\n",
            "ITERATION - loss: 1.693:  38%|███▊      | 49/130 [1:54:07<04:54,  3.63s/it]\u001b[A\n",
            "ITERATION - loss: 1.647:  38%|███▊      | 50/130 [1:54:11<04:50,  3.63s/it]\u001b[A\n",
            "ITERATION - loss: 1.953:  39%|███▉      | 51/130 [1:54:14<04:47,  3.64s/it]\u001b[A\n",
            "ITERATION - loss: 1.858:  40%|████      | 52/130 [1:54:18<04:44,  3.64s/it]\u001b[A\n",
            "ITERATION - loss: 1.746:  41%|████      | 53/130 [1:54:22<04:40,  3.64s/it]\u001b[A\n",
            "ITERATION - loss: 1.851:  42%|████▏     | 54/130 [1:54:25<04:36,  3.63s/it]\u001b[A\n",
            "ITERATION - loss: 1.878:  42%|████▏     | 55/130 [1:54:29<04:31,  3.63s/it]\u001b[A\n",
            "ITERATION - loss: 2.009:  43%|████▎     | 56/130 [1:54:32<04:28,  3.63s/it]\u001b[A\n",
            "ITERATION - loss: 2.027:  44%|████▍     | 57/130 [1:54:36<04:26,  3.65s/it]\u001b[A\n",
            "ITERATION - loss: 1.842:  45%|████▍     | 58/130 [1:54:40<04:21,  3.64s/it]\u001b[A\n",
            "ITERATION - loss: 1.867:  45%|████▌     | 59/130 [1:54:43<04:18,  3.64s/it]\u001b[A\n",
            "ITERATION - loss: 2.132:  46%|████▌     | 60/130 [1:54:47<04:14,  3.64s/it]\u001b[A\n",
            "ITERATION - loss: 1.980:  47%|████▋     | 61/130 [1:54:51<04:10,  3.64s/it]\u001b[A\n",
            "ITERATION - loss: 1.729:  48%|████▊     | 62/130 [1:54:54<04:06,  3.63s/it]\u001b[A\n",
            "ITERATION - loss: 1.965:  48%|████▊     | 63/130 [1:54:58<04:03,  3.63s/it]\u001b[A\n",
            "ITERATION - loss: 1.778:  49%|████▉     | 64/130 [1:55:02<04:00,  3.64s/it]\u001b[A\n",
            "ITERATION - loss: 1.598:  50%|█████     | 65/130 [1:55:05<03:56,  3.64s/it]\u001b[A\n",
            "ITERATION - loss: 1.746:  51%|█████     | 66/130 [1:55:09<03:52,  3.63s/it]\u001b[A\n",
            "ITERATION - loss: 2.257:  52%|█████▏    | 67/130 [1:55:12<03:48,  3.63s/it]\u001b[A\n",
            "ITERATION - loss: 1.924:  52%|█████▏    | 68/130 [1:55:16<03:45,  3.63s/it]\u001b[A\n",
            "ITERATION - loss: 2.221:  53%|█████▎    | 69/130 [1:55:20<03:42,  3.64s/it]\u001b[A\n",
            "ITERATION - loss: 1.753:  54%|█████▍    | 70/130 [1:55:23<03:38,  3.64s/it]\u001b[A\n",
            "ITERATION - loss: 1.717:  55%|█████▍    | 71/130 [1:55:27<03:34,  3.63s/it]\u001b[A\n",
            "ITERATION - loss: 2.074:  55%|█████▌    | 72/130 [1:55:31<03:30,  3.63s/it]\u001b[A\n",
            "ITERATION - loss: 2.260:  56%|█████▌    | 73/130 [1:55:34<03:27,  3.64s/it]\u001b[A\n",
            "ITERATION - loss: 1.945:  57%|█████▋    | 74/130 [1:55:38<03:23,  3.63s/it]\u001b[A\n",
            "ITERATION - loss: 1.639:  58%|█████▊    | 75/130 [1:55:41<03:19,  3.63s/it]\u001b[A\n",
            "ITERATION - loss: 1.418:  58%|█████▊    | 76/130 [1:55:45<03:15,  3.63s/it]\u001b[A\n",
            "ITERATION - loss: 1.804:  59%|█████▉    | 77/130 [1:55:49<03:12,  3.63s/it]\u001b[A\n",
            "ITERATION - loss: 1.793:  60%|██████    | 78/130 [1:55:52<03:09,  3.64s/it]\u001b[A\n",
            "ITERATION - loss: 1.722:  61%|██████    | 79/130 [1:55:56<03:05,  3.64s/it]\u001b[A\n",
            "ITERATION - loss: 2.025:  62%|██████▏   | 80/130 [1:56:00<03:01,  3.64s/it]\u001b[A\n",
            "ITERATION - loss: 2.179:  62%|██████▏   | 81/130 [1:56:03<02:58,  3.64s/it]\u001b[A\n",
            "ITERATION - loss: 1.611:  63%|██████▎   | 82/130 [1:56:07<02:54,  3.64s/it]\u001b[A\n",
            "ITERATION - loss: 1.625:  64%|██████▍   | 83/130 [1:56:11<02:50,  3.64s/it]\u001b[A\n",
            "ITERATION - loss: 1.962:  65%|██████▍   | 84/130 [1:56:14<02:47,  3.64s/it]\u001b[A\n",
            "ITERATION - loss: 2.292:  65%|██████▌   | 85/130 [1:56:18<02:43,  3.64s/it]\u001b[A\n",
            "ITERATION - loss: 2.038:  66%|██████▌   | 86/130 [1:56:22<02:39,  3.63s/it]\u001b[A\n",
            "ITERATION - loss: 2.269:  67%|██████▋   | 87/130 [1:56:25<02:36,  3.63s/it]\u001b[A\n",
            "ITERATION - loss: 1.873:  68%|██████▊   | 88/130 [1:56:29<02:32,  3.63s/it]\u001b[A\n",
            "ITERATION - loss: 2.089:  68%|██████▊   | 89/130 [1:56:32<02:28,  3.63s/it]\u001b[A\n",
            "ITERATION - loss: 1.694:  69%|██████▉   | 90/130 [1:56:36<02:25,  3.63s/it]\u001b[A\n",
            "ITERATION - loss: 1.806:  70%|███████   | 91/130 [1:56:40<02:21,  3.63s/it]\u001b[A\n",
            "ITERATION - loss: 2.400:  71%|███████   | 92/130 [1:56:43<02:17,  3.63s/it]\u001b[A\n",
            "ITERATION - loss: 2.074:  72%|███████▏  | 93/130 [1:56:47<02:14,  3.63s/it]\u001b[A\n",
            "ITERATION - loss: 1.961:  72%|███████▏  | 94/130 [1:56:51<02:10,  3.63s/it]\u001b[A\n",
            "ITERATION - loss: 2.350:  73%|███████▎  | 95/130 [1:56:54<02:07,  3.64s/it]\u001b[A\n",
            "ITERATION - loss: 2.317:  74%|███████▍  | 96/130 [1:56:58<02:03,  3.64s/it]\u001b[A\n",
            "ITERATION - loss: 1.954:  75%|███████▍  | 97/130 [1:57:01<02:00,  3.64s/it]\u001b[A\n",
            "ITERATION - loss: 2.054:  75%|███████▌  | 98/130 [1:57:05<01:56,  3.63s/it]\u001b[A\n",
            "ITERATION - loss: 1.943:  76%|███████▌  | 99/130 [1:57:09<01:52,  3.63s/it]\u001b[A\n",
            "ITERATION - loss: 2.189:  77%|███████▋  | 100/130 [1:57:12<01:49,  3.64s/it]\u001b[A\n",
            "ITERATION - loss: 2.296:  78%|███████▊  | 101/130 [1:57:16<01:45,  3.64s/it]\u001b[A\n",
            "ITERATION - loss: 2.102:  78%|███████▊  | 102/130 [1:57:20<01:41,  3.64s/it]\u001b[A\n",
            "ITERATION - loss: 1.965:  79%|███████▉  | 103/130 [1:57:23<01:38,  3.63s/it]\u001b[A\n",
            "ITERATION - loss: 2.285:  80%|████████  | 104/130 [1:57:27<01:34,  3.63s/it]\u001b[A\n",
            "ITERATION - loss: 2.131:  81%|████████  | 105/130 [1:57:31<01:31,  3.64s/it]\u001b[A\n",
            "ITERATION - loss: 2.114:  82%|████████▏ | 106/130 [1:57:34<01:27,  3.63s/it]\u001b[A\n",
            "ITERATION - loss: 2.311:  82%|████████▏ | 107/130 [1:57:38<01:23,  3.63s/it]\u001b[A\n",
            "ITERATION - loss: 1.899:  83%|████████▎ | 108/130 [1:57:41<01:20,  3.64s/it]\u001b[A\n",
            "ITERATION - loss: 2.135:  84%|████████▍ | 109/130 [1:57:45<01:16,  3.64s/it]\u001b[A\n",
            "ITERATION - loss: 2.047:  85%|████████▍ | 110/130 [1:57:49<01:12,  3.64s/it]\u001b[A\n",
            "ITERATION - loss: 2.135:  85%|████████▌ | 111/130 [1:57:52<01:08,  3.63s/it]\u001b[A\n",
            "ITERATION - loss: 1.936:  86%|████████▌ | 112/130 [1:57:56<01:05,  3.63s/it]\u001b[A\n",
            "ITERATION - loss: 2.155:  87%|████████▋ | 113/130 [1:58:00<01:01,  3.63s/it]\u001b[A\n",
            "ITERATION - loss: 2.072:  88%|████████▊ | 114/130 [1:58:03<00:58,  3.63s/it]\u001b[A\n",
            "ITERATION - loss: 1.627:  88%|████████▊ | 115/130 [1:58:07<00:54,  3.63s/it]\u001b[A\n",
            "ITERATION - loss: 2.107:  89%|████████▉ | 116/130 [1:58:10<00:50,  3.63s/it]\u001b[A\n",
            "ITERATION - loss: 1.977:  90%|█████████ | 117/130 [1:58:14<00:47,  3.63s/it]\u001b[A\n",
            "ITERATION - loss: 1.833:  91%|█████████ | 118/130 [1:58:18<00:43,  3.63s/it]\u001b[A\n",
            "ITERATION - loss: 1.590:  92%|█████████▏| 119/130 [1:58:21<00:39,  3.62s/it]\u001b[A\n",
            "ITERATION - loss: 2.375:  92%|█████████▏| 120/130 [1:58:25<00:36,  3.62s/it]\u001b[A\n",
            "ITERATION - loss: 1.821:  93%|█████████▎| 121/130 [1:58:29<00:32,  3.64s/it]\u001b[A\n",
            "ITERATION - loss: 1.979:  94%|█████████▍| 122/130 [1:58:32<00:29,  3.63s/it]\u001b[A\n",
            "ITERATION - loss: 1.784:  95%|█████████▍| 123/130 [1:58:36<00:25,  3.63s/it]\u001b[A\n",
            "ITERATION - loss: 2.002:  95%|█████████▌| 124/130 [1:58:40<00:21,  3.63s/it]\u001b[A\n",
            "ITERATION - loss: 1.968:  96%|█████████▌| 125/130 [1:58:43<00:18,  3.63s/it]\u001b[A\n",
            "ITERATION - loss: 2.159:  97%|█████████▋| 126/130 [1:58:47<00:14,  3.63s/it]\u001b[A\n",
            "ITERATION - loss: 1.786:  98%|█████████▊| 127/130 [1:58:50<00:10,  3.63s/it]\u001b[A\n",
            "ITERATION - loss: 1.813:  98%|█████████▊| 128/130 [1:58:54<00:07,  3.63s/it]\u001b[A\n",
            "ITERATION - loss: 1.655:  99%|█████████▉| 129/130 [1:58:58<00:03,  3.63s/it]\u001b[A\n",
            "ITERATION - loss: 1.905: 100%|██████████| 130/130 [1:59:01<00:00,  3.39s/it]\u001b[A\n",
            "\n",
            "ITERATION - loss: 8.544:  13%|█▎        | 17/130 [2:02:03<02:22,  1.26s/it]\n",
            "ITERATION - loss: 1.905: 100%|██████████| 130/130 [2:01:29<00:00,  3.39s/it]\u001b[A"
          ],
          "name": "stderr"
        },
        {
          "output_type": "stream",
          "text": [
            "Training Results - Epoch: 15 Age L1-loss: 15.187 ** Gender accuracy: 0.996 ** Race accuracy: 0.981 ** Avg loss: 1.724\n"
          ],
          "name": "stdout"
        },
        {
          "output_type": "stream",
          "text": [
            "\n",
            "ITERATION - loss: 8.544:  13%|█▎        | 17/130 [2:02:37<02:22,  1.26s/it]\n",
            "ITERATION - loss: 1.905: 100%|██████████| 130/130 [2:02:03<00:00,  3.39s/it]\u001b[A"
          ],
          "name": "stderr"
        },
        {
          "output_type": "stream",
          "text": [
            "Validation Results - Epoch: 15 Age L1-loss: 15.087 ** Gender accuracy: 0.914 ** Race accuracy: 0.816 ** Avg loss: 5.545\n"
          ],
          "name": "stdout"
        },
        {
          "output_type": "stream",
          "text": [
            "\n",
            "ITERATION - loss: 1.697:   1%|          | 1/130 [2:02:23<2:15:38, 63.09s/it]\u001b[A\n",
            "ITERATION - loss: 1.848:   2%|▏         | 2/130 [2:02:27<1:36:32, 45.25s/it]\u001b[A\n",
            "ITERATION - loss: 1.605:   2%|▏         | 3/130 [2:02:30<1:09:20, 32.76s/it]\u001b[A\n",
            "ITERATION - loss: 1.771:   3%|▎         | 4/130 [2:02:34<50:27, 24.03s/it]  \u001b[A\n",
            "ITERATION - loss: 1.678:   4%|▍         | 5/130 [2:02:37<37:16, 17.90s/it]\u001b[A\n",
            "ITERATION - loss: 2.380:   5%|▍         | 6/130 [2:02:41<28:08, 13.62s/it]\u001b[A\n",
            "ITERATION - loss: 1.791:   5%|▌         | 7/130 [2:02:45<21:46, 10.62s/it]\u001b[A\n",
            "ITERATION - loss: 1.823:   6%|▌         | 8/130 [2:02:48<17:19,  8.52s/it]\u001b[A\n",
            "ITERATION - loss: 1.453:   7%|▋         | 9/130 [2:02:52<14:12,  7.04s/it]\u001b[A\n",
            "ITERATION - loss: 1.724:   8%|▊         | 10/130 [2:02:55<12:02,  6.02s/it]\u001b[A\n",
            "ITERATION - loss: 1.968:   8%|▊         | 11/130 [2:02:59<10:39,  5.37s/it]\u001b[A\n",
            "ITERATION - loss: 1.711:   9%|▉         | 12/130 [2:03:03<09:32,  4.85s/it]\u001b[A\n",
            "ITERATION - loss: 1.795:  10%|█         | 13/130 [2:03:07<08:45,  4.49s/it]\u001b[A\n",
            "ITERATION - loss: 1.951:  11%|█         | 14/130 [2:03:10<08:11,  4.24s/it]\u001b[A\n",
            "ITERATION - loss: 1.860:  12%|█▏        | 15/130 [2:03:14<07:46,  4.06s/it]\u001b[A\n",
            "ITERATION - loss: 1.797:  12%|█▏        | 16/130 [2:03:18<07:28,  3.93s/it]\u001b[A\n",
            "ITERATION - loss: 1.885:  13%|█▎        | 17/130 [2:03:21<07:13,  3.84s/it]\u001b[A\n",
            "ITERATION - loss: 1.806:  14%|█▍        | 18/130 [2:03:25<07:03,  3.78s/it]\u001b[A\n",
            "ITERATION - loss: 1.980:  15%|█▍        | 19/130 [2:03:28<06:55,  3.74s/it]\u001b[A\n",
            "ITERATION - loss: 1.856:  15%|█▌        | 20/130 [2:03:32<06:48,  3.72s/it]\u001b[A\n",
            "ITERATION - loss: 1.586:  16%|█▌        | 21/130 [2:03:36<06:41,  3.69s/it]\u001b[A\n",
            "ITERATION - loss: 1.636:  17%|█▋        | 22/130 [2:03:39<06:36,  3.67s/it]\u001b[A\n",
            "ITERATION - loss: 1.913:  18%|█▊        | 23/130 [2:03:43<06:31,  3.66s/it]\u001b[A\n",
            "ITERATION - loss: 1.774:  18%|█▊        | 24/130 [2:03:47<06:26,  3.65s/it]\u001b[A\n",
            "ITERATION - loss: 1.723:  19%|█▉        | 25/130 [2:03:50<06:22,  3.65s/it]\u001b[A\n",
            "ITERATION - loss: 2.270:  20%|██        | 26/130 [2:03:54<06:18,  3.64s/it]\u001b[A\n",
            "ITERATION - loss: 1.706:  21%|██        | 27/130 [2:03:58<06:15,  3.64s/it]\u001b[A\n",
            "ITERATION - loss: 1.857:  22%|██▏       | 28/130 [2:04:01<06:11,  3.64s/it]\u001b[A\n",
            "ITERATION - loss: 1.578:  22%|██▏       | 29/130 [2:04:05<06:07,  3.64s/it]\u001b[A\n",
            "ITERATION - loss: 1.627:  23%|██▎       | 30/130 [2:04:08<06:03,  3.63s/it]\u001b[A\n",
            "ITERATION - loss: 1.740:  24%|██▍       | 31/130 [2:04:12<06:00,  3.64s/it]\u001b[A\n",
            "ITERATION - loss: 1.581:  25%|██▍       | 32/130 [2:04:16<05:56,  3.63s/it]\u001b[A\n",
            "ITERATION - loss: 1.934:  25%|██▌       | 33/130 [2:04:19<05:52,  3.63s/it]\u001b[A\n",
            "ITERATION - loss: 1.666:  26%|██▌       | 34/130 [2:04:23<05:48,  3.63s/it]\u001b[A\n",
            "ITERATION - loss: 2.000:  27%|██▋       | 35/130 [2:04:27<05:44,  3.62s/it]\u001b[A\n",
            "ITERATION - loss: 1.738:  28%|██▊       | 36/130 [2:04:30<05:40,  3.62s/it]\u001b[A\n",
            "ITERATION - loss: 1.840:  28%|██▊       | 37/130 [2:04:34<05:37,  3.63s/it]\u001b[A\n",
            "ITERATION - loss: 1.889:  29%|██▉       | 38/130 [2:04:38<05:35,  3.65s/it]\u001b[A\n",
            "ITERATION - loss: 2.014:  30%|███       | 39/130 [2:04:41<05:31,  3.65s/it]\u001b[A\n",
            "ITERATION - loss: 1.505:  31%|███       | 40/130 [2:04:45<05:27,  3.64s/it]\u001b[A\n",
            "ITERATION - loss: 2.366:  32%|███▏      | 41/130 [2:04:48<05:23,  3.63s/it]\u001b[A\n",
            "ITERATION - loss: 2.003:  32%|███▏      | 42/130 [2:04:52<05:19,  3.63s/it]\u001b[A\n",
            "ITERATION - loss: 1.778:  33%|███▎      | 43/130 [2:04:56<05:16,  3.64s/it]\u001b[A\n",
            "ITERATION - loss: 1.751:  34%|███▍      | 44/130 [2:04:59<05:13,  3.65s/it]\u001b[A\n",
            "ITERATION - loss: 1.868:  35%|███▍      | 45/130 [2:05:03<05:10,  3.65s/it]\u001b[A\n",
            "ITERATION - loss: 2.477:  35%|███▌      | 46/130 [2:05:07<05:07,  3.66s/it]\u001b[A\n",
            "ITERATION - loss: 1.605:  36%|███▌      | 47/130 [2:05:10<05:03,  3.65s/it]\u001b[A\n",
            "ITERATION - loss: 1.466:  37%|███▋      | 48/130 [2:05:14<05:00,  3.66s/it]\u001b[A\n",
            "ITERATION - loss: 1.899:  38%|███▊      | 49/130 [2:05:18<04:56,  3.66s/it]\u001b[A\n",
            "ITERATION - loss: 1.752:  38%|███▊      | 50/130 [2:05:21<04:52,  3.66s/it]\u001b[A\n",
            "ITERATION - loss: 1.869:  39%|███▉      | 51/130 [2:05:25<04:49,  3.66s/it]\u001b[A\n",
            "ITERATION - loss: 1.923:  40%|████      | 52/130 [2:05:29<04:45,  3.66s/it]\u001b[A\n",
            "ITERATION - loss: 1.653:  41%|████      | 53/130 [2:05:32<04:40,  3.65s/it]\u001b[A\n",
            "ITERATION - loss: 1.947:  42%|████▏     | 54/130 [2:05:36<04:37,  3.65s/it]\u001b[A\n",
            "ITERATION - loss: 1.839:  42%|████▏     | 55/130 [2:05:40<04:32,  3.64s/it]\u001b[A\n",
            "ITERATION - loss: 1.869:  43%|████▎     | 56/130 [2:05:43<04:29,  3.65s/it]\u001b[A\n",
            "ITERATION - loss: 2.260:  44%|████▍     | 57/130 [2:05:47<04:25,  3.64s/it]\u001b[A\n",
            "ITERATION - loss: 2.127:  45%|████▍     | 58/130 [2:05:50<04:21,  3.64s/it]\u001b[A\n",
            "ITERATION - loss: 2.217:  45%|████▌     | 59/130 [2:05:54<04:17,  3.63s/it]\u001b[A\n",
            "ITERATION - loss: 1.755:  46%|████▌     | 60/130 [2:05:58<04:14,  3.64s/it]\u001b[A\n",
            "ITERATION - loss: 1.686:  47%|████▋     | 61/130 [2:06:01<04:10,  3.64s/it]\u001b[A\n",
            "ITERATION - loss: 1.814:  48%|████▊     | 62/130 [2:06:05<04:07,  3.64s/it]\u001b[A\n",
            "ITERATION - loss: 2.008:  48%|████▊     | 63/130 [2:06:09<04:04,  3.65s/it]\u001b[A\n",
            "ITERATION - loss: 2.036:  49%|████▉     | 64/130 [2:06:12<04:01,  3.66s/it]\u001b[A\n",
            "ITERATION - loss: 1.635:  50%|█████     | 65/130 [2:06:16<03:57,  3.66s/it]\u001b[A\n",
            "ITERATION - loss: 1.912:  51%|█████     | 66/130 [2:06:20<03:54,  3.66s/it]\u001b[A\n",
            "ITERATION - loss: 1.618:  52%|█████▏    | 67/130 [2:06:23<03:50,  3.65s/it]\u001b[A\n",
            "ITERATION - loss: 1.631:  52%|█████▏    | 68/130 [2:06:27<03:46,  3.65s/it]\u001b[A\n",
            "ITERATION - loss: 1.785:  53%|█████▎    | 69/130 [2:06:31<03:41,  3.64s/it]\u001b[A\n",
            "ITERATION - loss: 1.848:  54%|█████▍    | 70/130 [2:06:34<03:38,  3.64s/it]\u001b[A\n",
            "ITERATION - loss: 1.776:  55%|█████▍    | 71/130 [2:06:38<03:34,  3.63s/it]\u001b[A\n",
            "ITERATION - loss: 1.628:  55%|█████▌    | 72/130 [2:06:41<03:30,  3.64s/it]\u001b[A\n",
            "ITERATION - loss: 1.616:  56%|█████▌    | 73/130 [2:06:45<03:26,  3.63s/it]\u001b[A\n",
            "ITERATION - loss: 1.679:  57%|█████▋    | 74/130 [2:06:49<03:23,  3.63s/it]\u001b[A\n",
            "ITERATION - loss: 1.813:  58%|█████▊    | 75/130 [2:06:52<03:19,  3.64s/it]\u001b[A\n",
            "ITERATION - loss: 1.621:  58%|█████▊    | 76/130 [2:06:56<03:17,  3.66s/it]\u001b[A\n",
            "ITERATION - loss: 2.091:  59%|█████▉    | 77/130 [2:07:00<03:13,  3.65s/it]\u001b[A\n",
            "ITERATION - loss: 1.451:  60%|██████    | 78/130 [2:07:03<03:09,  3.64s/it]\u001b[A\n",
            "ITERATION - loss: 1.758:  61%|██████    | 79/130 [2:07:07<03:05,  3.64s/it]\u001b[A\n",
            "ITERATION - loss: 1.796:  62%|██████▏   | 80/130 [2:07:11<03:01,  3.63s/it]\u001b[A\n",
            "ITERATION - loss: 2.221:  62%|██████▏   | 81/130 [2:07:14<02:58,  3.63s/it]\u001b[A\n",
            "ITERATION - loss: 2.002:  63%|██████▎   | 82/130 [2:07:18<02:54,  3.64s/it]\u001b[A\n",
            "ITERATION - loss: 1.934:  64%|██████▍   | 83/130 [2:07:22<02:51,  3.65s/it]\u001b[A\n",
            "ITERATION - loss: 2.075:  65%|██████▍   | 84/130 [2:07:25<02:47,  3.65s/it]\u001b[A\n",
            "ITERATION - loss: 1.715:  65%|██████▌   | 85/130 [2:07:29<02:43,  3.64s/it]\u001b[A\n",
            "ITERATION - loss: 1.591:  66%|██████▌   | 86/130 [2:07:32<02:39,  3.64s/it]\u001b[A\n",
            "ITERATION - loss: 2.096:  67%|██████▋   | 87/130 [2:07:36<02:36,  3.64s/it]\u001b[A\n",
            "ITERATION - loss: 1.831:  68%|██████▊   | 88/130 [2:07:40<02:33,  3.65s/it]\u001b[A\n",
            "ITERATION - loss: 1.622:  68%|██████▊   | 89/130 [2:07:43<02:29,  3.64s/it]\u001b[A\n",
            "ITERATION - loss: 1.593:  69%|██████▉   | 90/130 [2:07:47<02:25,  3.64s/it]\u001b[A\n",
            "ITERATION - loss: 2.203:  70%|███████   | 91/130 [2:07:51<02:21,  3.64s/it]\u001b[A\n",
            "ITERATION - loss: 1.899:  71%|███████   | 92/130 [2:07:54<02:18,  3.64s/it]\u001b[A\n",
            "ITERATION - loss: 2.069:  72%|███████▏  | 93/130 [2:07:58<02:14,  3.64s/it]\u001b[A\n",
            "ITERATION - loss: 1.887:  72%|███████▏  | 94/130 [2:08:02<02:11,  3.64s/it]\u001b[A\n",
            "ITERATION - loss: 1.771:  73%|███████▎  | 95/130 [2:08:05<02:07,  3.64s/it]\u001b[A\n",
            "ITERATION - loss: 1.926:  74%|███████▍  | 96/130 [2:08:09<02:04,  3.66s/it]\u001b[A\n",
            "ITERATION - loss: 2.053:  75%|███████▍  | 97/130 [2:08:13<02:00,  3.65s/it]\u001b[A\n",
            "ITERATION - loss: 2.286:  75%|███████▌  | 98/130 [2:08:16<01:56,  3.64s/it]\u001b[A\n",
            "ITERATION - loss: 1.977:  76%|███████▌  | 99/130 [2:08:20<01:53,  3.65s/it]\u001b[A\n",
            "ITERATION - loss: 1.904:  77%|███████▋  | 100/130 [2:08:23<01:49,  3.65s/it]\u001b[A\n",
            "ITERATION - loss: 1.735:  78%|███████▊  | 101/130 [2:08:27<01:45,  3.65s/it]\u001b[A\n",
            "ITERATION - loss: 1.844:  78%|███████▊  | 102/130 [2:08:31<01:42,  3.65s/it]\u001b[A\n",
            "ITERATION - loss: 1.776:  79%|███████▉  | 103/130 [2:08:34<01:38,  3.64s/it]\u001b[A\n",
            "ITERATION - loss: 1.948:  80%|████████  | 104/130 [2:08:38<01:34,  3.64s/it]\u001b[A\n",
            "ITERATION - loss: 2.131:  81%|████████  | 105/130 [2:08:42<01:30,  3.63s/it]\u001b[A\n",
            "ITERATION - loss: 1.811:  82%|████████▏ | 106/130 [2:08:45<01:27,  3.64s/it]\u001b[A\n",
            "ITERATION - loss: 1.547:  82%|████████▏ | 107/130 [2:08:49<01:23,  3.64s/it]\u001b[A\n",
            "ITERATION - loss: 1.969:  83%|████████▎ | 108/130 [2:08:53<01:20,  3.64s/it]\u001b[A\n",
            "ITERATION - loss: 2.223:  84%|████████▍ | 109/130 [2:08:56<01:16,  3.63s/it]\u001b[A\n",
            "ITERATION - loss: 1.957:  85%|████████▍ | 110/130 [2:09:00<01:12,  3.63s/it]\u001b[A\n",
            "ITERATION - loss: 1.788:  85%|████████▌ | 111/130 [2:09:03<01:09,  3.64s/it]\u001b[A\n",
            "ITERATION - loss: 2.657:  86%|████████▌ | 112/130 [2:09:07<01:05,  3.64s/it]\u001b[A\n",
            "ITERATION - loss: 2.315:  87%|████████▋ | 113/130 [2:09:11<01:01,  3.63s/it]\u001b[A\n",
            "ITERATION - loss: 1.760:  88%|████████▊ | 114/130 [2:09:14<00:58,  3.63s/it]\u001b[A\n",
            "ITERATION - loss: 2.024:  88%|████████▊ | 115/130 [2:09:18<00:54,  3.63s/it]\u001b[A\n",
            "ITERATION - loss: 2.047:  89%|████████▉ | 116/130 [2:09:22<00:50,  3.63s/it]\u001b[A\n",
            "ITERATION - loss: 1.879:  90%|█████████ | 117/130 [2:09:25<00:47,  3.64s/it]\u001b[A\n",
            "ITERATION - loss: 2.014:  91%|█████████ | 118/130 [2:09:29<00:43,  3.63s/it]\u001b[A\n",
            "ITERATION - loss: 1.921:  92%|█████████▏| 119/130 [2:09:33<00:39,  3.63s/it]\u001b[A\n",
            "ITERATION - loss: 1.949:  92%|█████████▏| 120/130 [2:09:36<00:36,  3.63s/it]\u001b[A\n",
            "ITERATION - loss: 2.276:  93%|█████████▎| 121/130 [2:09:40<00:32,  3.63s/it]\u001b[A\n",
            "ITERATION - loss: 1.752:  94%|█████████▍| 122/130 [2:09:43<00:29,  3.64s/it]\u001b[A\n",
            "ITERATION - loss: 1.823:  95%|█████████▍| 123/130 [2:09:47<00:25,  3.63s/it]\u001b[A\n",
            "ITERATION - loss: 1.876:  95%|█████████▌| 124/130 [2:09:51<00:21,  3.64s/it]\u001b[A\n",
            "ITERATION - loss: 1.777:  96%|█████████▌| 125/130 [2:09:54<00:18,  3.63s/it]\u001b[A\n",
            "ITERATION - loss: 1.612:  97%|█████████▋| 126/130 [2:09:58<00:14,  3.63s/it]\u001b[A\n",
            "ITERATION - loss: 1.831:  98%|█████████▊| 127/130 [2:10:02<00:10,  3.63s/it]\u001b[A\n",
            "ITERATION - loss: 2.324:  98%|█████████▊| 128/130 [2:10:05<00:07,  3.63s/it]\u001b[A\n",
            "ITERATION - loss: 2.071:  99%|█████████▉| 129/130 [2:10:09<00:03,  3.62s/it]\u001b[A\n",
            "ITERATION - loss: 1.531: 100%|██████████| 130/130 [2:10:12<00:00,  3.39s/it]\u001b[A\n",
            "\n",
            "ITERATION - loss: 8.544:  13%|█▎        | 17/130 [2:13:14<02:22,  1.26s/it]\n",
            "ITERATION - loss: 1.531: 100%|██████████| 130/130 [2:12:40<00:00,  3.39s/it]\u001b[A"
          ],
          "name": "stderr"
        },
        {
          "output_type": "stream",
          "text": [
            "Training Results - Epoch: 16 Age L1-loss: 15.199 ** Gender accuracy: 0.991 ** Race accuracy: 0.978 ** Avg loss: 1.820\n"
          ],
          "name": "stdout"
        },
        {
          "output_type": "stream",
          "text": [
            "\n",
            "ITERATION - loss: 8.544:  13%|█▎        | 17/130 [2:13:48<02:22,  1.26s/it]\n",
            "ITERATION - loss: 1.531: 100%|██████████| 130/130 [2:13:14<00:00,  3.39s/it]\u001b[A"
          ],
          "name": "stderr"
        },
        {
          "output_type": "stream",
          "text": [
            "Validation Results - Epoch: 16 Age L1-loss: 15.087 ** Gender accuracy: 0.922 ** Race accuracy: 0.808 ** Avg loss: 5.748\n"
          ],
          "name": "stdout"
        },
        {
          "output_type": "stream",
          "text": [
            "\n",
            "ITERATION - loss: 1.733:   1%|          | 1/130 [2:13:20<2:06:34, 58.87s/it]\u001b[A\n",
            "ITERATION - loss: 1.959:   2%|▏         | 2/130 [2:13:24<1:30:14, 42.30s/it]\u001b[A\n",
            "ITERATION - loss: 1.634:   2%|▏         | 3/130 [2:13:27<1:04:59, 30.70s/it]\u001b[A\n",
            "ITERATION - loss: 1.566:   3%|▎         | 4/130 [2:13:31<47:24, 22.58s/it]  \u001b[A\n",
            "ITERATION - loss: 1.905:   4%|▍         | 5/130 [2:13:35<35:10, 16.89s/it]\u001b[A\n",
            "ITERATION - loss: 1.922:   5%|▍         | 6/130 [2:13:38<26:40, 12.91s/it]\u001b[A\n",
            "ITERATION - loss: 1.777:   5%|▌         | 7/130 [2:13:42<20:45, 10.13s/it]\u001b[A\n",
            "ITERATION - loss: 1.640:   6%|▌         | 8/130 [2:13:45<16:38,  8.18s/it]\u001b[A\n",
            "ITERATION - loss: 2.099:   7%|▋         | 9/130 [2:13:49<13:44,  6.82s/it]\u001b[A\n",
            "ITERATION - loss: 2.290:   8%|▊         | 10/130 [2:13:53<11:43,  5.86s/it]\u001b[A\n",
            "ITERATION - loss: 1.705:   8%|▊         | 11/130 [2:13:56<10:17,  5.19s/it]\u001b[A\n",
            "ITERATION - loss: 1.674:   9%|▉         | 12/130 [2:14:00<09:17,  4.72s/it]\u001b[A\n",
            "ITERATION - loss: 1.617:  10%|█         | 13/130 [2:14:04<08:34,  4.40s/it]\u001b[A\n",
            "ITERATION - loss: 1.868:  11%|█         | 14/130 [2:14:07<08:03,  4.17s/it]\u001b[A\n",
            "ITERATION - loss: 1.666:  12%|█▏        | 15/130 [2:14:11<07:42,  4.02s/it]\u001b[A\n",
            "ITERATION - loss: 1.592:  12%|█▏        | 16/130 [2:14:15<07:25,  3.91s/it]\u001b[A\n",
            "ITERATION - loss: 1.513:  13%|█▎        | 17/130 [2:14:18<07:12,  3.83s/it]\u001b[A\n",
            "ITERATION - loss: 1.715:  14%|█▍        | 18/130 [2:14:22<07:02,  3.78s/it]\u001b[A\n",
            "ITERATION - loss: 1.681:  15%|█▍        | 19/130 [2:14:25<06:55,  3.74s/it]\u001b[A\n",
            "ITERATION - loss: 1.722:  15%|█▌        | 20/130 [2:14:29<06:47,  3.70s/it]\u001b[A\n",
            "ITERATION - loss: 1.685:  16%|█▌        | 21/130 [2:14:33<06:41,  3.68s/it]\u001b[A\n",
            "ITERATION - loss: 1.481:  17%|█▋        | 22/130 [2:14:37<06:43,  3.73s/it]\u001b[A\n",
            "ITERATION - loss: 1.853:  18%|█▊        | 23/130 [2:14:40<06:37,  3.71s/it]\u001b[A\n",
            "ITERATION - loss: 2.178:  18%|█▊        | 24/130 [2:14:44<06:30,  3.68s/it]\u001b[A\n",
            "ITERATION - loss: 1.702:  19%|█▉        | 25/130 [2:14:48<06:25,  3.67s/it]\u001b[A\n",
            "ITERATION - loss: 1.480:  20%|██        | 26/130 [2:14:51<06:20,  3.66s/it]\u001b[A\n",
            "ITERATION - loss: 2.011:  21%|██        | 27/130 [2:14:55<06:16,  3.66s/it]\u001b[A\n",
            "ITERATION - loss: 1.895:  22%|██▏       | 28/130 [2:14:58<06:14,  3.67s/it]\u001b[A\n",
            "ITERATION - loss: 1.746:  22%|██▏       | 29/130 [2:15:02<06:09,  3.66s/it]\u001b[A\n",
            "ITERATION - loss: 1.769:  23%|██▎       | 30/130 [2:15:06<06:05,  3.65s/it]\u001b[A\n",
            "ITERATION - loss: 1.781:  24%|██▍       | 31/130 [2:15:09<06:01,  3.65s/it]\u001b[A\n",
            "ITERATION - loss: 1.762:  25%|██▍       | 32/130 [2:15:13<05:57,  3.64s/it]\u001b[A\n",
            "ITERATION - loss: 1.681:  25%|██▌       | 33/130 [2:15:17<05:52,  3.64s/it]\u001b[A\n",
            "ITERATION - loss: 1.815:  26%|██▌       | 34/130 [2:15:20<05:48,  3.63s/it]\u001b[A\n",
            "ITERATION - loss: 1.836:  27%|██▋       | 35/130 [2:15:24<05:44,  3.63s/it]\u001b[A\n",
            "ITERATION - loss: 1.689:  28%|██▊       | 36/130 [2:15:28<05:40,  3.63s/it]\u001b[A\n",
            "ITERATION - loss: 1.885:  28%|██▊       | 37/130 [2:15:31<05:37,  3.63s/it]\u001b[A\n",
            "ITERATION - loss: 2.030:  29%|██▉       | 38/130 [2:15:35<05:33,  3.63s/it]\u001b[A\n",
            "ITERATION - loss: 1.847:  30%|███       | 39/130 [2:15:38<05:30,  3.63s/it]\u001b[A\n",
            "ITERATION - loss: 1.503:  31%|███       | 40/130 [2:15:42<05:26,  3.62s/it]\u001b[A\n",
            "ITERATION - loss: 1.921:  32%|███▏      | 41/130 [2:15:46<05:22,  3.63s/it]\u001b[A\n",
            "ITERATION - loss: 1.695:  32%|███▏      | 42/130 [2:15:49<05:19,  3.63s/it]\u001b[A\n",
            "ITERATION - loss: 1.733:  33%|███▎      | 43/130 [2:15:53<05:15,  3.63s/it]\u001b[A\n",
            "ITERATION - loss: 1.757:  34%|███▍      | 44/130 [2:15:57<05:12,  3.63s/it]\u001b[A\n",
            "ITERATION - loss: 2.059:  35%|███▍      | 45/130 [2:16:00<05:08,  3.63s/it]\u001b[A\n",
            "ITERATION - loss: 1.720:  35%|███▌      | 46/130 [2:16:04<05:06,  3.65s/it]\u001b[A\n",
            "ITERATION - loss: 1.644:  36%|███▌      | 47/130 [2:16:08<05:03,  3.66s/it]\u001b[A\n",
            "ITERATION - loss: 1.812:  37%|███▋      | 48/130 [2:16:11<04:59,  3.66s/it]\u001b[A\n",
            "ITERATION - loss: 1.920:  38%|███▊      | 49/130 [2:16:15<04:55,  3.65s/it]\u001b[A\n",
            "ITERATION - loss: 1.651:  38%|███▊      | 50/130 [2:16:18<04:51,  3.65s/it]\u001b[A\n",
            "ITERATION - loss: 1.875:  39%|███▉      | 51/130 [2:16:22<04:48,  3.65s/it]\u001b[A\n",
            "ITERATION - loss: 1.979:  40%|████      | 52/130 [2:16:26<04:44,  3.65s/it]\u001b[A\n",
            "ITERATION - loss: 1.857:  41%|████      | 53/130 [2:16:29<04:41,  3.66s/it]\u001b[A\n",
            "ITERATION - loss: 1.805:  42%|████▏     | 54/130 [2:16:33<04:37,  3.65s/it]\u001b[A\n",
            "ITERATION - loss: 1.879:  42%|████▏     | 55/130 [2:16:37<04:35,  3.67s/it]\u001b[A\n",
            "ITERATION - loss: 1.751:  43%|████▎     | 56/130 [2:16:40<04:30,  3.66s/it]\u001b[A\n",
            "ITERATION - loss: 2.032:  44%|████▍     | 57/130 [2:16:44<04:26,  3.65s/it]\u001b[A\n",
            "ITERATION - loss: 1.535:  45%|████▍     | 58/130 [2:16:48<04:22,  3.65s/it]\u001b[A\n",
            "ITERATION - loss: 2.077:  45%|████▌     | 59/130 [2:16:51<04:18,  3.64s/it]\u001b[A\n",
            "ITERATION - loss: 1.660:  46%|████▌     | 60/130 [2:16:55<04:14,  3.64s/it]\u001b[A\n",
            "ITERATION - loss: 1.852:  47%|████▋     | 61/130 [2:16:59<04:10,  3.63s/it]\u001b[A\n",
            "ITERATION - loss: 1.569:  48%|████▊     | 62/130 [2:17:02<04:07,  3.64s/it]\u001b[A\n",
            "ITERATION - loss: 1.486:  48%|████▊     | 63/130 [2:17:06<04:04,  3.65s/it]\u001b[A\n",
            "ITERATION - loss: 2.048:  49%|████▉     | 64/130 [2:17:10<04:00,  3.64s/it]\u001b[A\n",
            "ITERATION - loss: 1.743:  50%|█████     | 65/130 [2:17:13<03:56,  3.64s/it]\u001b[A\n",
            "ITERATION - loss: 1.987:  51%|█████     | 66/130 [2:17:17<03:52,  3.64s/it]\u001b[A\n",
            "ITERATION - loss: 2.307:  52%|█████▏    | 67/130 [2:17:21<03:49,  3.64s/it]\u001b[A\n",
            "ITERATION - loss: 1.591:  52%|█████▏    | 68/130 [2:17:24<03:45,  3.64s/it]\u001b[A\n",
            "ITERATION - loss: 2.510:  53%|█████▎    | 69/130 [2:17:28<03:42,  3.64s/it]\u001b[A\n",
            "ITERATION - loss: 1.631:  54%|█████▍    | 70/130 [2:17:31<03:38,  3.65s/it]\u001b[A\n",
            "ITERATION - loss: 1.928:  55%|█████▍    | 71/130 [2:17:35<03:35,  3.65s/it]\u001b[A\n",
            "ITERATION - loss: 1.620:  55%|█████▌    | 72/130 [2:17:39<03:31,  3.64s/it]\u001b[A\n",
            "ITERATION - loss: 1.892:  56%|█████▌    | 73/130 [2:17:42<03:27,  3.64s/it]\u001b[A\n",
            "ITERATION - loss: 1.864:  57%|█████▋    | 74/130 [2:17:46<03:23,  3.63s/it]\u001b[A\n",
            "ITERATION - loss: 1.948:  58%|█████▊    | 75/130 [2:17:50<03:19,  3.63s/it]\u001b[A\n",
            "ITERATION - loss: 1.559:  58%|█████▊    | 76/130 [2:17:53<03:16,  3.63s/it]\u001b[A\n",
            "ITERATION - loss: 2.553:  59%|█████▉    | 77/130 [2:17:57<03:12,  3.63s/it]\u001b[A\n",
            "ITERATION - loss: 2.267:  60%|██████    | 78/130 [2:18:00<03:09,  3.64s/it]\u001b[A\n",
            "ITERATION - loss: 1.966:  61%|██████    | 79/130 [2:18:04<03:05,  3.65s/it]\u001b[A\n",
            "ITERATION - loss: 1.768:  62%|██████▏   | 80/130 [2:18:08<03:01,  3.64s/it]\u001b[A\n",
            "ITERATION - loss: 2.051:  62%|██████▏   | 81/130 [2:18:11<02:58,  3.64s/it]\u001b[A\n",
            "ITERATION - loss: 1.572:  63%|██████▎   | 82/130 [2:18:15<02:54,  3.64s/it]\u001b[A\n",
            "ITERATION - loss: 1.587:  64%|██████▍   | 83/130 [2:18:19<02:51,  3.64s/it]\u001b[A\n",
            "ITERATION - loss: 2.029:  65%|██████▍   | 84/130 [2:18:22<02:47,  3.64s/it]\u001b[A\n",
            "ITERATION - loss: 1.804:  65%|██████▌   | 85/130 [2:18:26<02:43,  3.64s/it]\u001b[A\n",
            "ITERATION - loss: 1.845:  66%|██████▌   | 86/130 [2:18:30<02:40,  3.64s/it]\u001b[A\n",
            "ITERATION - loss: 1.698:  67%|██████▋   | 87/130 [2:18:33<02:36,  3.64s/it]\u001b[A\n",
            "ITERATION - loss: 1.897:  68%|██████▊   | 88/130 [2:18:37<02:32,  3.63s/it]\u001b[A\n",
            "ITERATION - loss: 2.063:  68%|██████▊   | 89/130 [2:18:41<02:29,  3.64s/it]\u001b[A\n",
            "ITERATION - loss: 1.874:  69%|██████▉   | 90/130 [2:18:44<02:25,  3.64s/it]\u001b[A\n",
            "ITERATION - loss: 2.032:  70%|███████   | 91/130 [2:18:48<02:22,  3.65s/it]\u001b[A\n",
            "ITERATION - loss: 1.927:  71%|███████   | 92/130 [2:18:51<02:18,  3.64s/it]\u001b[A\n",
            "ITERATION - loss: 1.740:  72%|███████▏  | 93/130 [2:18:55<02:14,  3.64s/it]\u001b[A\n",
            "ITERATION - loss: 1.798:  72%|███████▏  | 94/130 [2:18:59<02:11,  3.64s/it]\u001b[A\n",
            "ITERATION - loss: 1.938:  73%|███████▎  | 95/130 [2:19:02<02:07,  3.65s/it]\u001b[A\n",
            "ITERATION - loss: 1.927:  74%|███████▍  | 96/130 [2:19:06<02:03,  3.64s/it]\u001b[A\n",
            "ITERATION - loss: 1.891:  75%|███████▍  | 97/130 [2:19:10<02:00,  3.64s/it]\u001b[A\n",
            "ITERATION - loss: 1.923:  75%|███████▌  | 98/130 [2:19:13<01:56,  3.64s/it]\u001b[A\n",
            "ITERATION - loss: 1.665:  76%|███████▌  | 99/130 [2:19:17<01:52,  3.64s/it]\u001b[A\n",
            "ITERATION - loss: 2.167:  77%|███████▋  | 100/130 [2:19:21<01:49,  3.64s/it]\u001b[A\n",
            "ITERATION - loss: 1.911:  78%|███████▊  | 101/130 [2:19:24<01:45,  3.63s/it]\u001b[A\n",
            "ITERATION - loss: 2.083:  78%|███████▊  | 102/130 [2:19:28<01:41,  3.64s/it]\u001b[A\n",
            "ITERATION - loss: 1.776:  79%|███████▉  | 103/130 [2:19:32<01:38,  3.65s/it]\u001b[A\n",
            "ITERATION - loss: 2.216:  80%|████████  | 104/130 [2:19:35<01:34,  3.64s/it]\u001b[A\n",
            "ITERATION - loss: 2.089:  81%|████████  | 105/130 [2:19:39<01:30,  3.64s/it]\u001b[A\n",
            "ITERATION - loss: 1.708:  82%|████████▏ | 106/130 [2:19:42<01:27,  3.63s/it]\u001b[A\n",
            "ITERATION - loss: 1.805:  82%|████████▏ | 107/130 [2:19:46<01:23,  3.64s/it]\u001b[A\n",
            "ITERATION - loss: 1.781:  83%|████████▎ | 108/130 [2:19:50<01:19,  3.63s/it]\u001b[A\n",
            "ITERATION - loss: 2.152:  84%|████████▍ | 109/130 [2:19:53<01:16,  3.63s/it]\u001b[A\n",
            "ITERATION - loss: 2.039:  85%|████████▍ | 110/130 [2:19:57<01:12,  3.64s/it]\u001b[A\n",
            "ITERATION - loss: 1.650:  85%|████████▌ | 111/130 [2:20:01<01:09,  3.64s/it]\u001b[A\n",
            "ITERATION - loss: 1.532:  86%|████████▌ | 112/130 [2:20:04<01:05,  3.63s/it]\u001b[A\n",
            "ITERATION - loss: 1.768:  87%|████████▋ | 113/130 [2:20:08<01:01,  3.63s/it]\u001b[A\n",
            "ITERATION - loss: 1.494:  88%|████████▊ | 114/130 [2:20:11<00:58,  3.63s/it]\u001b[A\n",
            "ITERATION - loss: 2.029:  88%|████████▊ | 115/130 [2:20:15<00:54,  3.64s/it]\u001b[A\n",
            "ITERATION - loss: 1.658:  89%|████████▉ | 116/130 [2:20:19<00:50,  3.63s/it]\u001b[A\n",
            "ITERATION - loss: 1.626:  90%|█████████ | 117/130 [2:20:22<00:47,  3.63s/it]\u001b[A\n",
            "ITERATION - loss: 1.802:  91%|█████████ | 118/130 [2:20:26<00:43,  3.63s/it]\u001b[A\n",
            "ITERATION - loss: 1.682:  92%|█████████▏| 119/130 [2:20:30<00:39,  3.63s/it]\u001b[A\n",
            "ITERATION - loss: 1.946:  92%|█████████▏| 120/130 [2:20:33<00:36,  3.63s/it]\u001b[A\n",
            "ITERATION - loss: 1.663:  93%|█████████▎| 121/130 [2:20:37<00:32,  3.63s/it]\u001b[A\n",
            "ITERATION - loss: 2.125:  94%|█████████▍| 122/130 [2:20:41<00:29,  3.63s/it]\u001b[A\n",
            "ITERATION - loss: 1.887:  95%|█████████▍| 123/130 [2:20:44<00:25,  3.64s/it]\u001b[A\n",
            "ITERATION - loss: 1.839:  95%|█████████▌| 124/130 [2:20:48<00:21,  3.63s/it]\u001b[A\n",
            "ITERATION - loss: 1.728:  96%|█████████▌| 125/130 [2:20:51<00:18,  3.63s/it]\u001b[A\n",
            "ITERATION - loss: 1.666:  97%|█████████▋| 126/130 [2:20:55<00:14,  3.62s/it]\u001b[A\n",
            "ITERATION - loss: 1.725:  98%|█████████▊| 127/130 [2:20:59<00:10,  3.63s/it]\u001b[A\n",
            "ITERATION - loss: 1.657:  98%|█████████▊| 128/130 [2:21:02<00:07,  3.63s/it]\u001b[A\n",
            "ITERATION - loss: 1.791:  99%|█████████▉| 129/130 [2:21:06<00:03,  3.63s/it]\u001b[A\n",
            "ITERATION - loss: 1.612: 100%|██████████| 130/130 [2:21:09<00:00,  3.39s/it]\u001b[A\n",
            "\n",
            "ITERATION - loss: 8.544:  13%|█▎        | 17/130 [2:24:11<02:22,  1.26s/it]\n",
            "ITERATION - loss: 1.612: 100%|██████████| 130/130 [2:23:37<00:00,  3.39s/it]\u001b[A"
          ],
          "name": "stderr"
        },
        {
          "output_type": "stream",
          "text": [
            "Training Results - Epoch: 17 Age L1-loss: 15.246 ** Gender accuracy: 0.996 ** Race accuracy: 0.985 ** Avg loss: 1.705\n"
          ],
          "name": "stdout"
        },
        {
          "output_type": "stream",
          "text": [
            "\n",
            "ITERATION - loss: 8.544:  13%|█▎        | 17/130 [2:24:45<02:22,  1.26s/it]\n",
            "ITERATION - loss: 1.612: 100%|██████████| 130/130 [2:24:11<00:00,  3.39s/it]\u001b[A"
          ],
          "name": "stderr"
        },
        {
          "output_type": "stream",
          "text": [
            "Validation Results - Epoch: 17 Age L1-loss: 15.141 ** Gender accuracy: 0.923 ** Race accuracy: 0.805 ** Avg loss: 5.789\n"
          ],
          "name": "stdout"
        },
        {
          "output_type": "stream",
          "text": [
            "\n",
            "ITERATION - loss: 1.632:   1%|          | 1/130 [2:24:17<2:06:45, 58.95s/it]\u001b[A\n",
            "ITERATION - loss: 2.181:   2%|▏         | 2/130 [2:24:21<1:30:22, 42.36s/it]\u001b[A\n",
            "ITERATION - loss: 1.622:   2%|▏         | 3/130 [2:24:25<1:05:03, 30.73s/it]\u001b[A\n",
            "ITERATION - loss: 1.507:   3%|▎         | 4/130 [2:24:28<47:28, 22.61s/it]  \u001b[A\n",
            "ITERATION - loss: 1.813:   4%|▍         | 5/130 [2:24:32<35:13, 16.91s/it]\u001b[A\n",
            "ITERATION - loss: 1.831:   5%|▍         | 6/130 [2:24:36<26:43, 12.93s/it]\u001b[A\n",
            "ITERATION - loss: 1.320:   5%|▌         | 7/130 [2:24:39<20:45, 10.13s/it]\u001b[A\n",
            "ITERATION - loss: 1.673:   6%|▌         | 8/130 [2:24:43<16:37,  8.18s/it]\u001b[A\n",
            "ITERATION - loss: 1.932:   7%|▋         | 9/130 [2:24:46<13:44,  6.82s/it]\u001b[A\n",
            "ITERATION - loss: 2.275:   8%|▊         | 10/130 [2:24:50<11:43,  5.86s/it]\u001b[A\n",
            "ITERATION - loss: 1.738:   8%|▊         | 11/130 [2:24:54<10:17,  5.19s/it]\u001b[A\n",
            "ITERATION - loss: 2.118:   9%|▉         | 12/130 [2:24:57<09:17,  4.72s/it]\u001b[A\n",
            "ITERATION - loss: 1.834:  10%|█         | 13/130 [2:25:01<08:33,  4.39s/it]\u001b[A\n",
            "ITERATION - loss: 1.698:  11%|█         | 14/130 [2:25:05<08:03,  4.16s/it]\u001b[A\n",
            "ITERATION - loss: 1.971:  12%|█▏        | 15/130 [2:25:08<07:39,  4.00s/it]\u001b[A\n",
            "ITERATION - loss: 1.685:  12%|█▏        | 16/130 [2:25:12<07:22,  3.88s/it]\u001b[A\n",
            "ITERATION - loss: 1.528:  13%|█▎        | 17/130 [2:25:15<07:10,  3.81s/it]\u001b[A\n",
            "ITERATION - loss: 1.690:  14%|█▍        | 18/130 [2:25:19<07:00,  3.76s/it]\u001b[A\n",
            "ITERATION - loss: 1.659:  15%|█▍        | 19/130 [2:25:23<06:52,  3.72s/it]\u001b[A\n",
            "ITERATION - loss: 1.553:  15%|█▌        | 20/130 [2:25:26<06:46,  3.70s/it]\u001b[A\n",
            "ITERATION - loss: 1.757:  16%|█▌        | 21/130 [2:25:30<06:40,  3.68s/it]\u001b[A\n",
            "ITERATION - loss: 1.741:  17%|█▋        | 22/130 [2:25:34<06:36,  3.67s/it]\u001b[A\n",
            "ITERATION - loss: 1.694:  18%|█▊        | 23/130 [2:25:37<06:31,  3.66s/it]\u001b[A\n",
            "ITERATION - loss: 1.673:  18%|█▊        | 24/130 [2:25:41<06:27,  3.65s/it]\u001b[A\n",
            "ITERATION - loss: 1.685:  19%|█▉        | 25/130 [2:25:44<06:23,  3.65s/it]\u001b[A\n",
            "ITERATION - loss: 1.695:  20%|██        | 26/130 [2:25:48<06:19,  3.65s/it]\u001b[A\n",
            "ITERATION - loss: 1.454:  21%|██        | 27/130 [2:25:52<06:14,  3.63s/it]\u001b[A\n",
            "ITERATION - loss: 1.537:  22%|██▏       | 28/130 [2:25:55<06:11,  3.64s/it]\u001b[A\n",
            "ITERATION - loss: 1.651:  22%|██▏       | 29/130 [2:25:59<06:07,  3.64s/it]\u001b[A\n",
            "ITERATION - loss: 1.686:  23%|██▎       | 30/130 [2:26:03<06:03,  3.63s/it]\u001b[A\n",
            "ITERATION - loss: 1.894:  24%|██▍       | 31/130 [2:26:06<05:58,  3.62s/it]\u001b[A\n",
            "ITERATION - loss: 1.715:  25%|██▍       | 32/130 [2:26:10<05:55,  3.63s/it]\u001b[A\n",
            "ITERATION - loss: 1.640:  25%|██▌       | 33/130 [2:26:13<05:52,  3.63s/it]\u001b[A\n",
            "ITERATION - loss: 1.656:  26%|██▌       | 34/130 [2:26:17<05:48,  3.63s/it]\u001b[A\n",
            "ITERATION - loss: 1.569:  27%|██▋       | 35/130 [2:26:21<05:44,  3.63s/it]\u001b[A\n",
            "ITERATION - loss: 1.915:  28%|██▊       | 36/130 [2:26:24<05:41,  3.63s/it]\u001b[A\n",
            "ITERATION - loss: 2.022:  28%|██▊       | 37/130 [2:26:28<05:37,  3.63s/it]\u001b[A\n",
            "ITERATION - loss: 1.794:  29%|██▉       | 38/130 [2:26:32<05:33,  3.63s/it]\u001b[A\n",
            "ITERATION - loss: 2.044:  30%|███       | 39/130 [2:26:35<05:30,  3.63s/it]\u001b[A\n",
            "ITERATION - loss: 2.080:  31%|███       | 40/130 [2:26:39<05:26,  3.63s/it]\u001b[A\n",
            "ITERATION - loss: 2.059:  32%|███▏      | 41/130 [2:26:43<05:22,  3.63s/it]\u001b[A\n",
            "ITERATION - loss: 1.920:  32%|███▏      | 42/130 [2:26:46<05:19,  3.63s/it]\u001b[A\n",
            "ITERATION - loss: 1.748:  33%|███▎      | 43/130 [2:26:50<05:15,  3.62s/it]\u001b[A\n",
            "ITERATION - loss: 1.653:  34%|███▍      | 44/130 [2:26:53<05:11,  3.62s/it]\u001b[A\n",
            "ITERATION - loss: 1.692:  35%|███▍      | 45/130 [2:26:57<05:08,  3.62s/it]\u001b[A\n",
            "ITERATION - loss: 2.059:  35%|███▌      | 46/130 [2:27:01<05:04,  3.63s/it]\u001b[A\n",
            "ITERATION - loss: 2.107:  36%|███▌      | 47/130 [2:27:04<05:00,  3.62s/it]\u001b[A\n",
            "ITERATION - loss: 1.906:  37%|███▋      | 48/130 [2:27:08<04:56,  3.62s/it]\u001b[A\n",
            "ITERATION - loss: 1.681:  38%|███▊      | 49/130 [2:27:12<04:54,  3.63s/it]\u001b[A\n",
            "ITERATION - loss: 1.878:  38%|███▊      | 50/130 [2:27:15<04:50,  3.63s/it]\u001b[A\n",
            "ITERATION - loss: 1.595:  39%|███▉      | 51/130 [2:27:19<04:46,  3.63s/it]\u001b[A\n",
            "ITERATION - loss: 1.518:  40%|████      | 52/130 [2:27:22<04:42,  3.63s/it]\u001b[A\n",
            "ITERATION - loss: 1.883:  41%|████      | 53/130 [2:27:26<04:39,  3.63s/it]\u001b[A\n",
            "ITERATION - loss: 2.189:  42%|████▏     | 54/130 [2:27:30<04:36,  3.64s/it]\u001b[A\n",
            "ITERATION - loss: 1.797:  42%|████▏     | 55/130 [2:27:33<04:32,  3.63s/it]\u001b[A\n",
            "ITERATION - loss: 2.236:  43%|████▎     | 56/130 [2:27:37<04:28,  3.63s/it]\u001b[A\n",
            "ITERATION - loss: 1.721:  44%|████▍     | 57/130 [2:27:41<04:25,  3.64s/it]\u001b[A\n",
            "ITERATION - loss: 1.881:  45%|████▍     | 58/130 [2:27:44<04:22,  3.64s/it]\u001b[A\n",
            "ITERATION - loss: 1.747:  45%|████▌     | 59/130 [2:27:48<04:18,  3.63s/it]\u001b[A\n",
            "ITERATION - loss: 1.772:  46%|████▌     | 60/130 [2:27:52<04:14,  3.63s/it]\u001b[A\n",
            "ITERATION - loss: 1.589:  47%|████▋     | 61/130 [2:27:55<04:10,  3.62s/it]\u001b[A\n",
            "ITERATION - loss: 1.988:  48%|████▊     | 62/130 [2:27:59<04:06,  3.63s/it]\u001b[A\n",
            "ITERATION - loss: 1.809:  48%|████▊     | 63/130 [2:28:02<04:02,  3.62s/it]\u001b[A\n",
            "ITERATION - loss: 1.653:  49%|████▉     | 64/130 [2:28:06<03:58,  3.62s/it]\u001b[A\n",
            "ITERATION - loss: 1.670:  50%|█████     | 65/130 [2:28:10<03:55,  3.62s/it]\u001b[A\n",
            "ITERATION - loss: 1.762:  51%|█████     | 66/130 [2:28:13<03:52,  3.63s/it]\u001b[A\n",
            "ITERATION - loss: 1.777:  52%|█████▏    | 67/130 [2:28:17<03:48,  3.63s/it]\u001b[A\n",
            "ITERATION - loss: 1.733:  52%|█████▏    | 68/130 [2:28:20<03:44,  3.63s/it]\u001b[A\n",
            "ITERATION - loss: 1.854:  53%|█████▎    | 69/130 [2:28:24<03:41,  3.63s/it]\u001b[A\n",
            "ITERATION - loss: 1.737:  54%|█████▍    | 70/130 [2:28:28<03:37,  3.63s/it]\u001b[A\n",
            "ITERATION - loss: 2.049:  55%|█████▍    | 71/130 [2:28:31<03:34,  3.63s/it]\u001b[A\n",
            "ITERATION - loss: 1.655:  55%|█████▌    | 72/130 [2:28:35<03:30,  3.63s/it]\u001b[A\n",
            "ITERATION - loss: 1.739:  56%|█████▌    | 73/130 [2:28:39<03:27,  3.63s/it]\u001b[A\n",
            "ITERATION - loss: 1.820:  57%|█████▋    | 74/130 [2:28:42<03:23,  3.63s/it]\u001b[A\n",
            "ITERATION - loss: 1.680:  58%|█████▊    | 75/130 [2:28:46<03:19,  3.63s/it]\u001b[A\n",
            "ITERATION - loss: 1.798:  58%|█████▊    | 76/130 [2:28:50<03:15,  3.62s/it]\u001b[A\n",
            "ITERATION - loss: 1.659:  59%|█████▉    | 77/130 [2:28:53<03:12,  3.63s/it]\u001b[A\n",
            "ITERATION - loss: 2.357:  60%|██████    | 78/130 [2:28:57<03:08,  3.63s/it]\u001b[A\n",
            "ITERATION - loss: 1.748:  61%|██████    | 79/130 [2:29:00<03:05,  3.63s/it]\u001b[A\n",
            "ITERATION - loss: 1.468:  62%|██████▏   | 80/130 [2:29:04<03:01,  3.63s/it]\u001b[A\n",
            "ITERATION - loss: 1.798:  62%|██████▏   | 81/130 [2:29:08<02:57,  3.63s/it]\u001b[A\n",
            "ITERATION - loss: 1.616:  63%|██████▎   | 82/130 [2:29:11<02:54,  3.63s/it]\u001b[A\n",
            "ITERATION - loss: 2.176:  64%|██████▍   | 83/130 [2:29:15<02:50,  3.62s/it]\u001b[A\n",
            "ITERATION - loss: 1.810:  65%|██████▍   | 84/130 [2:29:19<02:46,  3.63s/it]\u001b[A\n",
            "ITERATION - loss: 1.771:  65%|██████▌   | 85/130 [2:29:22<02:43,  3.63s/it]\u001b[A\n",
            "ITERATION - loss: 1.824:  66%|██████▌   | 86/130 [2:29:26<02:40,  3.64s/it]\u001b[A\n",
            "ITERATION - loss: 1.750:  67%|██████▋   | 87/130 [2:29:29<02:36,  3.63s/it]\u001b[A\n",
            "ITERATION - loss: 1.556:  68%|██████▊   | 88/130 [2:29:33<02:32,  3.63s/it]\u001b[A\n",
            "ITERATION - loss: 1.698:  68%|██████▊   | 89/130 [2:29:37<02:28,  3.63s/it]\u001b[A\n",
            "ITERATION - loss: 1.703:  69%|██████▉   | 90/130 [2:29:40<02:25,  3.63s/it]\u001b[A\n",
            "ITERATION - loss: 1.962:  70%|███████   | 91/130 [2:29:44<02:21,  3.62s/it]\u001b[A\n",
            "ITERATION - loss: 1.628:  71%|███████   | 92/130 [2:29:48<02:17,  3.62s/it]\u001b[A\n",
            "ITERATION - loss: 2.274:  72%|███████▏  | 93/130 [2:29:51<02:14,  3.63s/it]\u001b[A\n",
            "ITERATION - loss: 1.632:  72%|███████▏  | 94/130 [2:29:55<02:10,  3.63s/it]\u001b[A\n",
            "ITERATION - loss: 1.729:  73%|███████▎  | 95/130 [2:29:58<02:07,  3.63s/it]\u001b[A\n",
            "ITERATION - loss: 1.525:  74%|███████▍  | 96/130 [2:30:02<02:03,  3.63s/it]\u001b[A\n",
            "ITERATION - loss: 1.808:  75%|███████▍  | 97/130 [2:30:06<01:59,  3.62s/it]\u001b[A\n",
            "ITERATION - loss: 1.767:  75%|███████▌  | 98/130 [2:30:09<01:55,  3.62s/it]\u001b[A\n",
            "ITERATION - loss: 1.719:  76%|███████▌  | 99/130 [2:30:13<01:52,  3.62s/it]\u001b[A\n",
            "ITERATION - loss: 1.682:  77%|███████▋  | 100/130 [2:30:17<01:48,  3.63s/it]\u001b[A\n",
            "ITERATION - loss: 1.459:  78%|███████▊  | 101/130 [2:30:20<01:45,  3.63s/it]\u001b[A\n",
            "ITERATION - loss: 2.132:  78%|███████▊  | 102/130 [2:30:24<01:41,  3.63s/it]\u001b[A\n",
            "ITERATION - loss: 1.504:  79%|███████▉  | 103/130 [2:30:27<01:37,  3.63s/it]\u001b[A\n",
            "ITERATION - loss: 1.848:  80%|████████  | 104/130 [2:30:31<01:34,  3.62s/it]\u001b[A\n",
            "ITERATION - loss: 1.909:  81%|████████  | 105/130 [2:30:35<01:30,  3.63s/it]\u001b[A\n",
            "ITERATION - loss: 1.684:  82%|████████▏ | 106/130 [2:30:38<01:27,  3.63s/it]\u001b[A\n",
            "ITERATION - loss: 1.937:  82%|████████▏ | 107/130 [2:30:42<01:23,  3.62s/it]\u001b[A\n",
            "ITERATION - loss: 1.969:  83%|████████▎ | 108/130 [2:30:46<01:19,  3.62s/it]\u001b[A\n",
            "ITERATION - loss: 2.035:  84%|████████▍ | 109/130 [2:30:49<01:16,  3.62s/it]\u001b[A\n",
            "ITERATION - loss: 1.971:  85%|████████▍ | 110/130 [2:30:53<01:12,  3.63s/it]\u001b[A\n",
            "ITERATION - loss: 1.599:  85%|████████▌ | 111/130 [2:30:56<01:08,  3.62s/it]\u001b[A\n",
            "ITERATION - loss: 1.780:  86%|████████▌ | 112/130 [2:31:00<01:05,  3.63s/it]\u001b[A\n",
            "ITERATION - loss: 1.853:  87%|████████▋ | 113/130 [2:31:04<01:01,  3.63s/it]\u001b[A\n",
            "ITERATION - loss: 2.056:  88%|████████▊ | 114/130 [2:31:07<00:58,  3.63s/it]\u001b[A\n",
            "ITERATION - loss: 1.494:  88%|████████▊ | 115/130 [2:31:11<00:54,  3.63s/it]\u001b[A\n",
            "ITERATION - loss: 1.769:  89%|████████▉ | 116/130 [2:31:15<00:50,  3.63s/it]\u001b[A\n",
            "ITERATION - loss: 1.763:  90%|█████████ | 117/130 [2:31:18<00:47,  3.63s/it]\u001b[A\n",
            "ITERATION - loss: 1.569:  91%|█████████ | 118/130 [2:31:22<00:43,  3.63s/it]\u001b[A\n",
            "ITERATION - loss: 1.850:  92%|█████████▏| 119/130 [2:31:26<00:39,  3.63s/it]\u001b[A\n",
            "ITERATION - loss: 2.141:  92%|█████████▏| 120/130 [2:31:29<00:36,  3.63s/it]\u001b[A\n",
            "ITERATION - loss: 1.655:  93%|█████████▎| 121/130 [2:31:33<00:32,  3.62s/it]\u001b[A\n",
            "ITERATION - loss: 2.099:  94%|█████████▍| 122/130 [2:31:36<00:29,  3.63s/it]\u001b[A\n",
            "ITERATION - loss: 1.885:  95%|█████████▍| 123/130 [2:31:40<00:25,  3.63s/it]\u001b[A\n",
            "ITERATION - loss: 1.936:  95%|█████████▌| 124/130 [2:31:44<00:21,  3.63s/it]\u001b[A\n",
            "ITERATION - loss: 1.751:  96%|█████████▌| 125/130 [2:31:47<00:18,  3.63s/it]\u001b[A\n",
            "ITERATION - loss: 1.456:  97%|█████████▋| 126/130 [2:31:51<00:14,  3.63s/it]\u001b[A\n",
            "ITERATION - loss: 1.723:  98%|█████████▊| 127/130 [2:31:55<00:10,  3.62s/it]\u001b[A\n",
            "ITERATION - loss: 1.537:  98%|█████████▊| 128/130 [2:31:58<00:07,  3.62s/it]\u001b[A\n",
            "ITERATION - loss: 1.876:  99%|█████████▉| 129/130 [2:32:02<00:03,  3.62s/it]\u001b[A\n",
            "ITERATION - loss: 1.907: 100%|██████████| 130/130 [2:32:05<00:00,  3.38s/it]\u001b[A\n",
            "\n",
            "ITERATION - loss: 8.544:  13%|█▎        | 17/130 [2:35:07<02:22,  1.26s/it]\n",
            "ITERATION - loss: 1.907: 100%|██████████| 130/130 [2:34:33<00:00,  3.38s/it]\u001b[A"
          ],
          "name": "stderr"
        },
        {
          "output_type": "stream",
          "text": [
            "Training Results - Epoch: 18 Age L1-loss: 15.145 ** Gender accuracy: 0.996 ** Race accuracy: 0.988 ** Avg loss: 1.660\n"
          ],
          "name": "stdout"
        },
        {
          "output_type": "stream",
          "text": [
            "\n",
            "ITERATION - loss: 8.544:  13%|█▎        | 17/130 [2:35:41<02:22,  1.26s/it]\n",
            "ITERATION - loss: 1.907: 100%|██████████| 130/130 [2:35:07<00:00,  3.38s/it]\u001b[A"
          ],
          "name": "stderr"
        },
        {
          "output_type": "stream",
          "text": [
            "Validation Results - Epoch: 18 Age L1-loss: 15.025 ** Gender accuracy: 0.917 ** Race accuracy: 0.805 ** Avg loss: 6.035\n"
          ],
          "name": "stdout"
        },
        {
          "output_type": "stream",
          "text": [
            "\n",
            "ITERATION - loss: 2.112:   1%|          | 1/130 [2:35:13<2:06:42, 58.94s/it]\u001b[A\n",
            "ITERATION - loss: 1.552:   2%|▏         | 2/130 [2:35:17<1:30:19, 42.34s/it]\u001b[A\n",
            "ITERATION - loss: 1.782:   2%|▏         | 3/130 [2:35:20<1:05:01, 30.72s/it]\u001b[A\n",
            "ITERATION - loss: 1.783:   3%|▎         | 4/130 [2:35:24<47:27, 22.60s/it]  \u001b[A\n",
            "ITERATION - loss: 1.847:   4%|▍         | 5/130 [2:35:28<35:15, 16.93s/it]\u001b[A\n",
            "ITERATION - loss: 1.853:   5%|▍         | 6/130 [2:35:31<26:43, 12.93s/it]\u001b[A\n",
            "ITERATION - loss: 1.596:   5%|▌         | 7/130 [2:35:35<20:46, 10.14s/it]\u001b[A\n",
            "ITERATION - loss: 1.947:   6%|▌         | 8/130 [2:35:39<16:38,  8.18s/it]\u001b[A\n",
            "ITERATION - loss: 1.575:   7%|▋         | 9/130 [2:35:42<13:45,  6.82s/it]\u001b[A\n",
            "ITERATION - loss: 1.489:   8%|▊         | 10/130 [2:35:46<11:44,  5.87s/it]\u001b[A\n",
            "ITERATION - loss: 1.881:   8%|▊         | 11/130 [2:35:49<10:18,  5.20s/it]\u001b[A\n",
            "ITERATION - loss: 1.702:   9%|▉         | 12/130 [2:35:53<09:17,  4.73s/it]\u001b[A\n",
            "ITERATION - loss: 1.860:  10%|█         | 13/130 [2:35:57<08:35,  4.40s/it]\u001b[A\n",
            "ITERATION - loss: 2.456:  11%|█         | 14/130 [2:36:00<08:03,  4.16s/it]\u001b[A\n",
            "ITERATION - loss: 1.899:  12%|█▏        | 15/130 [2:36:04<07:40,  4.01s/it]\u001b[A\n",
            "ITERATION - loss: 1.859:  12%|█▏        | 16/130 [2:36:08<07:23,  3.89s/it]\u001b[A\n",
            "ITERATION - loss: 1.721:  13%|█▎        | 17/130 [2:36:11<07:10,  3.81s/it]\u001b[A\n",
            "ITERATION - loss: 1.665:  14%|█▍        | 18/130 [2:36:15<07:00,  3.75s/it]\u001b[A\n",
            "ITERATION - loss: 1.803:  15%|█▍        | 19/130 [2:36:19<06:52,  3.71s/it]\u001b[A\n",
            "ITERATION - loss: 1.726:  15%|█▌        | 20/130 [2:36:22<06:45,  3.69s/it]\u001b[A\n",
            "ITERATION - loss: 1.800:  16%|█▌        | 21/130 [2:36:26<06:42,  3.69s/it]\u001b[A\n",
            "ITERATION - loss: 1.788:  17%|█▋        | 22/130 [2:36:29<06:36,  3.67s/it]\u001b[A\n",
            "ITERATION - loss: 2.138:  18%|█▊        | 23/130 [2:36:33<06:31,  3.66s/it]\u001b[A\n",
            "ITERATION - loss: 1.362:  18%|█▊        | 24/130 [2:36:37<06:27,  3.65s/it]\u001b[A\n",
            "ITERATION - loss: 1.680:  19%|█▉        | 25/130 [2:36:40<06:23,  3.65s/it]\u001b[A\n",
            "ITERATION - loss: 1.861:  20%|██        | 26/130 [2:36:44<06:19,  3.65s/it]\u001b[A\n",
            "ITERATION - loss: 1.601:  21%|██        | 27/130 [2:36:48<06:14,  3.64s/it]\u001b[A\n",
            "ITERATION - loss: 1.759:  22%|██▏       | 28/130 [2:36:51<06:10,  3.63s/it]\u001b[A\n",
            "ITERATION - loss: 1.821:  22%|██▏       | 29/130 [2:36:55<06:07,  3.64s/it]\u001b[A\n",
            "ITERATION - loss: 1.798:  23%|██▎       | 30/130 [2:36:59<06:03,  3.63s/it]\u001b[A\n",
            "ITERATION - loss: 1.923:  24%|██▍       | 31/130 [2:37:02<06:00,  3.64s/it]\u001b[A\n",
            "ITERATION - loss: 1.949:  25%|██▍       | 32/130 [2:37:06<05:56,  3.64s/it]\u001b[A\n",
            "ITERATION - loss: 1.746:  25%|██▌       | 33/130 [2:37:09<05:52,  3.63s/it]\u001b[A\n",
            "ITERATION - loss: 2.077:  26%|██▌       | 34/130 [2:37:13<05:48,  3.63s/it]\u001b[A\n",
            "ITERATION - loss: 1.677:  27%|██▋       | 35/130 [2:37:17<05:44,  3.63s/it]\u001b[A\n",
            "ITERATION - loss: 1.673:  28%|██▊       | 36/130 [2:37:20<05:41,  3.63s/it]\u001b[A\n",
            "ITERATION - loss: 1.783:  28%|██▊       | 37/130 [2:37:24<05:37,  3.63s/it]\u001b[A\n",
            "ITERATION - loss: 1.689:  29%|██▉       | 38/130 [2:37:28<05:33,  3.63s/it]\u001b[A\n",
            "ITERATION - loss: 2.009:  30%|███       | 39/130 [2:37:31<05:29,  3.63s/it]\u001b[A\n",
            "ITERATION - loss: 1.722:  31%|███       | 40/130 [2:37:35<05:26,  3.63s/it]\u001b[A\n",
            "ITERATION - loss: 1.733:  32%|███▏      | 41/130 [2:37:38<05:23,  3.63s/it]\u001b[A\n",
            "ITERATION - loss: 1.615:  32%|███▏      | 42/130 [2:37:42<05:19,  3.63s/it]\u001b[A\n",
            "ITERATION - loss: 1.871:  33%|███▎      | 43/130 [2:37:46<05:15,  3.63s/it]\u001b[A\n",
            "ITERATION - loss: 1.676:  34%|███▍      | 44/130 [2:37:49<05:11,  3.63s/it]\u001b[A\n",
            "ITERATION - loss: 1.768:  35%|███▍      | 45/130 [2:37:53<05:08,  3.64s/it]\u001b[A\n",
            "ITERATION - loss: 1.953:  35%|███▌      | 46/130 [2:37:57<05:05,  3.63s/it]\u001b[A\n",
            "ITERATION - loss: 1.838:  36%|███▌      | 47/130 [2:38:00<05:01,  3.63s/it]\u001b[A\n",
            "ITERATION - loss: 1.671:  37%|███▋      | 48/130 [2:38:04<04:57,  3.63s/it]\u001b[A\n",
            "ITERATION - loss: 1.841:  38%|███▊      | 49/130 [2:38:07<04:54,  3.63s/it]\u001b[A\n",
            "ITERATION - loss: 1.638:  38%|███▊      | 50/130 [2:38:11<04:50,  3.63s/it]\u001b[A\n",
            "ITERATION - loss: 1.631:  39%|███▉      | 51/130 [2:38:15<04:46,  3.63s/it]\u001b[A\n",
            "ITERATION - loss: 1.784:  40%|████      | 52/130 [2:38:18<04:43,  3.63s/it]\u001b[A\n",
            "ITERATION - loss: 1.784:  41%|████      | 53/130 [2:38:22<04:39,  3.63s/it]\u001b[A\n",
            "ITERATION - loss: 1.835:  42%|████▏     | 54/130 [2:38:26<04:35,  3.63s/it]\u001b[A\n",
            "ITERATION - loss: 1.430:  42%|████▏     | 55/130 [2:38:29<04:31,  3.63s/it]\u001b[A\n",
            "ITERATION - loss: 1.764:  43%|████▎     | 56/130 [2:38:33<04:28,  3.63s/it]\u001b[A\n",
            "ITERATION - loss: 1.624:  44%|████▍     | 57/130 [2:38:37<04:25,  3.64s/it]\u001b[A\n",
            "ITERATION - loss: 1.898:  45%|████▍     | 58/130 [2:38:40<04:21,  3.63s/it]\u001b[A\n",
            "ITERATION - loss: 1.637:  45%|████▌     | 59/130 [2:38:44<04:17,  3.63s/it]\u001b[A\n",
            "ITERATION - loss: 1.901:  46%|████▌     | 60/130 [2:38:47<04:14,  3.63s/it]\u001b[A\n",
            "ITERATION - loss: 1.890:  47%|████▋     | 61/130 [2:38:51<04:10,  3.63s/it]\u001b[A\n",
            "ITERATION - loss: 1.853:  48%|████▊     | 62/130 [2:38:55<04:06,  3.63s/it]\u001b[A\n",
            "ITERATION - loss: 1.777:  48%|████▊     | 63/130 [2:38:58<04:03,  3.63s/it]\u001b[A\n",
            "ITERATION - loss: 1.928:  49%|████▉     | 64/130 [2:39:02<03:59,  3.63s/it]\u001b[A\n",
            "ITERATION - loss: 1.372:  50%|█████     | 65/130 [2:39:06<03:56,  3.63s/it]\u001b[A\n",
            "ITERATION - loss: 1.671:  51%|█████     | 66/130 [2:39:09<03:52,  3.63s/it]\u001b[A\n",
            "ITERATION - loss: 1.828:  52%|█████▏    | 67/130 [2:39:13<03:48,  3.62s/it]\u001b[A\n",
            "ITERATION - loss: 1.572:  52%|█████▏    | 68/130 [2:39:16<03:44,  3.62s/it]\u001b[A\n",
            "ITERATION - loss: 1.728:  53%|█████▎    | 69/130 [2:39:20<03:40,  3.62s/it]\u001b[A\n",
            "ITERATION - loss: 1.777:  54%|█████▍    | 70/130 [2:39:24<03:37,  3.62s/it]\u001b[A\n",
            "ITERATION - loss: 1.798:  55%|█████▍    | 71/130 [2:39:27<03:33,  3.62s/it]\u001b[A\n",
            "ITERATION - loss: 1.809:  55%|█████▌    | 72/130 [2:39:31<03:30,  3.63s/it]\u001b[A\n",
            "ITERATION - loss: 1.674:  56%|█████▌    | 73/130 [2:39:35<03:26,  3.63s/it]\u001b[A\n",
            "ITERATION - loss: 2.048:  57%|█████▋    | 74/130 [2:39:38<03:22,  3.62s/it]\u001b[A\n",
            "ITERATION - loss: 1.497:  58%|█████▊    | 75/130 [2:39:42<03:19,  3.62s/it]\u001b[A\n",
            "ITERATION - loss: 1.856:  58%|█████▊    | 76/130 [2:39:45<03:16,  3.63s/it]\u001b[A\n",
            "ITERATION - loss: 1.742:  59%|█████▉    | 77/130 [2:39:49<03:12,  3.64s/it]\u001b[A\n",
            "ITERATION - loss: 1.603:  60%|██████    | 78/130 [2:39:53<03:08,  3.63s/it]\u001b[A\n",
            "ITERATION - loss: 1.768:  61%|██████    | 79/130 [2:39:56<03:04,  3.62s/it]\u001b[A\n",
            "ITERATION - loss: 1.719:  62%|██████▏   | 80/130 [2:40:00<03:01,  3.63s/it]\u001b[A\n",
            "ITERATION - loss: 1.667:  62%|██████▏   | 81/130 [2:40:04<02:57,  3.63s/it]\u001b[A\n",
            "ITERATION - loss: 1.804:  63%|██████▎   | 82/130 [2:40:07<02:54,  3.63s/it]\u001b[A\n",
            "ITERATION - loss: 1.751:  64%|██████▍   | 83/130 [2:40:11<02:50,  3.63s/it]\u001b[A\n",
            "ITERATION - loss: 1.806:  65%|██████▍   | 84/130 [2:40:14<02:47,  3.64s/it]\u001b[A\n",
            "ITERATION - loss: 1.624:  65%|██████▌   | 85/130 [2:40:18<02:43,  3.64s/it]\u001b[A\n",
            "ITERATION - loss: 1.631:  66%|██████▌   | 86/130 [2:40:22<02:39,  3.63s/it]\u001b[A\n",
            "ITERATION - loss: 1.405:  67%|██████▋   | 87/130 [2:40:25<02:36,  3.63s/it]\u001b[A\n",
            "ITERATION - loss: 1.868:  68%|██████▊   | 88/130 [2:40:29<02:32,  3.63s/it]\u001b[A\n",
            "ITERATION - loss: 1.716:  68%|██████▊   | 89/130 [2:40:33<02:29,  3.64s/it]\u001b[A\n",
            "ITERATION - loss: 1.944:  69%|██████▉   | 90/130 [2:40:36<02:25,  3.64s/it]\u001b[A\n",
            "ITERATION - loss: 1.901:  70%|███████   | 91/130 [2:40:40<02:21,  3.64s/it]\u001b[A\n",
            "ITERATION - loss: 1.638:  71%|███████   | 92/130 [2:40:44<02:17,  3.63s/it]\u001b[A\n",
            "ITERATION - loss: 2.020:  72%|███████▏  | 93/130 [2:40:47<02:14,  3.63s/it]\u001b[A\n",
            "ITERATION - loss: 1.688:  72%|███████▏  | 94/130 [2:40:51<02:10,  3.62s/it]\u001b[A\n",
            "ITERATION - loss: 1.961:  73%|███████▎  | 95/130 [2:40:54<02:06,  3.63s/it]\u001b[A\n",
            "ITERATION - loss: 1.857:  74%|███████▍  | 96/130 [2:40:58<02:03,  3.63s/it]\u001b[A\n",
            "ITERATION - loss: 2.002:  75%|███████▍  | 97/130 [2:41:02<01:59,  3.64s/it]\u001b[A\n",
            "ITERATION - loss: 1.487:  75%|███████▌  | 98/130 [2:41:05<01:56,  3.63s/it]\u001b[A\n",
            "ITERATION - loss: 1.800:  76%|███████▌  | 99/130 [2:41:09<01:52,  3.63s/it]\u001b[A\n",
            "ITERATION - loss: 1.778:  77%|███████▋  | 100/130 [2:41:13<01:48,  3.63s/it]\u001b[A\n",
            "ITERATION - loss: 2.061:  78%|███████▊  | 101/130 [2:41:16<01:45,  3.63s/it]\u001b[A\n",
            "ITERATION - loss: 1.841:  78%|███████▊  | 102/130 [2:41:20<01:41,  3.63s/it]\u001b[A\n",
            "ITERATION - loss: 1.853:  79%|███████▉  | 103/130 [2:41:23<01:38,  3.63s/it]\u001b[A\n",
            "ITERATION - loss: 1.876:  80%|████████  | 104/130 [2:41:27<01:34,  3.63s/it]\u001b[A\n",
            "ITERATION - loss: 1.879:  81%|████████  | 105/130 [2:41:31<01:30,  3.64s/it]\u001b[A\n",
            "ITERATION - loss: 1.837:  82%|████████▏ | 106/130 [2:41:34<01:27,  3.63s/it]\u001b[A\n",
            "ITERATION - loss: 2.068:  82%|████████▏ | 107/130 [2:41:38<01:23,  3.63s/it]\u001b[A\n",
            "ITERATION - loss: 1.728:  83%|████████▎ | 108/130 [2:41:42<01:20,  3.65s/it]\u001b[A\n",
            "ITERATION - loss: 2.177:  84%|████████▍ | 109/130 [2:41:45<01:16,  3.65s/it]\u001b[A\n",
            "ITERATION - loss: 1.840:  85%|████████▍ | 110/130 [2:41:49<01:12,  3.64s/it]\u001b[A\n",
            "ITERATION - loss: 1.676:  85%|████████▌ | 111/130 [2:41:53<01:09,  3.63s/it]\u001b[A\n",
            "ITERATION - loss: 1.619:  86%|████████▌ | 112/130 [2:41:56<01:05,  3.64s/it]\u001b[A\n",
            "ITERATION - loss: 1.723:  87%|████████▋ | 113/130 [2:42:00<01:01,  3.64s/it]\u001b[A\n",
            "ITERATION - loss: 1.701:  88%|████████▊ | 114/130 [2:42:03<00:58,  3.63s/it]\u001b[A\n",
            "ITERATION - loss: 1.657:  88%|████████▊ | 115/130 [2:42:07<00:54,  3.64s/it]\u001b[A\n",
            "ITERATION - loss: 1.810:  89%|████████▉ | 116/130 [2:42:11<00:50,  3.64s/it]\u001b[A\n",
            "ITERATION - loss: 1.713:  90%|█████████ | 117/130 [2:42:14<00:47,  3.64s/it]\u001b[A\n",
            "ITERATION - loss: 1.878:  91%|█████████ | 118/130 [2:42:18<00:43,  3.62s/it]\u001b[A\n",
            "ITERATION - loss: 1.740:  92%|█████████▏| 119/130 [2:42:22<00:39,  3.62s/it]\u001b[A\n",
            "ITERATION - loss: 1.701:  92%|█████████▏| 120/130 [2:42:25<00:36,  3.63s/it]\u001b[A\n",
            "ITERATION - loss: 1.910:  93%|█████████▎| 121/130 [2:42:29<00:32,  3.63s/it]\u001b[A\n",
            "ITERATION - loss: 1.564:  94%|█████████▍| 122/130 [2:42:33<00:29,  3.64s/it]\u001b[A\n",
            "ITERATION - loss: 1.586:  95%|█████████▍| 123/130 [2:42:36<00:25,  3.63s/it]\u001b[A\n",
            "ITERATION - loss: 1.537:  95%|█████████▌| 124/130 [2:42:40<00:21,  3.63s/it]\u001b[A\n",
            "ITERATION - loss: 1.607:  96%|█████████▌| 125/130 [2:42:43<00:18,  3.62s/it]\u001b[A\n",
            "ITERATION - loss: 1.611:  97%|█████████▋| 126/130 [2:42:47<00:14,  3.62s/it]\u001b[A\n",
            "ITERATION - loss: 1.685:  98%|█████████▊| 127/130 [2:42:51<00:10,  3.62s/it]\u001b[A\n",
            "ITERATION - loss: 1.781:  98%|█████████▊| 128/130 [2:42:54<00:07,  3.62s/it]\u001b[A\n",
            "ITERATION - loss: 1.457:  99%|█████████▉| 129/130 [2:42:58<00:03,  3.63s/it]\u001b[A\n",
            "ITERATION - loss: 2.062: 100%|██████████| 130/130 [2:43:01<00:00,  3.39s/it]\u001b[A\n",
            "\n",
            "ITERATION - loss: 8.544:  13%|█▎        | 17/130 [2:46:03<02:22,  1.26s/it]\n",
            "ITERATION - loss: 2.062: 100%|██████████| 130/130 [2:45:29<00:00,  3.39s/it]\u001b[A"
          ],
          "name": "stderr"
        },
        {
          "output_type": "stream",
          "text": [
            "Training Results - Epoch: 19 Age L1-loss: 15.226 ** Gender accuracy: 0.997 ** Race accuracy: 0.992 ** Avg loss: 1.631\n"
          ],
          "name": "stdout"
        },
        {
          "output_type": "stream",
          "text": [
            "\n",
            "ITERATION - loss: 8.544:  13%|█▎        | 17/130 [2:46:37<02:22,  1.26s/it]\n",
            "ITERATION - loss: 2.062: 100%|██████████| 130/130 [2:46:03<00:00,  3.39s/it]\u001b[A"
          ],
          "name": "stderr"
        },
        {
          "output_type": "stream",
          "text": [
            "Validation Results - Epoch: 19 Age L1-loss: 15.123 ** Gender accuracy: 0.924 ** Race accuracy: 0.812 ** Avg loss: 6.024\n"
          ],
          "name": "stdout"
        },
        {
          "output_type": "stream",
          "text": [
            "\n",
            "ITERATION - loss: 1.378:   1%|          | 1/130 [2:46:09<2:06:18, 58.75s/it]\u001b[A\n",
            "ITERATION - loss: 1.653:   2%|▏         | 2/130 [2:46:12<1:30:03, 42.22s/it]\u001b[A\n",
            "ITERATION - loss: 1.638:   2%|▏         | 3/130 [2:46:16<1:04:50, 30.64s/it]\u001b[A\n",
            "ITERATION - loss: 1.831:   3%|▎         | 4/130 [2:46:20<47:19, 22.53s/it]  \u001b[A\n",
            "ITERATION - loss: 1.805:   4%|▍         | 5/130 [2:46:23<35:07, 16.86s/it]\u001b[A\n",
            "ITERATION - loss: 1.599:   5%|▍         | 6/130 [2:46:27<26:38, 12.89s/it]\u001b[A\n",
            "ITERATION - loss: 1.654:   5%|▌         | 7/130 [2:46:31<20:50, 10.17s/it]\u001b[A\n",
            "ITERATION - loss: 1.575:   6%|▌         | 8/130 [2:46:34<16:43,  8.22s/it]\u001b[A\n",
            "ITERATION - loss: 2.149:   7%|▋         | 9/130 [2:46:38<13:47,  6.84s/it]\u001b[A\n",
            "ITERATION - loss: 1.609:   8%|▊         | 10/130 [2:46:42<11:45,  5.88s/it]\u001b[A\n",
            "ITERATION - loss: 1.550:   8%|▊         | 11/130 [2:46:45<10:20,  5.21s/it]\u001b[A\n",
            "ITERATION - loss: 1.903:   9%|▉         | 12/130 [2:46:49<09:19,  4.74s/it]\u001b[A\n",
            "ITERATION - loss: 2.995:  10%|█         | 13/130 [2:46:52<08:35,  4.41s/it]\u001b[A\n",
            "ITERATION - loss: 1.746:  11%|█         | 14/130 [2:46:56<08:04,  4.17s/it]\u001b[A\n",
            "ITERATION - loss: 1.959:  12%|█▏        | 15/130 [2:47:00<07:40,  4.00s/it]\u001b[A\n",
            "ITERATION - loss: 1.689:  12%|█▏        | 16/130 [2:47:03<07:24,  3.90s/it]\u001b[A\n",
            "ITERATION - loss: 1.889:  13%|█▎        | 17/130 [2:47:07<07:10,  3.81s/it]\u001b[A\n",
            "ITERATION - loss: 2.856:  14%|█▍        | 18/130 [2:47:11<07:00,  3.76s/it]\u001b[A\n",
            "ITERATION - loss: 2.235:  15%|█▍        | 19/130 [2:47:14<06:52,  3.71s/it]\u001b[A\n",
            "ITERATION - loss: 2.326:  15%|█▌        | 20/130 [2:47:18<06:45,  3.69s/it]\u001b[A\n",
            "ITERATION - loss: 1.613:  16%|█▌        | 21/130 [2:47:21<06:39,  3.67s/it]\u001b[A\n",
            "ITERATION - loss: 1.569:  17%|█▋        | 22/130 [2:47:25<06:34,  3.65s/it]\u001b[A\n",
            "ITERATION - loss: 1.571:  18%|█▊        | 23/130 [2:47:29<06:29,  3.64s/it]\u001b[A\n",
            "ITERATION - loss: 1.866:  18%|█▊        | 24/130 [2:47:32<06:25,  3.63s/it]\u001b[A\n",
            "ITERATION - loss: 1.846:  19%|█▉        | 25/130 [2:47:36<06:21,  3.63s/it]\u001b[A\n",
            "ITERATION - loss: 1.668:  20%|██        | 26/130 [2:47:40<06:16,  3.62s/it]\u001b[A\n",
            "ITERATION - loss: 1.908:  21%|██        | 27/130 [2:47:43<06:14,  3.64s/it]\u001b[A\n",
            "ITERATION - loss: 1.686:  22%|██▏       | 28/130 [2:47:47<06:11,  3.64s/it]\u001b[A\n",
            "ITERATION - loss: 1.741:  22%|██▏       | 29/130 [2:47:50<06:06,  3.63s/it]\u001b[A\n",
            "ITERATION - loss: 1.660:  23%|██▎       | 30/130 [2:47:54<06:03,  3.63s/it]\u001b[A\n",
            "ITERATION - loss: 1.684:  24%|██▍       | 31/130 [2:47:58<05:59,  3.63s/it]\u001b[A\n",
            "ITERATION - loss: 2.183:  25%|██▍       | 32/130 [2:48:01<05:56,  3.64s/it]\u001b[A\n",
            "ITERATION - loss: 1.644:  25%|██▌       | 33/130 [2:48:05<05:52,  3.63s/it]\u001b[A\n",
            "ITERATION - loss: 1.668:  26%|██▌       | 34/130 [2:48:09<05:48,  3.63s/it]\u001b[A\n",
            "ITERATION - loss: 1.694:  27%|██▋       | 35/130 [2:48:12<05:44,  3.63s/it]\u001b[A\n",
            "ITERATION - loss: 2.061:  28%|██▊       | 36/130 [2:48:16<05:41,  3.64s/it]\u001b[A\n",
            "ITERATION - loss: 1.708:  28%|██▊       | 37/130 [2:48:20<05:37,  3.63s/it]\u001b[A\n",
            "ITERATION - loss: 1.877:  29%|██▉       | 38/130 [2:48:23<05:33,  3.63s/it]\u001b[A\n",
            "ITERATION - loss: 1.547:  30%|███       | 39/130 [2:48:27<05:30,  3.63s/it]\u001b[A\n",
            "ITERATION - loss: 1.879:  31%|███       | 40/130 [2:48:30<05:28,  3.65s/it]\u001b[A\n",
            "ITERATION - loss: 1.972:  32%|███▏      | 41/130 [2:48:34<05:24,  3.65s/it]\u001b[A\n",
            "ITERATION - loss: 1.739:  32%|███▏      | 42/130 [2:48:38<05:20,  3.64s/it]\u001b[A\n",
            "ITERATION - loss: 2.142:  33%|███▎      | 43/130 [2:48:41<05:17,  3.65s/it]\u001b[A\n",
            "ITERATION - loss: 1.610:  34%|███▍      | 44/130 [2:48:45<05:13,  3.65s/it]\u001b[A\n",
            "ITERATION - loss: 1.892:  35%|███▍      | 45/130 [2:48:49<05:09,  3.64s/it]\u001b[A\n",
            "ITERATION - loss: 1.789:  35%|███▌      | 46/130 [2:48:52<05:05,  3.64s/it]\u001b[A\n",
            "ITERATION - loss: 1.666:  36%|███▌      | 47/130 [2:48:56<05:02,  3.64s/it]\u001b[A\n",
            "ITERATION - loss: 1.764:  37%|███▋      | 48/130 [2:49:00<04:59,  3.65s/it]\u001b[A\n",
            "ITERATION - loss: 1.660:  38%|███▊      | 49/130 [2:49:03<04:55,  3.64s/it]\u001b[A\n",
            "ITERATION - loss: 1.732:  38%|███▊      | 50/130 [2:49:07<04:52,  3.66s/it]\u001b[A\n",
            "ITERATION - loss: 1.742:  39%|███▉      | 51/130 [2:49:11<04:48,  3.65s/it]\u001b[A\n",
            "ITERATION - loss: 1.736:  40%|████      | 52/130 [2:49:14<04:44,  3.65s/it]\u001b[A\n",
            "ITERATION - loss: 1.966:  41%|████      | 53/130 [2:49:18<04:40,  3.64s/it]\u001b[A\n",
            "ITERATION - loss: 1.663:  42%|████▏     | 54/130 [2:49:22<04:37,  3.65s/it]\u001b[A\n",
            "ITERATION - loss: 1.906:  42%|████▏     | 55/130 [2:49:25<04:33,  3.65s/it]\u001b[A\n",
            "ITERATION - loss: 1.752:  43%|████▎     | 56/130 [2:49:29<04:30,  3.65s/it]\u001b[A\n",
            "ITERATION - loss: 1.611:  44%|████▍     | 57/130 [2:49:32<04:26,  3.65s/it]\u001b[A\n",
            "ITERATION - loss: 1.471:  45%|████▍     | 58/130 [2:49:36<04:23,  3.66s/it]\u001b[A\n",
            "ITERATION - loss: 1.771:  45%|████▌     | 59/130 [2:49:40<04:19,  3.65s/it]\u001b[A\n",
            "ITERATION - loss: 1.674:  46%|████▌     | 60/130 [2:49:43<04:16,  3.66s/it]\u001b[A\n",
            "ITERATION - loss: 1.710:  47%|████▋     | 61/130 [2:49:47<04:11,  3.64s/it]\u001b[A\n",
            "ITERATION - loss: 1.435:  48%|████▊     | 62/130 [2:49:51<04:07,  3.64s/it]\u001b[A\n",
            "ITERATION - loss: 1.881:  48%|████▊     | 63/130 [2:49:54<04:03,  3.64s/it]\u001b[A\n",
            "ITERATION - loss: 2.002:  49%|████▉     | 64/130 [2:49:58<04:00,  3.64s/it]\u001b[A\n",
            "ITERATION - loss: 2.459:  50%|█████     | 65/130 [2:50:02<03:56,  3.64s/it]\u001b[A\n",
            "ITERATION - loss: 1.657:  51%|█████     | 66/130 [2:50:05<03:52,  3.64s/it]\u001b[A\n",
            "ITERATION - loss: 1.506:  52%|█████▏    | 67/130 [2:50:09<03:49,  3.64s/it]\u001b[A\n",
            "ITERATION - loss: 1.556:  52%|█████▏    | 68/130 [2:50:13<03:45,  3.64s/it]\u001b[A\n",
            "ITERATION - loss: 1.671:  53%|█████▎    | 69/130 [2:50:16<03:41,  3.63s/it]\u001b[A\n",
            "ITERATION - loss: 1.770:  54%|█████▍    | 70/130 [2:50:20<03:37,  3.63s/it]\u001b[A\n",
            "ITERATION - loss: 1.602:  55%|█████▍    | 71/130 [2:50:23<03:34,  3.63s/it]\u001b[A\n",
            "ITERATION - loss: 1.864:  55%|█████▌    | 72/130 [2:50:27<03:30,  3.64s/it]\u001b[A\n",
            "ITERATION - loss: 1.697:  56%|█████▌    | 73/130 [2:50:31<03:27,  3.63s/it]\u001b[A\n",
            "ITERATION - loss: 1.655:  57%|█████▋    | 74/130 [2:50:34<03:23,  3.63s/it]\u001b[A\n",
            "ITERATION - loss: 1.704:  58%|█████▊    | 75/130 [2:50:38<03:19,  3.63s/it]\u001b[A\n",
            "ITERATION - loss: 1.953:  58%|█████▊    | 76/130 [2:50:42<03:16,  3.64s/it]\u001b[A\n",
            "ITERATION - loss: 1.976:  59%|█████▉    | 77/130 [2:50:45<03:12,  3.64s/it]\u001b[A\n",
            "ITERATION - loss: 1.964:  60%|██████    | 78/130 [2:50:49<03:09,  3.64s/it]\u001b[A\n",
            "ITERATION - loss: 1.801:  61%|██████    | 79/130 [2:50:53<03:05,  3.63s/it]\u001b[A\n",
            "ITERATION - loss: 1.740:  62%|██████▏   | 80/130 [2:50:56<03:02,  3.65s/it]\u001b[A\n",
            "ITERATION - loss: 2.052:  62%|██████▏   | 81/130 [2:51:00<02:58,  3.65s/it]\u001b[A\n",
            "ITERATION - loss: 1.662:  63%|██████▎   | 82/130 [2:51:03<02:54,  3.64s/it]\u001b[A\n",
            "ITERATION - loss: 1.809:  64%|██████▍   | 83/130 [2:51:07<02:50,  3.63s/it]\u001b[A\n",
            "ITERATION - loss: 1.530:  65%|██████▍   | 84/130 [2:51:11<02:47,  3.64s/it]\u001b[A\n",
            "ITERATION - loss: 1.523:  65%|██████▌   | 85/130 [2:51:14<02:43,  3.63s/it]\u001b[A\n",
            "ITERATION - loss: 1.649:  66%|██████▌   | 86/130 [2:51:18<02:39,  3.64s/it]\u001b[A\n",
            "ITERATION - loss: 2.000:  67%|██████▋   | 87/130 [2:51:22<02:37,  3.65s/it]\u001b[A\n",
            "ITERATION - loss: 2.078:  68%|██████▊   | 88/130 [2:51:25<02:33,  3.65s/it]\u001b[A\n",
            "ITERATION - loss: 1.788:  68%|██████▊   | 89/130 [2:51:29<02:29,  3.64s/it]\u001b[A\n",
            "ITERATION - loss: 1.461:  69%|██████▉   | 90/130 [2:51:33<02:25,  3.64s/it]\u001b[A\n",
            "ITERATION - loss: 1.661:  70%|███████   | 91/130 [2:51:36<02:22,  3.64s/it]\u001b[A\n",
            "ITERATION - loss: 1.656:  71%|███████   | 92/130 [2:51:40<02:18,  3.65s/it]\u001b[A\n",
            "ITERATION - loss: 1.597:  72%|███████▏  | 93/130 [2:51:44<02:14,  3.64s/it]\u001b[A\n",
            "ITERATION - loss: 1.758:  72%|███████▏  | 94/130 [2:51:47<02:10,  3.64s/it]\u001b[A\n",
            "ITERATION - loss: 1.765:  73%|███████▎  | 95/130 [2:51:51<02:07,  3.64s/it]\u001b[A\n",
            "ITERATION - loss: 1.880:  74%|███████▍  | 96/130 [2:51:54<02:03,  3.65s/it]\u001b[A\n",
            "ITERATION - loss: 1.688:  75%|███████▍  | 97/130 [2:51:58<02:00,  3.64s/it]\u001b[A\n",
            "ITERATION - loss: 1.810:  75%|███████▌  | 98/130 [2:52:02<01:56,  3.63s/it]\u001b[A\n",
            "ITERATION - loss: 1.635:  76%|███████▌  | 99/130 [2:52:05<01:52,  3.63s/it]\u001b[A\n",
            "ITERATION - loss: 1.688:  77%|███████▋  | 100/130 [2:52:09<01:48,  3.63s/it]\u001b[A\n",
            "ITERATION - loss: 1.740:  78%|███████▊  | 101/130 [2:52:13<01:45,  3.63s/it]\u001b[A\n",
            "ITERATION - loss: 1.871:  78%|███████▊  | 102/130 [2:52:16<01:41,  3.63s/it]\u001b[A\n",
            "ITERATION - loss: 1.505:  79%|███████▉  | 103/130 [2:52:20<01:37,  3.63s/it]\u001b[A\n",
            "ITERATION - loss: 1.795:  80%|████████  | 104/130 [2:52:23<01:34,  3.63s/it]\u001b[A\n",
            "ITERATION - loss: 1.654:  81%|████████  | 105/130 [2:52:27<01:30,  3.62s/it]\u001b[A\n",
            "ITERATION - loss: 1.558:  82%|████████▏ | 106/130 [2:52:31<01:27,  3.63s/it]\u001b[A\n",
            "ITERATION - loss: 2.154:  82%|████████▏ | 107/130 [2:52:34<01:23,  3.63s/it]\u001b[A\n",
            "ITERATION - loss: 1.691:  83%|████████▎ | 108/130 [2:52:38<01:19,  3.62s/it]\u001b[A\n",
            "ITERATION - loss: 1.687:  84%|████████▍ | 109/130 [2:52:42<01:16,  3.63s/it]\u001b[A\n",
            "ITERATION - loss: 1.816:  85%|████████▍ | 110/130 [2:52:45<01:12,  3.63s/it]\u001b[A\n",
            "ITERATION - loss: 1.786:  85%|████████▌ | 111/130 [2:52:49<01:08,  3.62s/it]\u001b[A\n",
            "ITERATION - loss: 1.667:  86%|████████▌ | 112/130 [2:52:52<01:05,  3.63s/it]\u001b[A\n",
            "ITERATION - loss: 1.779:  87%|████████▋ | 113/130 [2:52:56<01:01,  3.62s/it]\u001b[A\n",
            "ITERATION - loss: 1.935:  88%|████████▊ | 114/130 [2:53:00<00:57,  3.62s/it]\u001b[A\n",
            "ITERATION - loss: 1.992:  88%|████████▊ | 115/130 [2:53:03<00:54,  3.62s/it]\u001b[A\n",
            "ITERATION - loss: 1.984:  89%|████████▉ | 116/130 [2:53:07<00:50,  3.62s/it]\u001b[A\n",
            "ITERATION - loss: 1.747:  90%|█████████ | 117/130 [2:53:11<00:47,  3.62s/it]\u001b[A\n",
            "ITERATION - loss: 2.036:  91%|█████████ | 118/130 [2:53:14<00:43,  3.62s/it]\u001b[A\n",
            "ITERATION - loss: 1.971:  92%|█████████▏| 119/130 [2:53:18<00:39,  3.63s/it]\u001b[A\n",
            "ITERATION - loss: 1.688:  92%|█████████▏| 120/130 [2:53:21<00:36,  3.63s/it]\u001b[A\n",
            "ITERATION - loss: 2.007:  93%|█████████▎| 121/130 [2:53:25<00:32,  3.62s/it]\u001b[A\n",
            "ITERATION - loss: 2.194:  94%|█████████▍| 122/130 [2:53:29<00:28,  3.62s/it]\u001b[A\n",
            "ITERATION - loss: 1.591:  95%|█████████▍| 123/130 [2:53:32<00:25,  3.62s/it]\u001b[A\n",
            "ITERATION - loss: 1.919:  95%|█████████▌| 124/130 [2:53:36<00:21,  3.63s/it]\u001b[A\n",
            "ITERATION - loss: 2.056:  96%|█████████▌| 125/130 [2:53:40<00:18,  3.63s/it]\u001b[A\n",
            "ITERATION - loss: 1.805:  97%|█████████▋| 126/130 [2:53:43<00:14,  3.63s/it]\u001b[A\n",
            "ITERATION - loss: 1.785:  98%|█████████▊| 127/130 [2:53:47<00:10,  3.63s/it]\u001b[A\n",
            "ITERATION - loss: 2.068:  98%|█████████▊| 128/130 [2:53:51<00:07,  3.63s/it]\u001b[A\n",
            "ITERATION - loss: 2.025:  99%|█████████▉| 129/130 [2:53:54<00:03,  3.63s/it]\u001b[A\n",
            "ITERATION - loss: 1.949: 100%|██████████| 130/130 [2:53:57<00:00,  3.39s/it]\u001b[A\n",
            "\n",
            "ITERATION - loss: 8.544:  13%|█▎        | 17/130 [2:56:59<02:22,  1.26s/it]\n",
            "ITERATION - loss: 1.949: 100%|██████████| 130/130 [2:56:25<00:00,  3.39s/it]\u001b[A"
          ],
          "name": "stderr"
        },
        {
          "output_type": "stream",
          "text": [
            "Training Results - Epoch: 20 Age L1-loss: 15.133 ** Gender accuracy: 0.995 ** Race accuracy: 0.974 ** Avg loss: 1.788\n"
          ],
          "name": "stdout"
        },
        {
          "output_type": "stream",
          "text": [
            "\n",
            "ITERATION - loss: 8.544:  13%|█▎        | 17/130 [2:57:34<02:22,  1.26s/it]\n",
            "ITERATION - loss: 1.949: 100%|██████████| 130/130 [2:56:59<00:00,  3.39s/it]\u001b[A"
          ],
          "name": "stderr"
        },
        {
          "output_type": "stream",
          "text": [
            "Validation Results - Epoch: 20 Age L1-loss: 15.038 ** Gender accuracy: 0.918 ** Race accuracy: 0.792 ** Avg loss: 6.086\n"
          ],
          "name": "stdout"
        },
        {
          "output_type": "stream",
          "text": [
            "\n",
            "ITERATION - loss: 1.803:   1%|          | 1/130 [2:57:21<2:16:31, 63.50s/it]\u001b[A\n",
            "ITERATION - loss: 1.604:   2%|▏         | 2/130 [2:57:24<1:37:09, 45.54s/it]\u001b[A\n",
            "ITERATION - loss: 1.662:   2%|▏         | 3/130 [2:57:28<1:09:47, 32.97s/it]\u001b[A\n",
            "ITERATION - loss: 1.700:   3%|▎         | 4/130 [2:57:32<50:44, 24.16s/it]  \u001b[A\n",
            "ITERATION - loss: 1.938:   4%|▍         | 5/130 [2:57:35<37:29, 18.00s/it]\u001b[A\n",
            "ITERATION - loss: 1.761:   5%|▍         | 6/130 [2:57:39<28:15, 13.68s/it]\u001b[A\n",
            "ITERATION - loss: 1.740:   5%|▌         | 7/130 [2:57:42<21:51, 10.66s/it]\u001b[A\n",
            "ITERATION - loss: 1.852:   6%|▌         | 8/130 [2:57:46<17:22,  8.55s/it]\u001b[A\n",
            "ITERATION - loss: 1.700:   7%|▋         | 9/130 [2:57:50<14:15,  7.07s/it]\u001b[A\n",
            "ITERATION - loss: 1.672:   8%|▊         | 10/130 [2:57:53<12:03,  6.03s/it]\u001b[A\n",
            "ITERATION - loss: 1.597:   8%|▊         | 11/130 [2:57:57<10:32,  5.31s/it]\u001b[A\n",
            "ITERATION - loss: 1.547:   9%|▉         | 12/130 [2:58:01<09:26,  4.80s/it]\u001b[A\n",
            "ITERATION - loss: 1.841:  10%|█         | 13/130 [2:58:04<08:42,  4.46s/it]\u001b[A\n",
            "ITERATION - loss: 1.698:  11%|█         | 14/130 [2:58:08<08:08,  4.21s/it]\u001b[A\n",
            "ITERATION - loss: 1.899:  12%|█▏        | 15/130 [2:58:11<07:43,  4.03s/it]\u001b[A\n",
            "ITERATION - loss: 1.578:  12%|█▏        | 16/130 [2:58:15<07:24,  3.90s/it]\u001b[A\n",
            "ITERATION - loss: 1.917:  13%|█▎        | 17/130 [2:58:19<07:12,  3.82s/it]\u001b[A\n",
            "ITERATION - loss: 1.854:  14%|█▍        | 18/130 [2:58:22<07:00,  3.76s/it]\u001b[A\n",
            "ITERATION - loss: 1.759:  15%|█▍        | 19/130 [2:58:26<06:53,  3.72s/it]\u001b[A\n",
            "ITERATION - loss: 1.897:  15%|█▌        | 20/130 [2:58:30<06:46,  3.69s/it]\u001b[A\n",
            "ITERATION - loss: 1.486:  16%|█▌        | 21/130 [2:58:33<06:41,  3.68s/it]\u001b[A\n",
            "ITERATION - loss: 1.548:  17%|█▋        | 22/130 [2:58:37<06:36,  3.67s/it]\u001b[A\n",
            "ITERATION - loss: 1.634:  18%|█▊        | 23/130 [2:58:40<06:31,  3.66s/it]\u001b[A\n",
            "ITERATION - loss: 1.851:  18%|█▊        | 24/130 [2:58:44<06:26,  3.65s/it]\u001b[A\n",
            "ITERATION - loss: 1.850:  19%|█▉        | 25/130 [2:58:48<06:24,  3.66s/it]\u001b[A\n",
            "ITERATION - loss: 1.763:  20%|██        | 26/130 [2:58:51<06:20,  3.66s/it]\u001b[A\n",
            "ITERATION - loss: 1.730:  21%|██        | 27/130 [2:58:55<06:16,  3.65s/it]\u001b[A\n",
            "ITERATION - loss: 1.723:  22%|██▏       | 28/130 [2:58:59<06:11,  3.64s/it]\u001b[A\n",
            "ITERATION - loss: 1.733:  22%|██▏       | 29/130 [2:59:02<06:09,  3.66s/it]\u001b[A\n",
            "ITERATION - loss: 1.629:  23%|██▎       | 30/130 [2:59:06<06:04,  3.65s/it]\u001b[A\n",
            "ITERATION - loss: 1.687:  24%|██▍       | 31/130 [2:59:10<06:00,  3.64s/it]\u001b[A\n",
            "ITERATION - loss: 1.717:  25%|██▍       | 32/130 [2:59:13<05:55,  3.63s/it]\u001b[A\n",
            "ITERATION - loss: 1.932:  25%|██▌       | 33/130 [2:59:17<05:51,  3.63s/it]\u001b[A\n",
            "ITERATION - loss: 1.933:  26%|██▌       | 34/130 [2:59:21<05:48,  3.63s/it]\u001b[A\n",
            "ITERATION - loss: 2.043:  27%|██▋       | 35/130 [2:59:24<05:45,  3.64s/it]\u001b[A\n",
            "ITERATION - loss: 1.639:  28%|██▊       | 36/130 [2:59:28<05:41,  3.63s/it]\u001b[A\n",
            "ITERATION - loss: 1.453:  28%|██▊       | 37/130 [2:59:31<05:37,  3.63s/it]\u001b[A\n",
            "ITERATION - loss: 1.518:  29%|██▉       | 38/130 [2:59:35<05:33,  3.63s/it]\u001b[A\n",
            "ITERATION - loss: 1.548:  30%|███       | 39/130 [2:59:39<05:30,  3.63s/it]\u001b[A\n",
            "ITERATION - loss: 1.676:  31%|███       | 40/130 [2:59:42<05:26,  3.63s/it]\u001b[A\n",
            "ITERATION - loss: 1.552:  32%|███▏      | 41/130 [2:59:46<05:22,  3.63s/it]\u001b[A\n",
            "ITERATION - loss: 1.626:  32%|███▏      | 42/130 [2:59:50<05:19,  3.63s/it]\u001b[A\n",
            "ITERATION - loss: 1.468:  33%|███▎      | 43/130 [2:59:53<05:15,  3.63s/it]\u001b[A\n",
            "ITERATION - loss: 1.659:  34%|███▍      | 44/130 [2:59:57<05:12,  3.63s/it]\u001b[A\n",
            "ITERATION - loss: 1.537:  35%|███▍      | 45/130 [3:00:00<05:09,  3.64s/it]\u001b[A\n",
            "ITERATION - loss: 1.672:  35%|███▌      | 46/130 [3:00:04<05:05,  3.63s/it]\u001b[A\n",
            "ITERATION - loss: 1.629:  36%|███▌      | 47/130 [3:00:08<05:01,  3.63s/it]\u001b[A\n",
            "ITERATION - loss: 1.647:  37%|███▋      | 48/130 [3:00:11<04:57,  3.63s/it]\u001b[A\n",
            "ITERATION - loss: 1.848:  38%|███▊      | 49/130 [3:00:15<04:54,  3.63s/it]\u001b[A\n",
            "ITERATION - loss: 1.714:  38%|███▊      | 50/130 [3:00:19<04:50,  3.63s/it]\u001b[A\n",
            "ITERATION - loss: 1.762:  39%|███▉      | 51/130 [3:00:22<04:46,  3.63s/it]\u001b[A\n",
            "ITERATION - loss: 1.814:  40%|████      | 52/130 [3:00:26<04:43,  3.63s/it]\u001b[A\n",
            "ITERATION - loss: 1.656:  41%|████      | 53/130 [3:00:30<04:39,  3.63s/it]\u001b[A\n",
            "ITERATION - loss: 1.851:  42%|████▏     | 54/130 [3:00:33<04:35,  3.63s/it]\u001b[A\n",
            "ITERATION - loss: 1.646:  42%|████▏     | 55/130 [3:00:37<04:33,  3.65s/it]\u001b[A\n",
            "ITERATION - loss: 1.853:  43%|████▎     | 56/130 [3:00:40<04:29,  3.64s/it]\u001b[A\n",
            "ITERATION - loss: 1.713:  44%|████▍     | 57/130 [3:00:44<04:25,  3.64s/it]\u001b[A\n",
            "ITERATION - loss: 1.549:  45%|████▍     | 58/130 [3:00:48<04:20,  3.62s/it]\u001b[A\n",
            "ITERATION - loss: 1.813:  45%|████▌     | 59/130 [3:00:51<04:18,  3.64s/it]\u001b[A\n",
            "ITERATION - loss: 1.747:  46%|████▌     | 60/130 [3:00:55<04:14,  3.64s/it]\u001b[A\n",
            "ITERATION - loss: 1.972:  47%|████▋     | 61/130 [3:00:59<04:10,  3.64s/it]\u001b[A\n",
            "ITERATION - loss: 1.662:  48%|████▊     | 62/130 [3:01:02<04:06,  3.63s/it]\u001b[A\n",
            "ITERATION - loss: 1.799:  48%|████▊     | 63/130 [3:01:06<04:04,  3.65s/it]\u001b[A\n",
            "ITERATION - loss: 1.747:  49%|████▉     | 64/130 [3:01:10<04:00,  3.65s/it]\u001b[A\n",
            "ITERATION - loss: 1.697:  50%|█████     | 65/130 [3:01:13<03:56,  3.64s/it]\u001b[A\n",
            "ITERATION - loss: 1.780:  51%|█████     | 66/130 [3:01:17<03:52,  3.63s/it]\u001b[A\n",
            "ITERATION - loss: 1.887:  52%|█████▏    | 67/130 [3:01:20<03:48,  3.62s/it]\u001b[A\n",
            "ITERATION - loss: 1.583:  52%|█████▏    | 68/130 [3:01:24<03:44,  3.62s/it]\u001b[A\n",
            "ITERATION - loss: 1.867:  53%|█████▎    | 69/130 [3:01:28<03:41,  3.63s/it]\u001b[A\n",
            "ITERATION - loss: 2.016:  54%|█████▍    | 70/130 [3:01:31<03:37,  3.63s/it]\u001b[A\n",
            "ITERATION - loss: 1.861:  55%|█████▍    | 71/130 [3:01:35<03:34,  3.63s/it]\u001b[A\n",
            "ITERATION - loss: 1.805:  55%|█████▌    | 72/130 [3:01:39<03:30,  3.63s/it]\u001b[A\n",
            "ITERATION - loss: 1.651:  56%|█████▌    | 73/130 [3:01:42<03:26,  3.63s/it]\u001b[A\n",
            "ITERATION - loss: 2.072:  57%|█████▋    | 74/130 [3:01:46<03:23,  3.63s/it]\u001b[A\n",
            "ITERATION - loss: 1.449:  58%|█████▊    | 75/130 [3:01:49<03:19,  3.63s/it]\u001b[A\n",
            "ITERATION - loss: 1.807:  58%|█████▊    | 76/130 [3:01:53<03:16,  3.63s/it]\u001b[A\n",
            "ITERATION - loss: 2.110:  59%|█████▉    | 77/130 [3:01:57<03:12,  3.63s/it]\u001b[A\n",
            "ITERATION - loss: 2.056:  60%|██████    | 78/130 [3:02:00<03:08,  3.63s/it]\u001b[A\n",
            "ITERATION - loss: 1.806:  61%|██████    | 79/130 [3:02:04<03:05,  3.63s/it]\u001b[A\n",
            "ITERATION - loss: 1.650:  62%|██████▏   | 80/130 [3:02:08<03:01,  3.63s/it]\u001b[A\n",
            "ITERATION - loss: 1.695:  62%|██████▏   | 81/130 [3:02:11<02:57,  3.63s/it]\u001b[A\n",
            "ITERATION - loss: 1.722:  63%|██████▎   | 82/130 [3:02:15<02:54,  3.64s/it]\u001b[A\n",
            "ITERATION - loss: 1.721:  64%|██████▍   | 83/130 [3:02:18<02:50,  3.63s/it]\u001b[A\n",
            "ITERATION - loss: 1.597:  65%|██████▍   | 84/130 [3:02:22<02:47,  3.63s/it]\u001b[A\n",
            "ITERATION - loss: 1.852:  65%|██████▌   | 85/130 [3:02:26<02:43,  3.62s/it]\u001b[A\n",
            "ITERATION - loss: 2.031:  66%|██████▌   | 86/130 [3:02:29<02:39,  3.63s/it]\u001b[A\n",
            "ITERATION - loss: 1.878:  67%|██████▋   | 87/130 [3:02:33<02:36,  3.63s/it]\u001b[A\n",
            "ITERATION - loss: 1.631:  68%|██████▊   | 88/130 [3:02:37<02:32,  3.63s/it]\u001b[A\n",
            "ITERATION - loss: 1.830:  68%|██████▊   | 89/130 [3:02:40<02:28,  3.63s/it]\u001b[A\n",
            "ITERATION - loss: 1.742:  69%|██████▉   | 90/130 [3:02:44<02:25,  3.63s/it]\u001b[A\n",
            "ITERATION - loss: 1.828:  70%|███████   | 91/130 [3:02:48<02:21,  3.63s/it]\u001b[A\n",
            "ITERATION - loss: 1.688:  71%|███████   | 92/130 [3:02:51<02:17,  3.63s/it]\u001b[A\n",
            "ITERATION - loss: 1.619:  72%|███████▏  | 93/130 [3:02:55<02:14,  3.62s/it]\u001b[A\n",
            "ITERATION - loss: 2.345:  72%|███████▏  | 94/130 [3:02:58<02:10,  3.63s/it]\u001b[A\n",
            "ITERATION - loss: 1.953:  73%|███████▎  | 95/130 [3:03:02<02:07,  3.64s/it]\u001b[A\n",
            "ITERATION - loss: 2.098:  74%|███████▍  | 96/130 [3:03:06<02:03,  3.62s/it]\u001b[A\n",
            "ITERATION - loss: 2.023:  75%|███████▍  | 97/130 [3:03:09<01:59,  3.62s/it]\u001b[A\n",
            "ITERATION - loss: 1.665:  75%|███████▌  | 98/130 [3:03:13<01:56,  3.63s/it]\u001b[A\n",
            "ITERATION - loss: 1.985:  76%|███████▌  | 99/130 [3:03:17<01:52,  3.63s/it]\u001b[A\n",
            "ITERATION - loss: 1.898:  77%|███████▋  | 100/130 [3:03:20<01:48,  3.63s/it]\u001b[A\n",
            "ITERATION - loss: 1.645:  78%|███████▊  | 101/130 [3:03:24<01:45,  3.63s/it]\u001b[A\n",
            "ITERATION - loss: 1.870:  78%|███████▊  | 102/130 [3:03:27<01:41,  3.63s/it]\u001b[A\n",
            "ITERATION - loss: 1.697:  79%|███████▉  | 103/130 [3:03:31<01:38,  3.64s/it]\u001b[A\n",
            "ITERATION - loss: 1.900:  80%|████████  | 104/130 [3:03:35<01:34,  3.63s/it]\u001b[A\n",
            "ITERATION - loss: 1.989:  81%|████████  | 105/130 [3:03:38<01:30,  3.63s/it]\u001b[A\n",
            "ITERATION - loss: 1.912:  82%|████████▏ | 106/130 [3:03:42<01:27,  3.64s/it]\u001b[A\n",
            "ITERATION - loss: 1.908:  82%|████████▏ | 107/130 [3:03:46<01:23,  3.64s/it]\u001b[A\n",
            "ITERATION - loss: 1.817:  83%|████████▎ | 108/130 [3:03:49<01:19,  3.63s/it]\u001b[A\n",
            "ITERATION - loss: 1.897:  84%|████████▍ | 109/130 [3:03:53<01:16,  3.63s/it]\u001b[A\n",
            "ITERATION - loss: 1.682:  85%|████████▍ | 110/130 [3:03:57<01:12,  3.63s/it]\u001b[A\n",
            "ITERATION - loss: 1.782:  85%|████████▌ | 111/130 [3:04:00<01:09,  3.64s/it]\u001b[A\n",
            "ITERATION - loss: 1.935:  86%|████████▌ | 112/130 [3:04:04<01:05,  3.63s/it]\u001b[A\n",
            "ITERATION - loss: 1.453:  87%|████████▋ | 113/130 [3:04:07<01:01,  3.63s/it]\u001b[A\n",
            "ITERATION - loss: 1.422:  88%|████████▊ | 114/130 [3:04:11<00:58,  3.63s/it]\u001b[A\n",
            "ITERATION - loss: 1.667:  88%|████████▊ | 115/130 [3:04:15<00:54,  3.63s/it]\u001b[A\n",
            "ITERATION - loss: 1.879:  89%|████████▉ | 116/130 [3:04:18<00:50,  3.63s/it]\u001b[A\n",
            "ITERATION - loss: 1.954:  90%|█████████ | 117/130 [3:04:22<00:47,  3.63s/it]\u001b[A\n",
            "ITERATION - loss: 1.948:  91%|█████████ | 118/130 [3:04:26<00:43,  3.63s/it]\u001b[A\n",
            "ITERATION - loss: 1.364:  92%|█████████▏| 119/130 [3:04:29<00:40,  3.64s/it]\u001b[A\n",
            "ITERATION - loss: 1.614:  92%|█████████▏| 120/130 [3:04:33<00:36,  3.63s/it]\u001b[A\n",
            "ITERATION - loss: 1.691:  93%|█████████▎| 121/130 [3:04:36<00:32,  3.63s/it]\u001b[A\n",
            "ITERATION - loss: 1.465:  94%|█████████▍| 122/130 [3:04:40<00:29,  3.63s/it]\u001b[A\n",
            "ITERATION - loss: 1.676:  95%|█████████▍| 123/130 [3:04:44<00:25,  3.63s/it]\u001b[A\n",
            "ITERATION - loss: 1.995:  95%|█████████▌| 124/130 [3:04:47<00:21,  3.63s/it]\u001b[A\n",
            "ITERATION - loss: 1.942:  96%|█████████▌| 125/130 [3:04:51<00:18,  3.63s/it]\u001b[A\n",
            "ITERATION - loss: 1.802:  97%|█████████▋| 126/130 [3:04:55<00:14,  3.63s/it]\u001b[A\n",
            "ITERATION - loss: 1.731:  98%|█████████▊| 127/130 [3:04:58<00:10,  3.62s/it]\u001b[A\n",
            "ITERATION - loss: 1.586:  98%|█████████▊| 128/130 [3:05:02<00:07,  3.62s/it]\u001b[A\n",
            "ITERATION - loss: 1.745:  99%|█████████▉| 129/130 [3:05:05<00:03,  3.62s/it]\u001b[A\n",
            "ITERATION - loss: 1.541: 100%|██████████| 130/130 [3:05:08<00:00,  3.39s/it]\u001b[A\n",
            "\n",
            "ITERATION - loss: 8.544:  13%|█▎        | 17/130 [3:08:11<02:22,  1.26s/it]\n",
            "ITERATION - loss: 1.541: 100%|██████████| 130/130 [3:07:36<00:00,  3.39s/it]\u001b[A"
          ],
          "name": "stderr"
        },
        {
          "output_type": "stream",
          "text": [
            "Training Results - Epoch: 21 Age L1-loss: 15.258 ** Gender accuracy: 0.993 ** Race accuracy: 0.988 ** Avg loss: 1.704\n"
          ],
          "name": "stdout"
        },
        {
          "output_type": "stream",
          "text": [
            "\n",
            "ITERATION - loss: 8.544:  13%|█▎        | 17/130 [3:08:44<02:22,  1.26s/it]\n",
            "ITERATION - loss: 1.541: 100%|██████████| 130/130 [3:08:10<00:00,  3.39s/it]\u001b[A"
          ],
          "name": "stderr"
        },
        {
          "output_type": "stream",
          "text": [
            "Validation Results - Epoch: 21 Age L1-loss: 15.139 ** Gender accuracy: 0.920 ** Race accuracy: 0.814 ** Avg loss: 6.430\n"
          ],
          "name": "stdout"
        },
        {
          "output_type": "stream",
          "text": [
            "\n",
            "ITERATION - loss: 1.540:   1%|          | 1/130 [3:08:17<2:06:32, 58.86s/it]\u001b[A\n",
            "ITERATION - loss: 1.478:   2%|▏         | 2/130 [3:08:20<1:30:12, 42.29s/it]\u001b[A\n",
            "ITERATION - loss: 2.188:   2%|▏         | 3/130 [3:08:24<1:04:57, 30.69s/it]\u001b[A\n",
            "ITERATION - loss: 1.778:   3%|▎         | 4/130 [3:08:27<47:23, 22.56s/it]  \u001b[A\n",
            "ITERATION - loss: 1.819:   4%|▍         | 5/130 [3:08:31<35:09, 16.88s/it]\u001b[A\n",
            "ITERATION - loss: 1.633:   5%|▍         | 6/130 [3:08:35<26:40, 12.90s/it]\u001b[A\n",
            "ITERATION - loss: 1.526:   5%|▌         | 7/130 [3:08:38<20:44, 10.12s/it]\u001b[A\n",
            "ITERATION - loss: 1.667:   6%|▌         | 8/130 [3:08:42<16:36,  8.17s/it]\u001b[A\n",
            "ITERATION - loss: 1.632:   7%|▋         | 9/130 [3:08:46<13:43,  6.81s/it]\u001b[A\n",
            "ITERATION - loss: 1.620:   8%|▊         | 10/130 [3:08:49<11:42,  5.86s/it]\u001b[A\n",
            "ITERATION - loss: 1.987:   8%|▊         | 11/130 [3:08:53<10:16,  5.18s/it]\u001b[A\n",
            "ITERATION - loss: 1.607:   9%|▉         | 12/130 [3:08:56<09:15,  4.71s/it]\u001b[A\n",
            "ITERATION - loss: 1.537:  10%|█         | 13/130 [3:09:00<08:33,  4.39s/it]\u001b[A\n",
            "ITERATION - loss: 1.902:  11%|█         | 14/130 [3:09:04<08:03,  4.16s/it]\u001b[A\n",
            "ITERATION - loss: 1.618:  12%|█▏        | 15/130 [3:09:07<07:41,  4.01s/it]\u001b[A\n",
            "ITERATION - loss: 1.428:  12%|█▏        | 16/130 [3:09:11<07:23,  3.89s/it]\u001b[A\n",
            "ITERATION - loss: 1.508:  13%|█▎        | 17/130 [3:09:15<07:13,  3.84s/it]\u001b[A\n",
            "ITERATION - loss: 1.590:  14%|█▍        | 18/130 [3:09:18<07:06,  3.81s/it]\u001b[A\n",
            "ITERATION - loss: 1.873:  15%|█▍        | 19/130 [3:09:22<06:56,  3.75s/it]\u001b[A\n",
            "ITERATION - loss: 1.561:  15%|█▌        | 20/130 [3:09:26<06:48,  3.71s/it]\u001b[A\n",
            "ITERATION - loss: 1.899:  16%|█▌        | 21/130 [3:09:29<06:42,  3.69s/it]\u001b[A\n",
            "ITERATION - loss: 1.766:  17%|█▋        | 22/130 [3:09:33<06:36,  3.67s/it]\u001b[A\n",
            "ITERATION - loss: 1.665:  18%|█▊        | 23/130 [3:09:37<06:31,  3.66s/it]\u001b[A\n",
            "ITERATION - loss: 1.612:  18%|█▊        | 24/130 [3:09:40<06:26,  3.65s/it]\u001b[A\n",
            "ITERATION - loss: 1.672:  19%|█▉        | 25/130 [3:09:44<06:22,  3.64s/it]\u001b[A\n",
            "ITERATION - loss: 1.697:  20%|██        | 26/130 [3:09:47<06:18,  3.64s/it]\u001b[A\n",
            "ITERATION - loss: 1.707:  21%|██        | 27/130 [3:09:51<06:13,  3.63s/it]\u001b[A\n",
            "ITERATION - loss: 1.478:  22%|██▏       | 28/130 [3:09:55<06:10,  3.63s/it]\u001b[A\n",
            "ITERATION - loss: 1.514:  22%|██▏       | 29/130 [3:09:58<06:07,  3.64s/it]\u001b[A\n",
            "ITERATION - loss: 1.640:  23%|██▎       | 30/130 [3:10:02<06:04,  3.64s/it]\u001b[A\n",
            "ITERATION - loss: 1.763:  24%|██▍       | 31/130 [3:10:06<06:00,  3.64s/it]\u001b[A\n",
            "ITERATION - loss: 1.873:  25%|██▍       | 32/130 [3:10:09<05:56,  3.64s/it]\u001b[A\n",
            "ITERATION - loss: 1.697:  25%|██▌       | 33/130 [3:10:13<05:52,  3.64s/it]\u001b[A\n",
            "ITERATION - loss: 1.710:  26%|██▌       | 34/130 [3:10:17<05:49,  3.64s/it]\u001b[A\n",
            "ITERATION - loss: 1.383:  27%|██▋       | 35/130 [3:10:20<05:45,  3.64s/it]\u001b[A\n",
            "ITERATION - loss: 1.776:  28%|██▊       | 36/130 [3:10:24<05:42,  3.64s/it]\u001b[A\n",
            "ITERATION - loss: 1.506:  28%|██▊       | 37/130 [3:10:27<05:38,  3.63s/it]\u001b[A\n",
            "ITERATION - loss: 1.536:  29%|██▉       | 38/130 [3:10:31<05:34,  3.63s/it]\u001b[A\n",
            "ITERATION - loss: 1.631:  30%|███       | 39/130 [3:10:35<05:29,  3.62s/it]\u001b[A\n",
            "ITERATION - loss: 1.773:  31%|███       | 40/130 [3:10:38<05:25,  3.62s/it]\u001b[A\n",
            "ITERATION - loss: 2.000:  32%|███▏      | 41/130 [3:10:42<05:22,  3.63s/it]\u001b[A\n",
            "ITERATION - loss: 1.416:  32%|███▏      | 42/130 [3:10:46<05:19,  3.63s/it]\u001b[A\n",
            "ITERATION - loss: 1.528:  33%|███▎      | 43/130 [3:10:49<05:15,  3.63s/it]\u001b[A\n",
            "ITERATION - loss: 1.843:  34%|███▍      | 44/130 [3:10:53<05:12,  3.63s/it]\u001b[A\n",
            "ITERATION - loss: 2.050:  35%|███▍      | 45/130 [3:10:56<05:08,  3.63s/it]\u001b[A\n",
            "ITERATION - loss: 1.646:  35%|███▌      | 46/130 [3:11:00<05:05,  3.64s/it]\u001b[A\n",
            "ITERATION - loss: 1.546:  36%|███▌      | 47/130 [3:11:04<05:01,  3.64s/it]\u001b[A\n",
            "ITERATION - loss: 1.650:  37%|███▋      | 48/130 [3:11:07<04:58,  3.64s/it]\u001b[A\n",
            "ITERATION - loss: 1.628:  38%|███▊      | 49/130 [3:11:11<04:55,  3.64s/it]\u001b[A\n",
            "ITERATION - loss: 1.743:  38%|███▊      | 50/130 [3:11:15<04:51,  3.65s/it]\u001b[A\n",
            "ITERATION - loss: 1.587:  39%|███▉      | 51/130 [3:11:18<04:47,  3.64s/it]\u001b[A\n",
            "ITERATION - loss: 1.637:  40%|████      | 52/130 [3:11:22<04:44,  3.64s/it]\u001b[A\n",
            "ITERATION - loss: 1.498:  41%|████      | 53/130 [3:11:26<04:40,  3.64s/it]\u001b[A\n",
            "ITERATION - loss: 1.468:  42%|████▏     | 54/130 [3:11:29<04:36,  3.64s/it]\u001b[A\n",
            "ITERATION - loss: 1.510:  42%|████▏     | 55/130 [3:11:33<04:33,  3.64s/it]\u001b[A\n",
            "ITERATION - loss: 2.131:  43%|████▎     | 56/130 [3:11:37<04:29,  3.64s/it]\u001b[A\n",
            "ITERATION - loss: 1.541:  44%|████▍     | 57/130 [3:11:40<04:25,  3.64s/it]\u001b[A\n",
            "ITERATION - loss: 1.723:  45%|████▍     | 58/130 [3:11:44<04:22,  3.64s/it]\u001b[A\n",
            "ITERATION - loss: 1.919:  45%|████▌     | 59/130 [3:11:47<04:17,  3.63s/it]\u001b[A\n",
            "ITERATION - loss: 1.970:  46%|████▌     | 60/130 [3:11:51<04:13,  3.62s/it]\u001b[A\n",
            "ITERATION - loss: 1.715:  47%|████▋     | 61/130 [3:11:55<04:09,  3.62s/it]\u001b[A\n",
            "ITERATION - loss: 1.909:  48%|████▊     | 62/130 [3:11:58<04:06,  3.62s/it]\u001b[A\n",
            "ITERATION - loss: 1.882:  48%|████▊     | 63/130 [3:12:02<04:02,  3.62s/it]\u001b[A\n",
            "ITERATION - loss: 1.797:  49%|████▉     | 64/130 [3:12:06<04:00,  3.65s/it]\u001b[A\n",
            "ITERATION - loss: 1.611:  50%|█████     | 65/130 [3:12:09<03:57,  3.65s/it]\u001b[A\n",
            "ITERATION - loss: 1.726:  51%|█████     | 66/130 [3:12:13<03:54,  3.67s/it]\u001b[A\n",
            "ITERATION - loss: 1.708:  52%|█████▏    | 67/130 [3:12:17<03:50,  3.66s/it]\u001b[A\n",
            "ITERATION - loss: 1.832:  52%|█████▏    | 68/130 [3:12:20<03:46,  3.65s/it]\u001b[A\n",
            "ITERATION - loss: 1.729:  53%|█████▎    | 69/130 [3:12:24<03:42,  3.65s/it]\u001b[A\n",
            "ITERATION - loss: 1.830:  54%|█████▍    | 70/130 [3:12:27<03:38,  3.65s/it]\u001b[A\n",
            "ITERATION - loss: 1.528:  55%|█████▍    | 71/130 [3:12:31<03:35,  3.65s/it]\u001b[A\n",
            "ITERATION - loss: 1.729:  55%|█████▌    | 72/130 [3:12:35<03:31,  3.64s/it]\u001b[A\n",
            "ITERATION - loss: 1.805:  56%|█████▌    | 73/130 [3:12:38<03:28,  3.66s/it]\u001b[A\n",
            "ITERATION - loss: 1.740:  57%|█████▋    | 74/130 [3:12:42<03:25,  3.66s/it]\u001b[A\n",
            "ITERATION - loss: 1.584:  58%|█████▊    | 75/130 [3:12:46<03:20,  3.65s/it]\u001b[A\n",
            "ITERATION - loss: 1.612:  58%|█████▊    | 76/130 [3:12:49<03:17,  3.65s/it]\u001b[A\n",
            "ITERATION - loss: 1.727:  59%|█████▉    | 77/130 [3:12:53<03:13,  3.65s/it]\u001b[A\n",
            "ITERATION - loss: 2.026:  60%|██████    | 78/130 [3:12:57<03:09,  3.65s/it]\u001b[A\n",
            "ITERATION - loss: 1.635:  61%|██████    | 79/130 [3:13:00<03:05,  3.65s/it]\u001b[A\n",
            "ITERATION - loss: 1.664:  62%|██████▏   | 80/130 [3:13:04<03:02,  3.64s/it]\u001b[A\n",
            "ITERATION - loss: 1.761:  62%|██████▏   | 81/130 [3:13:08<02:58,  3.65s/it]\u001b[A\n",
            "ITERATION - loss: 1.794:  63%|██████▎   | 82/130 [3:13:11<02:54,  3.64s/it]\u001b[A\n",
            "ITERATION - loss: 1.914:  64%|██████▍   | 83/130 [3:13:15<02:50,  3.64s/it]\u001b[A\n",
            "ITERATION - loss: 1.582:  65%|██████▍   | 84/130 [3:13:19<02:47,  3.64s/it]\u001b[A\n",
            "ITERATION - loss: 1.744:  65%|██████▌   | 85/130 [3:13:22<02:43,  3.64s/it]\u001b[A\n",
            "ITERATION - loss: 1.743:  66%|██████▌   | 86/130 [3:13:26<02:40,  3.65s/it]\u001b[A\n",
            "ITERATION - loss: 1.950:  67%|██████▋   | 87/130 [3:13:29<02:36,  3.64s/it]\u001b[A\n",
            "ITERATION - loss: 2.064:  68%|██████▊   | 88/130 [3:13:33<02:33,  3.65s/it]\u001b[A\n",
            "ITERATION - loss: 1.850:  68%|██████▊   | 89/130 [3:13:37<02:29,  3.64s/it]\u001b[A\n",
            "ITERATION - loss: 1.561:  69%|██████▉   | 90/130 [3:13:40<02:26,  3.65s/it]\u001b[A\n",
            "ITERATION - loss: 1.694:  70%|███████   | 91/130 [3:13:44<02:22,  3.64s/it]\u001b[A\n",
            "ITERATION - loss: 1.603:  71%|███████   | 92/130 [3:13:48<02:18,  3.65s/it]\u001b[A\n",
            "ITERATION - loss: 1.690:  72%|███████▏  | 93/130 [3:13:51<02:15,  3.67s/it]\u001b[A\n",
            "ITERATION - loss: 1.775:  72%|███████▏  | 94/130 [3:13:55<02:12,  3.67s/it]\u001b[A\n",
            "ITERATION - loss: 1.606:  73%|███████▎  | 95/130 [3:13:59<02:07,  3.65s/it]\u001b[A\n",
            "ITERATION - loss: 1.913:  74%|███████▍  | 96/130 [3:14:02<02:03,  3.64s/it]\u001b[A\n",
            "ITERATION - loss: 1.555:  75%|███████▍  | 97/130 [3:14:06<02:00,  3.64s/it]\u001b[A\n",
            "ITERATION - loss: 1.794:  75%|███████▌  | 98/130 [3:14:10<01:56,  3.64s/it]\u001b[A\n",
            "ITERATION - loss: 1.720:  76%|███████▌  | 99/130 [3:14:13<01:52,  3.64s/it]\u001b[A\n",
            "ITERATION - loss: 1.690:  77%|███████▋  | 100/130 [3:14:17<01:49,  3.64s/it]\u001b[A\n",
            "ITERATION - loss: 1.921:  78%|███████▊  | 101/130 [3:14:21<01:45,  3.65s/it]\u001b[A\n",
            "ITERATION - loss: 1.406:  78%|███████▊  | 102/130 [3:14:24<01:42,  3.65s/it]\u001b[A\n",
            "ITERATION - loss: 1.974:  79%|███████▉  | 103/130 [3:14:28<01:38,  3.64s/it]\u001b[A\n",
            "ITERATION - loss: 1.683:  80%|████████  | 104/130 [3:14:31<01:34,  3.64s/it]\u001b[A\n",
            "ITERATION - loss: 1.931:  81%|████████  | 105/130 [3:14:35<01:31,  3.64s/it]\u001b[A\n",
            "ITERATION - loss: 1.519:  82%|████████▏ | 106/130 [3:14:39<01:27,  3.64s/it]\u001b[A\n",
            "ITERATION - loss: 1.825:  82%|████████▏ | 107/130 [3:14:42<01:23,  3.63s/it]\u001b[A\n",
            "ITERATION - loss: 1.654:  83%|████████▎ | 108/130 [3:14:46<01:19,  3.63s/it]\u001b[A\n",
            "ITERATION - loss: 1.575:  84%|████████▍ | 109/130 [3:14:50<01:16,  3.63s/it]\u001b[A\n",
            "ITERATION - loss: 1.594:  85%|████████▍ | 110/130 [3:14:53<01:12,  3.64s/it]\u001b[A\n",
            "ITERATION - loss: 1.689:  85%|████████▌ | 111/130 [3:14:57<01:09,  3.64s/it]\u001b[A\n",
            "ITERATION - loss: 2.070:  86%|████████▌ | 112/130 [3:15:01<01:05,  3.64s/it]\u001b[A\n",
            "ITERATION - loss: 1.731:  87%|████████▋ | 113/130 [3:15:04<01:01,  3.65s/it]\u001b[A\n",
            "ITERATION - loss: 1.689:  88%|████████▊ | 114/130 [3:15:08<00:58,  3.64s/it]\u001b[A\n",
            "ITERATION - loss: 1.691:  88%|████████▊ | 115/130 [3:15:12<00:54,  3.64s/it]\u001b[A\n",
            "ITERATION - loss: 1.595:  89%|████████▉ | 116/130 [3:15:15<00:51,  3.65s/it]\u001b[A\n",
            "ITERATION - loss: 1.746:  90%|█████████ | 117/130 [3:15:19<00:47,  3.64s/it]\u001b[A\n",
            "ITERATION - loss: 1.875:  91%|█████████ | 118/130 [3:15:22<00:43,  3.64s/it]\u001b[A\n",
            "ITERATION - loss: 1.499:  92%|█████████▏| 119/130 [3:15:26<00:40,  3.65s/it]\u001b[A\n",
            "ITERATION - loss: 1.977:  92%|█████████▏| 120/130 [3:15:30<00:36,  3.65s/it]\u001b[A\n",
            "ITERATION - loss: 1.780:  93%|█████████▎| 121/130 [3:15:33<00:32,  3.65s/it]\u001b[A\n",
            "ITERATION - loss: 1.672:  94%|█████████▍| 122/130 [3:15:37<00:29,  3.65s/it]\u001b[A\n",
            "ITERATION - loss: 1.599:  95%|█████████▍| 123/130 [3:15:41<00:25,  3.65s/it]\u001b[A\n",
            "ITERATION - loss: 1.680:  95%|█████████▌| 124/130 [3:15:44<00:21,  3.64s/it]\u001b[A\n",
            "ITERATION - loss: 1.626:  96%|█████████▌| 125/130 [3:15:48<00:18,  3.64s/it]\u001b[A\n",
            "ITERATION - loss: 1.786:  97%|█████████▋| 126/130 [3:15:52<00:14,  3.64s/it]\u001b[A\n",
            "ITERATION - loss: 1.660:  98%|█████████▊| 127/130 [3:15:55<00:10,  3.64s/it]\u001b[A\n",
            "ITERATION - loss: 1.548:  98%|█████████▊| 128/130 [3:15:59<00:07,  3.63s/it]\u001b[A\n",
            "ITERATION - loss: 1.534:  99%|█████████▉| 129/130 [3:16:02<00:03,  3.63s/it]\u001b[A\n",
            "ITERATION - loss: 1.426: 100%|██████████| 130/130 [3:16:05<00:00,  3.39s/it]\u001b[A\n",
            "\n",
            "ITERATION - loss: 8.544:  13%|█▎        | 17/130 [3:19:08<02:22,  1.26s/it]\n",
            "ITERATION - loss: 1.426: 100%|██████████| 130/130 [3:18:34<00:00,  3.39s/it]\u001b[A"
          ],
          "name": "stderr"
        },
        {
          "output_type": "stream",
          "text": [
            "Training Results - Epoch: 22 Age L1-loss: 15.827 ** Gender accuracy: 0.995 ** Race accuracy: 0.993 ** Avg loss: 1.701\n"
          ],
          "name": "stdout"
        },
        {
          "output_type": "stream",
          "text": [
            "\n",
            "ITERATION - loss: 8.544:  13%|█▎        | 17/130 [3:19:42<02:22,  1.26s/it]\n",
            "ITERATION - loss: 1.426: 100%|██████████| 130/130 [3:19:08<00:00,  3.39s/it]\u001b[A"
          ],
          "name": "stderr"
        },
        {
          "output_type": "stream",
          "text": [
            "Validation Results - Epoch: 22 Age L1-loss: 15.673 ** Gender accuracy: 0.920 ** Race accuracy: 0.811 ** Avg loss: 5.796\n"
          ],
          "name": "stdout"
        },
        {
          "output_type": "stream",
          "text": [
            "\n",
            "ITERATION - loss: 1.602:   1%|          | 1/130 [3:19:14<2:06:45, 58.96s/it]\u001b[A\n",
            "ITERATION - loss: 2.016:   2%|▏         | 2/130 [3:19:18<1:30:22, 42.36s/it]\u001b[A\n",
            "ITERATION - loss: 1.480:   2%|▏         | 3/130 [3:19:21<1:05:04, 30.74s/it]\u001b[A\n",
            "ITERATION - loss: 1.579:   3%|▎         | 4/130 [3:19:25<47:28, 22.61s/it]  \u001b[A\n",
            "ITERATION - loss: 1.531:   4%|▍         | 5/130 [3:19:28<35:14, 16.91s/it]\u001b[A\n",
            "ITERATION - loss: 1.674:   5%|▍         | 6/130 [3:19:32<26:43, 12.93s/it]\u001b[A\n",
            "ITERATION - loss: 1.848:   5%|▌         | 7/130 [3:19:36<20:46, 10.13s/it]\u001b[A\n",
            "ITERATION - loss: 1.644:   6%|▌         | 8/130 [3:19:39<16:37,  8.18s/it]\u001b[A\n",
            "ITERATION - loss: 1.875:   7%|▋         | 9/130 [3:19:43<13:45,  6.82s/it]\u001b[A\n",
            "ITERATION - loss: 1.652:   8%|▊         | 10/130 [3:19:47<11:42,  5.86s/it]\u001b[A\n",
            "ITERATION - loss: 1.600:   8%|▊         | 11/130 [3:19:50<10:16,  5.18s/it]\u001b[A\n",
            "ITERATION - loss: 1.648:   9%|▉         | 12/130 [3:19:54<09:16,  4.71s/it]\u001b[A\n",
            "ITERATION - loss: 1.621:  10%|█         | 13/130 [3:19:57<08:33,  4.39s/it]\u001b[A\n",
            "ITERATION - loss: 1.796:  11%|█         | 14/130 [3:20:01<08:02,  4.16s/it]\u001b[A\n",
            "ITERATION - loss: 1.634:  12%|█▏        | 15/130 [3:20:05<07:39,  3.99s/it]\u001b[A\n",
            "ITERATION - loss: 1.584:  12%|█▏        | 16/130 [3:20:08<07:22,  3.88s/it]\u001b[A\n",
            "ITERATION - loss: 1.553:  13%|█▎        | 17/130 [3:20:12<07:10,  3.81s/it]\u001b[A\n",
            "ITERATION - loss: 1.507:  14%|█▍        | 18/130 [3:20:16<07:00,  3.75s/it]\u001b[A\n",
            "ITERATION - loss: 1.858:  15%|█▍        | 19/130 [3:20:19<06:52,  3.72s/it]\u001b[A\n",
            "ITERATION - loss: 1.756:  15%|█▌        | 20/130 [3:20:23<06:46,  3.69s/it]\u001b[A\n",
            "ITERATION - loss: 1.677:  16%|█▌        | 21/130 [3:20:26<06:40,  3.68s/it]\u001b[A\n",
            "ITERATION - loss: 1.581:  17%|█▋        | 22/130 [3:20:30<06:35,  3.66s/it]\u001b[A\n",
            "ITERATION - loss: 1.518:  18%|█▊        | 23/130 [3:20:34<06:31,  3.66s/it]\u001b[A\n",
            "ITERATION - loss: 1.512:  18%|█▊        | 24/130 [3:20:37<06:27,  3.65s/it]\u001b[A\n",
            "ITERATION - loss: 1.635:  19%|█▉        | 25/130 [3:20:41<06:23,  3.65s/it]\u001b[A\n",
            "ITERATION - loss: 1.602:  20%|██        | 26/130 [3:20:45<06:19,  3.65s/it]\u001b[A\n",
            "ITERATION - loss: 1.585:  21%|██        | 27/130 [3:20:48<06:15,  3.65s/it]\u001b[A\n",
            "ITERATION - loss: 1.745:  22%|██▏       | 28/130 [3:20:52<06:12,  3.65s/it]\u001b[A\n",
            "ITERATION - loss: 1.512:  22%|██▏       | 29/130 [3:20:56<06:08,  3.65s/it]\u001b[A\n",
            "ITERATION - loss: 1.560:  23%|██▎       | 30/130 [3:20:59<06:04,  3.65s/it]\u001b[A\n",
            "ITERATION - loss: 1.685:  24%|██▍       | 31/130 [3:21:03<06:01,  3.65s/it]\u001b[A\n",
            "ITERATION - loss: 1.798:  25%|██▍       | 32/130 [3:21:07<05:57,  3.65s/it]\u001b[A\n",
            "ITERATION - loss: 1.745:  25%|██▌       | 33/130 [3:21:10<05:54,  3.65s/it]\u001b[A\n",
            "ITERATION - loss: 1.573:  26%|██▌       | 34/130 [3:21:14<05:49,  3.64s/it]\u001b[A\n",
            "ITERATION - loss: 1.845:  27%|██▋       | 35/130 [3:21:17<05:46,  3.65s/it]\u001b[A\n",
            "ITERATION - loss: 1.742:  28%|██▊       | 36/130 [3:21:21<05:42,  3.65s/it]\u001b[A\n",
            "ITERATION - loss: 1.778:  28%|██▊       | 37/130 [3:21:25<05:39,  3.65s/it]\u001b[A\n",
            "ITERATION - loss: 1.836:  29%|██▉       | 38/130 [3:21:28<05:35,  3.65s/it]\u001b[A\n",
            "ITERATION - loss: 1.831:  30%|███       | 39/130 [3:21:32<05:31,  3.65s/it]\u001b[A\n",
            "ITERATION - loss: 1.601:  31%|███       | 40/130 [3:21:36<05:28,  3.65s/it]\u001b[A\n",
            "ITERATION - loss: 1.381:  32%|███▏      | 41/130 [3:21:39<05:24,  3.65s/it]\u001b[A\n",
            "ITERATION - loss: 1.548:  32%|███▏      | 42/130 [3:21:43<05:20,  3.64s/it]\u001b[A\n",
            "ITERATION - loss: 1.957:  33%|███▎      | 43/130 [3:21:47<05:16,  3.64s/it]\u001b[A\n",
            "ITERATION - loss: 1.709:  34%|███▍      | 44/130 [3:21:50<05:13,  3.64s/it]\u001b[A\n",
            "ITERATION - loss: 1.640:  35%|███▍      | 45/130 [3:21:54<05:09,  3.65s/it]\u001b[A\n",
            "ITERATION - loss: 1.822:  35%|███▌      | 46/130 [3:21:58<05:05,  3.64s/it]\u001b[A\n",
            "ITERATION - loss: 1.733:  36%|███▌      | 47/130 [3:22:01<05:01,  3.64s/it]\u001b[A\n",
            "ITERATION - loss: 1.831:  37%|███▋      | 48/130 [3:22:05<04:58,  3.64s/it]\u001b[A\n",
            "ITERATION - loss: 1.550:  38%|███▊      | 49/130 [3:22:09<04:55,  3.65s/it]\u001b[A\n",
            "ITERATION - loss: 1.696:  38%|███▊      | 50/130 [3:22:12<04:51,  3.64s/it]\u001b[A\n",
            "ITERATION - loss: 1.893:  39%|███▉      | 51/130 [3:22:16<04:47,  3.64s/it]\u001b[A\n",
            "ITERATION - loss: 1.697:  40%|████      | 52/130 [3:22:19<04:43,  3.64s/it]\u001b[A\n",
            "ITERATION - loss: 1.837:  41%|████      | 53/130 [3:22:23<04:40,  3.64s/it]\u001b[A\n",
            "ITERATION - loss: 1.750:  42%|████▏     | 54/130 [3:22:27<04:36,  3.64s/it]\u001b[A\n",
            "ITERATION - loss: 1.901:  42%|████▏     | 55/130 [3:22:30<04:32,  3.64s/it]\u001b[A\n",
            "ITERATION - loss: 1.598:  43%|████▎     | 56/130 [3:22:34<04:29,  3.64s/it]\u001b[A\n",
            "ITERATION - loss: 1.396:  44%|████▍     | 57/130 [3:22:38<04:25,  3.64s/it]\u001b[A\n",
            "ITERATION - loss: 1.534:  45%|████▍     | 58/130 [3:22:41<04:21,  3.64s/it]\u001b[A\n",
            "ITERATION - loss: 1.920:  45%|████▌     | 59/130 [3:22:45<04:18,  3.64s/it]\u001b[A\n",
            "ITERATION - loss: 1.672:  46%|████▌     | 60/130 [3:22:49<04:14,  3.64s/it]\u001b[A\n",
            "ITERATION - loss: 1.599:  47%|████▋     | 61/130 [3:22:52<04:11,  3.64s/it]\u001b[A\n",
            "ITERATION - loss: 1.870:  48%|████▊     | 62/130 [3:22:56<04:07,  3.64s/it]\u001b[A\n",
            "ITERATION - loss: 2.002:  48%|████▊     | 63/130 [3:22:59<04:03,  3.64s/it]\u001b[A\n",
            "ITERATION - loss: 1.994:  49%|████▉     | 64/130 [3:23:03<03:59,  3.64s/it]\u001b[A\n",
            "ITERATION - loss: 1.693:  50%|█████     | 65/130 [3:23:07<03:56,  3.64s/it]\u001b[A\n",
            "ITERATION - loss: 1.424:  51%|█████     | 66/130 [3:23:10<03:53,  3.64s/it]\u001b[A\n",
            "ITERATION - loss: 1.637:  52%|█████▏    | 67/130 [3:23:14<03:49,  3.64s/it]\u001b[A\n",
            "ITERATION - loss: 1.589:  52%|█████▏    | 68/130 [3:23:18<03:45,  3.64s/it]\u001b[A\n",
            "ITERATION - loss: 1.609:  53%|█████▎    | 69/130 [3:23:21<03:41,  3.64s/it]\u001b[A\n",
            "ITERATION - loss: 1.615:  54%|█████▍    | 70/130 [3:23:25<03:38,  3.64s/it]\u001b[A\n",
            "ITERATION - loss: 1.631:  55%|█████▍    | 71/130 [3:23:29<03:34,  3.63s/it]\u001b[A\n",
            "ITERATION - loss: 1.773:  55%|█████▌    | 72/130 [3:23:32<03:30,  3.64s/it]\u001b[A\n",
            "ITERATION - loss: 1.901:  56%|█████▌    | 73/130 [3:23:36<03:27,  3.64s/it]\u001b[A\n",
            "ITERATION - loss: 1.457:  57%|█████▋    | 74/130 [3:23:39<03:23,  3.64s/it]\u001b[A\n",
            "ITERATION - loss: 1.865:  58%|█████▊    | 75/130 [3:23:43<03:20,  3.64s/it]\u001b[A\n",
            "ITERATION - loss: 1.932:  58%|█████▊    | 76/130 [3:23:47<03:16,  3.64s/it]\u001b[A\n",
            "ITERATION - loss: 1.444:  59%|█████▉    | 77/130 [3:23:50<03:12,  3.64s/it]\u001b[A\n",
            "ITERATION - loss: 1.979:  60%|██████    | 78/130 [3:23:54<03:08,  3.63s/it]\u001b[A\n",
            "ITERATION - loss: 1.776:  61%|██████    | 79/130 [3:23:58<03:05,  3.64s/it]\u001b[A\n",
            "ITERATION - loss: 1.596:  62%|██████▏   | 80/130 [3:24:01<03:01,  3.64s/it]\u001b[A\n",
            "ITERATION - loss: 1.536:  62%|██████▏   | 81/130 [3:24:05<02:58,  3.64s/it]\u001b[A\n",
            "ITERATION - loss: 1.744:  63%|██████▎   | 82/130 [3:24:09<02:54,  3.63s/it]\u001b[A\n",
            "ITERATION - loss: 1.618:  64%|██████▍   | 83/130 [3:24:12<02:50,  3.63s/it]\u001b[A\n",
            "ITERATION - loss: 1.911:  65%|██████▍   | 84/130 [3:24:16<02:47,  3.63s/it]\u001b[A\n",
            "ITERATION - loss: 1.737:  65%|██████▌   | 85/130 [3:24:19<02:43,  3.64s/it]\u001b[A\n",
            "ITERATION - loss: 1.552:  66%|██████▌   | 86/130 [3:24:23<02:39,  3.62s/it]\u001b[A\n",
            "ITERATION - loss: 1.395:  67%|██████▋   | 87/130 [3:24:27<02:35,  3.62s/it]\u001b[A\n",
            "ITERATION - loss: 1.823:  68%|██████▊   | 88/130 [3:24:30<02:32,  3.63s/it]\u001b[A\n",
            "ITERATION - loss: 1.656:  68%|██████▊   | 89/130 [3:24:34<02:28,  3.63s/it]\u001b[A\n",
            "ITERATION - loss: 1.351:  69%|██████▉   | 90/130 [3:24:38<02:25,  3.63s/it]\u001b[A\n",
            "ITERATION - loss: 1.517:  70%|███████   | 91/130 [3:24:41<02:21,  3.63s/it]\u001b[A\n",
            "ITERATION - loss: 1.571:  71%|███████   | 92/130 [3:24:45<02:17,  3.63s/it]\u001b[A\n",
            "ITERATION - loss: 1.486:  72%|███████▏  | 93/130 [3:24:48<02:14,  3.63s/it]\u001b[A\n",
            "ITERATION - loss: 1.821:  72%|███████▏  | 94/130 [3:24:52<02:10,  3.62s/it]\u001b[A\n",
            "ITERATION - loss: 1.732:  73%|███████▎  | 95/130 [3:24:56<02:06,  3.62s/it]\u001b[A\n",
            "ITERATION - loss: 1.498:  74%|███████▍  | 96/130 [3:24:59<02:03,  3.62s/it]\u001b[A\n",
            "ITERATION - loss: 1.733:  75%|███████▍  | 97/130 [3:25:03<01:59,  3.62s/it]\u001b[A\n",
            "ITERATION - loss: 1.566:  75%|███████▌  | 98/130 [3:25:07<01:55,  3.62s/it]\u001b[A\n",
            "ITERATION - loss: 1.744:  76%|███████▌  | 99/130 [3:25:10<01:52,  3.62s/it]\u001b[A\n",
            "ITERATION - loss: 1.679:  77%|███████▋  | 100/130 [3:25:14<01:48,  3.63s/it]\u001b[A\n",
            "ITERATION - loss: 1.588:  78%|███████▊  | 101/130 [3:25:17<01:45,  3.63s/it]\u001b[A\n",
            "ITERATION - loss: 1.521:  78%|███████▊  | 102/130 [3:25:21<01:41,  3.62s/it]\u001b[A\n",
            "ITERATION - loss: 1.492:  79%|███████▉  | 103/130 [3:25:25<01:37,  3.62s/it]\u001b[A\n",
            "ITERATION - loss: 1.536:  80%|████████  | 104/130 [3:25:28<01:34,  3.62s/it]\u001b[A\n",
            "ITERATION - loss: 1.685:  81%|████████  | 105/130 [3:25:32<01:30,  3.63s/it]\u001b[A\n",
            "ITERATION - loss: 1.628:  82%|████████▏ | 106/130 [3:25:36<01:26,  3.62s/it]\u001b[A\n",
            "ITERATION - loss: 1.464:  82%|████████▏ | 107/130 [3:25:39<01:23,  3.63s/it]\u001b[A\n",
            "ITERATION - loss: 1.610:  83%|████████▎ | 108/130 [3:25:43<01:19,  3.63s/it]\u001b[A\n",
            "ITERATION - loss: 1.778:  84%|████████▍ | 109/130 [3:25:46<01:16,  3.63s/it]\u001b[A\n",
            "ITERATION - loss: 1.722:  85%|████████▍ | 110/130 [3:25:50<01:12,  3.62s/it]\u001b[A\n",
            "ITERATION - loss: 1.583:  85%|████████▌ | 111/130 [3:25:54<01:08,  3.62s/it]\u001b[A\n",
            "ITERATION - loss: 1.760:  86%|████████▌ | 112/130 [3:25:57<01:05,  3.62s/it]\u001b[A\n",
            "ITERATION - loss: 2.385:  87%|████████▋ | 113/130 [3:26:01<01:01,  3.63s/it]\u001b[A\n",
            "ITERATION - loss: 1.488:  88%|████████▊ | 114/130 [3:26:05<00:58,  3.63s/it]\u001b[A\n",
            "ITERATION - loss: 1.701:  88%|████████▊ | 115/130 [3:26:08<00:54,  3.63s/it]\u001b[A\n",
            "ITERATION - loss: 1.758:  89%|████████▉ | 116/130 [3:26:12<00:50,  3.64s/it]\u001b[A\n",
            "ITERATION - loss: 1.648:  90%|█████████ | 117/130 [3:26:15<00:47,  3.64s/it]\u001b[A\n",
            "ITERATION - loss: 1.740:  91%|█████████ | 118/130 [3:26:19<00:43,  3.63s/it]\u001b[A\n",
            "ITERATION - loss: 1.862:  92%|█████████▏| 119/130 [3:26:23<00:40,  3.64s/it]\u001b[A\n",
            "ITERATION - loss: 1.826:  92%|█████████▏| 120/130 [3:26:26<00:36,  3.64s/it]\u001b[A\n",
            "ITERATION - loss: 1.827:  93%|█████████▎| 121/130 [3:26:30<00:32,  3.64s/it]\u001b[A\n",
            "ITERATION - loss: 1.482:  94%|█████████▍| 122/130 [3:26:34<00:29,  3.64s/it]\u001b[A\n",
            "ITERATION - loss: 1.646:  95%|█████████▍| 123/130 [3:26:37<00:25,  3.64s/it]\u001b[A\n",
            "ITERATION - loss: 2.908:  95%|█████████▌| 124/130 [3:26:41<00:21,  3.63s/it]\u001b[A\n",
            "ITERATION - loss: 1.836:  96%|█████████▌| 125/130 [3:26:45<00:18,  3.64s/it]\u001b[A\n",
            "ITERATION - loss: 1.820:  97%|█████████▋| 126/130 [3:26:48<00:14,  3.63s/it]\u001b[A\n",
            "ITERATION - loss: 1.599:  98%|█████████▊| 127/130 [3:26:52<00:10,  3.63s/it]\u001b[A\n",
            "ITERATION - loss: 1.583:  98%|█████████▊| 128/130 [3:26:55<00:07,  3.63s/it]\u001b[A\n",
            "ITERATION - loss: 1.901:  99%|█████████▉| 129/130 [3:26:59<00:03,  3.64s/it]\u001b[A\n",
            "ITERATION - loss: 1.976: 100%|██████████| 130/130 [3:27:02<00:00,  3.40s/it]\u001b[A\n",
            "ITERATION - loss: 1.976: 100%|██████████| 130/130 [3:27:02<00:00,  3.40s/it]\u001b[A"
          ],
          "name": "stderr"
        }
      ]
    },
    {
      "metadata": {
        "id": "_YbhF27yVNWF",
        "colab_type": "text"
      },
      "cell_type": "markdown",
      "source": [
        ""
      ]
    },
    {
      "metadata": {
        "id": "4afPqkJNVR2p",
        "colab_type": "text"
      },
      "cell_type": "markdown",
      "source": [
        "## 4. Evaluation\n",
        "\n",
        "Now that our 3 models are trained we can evaluate them on the test set"
      ]
    },
    {
      "metadata": {
        "id": "YKSDOR02Z2_j",
        "colab_type": "code",
        "colab": {
          "base_uri": "https://localhost:8080/",
          "height": 102
        },
        "outputId": "d27c6f7c-83e4-40df-ba42-46494b682e62"
      },
      "cell_type": "code",
      "source": [
        "!ls \"/content/gdrive/My Drive/DeepLearning/Face_detection/checkpoints/resnet_adam\"\n",
        "!ls \"/content/gdrive/My Drive/DeepLearning/Face_detection/checkpoints/sep_conv_adam\"\n",
        "!ls \"/content/gdrive/My Drive/DeepLearning/Face_detection/checkpoints/vgg_adam\""
      ],
      "execution_count": 22,
      "outputs": [
        {
          "output_type": "stream",
          "text": [
            "'resnet_model_21_val_loss=4.275671.pth'\n",
            "'resnet_optimizer_21_val_loss=4.275671.pth'\n",
            "'sep_conv_adam_model_33_val_loss=4.714899.pth'\n",
            "'sep_conv_adam_optimizer_33_val_loss=4.714899.pth'\n",
            "'vgg_model_21_val_loss=4.139335.pth'\n"
          ],
          "name": "stdout"
        }
      ]
    },
    {
      "metadata": {
        "id": "bWc-PZXUVe2R",
        "colab_type": "code",
        "colab": {}
      },
      "cell_type": "code",
      "source": [
        "# create test data loader\n",
        "test_loader = get_utk_dataloader(batch_size=256, data_dir=DEST_DIR, data_transforms=data_transforms, flag='test')"
      ],
      "execution_count": 0,
      "outputs": []
    },
    {
      "metadata": {
        "id": "Da6oP4rhZyv0",
        "colab_type": "code",
        "colab": {}
      },
      "cell_type": "code",
      "source": [
        "# Load the three models\n",
        "\n",
        "# paths to the saved models\n",
        "path_sep_conv = \"/content/gdrive/My Drive/DeepLearning/Face_detection/checkpoints/sep_conv_adam/sep_conv_adam_model_33_val_loss=4.714899.pth\"\n",
        "path_resnet = \"/content/gdrive/My Drive/DeepLearning/Face_detection/checkpoints/resnet_adam/resnet_model_21_val_loss=4.275671.pth\"\n",
        "path_vgg = \"/content/gdrive/My Drive/DeepLearning/Face_detection/checkpoints/vgg_adam/vgg_model_21_val_loss=4.139335.pth\"\n",
        "\n",
        "cpu_or_gpu = \"cuda\" if torch.cuda.is_available() else \"cpu\"\n",
        "sep_conv_model = SepConvModelMT()\n",
        "sep_conv_model.load_state_dict(torch.load(path_sep_conv, map_location=cpu_or_gpu))\n",
        "\n",
        "resnet_model = PretrainedMT(model_name='resnet')\n",
        "resnet_model.load_state_dict(torch.load(path_resnet, map_location=cpu_or_gpu))\n",
        "\n",
        "vgg_model = PretrainedMT(model_name='vgg')\n",
        "vgg_model.load_state_dict(torch.load(path_vgg, map_location=cpu_or_gpu))"
      ],
      "execution_count": 0,
      "outputs": []
    },
    {
      "metadata": {
        "id": "UWW3qOmwdy3T",
        "colab_type": "text"
      },
      "cell_type": "markdown",
      "source": [
        "Evaluate separable convolution model : "
      ]
    },
    {
      "metadata": {
        "id": "0ymWXjKqhAl0",
        "colab_type": "code",
        "colab": {}
      },
      "cell_type": "code",
      "source": [
        "# Import\n",
        "import torch\n",
        "import torch.nn.functional as F\n",
        "import tqdm\n",
        "import numpy as np\n",
        "from vision_utils.custom_torch_utils import plot_confusion_matrix\n",
        "from vision_utils.custom_torch_utils import processing_time\n",
        "from torchvision import transforms\n",
        "import time\n",
        "\n",
        "def processing_time(func):\n",
        "    \"\"\"\n",
        "    utility function to print execution time of a given function\n",
        "\n",
        "    :param func: a python function to track the execution time\n",
        "    :return:\n",
        "    \"\"\"\n",
        "    def func_wrapper(*args, **kwargs):\n",
        "        start = time.time()\n",
        "        func(*args, **kwargs)\n",
        "        seconds = time.time() - start\n",
        "        m, s = divmod(seconds, 60)\n",
        "        h, m = divmod(m, 60)\n",
        "        print(f\"The execution took {h} hours | {m} minutes | {s:.1f} seconds!\")\n",
        "    return func_wrapper\n",
        "\n",
        "\n",
        "@processing_time\n",
        "def evaluate_model(model, dataloader,\n",
        "                   title='Confusion matrix',\n",
        "                   labels_=[[0, 1], [0, 1, 2, 3, 4]],\n",
        "                   target_names=[['Male', 'Female'], ['White', 'Black', 'Asian', 'Indian', 'Unknown']],\n",
        "                   normalize=False):\n",
        "    \"\"\"\n",
        "        Function for evaluating a classification model by printing/plotting classification report and confusion matrix\n",
        "\n",
        "        :param model: a pytorch trained model\n",
        "        :param dataloader: a pytorch DataLoader object, or any object that yields pytorch tensors\n",
        "                ready to be used by the model\n",
        "        :param title: a string to be used as the plot title\n",
        "        :param labels_: list  of lists , each sublist is a list of integers (0 to number of classes - 1) representing\n",
        "                        labels for an output from the model\n",
        "        :param target_names: list of lists, each sublist is a list of strings or ints that describe the labels,\n",
        "                            and must have the same length as the corresponding labels it describes from `labels`list\n",
        "        :param normalize: whether to show the actual values or in % for the confusion matrix\n",
        "        :return:\n",
        "        \"\"\"\n",
        "\n",
        "    y_age = []\n",
        "    y_gender = []\n",
        "    y_race = []\n",
        "    y_pred_age = []\n",
        "    y_pred_gender = []\n",
        "    y_pred_race = []\n",
        "\n",
        "    device = torch.device('cuda' if torch.cuda.is_available() else 'cpu')\n",
        "\n",
        "    # first, get the predictions\n",
        "    model.eval()  # set model in evaluation mode\n",
        "    model = model.to(device)\n",
        "\n",
        "    with torch.no_grad():\n",
        "        # Iterate over data.\n",
        "        for inputs, age, gender, race in tqdm.tqdm(dataloader):\n",
        "            inputs = inputs.to(device, dtype=torch.float32)\n",
        "            y_age.append(age)\n",
        "            y_gender.append(gender)\n",
        "            y_race.append(race)\n",
        "\n",
        "            age_pred, gender_pred, race_pred = model(inputs)\n",
        "            y_pred_age.append(age_pred.to('cpu').numpy())\n",
        "            _, gender_pred = torch.max(gender_pred, 1)\n",
        "            _, race_pred = torch.max(race_pred, 1)\n",
        "            y_pred_gender.append(gender_pred.to('cpu').numpy())\n",
        "            y_pred_race.append(race_pred.to('cpu').numpy())\n",
        "\n",
        "    # print classification report\n",
        "    y_age, y_pred_age = np.concatenate(y_age), np.concatenate(y_pred_age)\n",
        "    y_gender, y_pred_gender = np.concatenate(y_gender), np.concatenate(y_pred_gender)\n",
        "    y_race, y_pred_race = np.concatenate(y_race), np.concatenate(y_pred_race)\n",
        "\n",
        "    print('----------------------- Age prediction -------------------------')\n",
        "    print(f\"Mean Absolute Error {np.abs(y_age - y_pred_age).mean():.4f}\")\n",
        "\n",
        "    print('----------------------- Gender prediction -------------------------')\n",
        "    plot_confusion_matrix(y_gender, y_pred_gender, title, labels_[0], target_names[0], normalize)\n",
        "\n",
        "    print('----------------------- Race prediction -------------------------')\n",
        "    plot_confusion_matrix(y_race, y_pred_race, title, labels_[1], target_names[1], normalize)\n",
        "\n",
        "\n"
      ],
      "execution_count": 0,
      "outputs": []
    },
    {
      "metadata": {
        "id": "iUYupEgNZp14",
        "colab_type": "code",
        "colab": {
          "base_uri": "https://localhost:8080/",
          "height": 1430
        },
        "outputId": "996456b1-60e5-4c39-90de-ad8408c094e5"
      },
      "cell_type": "code",
      "source": [
        "evaluate_model(sep_conv_model, test_loader, title='Evaluation on test set - Separable conv model')"
      ],
      "execution_count": 35,
      "outputs": [
        {
          "output_type": "stream",
          "text": [
            "100%|██████████| 14/14 [00:11<00:00,  1.62it/s]\n"
          ],
          "name": "stderr"
        },
        {
          "output_type": "stream",
          "text": [
            "----------------------- Age prediction -------------------------\n",
            "Mean Absolute Error 14.8096\n",
            "----------------------- Gender prediction -------------------------\n",
            "              precision    recall  f1-score   support\n",
            "\n",
            "        Male       0.93      0.92      0.92      1859\n",
            "      Female       0.91      0.92      0.92      1697\n",
            "\n",
            "   micro avg       0.92      0.92      0.92      3556\n",
            "   macro avg       0.92      0.92      0.92      3556\n",
            "weighted avg       0.92      0.92      0.92      3556\n",
            "\n"
          ],
          "name": "stdout"
        },
        {
          "output_type": "display_data",
          "data": {
            "image/png": "[encoded data removed]",
            "text/plain": [
              "<Figure size 576x432 with 2 Axes>"
            ]
          },
          "metadata": {
            "tags": []
          }
        },
        {
          "output_type": "stream",
          "text": [
            "----------------------- Race prediction -------------------------\n",
            "              precision    recall  f1-score   support\n",
            "\n",
            "       White       0.80      0.88      0.84      1512\n",
            "       Black       0.91      0.70      0.79       679\n",
            "       Asian       0.78      0.85      0.81       515\n",
            "      Indian       0.55      0.74      0.63       596\n",
            "     Unknown       0.00      0.00      0.00       254\n",
            "\n",
            "   micro avg       0.76      0.76      0.76      3556\n",
            "   macro avg       0.61      0.64      0.62      3556\n",
            "weighted avg       0.72      0.76      0.73      3556\n",
            "\n"
          ],
          "name": "stdout"
        },
        {
          "output_type": "stream",
          "text": [
            "/usr/local/lib/python3.6/dist-packages/sklearn/metrics/classification.py:1143: UndefinedMetricWarning: Precision and F-score are ill-defined and being set to 0.0 in labels with no predicted samples.\n",
            "  'precision', 'predicted', average, warn_for)\n"
          ],
          "name": "stderr"
        },
        {
          "output_type": "display_data",
          "data": {
            "image/png": "[encoded data removed]",
            "text/plain": [
              "<Figure size 576x432 with 2 Axes>"
            ]
          },
          "metadata": {
            "tags": []
          }
        },
        {
          "output_type": "stream",
          "text": [
            "The execution took 0.0 hours | 0.0 minutes | 12.7 seconds!\n"
          ],
          "name": "stdout"
        }
      ]
    },
    {
      "metadata": {
        "id": "fKGkVc0wiZzR",
        "colab_type": "text"
      },
      "cell_type": "markdown",
      "source": [
        "Evaluate resnet model"
      ]
    },
    {
      "metadata": {
        "id": "XjwnrvI4icX9",
        "colab_type": "code",
        "colab": {
          "base_uri": "https://localhost:8080/",
          "height": 1631
        },
        "outputId": "86a97c47-29d5-4355-c159-b7b71e9a4cdc"
      },
      "cell_type": "code",
      "source": [
        "evaluate_model(resnet_model, test_loader, title='Evaluation on test set - Resnet conv model')"
      ],
      "execution_count": 37,
      "outputs": [
        {
          "output_type": "stream",
          "text": [
            "\n",
            "  0%|          | 0/14 [00:00<?, ?it/s]\u001b[A\n",
            "  7%|▋         | 1/14 [00:04<00:57,  4.45s/it]\u001b[A\n",
            " 14%|█▍        | 2/14 [00:05<00:40,  3.35s/it]\u001b[A\n",
            " 21%|██▏       | 3/14 [00:05<00:28,  2.57s/it]\u001b[A\n",
            " 29%|██▊       | 4/14 [00:06<00:20,  2.01s/it]\u001b[A\n",
            " 36%|███▌      | 5/14 [00:07<00:14,  1.60s/it]\u001b[A\n",
            " 43%|████▎     | 6/14 [00:07<00:10,  1.32s/it]\u001b[A\n",
            " 50%|█████     | 7/14 [00:08<00:07,  1.11s/it]\u001b[A\n",
            " 57%|█████▋    | 8/14 [00:09<00:05,  1.03it/s]\u001b[A\n",
            " 64%|██████▍   | 9/14 [00:09<00:04,  1.14it/s]\u001b[A\n",
            " 71%|███████▏  | 10/14 [00:10<00:03,  1.24it/s]\u001b[A\n",
            " 79%|███████▊  | 11/14 [00:11<00:02,  1.32it/s]\u001b[A\n",
            " 86%|████████▌ | 12/14 [00:11<00:01,  1.39it/s]\u001b[A\n",
            " 93%|█████████▎| 13/14 [00:12<00:00,  1.44it/s]\u001b[A\n",
            "100%|██████████| 14/14 [00:13<00:00,  1.51it/s]\u001b[A\n",
            "\u001b[A"
          ],
          "name": "stderr"
        },
        {
          "output_type": "stream",
          "text": [
            "----------------------- Age prediction -------------------------\n",
            "Mean Absolute Error 14.8409\n",
            "----------------------- Gender prediction -------------------------\n",
            "              precision    recall  f1-score   support\n",
            "\n",
            "        Male       0.96      0.95      0.95      1859\n",
            "      Female       0.95      0.95      0.95      1697\n",
            "\n",
            "   micro avg       0.95      0.95      0.95      3556\n",
            "   macro avg       0.95      0.95      0.95      3556\n",
            "weighted avg       0.95      0.95      0.95      3556\n",
            "\n"
          ],
          "name": "stdout"
        },
        {
          "output_type": "display_data",
          "data": {
            "image/png": "[encoded data removed]",
            "text/plain": [
              "<Figure size 576x432 with 2 Axes>"
            ]
          },
          "metadata": {
            "tags": []
          }
        },
        {
          "output_type": "stream",
          "text": [
            "----------------------- Race prediction -------------------------\n",
            "              precision    recall  f1-score   support\n",
            "\n",
            "       White       0.85      0.96      0.90      1512\n",
            "       Black       0.92      0.88      0.90       679\n",
            "       Asian       0.91      0.90      0.91       515\n",
            "      Indian       0.89      0.79      0.83       596\n",
            "     Unknown       0.69      0.43      0.53       254\n",
            "\n",
            "   micro avg       0.87      0.87      0.87      3556\n",
            "   macro avg       0.85      0.79      0.81      3556\n",
            "weighted avg       0.87      0.87      0.86      3556\n",
            "\n"
          ],
          "name": "stdout"
        },
        {
          "output_type": "display_data",
          "data": {
            "image/png": "[encoded data removed]",
            "text/plain": [
              "<Figure size 576x432 with 2 Axes>"
            ]
          },
          "metadata": {
            "tags": []
          }
        },
        {
          "output_type": "stream",
          "text": [
            "The execution took 0.0 hours | 0.0 minutes | 14.3 seconds!\n"
          ],
          "name": "stdout"
        }
      ]
    },
    {
      "metadata": {
        "id": "LEBDdKt6i_ed",
        "colab_type": "text"
      },
      "cell_type": "markdown",
      "source": [
        "Evaluate VGG model"
      ]
    },
    {
      "metadata": {
        "id": "Km-8_WlBjEsY",
        "colab_type": "code",
        "colab": {
          "base_uri": "https://localhost:8080/",
          "height": 1631
        },
        "outputId": "f59b4a38-66d2-493e-955a-62aa418d8b1d"
      },
      "cell_type": "code",
      "source": [
        "evaluate_model(vgg_model, test_loader, title='Evaluation on test set - VGG model')"
      ],
      "execution_count": 38,
      "outputs": [
        {
          "output_type": "stream",
          "text": [
            "\n",
            "  0%|          | 0/14 [00:00<?, ?it/s]\u001b[A\n",
            "  7%|▋         | 1/14 [00:05<01:13,  5.66s/it]\u001b[A\n",
            " 14%|█▍        | 2/14 [00:07<00:55,  4.61s/it]\u001b[A\n",
            " 21%|██▏       | 3/14 [00:10<00:42,  3.88s/it]\u001b[A\n",
            " 29%|██▊       | 4/14 [00:12<00:33,  3.37s/it]\u001b[A\n",
            " 36%|███▌      | 5/14 [00:14<00:27,  3.02s/it]\u001b[A\n",
            " 43%|████▎     | 6/14 [00:16<00:22,  2.77s/it]\u001b[A\n",
            " 50%|█████     | 7/14 [00:18<00:18,  2.59s/it]\u001b[A\n",
            " 57%|█████▋    | 8/14 [00:20<00:14,  2.47s/it]\u001b[A\n",
            " 64%|██████▍   | 9/14 [00:23<00:11,  2.39s/it]\u001b[A\n",
            " 71%|███████▏  | 10/14 [00:25<00:09,  2.33s/it]\u001b[A\n",
            " 79%|███████▊  | 11/14 [00:27<00:06,  2.29s/it]\u001b[A\n",
            " 86%|████████▌ | 12/14 [00:29<00:04,  2.26s/it]\u001b[A\n",
            " 93%|█████████▎| 13/14 [00:31<00:02,  2.24s/it]\u001b[A\n",
            "100%|██████████| 14/14 [00:33<00:00,  2.19s/it]\u001b[A\n",
            "\u001b[A"
          ],
          "name": "stderr"
        },
        {
          "output_type": "stream",
          "text": [
            "----------------------- Age prediction -------------------------\n",
            "Mean Absolute Error 15.3566\n",
            "----------------------- Gender prediction -------------------------\n",
            "              precision    recall  f1-score   support\n",
            "\n",
            "        Male       0.98      0.93      0.96      1859\n",
            "      Female       0.93      0.98      0.95      1697\n",
            "\n",
            "   micro avg       0.95      0.95      0.95      3556\n",
            "   macro avg       0.95      0.96      0.95      3556\n",
            "weighted avg       0.96      0.95      0.95      3556\n",
            "\n"
          ],
          "name": "stdout"
        },
        {
          "output_type": "display_data",
          "data": {
            "image/png": "[encoded data removed]",
            "text/plain": [
              "<Figure size 576x432 with 2 Axes>"
            ]
          },
          "metadata": {
            "tags": []
          }
        },
        {
          "output_type": "stream",
          "text": [
            "----------------------- Race prediction -------------------------\n",
            "              precision    recall  f1-score   support\n",
            "\n",
            "       White       0.93      0.92      0.93      1512\n",
            "       Black       0.84      0.96      0.90       679\n",
            "       Asian       0.91      0.94      0.93       515\n",
            "      Indian       0.83      0.90      0.86       596\n",
            "     Unknown       0.75      0.34      0.47       254\n",
            "\n",
            "   micro avg       0.88      0.88      0.88      3556\n",
            "   macro avg       0.85      0.81      0.82      3556\n",
            "weighted avg       0.88      0.88      0.88      3556\n",
            "\n"
          ],
          "name": "stdout"
        },
        {
          "output_type": "display_data",
          "data": {
            "image/png": "[encoded data removed]",
            "text/plain": [
              "<Figure size 576x432 with 2 Axes>"
            ]
          },
          "metadata": {
            "tags": []
          }
        },
        {
          "output_type": "stream",
          "text": [
            "The execution took 0.0 hours | 0.0 minutes | 35.3 seconds!\n"
          ],
          "name": "stdout"
        }
      ]
    }
  ]
}